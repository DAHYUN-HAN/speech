{
 "cells": [
  {
   "cell_type": "code",
   "execution_count": 1,
   "metadata": {},
   "outputs": [],
   "source": [
    "import librosa\n",
    "import soundfile as sf\n",
    "import matplotlib.pyplot as plt\n",
    "import librosa.display\n",
    "import numpy as np\n",
    "\n",
    "import os\n",
    "import IPython.display\n",
    "import seaborn as sns"
   ]
  },
  {
   "cell_type": "code",
   "execution_count": 14,
   "metadata": {},
   "outputs": [],
   "source": [
    "train_fire = 'data/train3/fire/'\n",
    "test_fire = 'data/test3/fire/'\n",
    "\n",
    "train_non = 'data/train3/non/'\n",
    "test_non = 'data/test3/non/'\n",
    "\n",
    "folder_list = [train_fire, test_fire, train_non, test_non]\n",
    "file_size = []\n",
    "file_time = []"
   ]
  },
  {
   "cell_type": "code",
   "execution_count": 16,
   "metadata": {},
   "outputs": [
    {
     "name": "stdout",
     "output_type": "stream",
     "text": [
      "31967\n",
      "1.9979375\n"
     ]
    }
   ],
   "source": [
    "for folder in folder_list:\n",
    "    for fname in os.listdir(folder):\n",
    "        wav, sr = librosa.load(folder + fname, sr=16000)\n",
    "    \n",
    "        file_size.append(wav.shape[0])\n",
    "        file_time.append(wav.shape[0]/float(sr))\n",
    "    \n",
    "print(np.max(file_size))\n",
    "print(np.max(file_time))"
   ]
  },
  {
   "cell_type": "code",
   "execution_count": null,
   "metadata": {},
   "outputs": [],
   "source": []
  },
  {
   "cell_type": "code",
   "execution_count": null,
   "metadata": {},
   "outputs": [],
   "source": []
  }
 ],
 "metadata": {
  "kernelspec": {
   "display_name": "Python 3",
   "language": "python",
   "name": "python3"
  },
  "language_info": {
   "codemirror_mode": {
    "name": "ipython",
    "version": 3
   },
   "file_extension": ".py",
   "mimetype": "text/x-python",
   "name": "python",
   "nbconvert_exporter": "python",
   "pygments_lexer": "ipython3",
   "version": "3.8.5"
  }
 },
 "nbformat": 4,
 "nbformat_minor": 4
}
