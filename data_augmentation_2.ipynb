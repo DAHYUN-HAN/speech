{
 "cells": [
  {
   "cell_type": "code",
   "execution_count": 37,
   "metadata": {},
   "outputs": [],
   "source": [
    "import librosa\n",
    "import soundfile as sf\n",
    "import matplotlib.pyplot as plt\n",
    "import librosa.display\n",
    "import numpy as np\n",
    "import shutil\n",
    "import os\n",
    "import IPython.display\n",
    "import random\n",
    "import math\n",
    "import shutil\n",
    "import pandas as pd"
   ]
  },
  {
   "cell_type": "code",
   "execution_count": 2,
   "metadata": {},
   "outputs": [],
   "source": [
    "def load(file_name):\n",
    "    wav = file_name\n",
    "    file_sr = librosa.get_samplerate(wav)\n",
    "\n",
    "    y, sr = librosa.load(wav, sr=file_sr)\n",
    "    return y, sr"
   ]
  },
  {
   "cell_type": "code",
   "execution_count": 3,
   "metadata": {},
   "outputs": [],
   "source": [
    "def decibel_normalization(input_directory, output_directory, decibel):\n",
    "    file_list = os.listdir(input_directory)\n",
    "    \n",
    "    for file in file_list:\n",
    "        new_audio = []\n",
    "        y, sr = load(input_directory+file)\n",
    "        max_mine = np.max(y)\n",
    "        ratio = decibel / max_mine\n",
    "        for i in range(len(y)):\n",
    "            new_audio.append(y[i] * ratio)\n",
    "        sf.write(output_directory+file, new_audio, sr, subtype='PCM_16')   "
   ]
  },
  {
   "cell_type": "code",
   "execution_count": 6,
   "metadata": {},
   "outputs": [],
   "source": [
    "decibel_normalization('1202/성별/남자/', '1202/normalization/남자/', 0.9999695)"
   ]
  },
  {
   "cell_type": "code",
   "execution_count": 7,
   "metadata": {},
   "outputs": [],
   "source": [
    "decibel_normalization('1202/성별/여자/', '1202/normalization/여자/', 0.9999695)"
   ]
  },
  {
   "cell_type": "code",
   "execution_count": 32,
   "metadata": {},
   "outputs": [],
   "source": [
    "dir1 = '1202/normalization/남자/'\n",
    "dir2 = '1202/pitch/남자/'\n",
    "files = os.listdir(dir1)\n",
    "for f in files:\n",
    "    y, sr = load(dir1+f)\n",
    "    new_audio = librosa.effects.pitch_shift(y,sr,n_steps=3)\n",
    "\n",
    "    i = 4\n",
    "    if(f.split('_')[0] == '장석영'):\n",
    "        i = 5\n",
    "        \n",
    "    sf.write(dir2 + f.split('_')[0] + '_'+str(int(f.split('_')[1][:-4])+i) + \".wav\", new_audio, sr, subtype='PCM_16')"
   ]
  },
  {
   "cell_type": "code",
   "execution_count": 31,
   "metadata": {},
   "outputs": [],
   "source": [
    "dir1 = '1202/normalization/여자/'\n",
    "dir2 = '1202/pitch/여자/'\n",
    "files = os.listdir(dir1)\n",
    "for f in files:\n",
    "    y, sr = load(dir1+f)\n",
    "    new_audio = librosa.effects.pitch_shift(y,sr,n_steps=-3)\n",
    "\n",
    "    sf.write(dir2 + f.split('_')[0] + '_'+str(int(f.split('_')[1][:-4])+4) + \".wav\", new_audio, sr, subtype='PCM_16')"
   ]
  },
  {
   "cell_type": "code",
   "execution_count": 33,
   "metadata": {},
   "outputs": [],
   "source": [
    "y, sr = load('1202/normalization/장석영_5.wav')\n",
    "new_audio = librosa.effects.pitch_shift(y,sr,n_steps=3)\n",
    "sf.write('1202/normalization/장석영_10.wav', new_audio, sr, subtype='PCM_16')"
   ]
  },
  {
   "cell_type": "code",
   "execution_count": 28,
   "metadata": {},
   "outputs": [
    {
     "name": "stdout",
     "output_type": "stream",
     "text": [
      "5\n"
     ]
    }
   ],
   "source": [
    "a = '장석영'\n",
    "i = 1\n",
    "if(a == '장석영'):\n",
    "    i = 5\n",
    "print(i)"
   ]
  },
  {
   "cell_type": "code",
   "execution_count": 39,
   "metadata": {},
   "outputs": [],
   "source": [
    "def add_noise(input_directory, output_directory, percent):\n",
    "    file_list = os.listdir(input_directory)\n",
    "    \n",
    "    for file in file_list:\n",
    "        y, sr = load(input_directory+file)\n",
    "        #random_state = 42\n",
    "        #rnd_state = np.random.RandomState(random_state)\n",
    "        \n",
    "        data = np.c_[y]\n",
    "        mu = np.mean(data)\n",
    "        sd = np.std(data)\n",
    "        \n",
    "        data_df = pd.DataFrame(data, columns=['Value'])\n",
    "        data_df['Index'] = data_df.index.values\n",
    "        \n",
    "        ratio = np.random.uniform(0.05, percent)\n",
    "        \n",
    "        jitter = ratio*np.random.normal(mu, sd, size=data_df.shape[0])\n",
    "        data_df['with_jitter'] = data_df['Value'] + jitter\n",
    "        \n",
    "        sf.write(output_directory + 'noise_' + file, data_df['with_jitter'], sr, subtype='PCM_16')"
   ]
  },
  {
   "cell_type": "code",
   "execution_count": 40,
   "metadata": {},
   "outputs": [],
   "source": [
    "add_noise('1202/합본/', '1202/노이즈/', 0.1)"
   ]
  },
  {
   "cell_type": "code",
   "execution_count": null,
   "metadata": {},
   "outputs": [],
   "source": []
  }
 ],
 "metadata": {
  "kernelspec": {
   "display_name": "Python 3",
   "language": "python",
   "name": "python3"
  },
  "language_info": {
   "codemirror_mode": {
    "name": "ipython",
    "version": 3
   },
   "file_extension": ".py",
   "mimetype": "text/x-python",
   "name": "python",
   "nbconvert_exporter": "python",
   "pygments_lexer": "ipython3",
   "version": "3.8.3"
  }
 },
 "nbformat": 4,
 "nbformat_minor": 4
}
