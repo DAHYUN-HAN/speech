{
 "cells": [
  {
   "cell_type": "code",
   "execution_count": 1,
   "metadata": {},
   "outputs": [],
   "source": [
    "import matplotlib.pyplot as plt\n",
    "import os\n",
    "from scipy.io import wavfile\n",
    "from collections import defaultdict, Counter\n",
    "from scipy import signal\n",
    "import numpy as np\n",
    "import librosa\n",
    "import random as rn\n",
    "from keras.layers import Dense\n",
    "from keras import Input\n",
    "from keras.engine import Model\n",
    "from keras import optimizers\n",
    "from keras.utils import to_categorical\n",
    "from keras.layers import Dense, TimeDistributed, Dropout, Bidirectional, GRU, BatchNormalization, Activation, LeakyReLU, LSTM, Flatten, RepeatVector, Permute, Multiply, Conv2D, MaxPooling2D"
   ]
  },
  {
   "cell_type": "code",
   "execution_count": 2,
   "metadata": {},
   "outputs": [],
   "source": [
    "DATA_DIR = 'C:/Users/dahyun/Downloads/free-spoken-digit-dataset-master/recordings/'\n",
    "#DATA_DIR = 'C:/Users/JLK/requirements/recordings/'"
   ]
  },
  {
   "cell_type": "code",
   "execution_count": 3,
   "metadata": {},
   "outputs": [
    {
     "name": "stdout",
     "output_type": "stream",
     "text": [
      "3.8.5 (default, Sep  3 2020, 21:29:08) [MSC v.1916 64 bit (AMD64)]\n"
     ]
    }
   ],
   "source": [
    "import sys\n",
    "print(sys.version)"
   ]
  },
  {
   "cell_type": "code",
   "execution_count": 4,
   "metadata": {},
   "outputs": [
    {
     "data": {
      "text/plain": [
       "(14190,)"
      ]
     },
     "execution_count": 4,
     "metadata": {},
     "output_type": "execute_result"
    }
   ],
   "source": [
    "y, sr = librosa.load('0_jackson_0.wav')\n",
    "y.shape"
   ]
  },
  {
   "cell_type": "code",
   "execution_count": 5,
   "metadata": {},
   "outputs": [
    {
     "ename": "ModuleNotFoundError",
     "evalue": "No module named 'sox'",
     "output_type": "error",
     "traceback": [
      "\u001b[1;31m---------------------------------------------------------------------------\u001b[0m",
      "\u001b[1;31mModuleNotFoundError\u001b[0m                       Traceback (most recent call last)",
      "\u001b[1;32m<ipython-input-5-476e7eff9166>\u001b[0m in \u001b[0;36m<module>\u001b[1;34m\u001b[0m\n\u001b[1;32m----> 1\u001b[1;33m \u001b[1;32mimport\u001b[0m \u001b[0msox\u001b[0m\u001b[1;33m\u001b[0m\u001b[1;33m\u001b[0m\u001b[0m\n\u001b[0m",
      "\u001b[1;31mModuleNotFoundError\u001b[0m: No module named 'sox'"
     ]
    }
   ],
   "source": [
    "import sox"
   ]
  },
  {
   "cell_type": "code",
   "execution_count": 10,
   "metadata": {},
   "outputs": [
    {
     "ename": "NameError",
     "evalue": "name 'sox' is not defined",
     "output_type": "error",
     "traceback": [
      "\u001b[1;31m---------------------------------------------------------------------------\u001b[0m",
      "\u001b[1;31mNameError\u001b[0m                                 Traceback (most recent call last)",
      "\u001b[1;32m<ipython-input-10-b8a83057253a>\u001b[0m in \u001b[0;36m<module>\u001b[1;34m\u001b[0m\n\u001b[1;32m----> 1\u001b[1;33m \u001b[0msr\u001b[0m \u001b[1;33m=\u001b[0m \u001b[0msox\u001b[0m\u001b[1;33m.\u001b[0m\u001b[0mfile_info\u001b[0m\u001b[1;33m.\u001b[0m\u001b[0msample_rate\u001b[0m\u001b[1;33m(\u001b[0m\u001b[1;34m'0_jackson_0.wav'\u001b[0m\u001b[1;33m)\u001b[0m\u001b[1;33m\u001b[0m\u001b[1;33m\u001b[0m\u001b[0m\n\u001b[0m",
      "\u001b[1;31mNameError\u001b[0m: name 'sox' is not defined"
     ]
    }
   ],
   "source": [
    "sr = sox.file_info.sample_rate('0_jackson_0.wav')"
   ]
  },
  {
   "cell_type": "code",
   "execution_count": 11,
   "metadata": {},
   "outputs": [
    {
     "data": {
      "text/plain": [
       "8000"
      ]
     },
     "execution_count": 11,
     "metadata": {},
     "output_type": "execute_result"
    }
   ],
   "source": [
    "librosa.get_samplerate('0_jackson_0.wav')"
   ]
  },
  {
   "cell_type": "code",
   "execution_count": 12,
   "metadata": {},
   "outputs": [
    {
     "ename": "FileNotFoundError",
     "evalue": "[Errno 2] No such file or directory: 'C:/Users/dahyun/Downloads/free-spoken-digit-dataset-master/recordings/0_jackson_0.wav'",
     "output_type": "error",
     "traceback": [
      "\u001b[1;31m---------------------------------------------------------------------------\u001b[0m",
      "\u001b[1;31mRuntimeError\u001b[0m                              Traceback (most recent call last)",
      "\u001b[1;32m~\\anaconda3\\envs\\speech\\lib\\site-packages\\librosa\\core\\audio.py\u001b[0m in \u001b[0;36mload\u001b[1;34m(path, sr, mono, offset, duration, dtype, res_type)\u001b[0m\n\u001b[0;32m    145\u001b[0m     \u001b[1;32mtry\u001b[0m\u001b[1;33m:\u001b[0m\u001b[1;33m\u001b[0m\u001b[1;33m\u001b[0m\u001b[0m\n\u001b[1;32m--> 146\u001b[1;33m         \u001b[1;32mwith\u001b[0m \u001b[0msf\u001b[0m\u001b[1;33m.\u001b[0m\u001b[0mSoundFile\u001b[0m\u001b[1;33m(\u001b[0m\u001b[0mpath\u001b[0m\u001b[1;33m)\u001b[0m \u001b[1;32mas\u001b[0m \u001b[0msf_desc\u001b[0m\u001b[1;33m:\u001b[0m\u001b[1;33m\u001b[0m\u001b[1;33m\u001b[0m\u001b[0m\n\u001b[0m\u001b[0;32m    147\u001b[0m             \u001b[0msr_native\u001b[0m \u001b[1;33m=\u001b[0m \u001b[0msf_desc\u001b[0m\u001b[1;33m.\u001b[0m\u001b[0msamplerate\u001b[0m\u001b[1;33m\u001b[0m\u001b[1;33m\u001b[0m\u001b[0m\n",
      "\u001b[1;32m~\\anaconda3\\envs\\speech\\lib\\site-packages\\soundfile.py\u001b[0m in \u001b[0;36m__init__\u001b[1;34m(self, file, mode, samplerate, channels, subtype, endian, format, closefd)\u001b[0m\n\u001b[0;32m    628\u001b[0m                                          format, subtype, endian)\n\u001b[1;32m--> 629\u001b[1;33m         \u001b[0mself\u001b[0m\u001b[1;33m.\u001b[0m\u001b[0m_file\u001b[0m \u001b[1;33m=\u001b[0m \u001b[0mself\u001b[0m\u001b[1;33m.\u001b[0m\u001b[0m_open\u001b[0m\u001b[1;33m(\u001b[0m\u001b[0mfile\u001b[0m\u001b[1;33m,\u001b[0m \u001b[0mmode_int\u001b[0m\u001b[1;33m,\u001b[0m \u001b[0mclosefd\u001b[0m\u001b[1;33m)\u001b[0m\u001b[1;33m\u001b[0m\u001b[1;33m\u001b[0m\u001b[0m\n\u001b[0m\u001b[0;32m    630\u001b[0m         \u001b[1;32mif\u001b[0m \u001b[0mset\u001b[0m\u001b[1;33m(\u001b[0m\u001b[0mmode\u001b[0m\u001b[1;33m)\u001b[0m\u001b[1;33m.\u001b[0m\u001b[0missuperset\u001b[0m\u001b[1;33m(\u001b[0m\u001b[1;34m'r+'\u001b[0m\u001b[1;33m)\u001b[0m \u001b[1;32mand\u001b[0m \u001b[0mself\u001b[0m\u001b[1;33m.\u001b[0m\u001b[0mseekable\u001b[0m\u001b[1;33m(\u001b[0m\u001b[1;33m)\u001b[0m\u001b[1;33m:\u001b[0m\u001b[1;33m\u001b[0m\u001b[1;33m\u001b[0m\u001b[0m\n",
      "\u001b[1;32m~\\anaconda3\\envs\\speech\\lib\\site-packages\\soundfile.py\u001b[0m in \u001b[0;36m_open\u001b[1;34m(self, file, mode_int, closefd)\u001b[0m\n\u001b[0;32m   1182\u001b[0m             \u001b[1;32mraise\u001b[0m \u001b[0mTypeError\u001b[0m\u001b[1;33m(\u001b[0m\u001b[1;34m\"Invalid file: {0!r}\"\u001b[0m\u001b[1;33m.\u001b[0m\u001b[0mformat\u001b[0m\u001b[1;33m(\u001b[0m\u001b[0mself\u001b[0m\u001b[1;33m.\u001b[0m\u001b[0mname\u001b[0m\u001b[1;33m)\u001b[0m\u001b[1;33m)\u001b[0m\u001b[1;33m\u001b[0m\u001b[1;33m\u001b[0m\u001b[0m\n\u001b[1;32m-> 1183\u001b[1;33m         _error_check(_snd.sf_error(file_ptr),\n\u001b[0m\u001b[0;32m   1184\u001b[0m                      \"Error opening {0!r}: \".format(self.name))\n",
      "\u001b[1;32m~\\anaconda3\\envs\\speech\\lib\\site-packages\\soundfile.py\u001b[0m in \u001b[0;36m_error_check\u001b[1;34m(err, prefix)\u001b[0m\n\u001b[0;32m   1356\u001b[0m         \u001b[0merr_str\u001b[0m \u001b[1;33m=\u001b[0m \u001b[0m_snd\u001b[0m\u001b[1;33m.\u001b[0m\u001b[0msf_error_number\u001b[0m\u001b[1;33m(\u001b[0m\u001b[0merr\u001b[0m\u001b[1;33m)\u001b[0m\u001b[1;33m\u001b[0m\u001b[1;33m\u001b[0m\u001b[0m\n\u001b[1;32m-> 1357\u001b[1;33m         \u001b[1;32mraise\u001b[0m \u001b[0mRuntimeError\u001b[0m\u001b[1;33m(\u001b[0m\u001b[0mprefix\u001b[0m \u001b[1;33m+\u001b[0m \u001b[0m_ffi\u001b[0m\u001b[1;33m.\u001b[0m\u001b[0mstring\u001b[0m\u001b[1;33m(\u001b[0m\u001b[0merr_str\u001b[0m\u001b[1;33m)\u001b[0m\u001b[1;33m.\u001b[0m\u001b[0mdecode\u001b[0m\u001b[1;33m(\u001b[0m\u001b[1;34m'utf-8'\u001b[0m\u001b[1;33m,\u001b[0m \u001b[1;34m'replace'\u001b[0m\u001b[1;33m)\u001b[0m\u001b[1;33m)\u001b[0m\u001b[1;33m\u001b[0m\u001b[1;33m\u001b[0m\u001b[0m\n\u001b[0m\u001b[0;32m   1358\u001b[0m \u001b[1;33m\u001b[0m\u001b[0m\n",
      "\u001b[1;31mRuntimeError\u001b[0m: Error opening 'C:/Users/dahyun/Downloads/free-spoken-digit-dataset-master/recordings/0_jackson_0.wav': System error.",
      "\nDuring handling of the above exception, another exception occurred:\n",
      "\u001b[1;31mFileNotFoundError\u001b[0m                         Traceback (most recent call last)",
      "\u001b[1;32m<ipython-input-12-da29b9a0ef02>\u001b[0m in \u001b[0;36m<module>\u001b[1;34m\u001b[0m\n\u001b[1;32m----> 1\u001b[1;33m \u001b[0mwav\u001b[0m\u001b[1;33m,\u001b[0m \u001b[0msr\u001b[0m \u001b[1;33m=\u001b[0m \u001b[0mlibrosa\u001b[0m\u001b[1;33m.\u001b[0m\u001b[0mload\u001b[0m\u001b[1;33m(\u001b[0m\u001b[1;34m'C:/Users/dahyun/Downloads/free-spoken-digit-dataset-master/recordings/0_jackson_0.wav'\u001b[0m\u001b[1;33m,\u001b[0m \u001b[0msr\u001b[0m\u001b[1;33m=\u001b[0m\u001b[1;32mNone\u001b[0m\u001b[1;33m)\u001b[0m\u001b[1;33m\u001b[0m\u001b[1;33m\u001b[0m\u001b[0m\n\u001b[0m",
      "\u001b[1;32m~\\anaconda3\\envs\\speech\\lib\\site-packages\\librosa\\core\\audio.py\u001b[0m in \u001b[0;36mload\u001b[1;34m(path, sr, mono, offset, duration, dtype, res_type)\u001b[0m\n\u001b[0;32m    161\u001b[0m         \u001b[1;32mif\u001b[0m \u001b[0misinstance\u001b[0m\u001b[1;33m(\u001b[0m\u001b[0mpath\u001b[0m\u001b[1;33m,\u001b[0m \u001b[1;33m(\u001b[0m\u001b[0mstr\u001b[0m\u001b[1;33m,\u001b[0m \u001b[0mpathlib\u001b[0m\u001b[1;33m.\u001b[0m\u001b[0mPurePath\u001b[0m\u001b[1;33m)\u001b[0m\u001b[1;33m)\u001b[0m\u001b[1;33m:\u001b[0m\u001b[1;33m\u001b[0m\u001b[1;33m\u001b[0m\u001b[0m\n\u001b[0;32m    162\u001b[0m             \u001b[0mwarnings\u001b[0m\u001b[1;33m.\u001b[0m\u001b[0mwarn\u001b[0m\u001b[1;33m(\u001b[0m\u001b[1;34m\"PySoundFile failed. Trying audioread instead.\"\u001b[0m\u001b[1;33m)\u001b[0m\u001b[1;33m\u001b[0m\u001b[1;33m\u001b[0m\u001b[0m\n\u001b[1;32m--> 163\u001b[1;33m             \u001b[0my\u001b[0m\u001b[1;33m,\u001b[0m \u001b[0msr_native\u001b[0m \u001b[1;33m=\u001b[0m \u001b[0m__audioread_load\u001b[0m\u001b[1;33m(\u001b[0m\u001b[0mpath\u001b[0m\u001b[1;33m,\u001b[0m \u001b[0moffset\u001b[0m\u001b[1;33m,\u001b[0m \u001b[0mduration\u001b[0m\u001b[1;33m,\u001b[0m \u001b[0mdtype\u001b[0m\u001b[1;33m)\u001b[0m\u001b[1;33m\u001b[0m\u001b[1;33m\u001b[0m\u001b[0m\n\u001b[0m\u001b[0;32m    164\u001b[0m         \u001b[1;32melse\u001b[0m\u001b[1;33m:\u001b[0m\u001b[1;33m\u001b[0m\u001b[1;33m\u001b[0m\u001b[0m\n\u001b[0;32m    165\u001b[0m             \u001b[1;32mraise\u001b[0m \u001b[1;33m(\u001b[0m\u001b[0mexc\u001b[0m\u001b[1;33m)\u001b[0m\u001b[1;33m\u001b[0m\u001b[1;33m\u001b[0m\u001b[0m\n",
      "\u001b[1;32m~\\anaconda3\\envs\\speech\\lib\\site-packages\\librosa\\core\\audio.py\u001b[0m in \u001b[0;36m__audioread_load\u001b[1;34m(path, offset, duration, dtype)\u001b[0m\n\u001b[0;32m    185\u001b[0m \u001b[1;33m\u001b[0m\u001b[0m\n\u001b[0;32m    186\u001b[0m     \u001b[0my\u001b[0m \u001b[1;33m=\u001b[0m \u001b[1;33m[\u001b[0m\u001b[1;33m]\u001b[0m\u001b[1;33m\u001b[0m\u001b[1;33m\u001b[0m\u001b[0m\n\u001b[1;32m--> 187\u001b[1;33m     \u001b[1;32mwith\u001b[0m \u001b[0maudioread\u001b[0m\u001b[1;33m.\u001b[0m\u001b[0maudio_open\u001b[0m\u001b[1;33m(\u001b[0m\u001b[0mpath\u001b[0m\u001b[1;33m)\u001b[0m \u001b[1;32mas\u001b[0m \u001b[0minput_file\u001b[0m\u001b[1;33m:\u001b[0m\u001b[1;33m\u001b[0m\u001b[1;33m\u001b[0m\u001b[0m\n\u001b[0m\u001b[0;32m    188\u001b[0m         \u001b[0msr_native\u001b[0m \u001b[1;33m=\u001b[0m \u001b[0minput_file\u001b[0m\u001b[1;33m.\u001b[0m\u001b[0msamplerate\u001b[0m\u001b[1;33m\u001b[0m\u001b[1;33m\u001b[0m\u001b[0m\n\u001b[0;32m    189\u001b[0m         \u001b[0mn_channels\u001b[0m \u001b[1;33m=\u001b[0m \u001b[0minput_file\u001b[0m\u001b[1;33m.\u001b[0m\u001b[0mchannels\u001b[0m\u001b[1;33m\u001b[0m\u001b[1;33m\u001b[0m\u001b[0m\n",
      "\u001b[1;32m~\\anaconda3\\envs\\speech\\lib\\site-packages\\audioread\\__init__.py\u001b[0m in \u001b[0;36maudio_open\u001b[1;34m(path, backends)\u001b[0m\n\u001b[0;32m    109\u001b[0m     \u001b[1;32mfor\u001b[0m \u001b[0mBackendClass\u001b[0m \u001b[1;32min\u001b[0m \u001b[0mbackends\u001b[0m\u001b[1;33m:\u001b[0m\u001b[1;33m\u001b[0m\u001b[1;33m\u001b[0m\u001b[0m\n\u001b[0;32m    110\u001b[0m         \u001b[1;32mtry\u001b[0m\u001b[1;33m:\u001b[0m\u001b[1;33m\u001b[0m\u001b[1;33m\u001b[0m\u001b[0m\n\u001b[1;32m--> 111\u001b[1;33m             \u001b[1;32mreturn\u001b[0m \u001b[0mBackendClass\u001b[0m\u001b[1;33m(\u001b[0m\u001b[0mpath\u001b[0m\u001b[1;33m)\u001b[0m\u001b[1;33m\u001b[0m\u001b[1;33m\u001b[0m\u001b[0m\n\u001b[0m\u001b[0;32m    112\u001b[0m         \u001b[1;32mexcept\u001b[0m \u001b[0mDecodeError\u001b[0m\u001b[1;33m:\u001b[0m\u001b[1;33m\u001b[0m\u001b[1;33m\u001b[0m\u001b[0m\n\u001b[0;32m    113\u001b[0m             \u001b[1;32mpass\u001b[0m\u001b[1;33m\u001b[0m\u001b[1;33m\u001b[0m\u001b[0m\n",
      "\u001b[1;32m~\\anaconda3\\envs\\speech\\lib\\site-packages\\audioread\\rawread.py\u001b[0m in \u001b[0;36m__init__\u001b[1;34m(self, filename)\u001b[0m\n\u001b[0;32m     60\u001b[0m     \"\"\"\n\u001b[0;32m     61\u001b[0m     \u001b[1;32mdef\u001b[0m \u001b[0m__init__\u001b[0m\u001b[1;33m(\u001b[0m\u001b[0mself\u001b[0m\u001b[1;33m,\u001b[0m \u001b[0mfilename\u001b[0m\u001b[1;33m)\u001b[0m\u001b[1;33m:\u001b[0m\u001b[1;33m\u001b[0m\u001b[1;33m\u001b[0m\u001b[0m\n\u001b[1;32m---> 62\u001b[1;33m         \u001b[0mself\u001b[0m\u001b[1;33m.\u001b[0m\u001b[0m_fh\u001b[0m \u001b[1;33m=\u001b[0m \u001b[0mopen\u001b[0m\u001b[1;33m(\u001b[0m\u001b[0mfilename\u001b[0m\u001b[1;33m,\u001b[0m \u001b[1;34m'rb'\u001b[0m\u001b[1;33m)\u001b[0m\u001b[1;33m\u001b[0m\u001b[1;33m\u001b[0m\u001b[0m\n\u001b[0m\u001b[0;32m     63\u001b[0m \u001b[1;33m\u001b[0m\u001b[0m\n\u001b[0;32m     64\u001b[0m         \u001b[1;32mtry\u001b[0m\u001b[1;33m:\u001b[0m\u001b[1;33m\u001b[0m\u001b[1;33m\u001b[0m\u001b[0m\n",
      "\u001b[1;31mFileNotFoundError\u001b[0m: [Errno 2] No such file or directory: 'C:/Users/dahyun/Downloads/free-spoken-digit-dataset-master/recordings/0_jackson_0.wav'"
     ]
    }
   ],
   "source": [
    "wav, sr = librosa.load('C:/Users/dahyun/Downloads/free-spoken-digit-dataset-master/recordings/0_jackson_0.wav', sr=None)"
   ]
  },
  {
   "cell_type": "code",
   "execution_count": 13,
   "metadata": {},
   "outputs": [
    {
     "data": {
      "text/plain": [
       "22050"
      ]
     },
     "execution_count": 13,
     "metadata": {},
     "output_type": "execute_result"
    }
   ],
   "source": [
    "sr"
   ]
  },
  {
   "cell_type": "code",
   "execution_count": 16,
   "metadata": {},
   "outputs": [],
   "source": [
    "wav, sr = librosa.load('C:/Users/dahyun/Downloads/free-spoken-digit-dataset-master/recordings/0_jackson_0.wav', sr=None)\n",
    "mfcc = librosa.feature.mfcc(wav)"
   ]
  },
  {
   "cell_type": "code",
   "execution_count": 17,
   "metadata": {},
   "outputs": [
    {
     "data": {
      "text/plain": [
       "(20, 11)"
      ]
     },
     "execution_count": 17,
     "metadata": {},
     "output_type": "execute_result"
    }
   ],
   "source": [
    "mfcc.shape"
   ]
  },
  {
   "cell_type": "code",
   "execution_count": 18,
   "metadata": {},
   "outputs": [
    {
     "data": {
      "text/plain": [
       "array([122.379776 ,  76.30391  ,  32.959167 ,  -2.9676604,   2.931554 ,\n",
       "        36.501152 ,  55.442417 ,  62.885284 ,  76.6254   , 102.49776  ,\n",
       "       117.29262  ], dtype=float32)"
      ]
     },
     "execution_count": 18,
     "metadata": {},
     "output_type": "execute_result"
    }
   ],
   "source": [
    "mfcc[1]"
   ]
  },
  {
   "cell_type": "code",
   "execution_count": 19,
   "metadata": {},
   "outputs": [
    {
     "ename": "NameError",
     "evalue": "name 'pad2d' is not defined",
     "output_type": "error",
     "traceback": [
      "\u001b[1;31m---------------------------------------------------------------------------\u001b[0m",
      "\u001b[1;31mNameError\u001b[0m                                 Traceback (most recent call last)",
      "\u001b[1;32m<ipython-input-19-a1539fbf3bb2>\u001b[0m in \u001b[0;36m<module>\u001b[1;34m\u001b[0m\n\u001b[1;32m----> 1\u001b[1;33m \u001b[0mpadded_mfcc\u001b[0m \u001b[1;33m=\u001b[0m \u001b[0mpad2d\u001b[0m\u001b[1;33m(\u001b[0m\u001b[0mmfcc\u001b[0m\u001b[1;33m,\u001b[0m \u001b[1;36m40\u001b[0m\u001b[1;33m)\u001b[0m\u001b[1;33m\u001b[0m\u001b[1;33m\u001b[0m\u001b[0m\n\u001b[0m",
      "\u001b[1;31mNameError\u001b[0m: name 'pad2d' is not defined"
     ]
    }
   ],
   "source": [
    "padded_mfcc = pad2d(mfcc, 40)"
   ]
  },
  {
   "cell_type": "code",
   "execution_count": 20,
   "metadata": {},
   "outputs": [
    {
     "ename": "NameError",
     "evalue": "name 'padded_mfcc' is not defined",
     "output_type": "error",
     "traceback": [
      "\u001b[1;31m---------------------------------------------------------------------------\u001b[0m",
      "\u001b[1;31mNameError\u001b[0m                                 Traceback (most recent call last)",
      "\u001b[1;32m<ipython-input-20-6936053784c5>\u001b[0m in \u001b[0;36m<module>\u001b[1;34m\u001b[0m\n\u001b[1;32m----> 1\u001b[1;33m \u001b[0mpadded_mfcc\u001b[0m\u001b[1;33m.\u001b[0m\u001b[0mshape\u001b[0m\u001b[1;33m\u001b[0m\u001b[1;33m\u001b[0m\u001b[0m\n\u001b[0m",
      "\u001b[1;31mNameError\u001b[0m: name 'padded_mfcc' is not defined"
     ]
    }
   ],
   "source": [
    "padded_mfcc.shape"
   ]
  },
  {
   "cell_type": "code",
   "execution_count": 21,
   "metadata": {},
   "outputs": [
    {
     "ename": "NameError",
     "evalue": "name 'padded_mfcc' is not defined",
     "output_type": "error",
     "traceback": [
      "\u001b[1;31m---------------------------------------------------------------------------\u001b[0m",
      "\u001b[1;31mNameError\u001b[0m                                 Traceback (most recent call last)",
      "\u001b[1;32m<ipython-input-21-d5db5a4b221a>\u001b[0m in \u001b[0;36m<module>\u001b[1;34m\u001b[0m\n\u001b[1;32m----> 1\u001b[1;33m \u001b[0mpadded_mfcc\u001b[0m\u001b[1;33m\u001b[0m\u001b[1;33m\u001b[0m\u001b[0m\n\u001b[0m",
      "\u001b[1;31mNameError\u001b[0m: name 'padded_mfcc' is not defined"
     ]
    }
   ],
   "source": [
    "padded_mfcc"
   ]
  },
  {
   "cell_type": "code",
   "execution_count": 22,
   "metadata": {},
   "outputs": [
    {
     "name": "stderr",
     "output_type": "stream",
     "text": [
      "C:\\Users\\dahyun\\anaconda3\\envs\\speech\\lib\\site-packages\\librosa\\core\\spectrum.py:222: UserWarning: n_fft=2048 is too small for input signal of length=1933\n",
      "  warnings.warn(\n",
      "C:\\Users\\dahyun\\anaconda3\\envs\\speech\\lib\\site-packages\\librosa\\core\\spectrum.py:222: UserWarning: n_fft=2048 is too small for input signal of length=1399\n",
      "  warnings.warn(\n",
      "C:\\Users\\dahyun\\anaconda3\\envs\\speech\\lib\\site-packages\\librosa\\core\\spectrum.py:222: UserWarning: n_fft=2048 is too small for input signal of length=1876\n",
      "  warnings.warn(\n",
      "C:\\Users\\dahyun\\anaconda3\\envs\\speech\\lib\\site-packages\\librosa\\core\\spectrum.py:222: UserWarning: n_fft=2048 is too small for input signal of length=1983\n",
      "  warnings.warn(\n",
      "C:\\Users\\dahyun\\anaconda3\\envs\\speech\\lib\\site-packages\\librosa\\core\\spectrum.py:222: UserWarning: n_fft=2048 is too small for input signal of length=2033\n",
      "  warnings.warn(\n",
      "C:\\Users\\dahyun\\anaconda3\\envs\\speech\\lib\\site-packages\\librosa\\core\\spectrum.py:222: UserWarning: n_fft=2048 is too small for input signal of length=1963\n",
      "  warnings.warn(\n",
      "C:\\Users\\dahyun\\anaconda3\\envs\\speech\\lib\\site-packages\\librosa\\core\\spectrum.py:222: UserWarning: n_fft=2048 is too small for input signal of length=2007\n",
      "  warnings.warn(\n",
      "C:\\Users\\dahyun\\anaconda3\\envs\\speech\\lib\\site-packages\\librosa\\core\\spectrum.py:222: UserWarning: n_fft=2048 is too small for input signal of length=1976\n",
      "  warnings.warn(\n",
      "C:\\Users\\dahyun\\anaconda3\\envs\\speech\\lib\\site-packages\\librosa\\core\\spectrum.py:222: UserWarning: n_fft=2048 is too small for input signal of length=1987\n",
      "  warnings.warn(\n",
      "C:\\Users\\dahyun\\anaconda3\\envs\\speech\\lib\\site-packages\\librosa\\core\\spectrum.py:222: UserWarning: n_fft=2048 is too small for input signal of length=1886\n",
      "  warnings.warn(\n",
      "C:\\Users\\dahyun\\anaconda3\\envs\\speech\\lib\\site-packages\\librosa\\core\\spectrum.py:222: UserWarning: n_fft=2048 is too small for input signal of length=1842\n",
      "  warnings.warn(\n",
      "C:\\Users\\dahyun\\anaconda3\\envs\\speech\\lib\\site-packages\\librosa\\core\\spectrum.py:222: UserWarning: n_fft=2048 is too small for input signal of length=1753\n",
      "  warnings.warn(\n",
      "C:\\Users\\dahyun\\anaconda3\\envs\\speech\\lib\\site-packages\\librosa\\core\\spectrum.py:222: UserWarning: n_fft=2048 is too small for input signal of length=1870\n",
      "  warnings.warn(\n",
      "C:\\Users\\dahyun\\anaconda3\\envs\\speech\\lib\\site-packages\\librosa\\core\\spectrum.py:222: UserWarning: n_fft=2048 is too small for input signal of length=1813\n",
      "  warnings.warn(\n",
      "C:\\Users\\dahyun\\anaconda3\\envs\\speech\\lib\\site-packages\\librosa\\core\\spectrum.py:222: UserWarning: n_fft=2048 is too small for input signal of length=1891\n",
      "  warnings.warn(\n",
      "C:\\Users\\dahyun\\anaconda3\\envs\\speech\\lib\\site-packages\\librosa\\core\\spectrum.py:222: UserWarning: n_fft=2048 is too small for input signal of length=1788\n",
      "  warnings.warn(\n",
      "C:\\Users\\dahyun\\anaconda3\\envs\\speech\\lib\\site-packages\\librosa\\core\\spectrum.py:222: UserWarning: n_fft=2048 is too small for input signal of length=1556\n",
      "  warnings.warn(\n",
      "C:\\Users\\dahyun\\anaconda3\\envs\\speech\\lib\\site-packages\\librosa\\core\\spectrum.py:222: UserWarning: n_fft=2048 is too small for input signal of length=1997\n",
      "  warnings.warn(\n",
      "C:\\Users\\dahyun\\anaconda3\\envs\\speech\\lib\\site-packages\\librosa\\core\\spectrum.py:222: UserWarning: n_fft=2048 is too small for input signal of length=1720\n",
      "  warnings.warn(\n",
      "C:\\Users\\dahyun\\anaconda3\\envs\\speech\\lib\\site-packages\\librosa\\core\\spectrum.py:222: UserWarning: n_fft=2048 is too small for input signal of length=1692\n",
      "  warnings.warn(\n",
      "C:\\Users\\dahyun\\anaconda3\\envs\\speech\\lib\\site-packages\\librosa\\core\\spectrum.py:222: UserWarning: n_fft=2048 is too small for input signal of length=1565\n",
      "  warnings.warn(\n",
      "C:\\Users\\dahyun\\anaconda3\\envs\\speech\\lib\\site-packages\\librosa\\core\\spectrum.py:222: UserWarning: n_fft=2048 is too small for input signal of length=1737\n",
      "  warnings.warn(\n",
      "C:\\Users\\dahyun\\anaconda3\\envs\\speech\\lib\\site-packages\\librosa\\core\\spectrum.py:222: UserWarning: n_fft=2048 is too small for input signal of length=1760\n",
      "  warnings.warn(\n",
      "C:\\Users\\dahyun\\anaconda3\\envs\\speech\\lib\\site-packages\\librosa\\core\\spectrum.py:222: UserWarning: n_fft=2048 is too small for input signal of length=1890\n",
      "  warnings.warn(\n",
      "C:\\Users\\dahyun\\anaconda3\\envs\\speech\\lib\\site-packages\\librosa\\core\\spectrum.py:222: UserWarning: n_fft=2048 is too small for input signal of length=1785\n",
      "  warnings.warn(\n",
      "C:\\Users\\dahyun\\anaconda3\\envs\\speech\\lib\\site-packages\\librosa\\core\\spectrum.py:222: UserWarning: n_fft=2048 is too small for input signal of length=2016\n",
      "  warnings.warn(\n",
      "C:\\Users\\dahyun\\anaconda3\\envs\\speech\\lib\\site-packages\\librosa\\core\\spectrum.py:222: UserWarning: n_fft=2048 is too small for input signal of length=1932\n",
      "  warnings.warn(\n",
      "C:\\Users\\dahyun\\anaconda3\\envs\\speech\\lib\\site-packages\\librosa\\core\\spectrum.py:222: UserWarning: n_fft=2048 is too small for input signal of length=2035\n",
      "  warnings.warn(\n",
      "C:\\Users\\dahyun\\anaconda3\\envs\\speech\\lib\\site-packages\\librosa\\core\\spectrum.py:222: UserWarning: n_fft=2048 is too small for input signal of length=1493\n",
      "  warnings.warn(\n",
      "C:\\Users\\dahyun\\anaconda3\\envs\\speech\\lib\\site-packages\\librosa\\core\\spectrum.py:222: UserWarning: n_fft=2048 is too small for input signal of length=1525\n",
      "  warnings.warn(\n",
      "C:\\Users\\dahyun\\anaconda3\\envs\\speech\\lib\\site-packages\\librosa\\core\\spectrum.py:222: UserWarning: n_fft=2048 is too small for input signal of length=1742\n",
      "  warnings.warn(\n",
      "C:\\Users\\dahyun\\anaconda3\\envs\\speech\\lib\\site-packages\\librosa\\core\\spectrum.py:222: UserWarning: n_fft=2048 is too small for input signal of length=1866\n",
      "  warnings.warn(\n",
      "C:\\Users\\dahyun\\anaconda3\\envs\\speech\\lib\\site-packages\\librosa\\core\\spectrum.py:222: UserWarning: n_fft=2048 is too small for input signal of length=1914\n",
      "  warnings.warn(\n",
      "C:\\Users\\dahyun\\anaconda3\\envs\\speech\\lib\\site-packages\\librosa\\core\\spectrum.py:222: UserWarning: n_fft=2048 is too small for input signal of length=1568\n",
      "  warnings.warn(\n",
      "C:\\Users\\dahyun\\anaconda3\\envs\\speech\\lib\\site-packages\\librosa\\core\\spectrum.py:222: UserWarning: n_fft=2048 is too small for input signal of length=1627\n",
      "  warnings.warn(\n",
      "C:\\Users\\dahyun\\anaconda3\\envs\\speech\\lib\\site-packages\\librosa\\core\\spectrum.py:222: UserWarning: n_fft=2048 is too small for input signal of length=1772\n",
      "  warnings.warn(\n",
      "C:\\Users\\dahyun\\anaconda3\\envs\\speech\\lib\\site-packages\\librosa\\core\\spectrum.py:222: UserWarning: n_fft=2048 is too small for input signal of length=1597\n",
      "  warnings.warn(\n",
      "C:\\Users\\dahyun\\anaconda3\\envs\\speech\\lib\\site-packages\\librosa\\core\\spectrum.py:222: UserWarning: n_fft=2048 is too small for input signal of length=1801\n",
      "  warnings.warn(\n",
      "C:\\Users\\dahyun\\anaconda3\\envs\\speech\\lib\\site-packages\\librosa\\core\\spectrum.py:222: UserWarning: n_fft=2048 is too small for input signal of length=1475\n",
      "  warnings.warn(\n",
      "C:\\Users\\dahyun\\anaconda3\\envs\\speech\\lib\\site-packages\\librosa\\core\\spectrum.py:222: UserWarning: n_fft=2048 is too small for input signal of length=1852\n",
      "  warnings.warn(\n",
      "C:\\Users\\dahyun\\anaconda3\\envs\\speech\\lib\\site-packages\\librosa\\core\\spectrum.py:222: UserWarning: n_fft=2048 is too small for input signal of length=1953\n",
      "  warnings.warn(\n",
      "C:\\Users\\dahyun\\anaconda3\\envs\\speech\\lib\\site-packages\\librosa\\core\\spectrum.py:222: UserWarning: n_fft=2048 is too small for input signal of length=1819\n",
      "  warnings.warn(\n",
      "C:\\Users\\dahyun\\anaconda3\\envs\\speech\\lib\\site-packages\\librosa\\core\\spectrum.py:222: UserWarning: n_fft=2048 is too small for input signal of length=1664\n",
      "  warnings.warn(\n",
      "C:\\Users\\dahyun\\anaconda3\\envs\\speech\\lib\\site-packages\\librosa\\core\\spectrum.py:222: UserWarning: n_fft=2048 is too small for input signal of length=1962\n",
      "  warnings.warn(\n",
      "C:\\Users\\dahyun\\anaconda3\\envs\\speech\\lib\\site-packages\\librosa\\core\\spectrum.py:222: UserWarning: n_fft=2048 is too small for input signal of length=1639\n",
      "  warnings.warn(\n",
      "C:\\Users\\dahyun\\anaconda3\\envs\\speech\\lib\\site-packages\\librosa\\core\\spectrum.py:222: UserWarning: n_fft=2048 is too small for input signal of length=1601\n",
      "  warnings.warn(\n",
      "C:\\Users\\dahyun\\anaconda3\\envs\\speech\\lib\\site-packages\\librosa\\core\\spectrum.py:222: UserWarning: n_fft=2048 is too small for input signal of length=1288\n",
      "  warnings.warn(\n",
      "C:\\Users\\dahyun\\anaconda3\\envs\\speech\\lib\\site-packages\\librosa\\core\\spectrum.py:222: UserWarning: n_fft=2048 is too small for input signal of length=1910\n",
      "  warnings.warn(\n",
      "C:\\Users\\dahyun\\anaconda3\\envs\\speech\\lib\\site-packages\\librosa\\core\\spectrum.py:222: UserWarning: n_fft=2048 is too small for input signal of length=1854\n",
      "  warnings.warn(\n",
      "C:\\Users\\dahyun\\anaconda3\\envs\\speech\\lib\\site-packages\\librosa\\core\\spectrum.py:222: UserWarning: n_fft=2048 is too small for input signal of length=1807\n",
      "  warnings.warn(\n",
      "C:\\Users\\dahyun\\anaconda3\\envs\\speech\\lib\\site-packages\\librosa\\core\\spectrum.py:222: UserWarning: n_fft=2048 is too small for input signal of length=1704\n",
      "  warnings.warn(\n",
      "C:\\Users\\dahyun\\anaconda3\\envs\\speech\\lib\\site-packages\\librosa\\core\\spectrum.py:222: UserWarning: n_fft=2048 is too small for input signal of length=1896\n",
      "  warnings.warn(\n",
      "C:\\Users\\dahyun\\anaconda3\\envs\\speech\\lib\\site-packages\\librosa\\core\\spectrum.py:222: UserWarning: n_fft=2048 is too small for input signal of length=2042\n",
      "  warnings.warn(\n",
      "C:\\Users\\dahyun\\anaconda3\\envs\\speech\\lib\\site-packages\\librosa\\core\\spectrum.py:222: UserWarning: n_fft=2048 is too small for input signal of length=2037\n",
      "  warnings.warn(\n",
      "C:\\Users\\dahyun\\anaconda3\\envs\\speech\\lib\\site-packages\\librosa\\core\\spectrum.py:222: UserWarning: n_fft=2048 is too small for input signal of length=1943\n",
      "  warnings.warn(\n"
     ]
    },
    {
     "name": "stderr",
     "output_type": "stream",
     "text": [
      "C:\\Users\\dahyun\\anaconda3\\envs\\speech\\lib\\site-packages\\librosa\\core\\spectrum.py:222: UserWarning: n_fft=2048 is too small for input signal of length=2027\n",
      "  warnings.warn(\n",
      "C:\\Users\\dahyun\\anaconda3\\envs\\speech\\lib\\site-packages\\librosa\\core\\spectrum.py:222: UserWarning: n_fft=2048 is too small for input signal of length=1906\n",
      "  warnings.warn(\n",
      "C:\\Users\\dahyun\\anaconda3\\envs\\speech\\lib\\site-packages\\librosa\\core\\spectrum.py:222: UserWarning: n_fft=2048 is too small for input signal of length=1900\n",
      "  warnings.warn(\n",
      "C:\\Users\\dahyun\\anaconda3\\envs\\speech\\lib\\site-packages\\librosa\\core\\spectrum.py:222: UserWarning: n_fft=2048 is too small for input signal of length=2034\n",
      "  warnings.warn(\n",
      "C:\\Users\\dahyun\\anaconda3\\envs\\speech\\lib\\site-packages\\librosa\\core\\spectrum.py:222: UserWarning: n_fft=2048 is too small for input signal of length=1973\n",
      "  warnings.warn(\n",
      "C:\\Users\\dahyun\\anaconda3\\envs\\speech\\lib\\site-packages\\librosa\\core\\spectrum.py:222: UserWarning: n_fft=2048 is too small for input signal of length=1531\n",
      "  warnings.warn(\n",
      "C:\\Users\\dahyun\\anaconda3\\envs\\speech\\lib\\site-packages\\librosa\\core\\spectrum.py:222: UserWarning: n_fft=2048 is too small for input signal of length=1541\n",
      "  warnings.warn(\n",
      "C:\\Users\\dahyun\\anaconda3\\envs\\speech\\lib\\site-packages\\librosa\\core\\spectrum.py:222: UserWarning: n_fft=2048 is too small for input signal of length=1640\n",
      "  warnings.warn(\n",
      "C:\\Users\\dahyun\\anaconda3\\envs\\speech\\lib\\site-packages\\librosa\\core\\spectrum.py:222: UserWarning: n_fft=2048 is too small for input signal of length=1547\n",
      "  warnings.warn(\n",
      "C:\\Users\\dahyun\\anaconda3\\envs\\speech\\lib\\site-packages\\librosa\\core\\spectrum.py:222: UserWarning: n_fft=2048 is too small for input signal of length=1516\n",
      "  warnings.warn(\n",
      "C:\\Users\\dahyun\\anaconda3\\envs\\speech\\lib\\site-packages\\librosa\\core\\spectrum.py:222: UserWarning: n_fft=2048 is too small for input signal of length=1609\n",
      "  warnings.warn(\n",
      "C:\\Users\\dahyun\\anaconda3\\envs\\speech\\lib\\site-packages\\librosa\\core\\spectrum.py:222: UserWarning: n_fft=2048 is too small for input signal of length=1455\n",
      "  warnings.warn(\n",
      "C:\\Users\\dahyun\\anaconda3\\envs\\speech\\lib\\site-packages\\librosa\\core\\spectrum.py:222: UserWarning: n_fft=2048 is too small for input signal of length=1650\n",
      "  warnings.warn(\n",
      "C:\\Users\\dahyun\\anaconda3\\envs\\speech\\lib\\site-packages\\librosa\\core\\spectrum.py:222: UserWarning: n_fft=2048 is too small for input signal of length=1960\n",
      "  warnings.warn(\n",
      "C:\\Users\\dahyun\\anaconda3\\envs\\speech\\lib\\site-packages\\librosa\\core\\spectrum.py:222: UserWarning: n_fft=2048 is too small for input signal of length=1837\n",
      "  warnings.warn(\n",
      "C:\\Users\\dahyun\\anaconda3\\envs\\speech\\lib\\site-packages\\librosa\\core\\spectrum.py:222: UserWarning: n_fft=2048 is too small for input signal of length=1712\n",
      "  warnings.warn(\n",
      "C:\\Users\\dahyun\\anaconda3\\envs\\speech\\lib\\site-packages\\librosa\\core\\spectrum.py:222: UserWarning: n_fft=2048 is too small for input signal of length=1774\n",
      "  warnings.warn(\n",
      "C:\\Users\\dahyun\\anaconda3\\envs\\speech\\lib\\site-packages\\librosa\\core\\spectrum.py:222: UserWarning: n_fft=2048 is too small for input signal of length=1884\n",
      "  warnings.warn(\n",
      "C:\\Users\\dahyun\\anaconda3\\envs\\speech\\lib\\site-packages\\librosa\\core\\spectrum.py:222: UserWarning: n_fft=2048 is too small for input signal of length=1805\n",
      "  warnings.warn(\n",
      "C:\\Users\\dahyun\\anaconda3\\envs\\speech\\lib\\site-packages\\librosa\\core\\spectrum.py:222: UserWarning: n_fft=2048 is too small for input signal of length=1713\n",
      "  warnings.warn(\n",
      "C:\\Users\\dahyun\\anaconda3\\envs\\speech\\lib\\site-packages\\librosa\\core\\spectrum.py:222: UserWarning: n_fft=2048 is too small for input signal of length=2023\n",
      "  warnings.warn(\n",
      "C:\\Users\\dahyun\\anaconda3\\envs\\speech\\lib\\site-packages\\librosa\\core\\spectrum.py:222: UserWarning: n_fft=2048 is too small for input signal of length=1915\n",
      "  warnings.warn(\n",
      "C:\\Users\\dahyun\\anaconda3\\envs\\speech\\lib\\site-packages\\librosa\\core\\spectrum.py:222: UserWarning: n_fft=2048 is too small for input signal of length=1931\n",
      "  warnings.warn(\n",
      "C:\\Users\\dahyun\\anaconda3\\envs\\speech\\lib\\site-packages\\librosa\\core\\spectrum.py:222: UserWarning: n_fft=2048 is too small for input signal of length=1793\n",
      "  warnings.warn(\n",
      "C:\\Users\\dahyun\\anaconda3\\envs\\speech\\lib\\site-packages\\librosa\\core\\spectrum.py:222: UserWarning: n_fft=2048 is too small for input signal of length=1824\n",
      "  warnings.warn(\n",
      "C:\\Users\\dahyun\\anaconda3\\envs\\speech\\lib\\site-packages\\librosa\\core\\spectrum.py:222: UserWarning: n_fft=2048 is too small for input signal of length=1579\n",
      "  warnings.warn(\n",
      "C:\\Users\\dahyun\\anaconda3\\envs\\speech\\lib\\site-packages\\librosa\\core\\spectrum.py:222: UserWarning: n_fft=2048 is too small for input signal of length=1817\n",
      "  warnings.warn(\n",
      "C:\\Users\\dahyun\\anaconda3\\envs\\speech\\lib\\site-packages\\librosa\\core\\spectrum.py:222: UserWarning: n_fft=2048 is too small for input signal of length=1958\n",
      "  warnings.warn(\n",
      "C:\\Users\\dahyun\\anaconda3\\envs\\speech\\lib\\site-packages\\librosa\\core\\spectrum.py:222: UserWarning: n_fft=2048 is too small for input signal of length=1560\n",
      "  warnings.warn(\n",
      "C:\\Users\\dahyun\\anaconda3\\envs\\speech\\lib\\site-packages\\librosa\\core\\spectrum.py:222: UserWarning: n_fft=2048 is too small for input signal of length=1795\n",
      "  warnings.warn(\n",
      "C:\\Users\\dahyun\\anaconda3\\envs\\speech\\lib\\site-packages\\librosa\\core\\spectrum.py:222: UserWarning: n_fft=2048 is too small for input signal of length=2036\n",
      "  warnings.warn(\n",
      "C:\\Users\\dahyun\\anaconda3\\envs\\speech\\lib\\site-packages\\librosa\\core\\spectrum.py:222: UserWarning: n_fft=2048 is too small for input signal of length=1846\n",
      "  warnings.warn(\n",
      "C:\\Users\\dahyun\\anaconda3\\envs\\speech\\lib\\site-packages\\librosa\\core\\spectrum.py:222: UserWarning: n_fft=2048 is too small for input signal of length=1803\n",
      "  warnings.warn(\n",
      "C:\\Users\\dahyun\\anaconda3\\envs\\speech\\lib\\site-packages\\librosa\\core\\spectrum.py:222: UserWarning: n_fft=2048 is too small for input signal of length=1945\n",
      "  warnings.warn(\n",
      "C:\\Users\\dahyun\\anaconda3\\envs\\speech\\lib\\site-packages\\librosa\\core\\spectrum.py:222: UserWarning: n_fft=2048 is too small for input signal of length=2001\n",
      "  warnings.warn(\n",
      "C:\\Users\\dahyun\\anaconda3\\envs\\speech\\lib\\site-packages\\librosa\\core\\spectrum.py:222: UserWarning: n_fft=2048 is too small for input signal of length=1892\n",
      "  warnings.warn(\n",
      "C:\\Users\\dahyun\\anaconda3\\envs\\speech\\lib\\site-packages\\librosa\\core\\spectrum.py:222: UserWarning: n_fft=2048 is too small for input signal of length=2005\n",
      "  warnings.warn(\n",
      "C:\\Users\\dahyun\\anaconda3\\envs\\speech\\lib\\site-packages\\librosa\\core\\spectrum.py:222: UserWarning: n_fft=2048 is too small for input signal of length=1697\n",
      "  warnings.warn(\n",
      "C:\\Users\\dahyun\\anaconda3\\envs\\speech\\lib\\site-packages\\librosa\\core\\spectrum.py:222: UserWarning: n_fft=2048 is too small for input signal of length=1903\n",
      "  warnings.warn(\n",
      "C:\\Users\\dahyun\\anaconda3\\envs\\speech\\lib\\site-packages\\librosa\\core\\spectrum.py:222: UserWarning: n_fft=2048 is too small for input signal of length=1919\n",
      "  warnings.warn(\n",
      "C:\\Users\\dahyun\\anaconda3\\envs\\speech\\lib\\site-packages\\librosa\\core\\spectrum.py:222: UserWarning: n_fft=2048 is too small for input signal of length=1832\n",
      "  warnings.warn(\n",
      "C:\\Users\\dahyun\\anaconda3\\envs\\speech\\lib\\site-packages\\librosa\\core\\spectrum.py:222: UserWarning: n_fft=2048 is too small for input signal of length=2039\n",
      "  warnings.warn(\n",
      "C:\\Users\\dahyun\\anaconda3\\envs\\speech\\lib\\site-packages\\librosa\\core\\spectrum.py:222: UserWarning: n_fft=2048 is too small for input signal of length=1873\n",
      "  warnings.warn(\n",
      "C:\\Users\\dahyun\\anaconda3\\envs\\speech\\lib\\site-packages\\librosa\\core\\spectrum.py:222: UserWarning: n_fft=2048 is too small for input signal of length=1632\n",
      "  warnings.warn(\n",
      "C:\\Users\\dahyun\\anaconda3\\envs\\speech\\lib\\site-packages\\librosa\\core\\spectrum.py:222: UserWarning: n_fft=2048 is too small for input signal of length=1806\n",
      "  warnings.warn(\n",
      "C:\\Users\\dahyun\\anaconda3\\envs\\speech\\lib\\site-packages\\librosa\\core\\spectrum.py:222: UserWarning: n_fft=2048 is too small for input signal of length=2022\n",
      "  warnings.warn(\n",
      "C:\\Users\\dahyun\\anaconda3\\envs\\speech\\lib\\site-packages\\librosa\\core\\spectrum.py:222: UserWarning: n_fft=2048 is too small for input signal of length=2014\n",
      "  warnings.warn(\n",
      "C:\\Users\\dahyun\\anaconda3\\envs\\speech\\lib\\site-packages\\librosa\\core\\spectrum.py:222: UserWarning: n_fft=2048 is too small for input signal of length=2045\n",
      "  warnings.warn(\n"
     ]
    },
    {
     "name": "stderr",
     "output_type": "stream",
     "text": [
      "C:\\Users\\dahyun\\anaconda3\\envs\\speech\\lib\\site-packages\\librosa\\core\\spectrum.py:222: UserWarning: n_fft=2048 is too small for input signal of length=1790\n",
      "  warnings.warn(\n",
      "C:\\Users\\dahyun\\anaconda3\\envs\\speech\\lib\\site-packages\\librosa\\core\\spectrum.py:222: UserWarning: n_fft=2048 is too small for input signal of length=1705\n",
      "  warnings.warn(\n",
      "C:\\Users\\dahyun\\anaconda3\\envs\\speech\\lib\\site-packages\\librosa\\core\\spectrum.py:222: UserWarning: n_fft=2048 is too small for input signal of length=1359\n",
      "  warnings.warn(\n",
      "C:\\Users\\dahyun\\anaconda3\\envs\\speech\\lib\\site-packages\\librosa\\core\\spectrum.py:222: UserWarning: n_fft=2048 is too small for input signal of length=1673\n",
      "  warnings.warn(\n",
      "C:\\Users\\dahyun\\anaconda3\\envs\\speech\\lib\\site-packages\\librosa\\core\\spectrum.py:222: UserWarning: n_fft=2048 is too small for input signal of length=1970\n",
      "  warnings.warn(\n",
      "C:\\Users\\dahyun\\anaconda3\\envs\\speech\\lib\\site-packages\\librosa\\core\\spectrum.py:222: UserWarning: n_fft=2048 is too small for input signal of length=1761\n",
      "  warnings.warn(\n",
      "C:\\Users\\dahyun\\anaconda3\\envs\\speech\\lib\\site-packages\\librosa\\core\\spectrum.py:222: UserWarning: n_fft=2048 is too small for input signal of length=1722\n",
      "  warnings.warn(\n",
      "C:\\Users\\dahyun\\anaconda3\\envs\\speech\\lib\\site-packages\\librosa\\core\\spectrum.py:222: UserWarning: n_fft=2048 is too small for input signal of length=1850\n",
      "  warnings.warn(\n",
      "C:\\Users\\dahyun\\anaconda3\\envs\\speech\\lib\\site-packages\\librosa\\core\\spectrum.py:222: UserWarning: n_fft=2048 is too small for input signal of length=1843\n",
      "  warnings.warn(\n",
      "C:\\Users\\dahyun\\anaconda3\\envs\\speech\\lib\\site-packages\\librosa\\core\\spectrum.py:222: UserWarning: n_fft=2048 is too small for input signal of length=1778\n",
      "  warnings.warn(\n",
      "C:\\Users\\dahyun\\anaconda3\\envs\\speech\\lib\\site-packages\\librosa\\core\\spectrum.py:222: UserWarning: n_fft=2048 is too small for input signal of length=1433\n",
      "  warnings.warn(\n",
      "C:\\Users\\dahyun\\anaconda3\\envs\\speech\\lib\\site-packages\\librosa\\core\\spectrum.py:222: UserWarning: n_fft=2048 is too small for input signal of length=1296\n",
      "  warnings.warn(\n",
      "C:\\Users\\dahyun\\anaconda3\\envs\\speech\\lib\\site-packages\\librosa\\core\\spectrum.py:222: UserWarning: n_fft=2048 is too small for input signal of length=2012\n",
      "  warnings.warn(\n",
      "C:\\Users\\dahyun\\anaconda3\\envs\\speech\\lib\\site-packages\\librosa\\core\\spectrum.py:222: UserWarning: n_fft=2048 is too small for input signal of length=1911\n",
      "  warnings.warn(\n",
      "C:\\Users\\dahyun\\anaconda3\\envs\\speech\\lib\\site-packages\\librosa\\core\\spectrum.py:222: UserWarning: n_fft=2048 is too small for input signal of length=1569\n",
      "  warnings.warn(\n",
      "C:\\Users\\dahyun\\anaconda3\\envs\\speech\\lib\\site-packages\\librosa\\core\\spectrum.py:222: UserWarning: n_fft=2048 is too small for input signal of length=1434\n",
      "  warnings.warn(\n",
      "C:\\Users\\dahyun\\anaconda3\\envs\\speech\\lib\\site-packages\\librosa\\core\\spectrum.py:222: UserWarning: n_fft=2048 is too small for input signal of length=1295\n",
      "  warnings.warn(\n",
      "C:\\Users\\dahyun\\anaconda3\\envs\\speech\\lib\\site-packages\\librosa\\core\\spectrum.py:222: UserWarning: n_fft=2048 is too small for input signal of length=1403\n",
      "  warnings.warn(\n",
      "C:\\Users\\dahyun\\anaconda3\\envs\\speech\\lib\\site-packages\\librosa\\core\\spectrum.py:222: UserWarning: n_fft=2048 is too small for input signal of length=1634\n",
      "  warnings.warn(\n",
      "C:\\Users\\dahyun\\anaconda3\\envs\\speech\\lib\\site-packages\\librosa\\core\\spectrum.py:222: UserWarning: n_fft=2048 is too small for input signal of length=1357\n",
      "  warnings.warn(\n",
      "C:\\Users\\dahyun\\anaconda3\\envs\\speech\\lib\\site-packages\\librosa\\core\\spectrum.py:222: UserWarning: n_fft=2048 is too small for input signal of length=1968\n",
      "  warnings.warn(\n",
      "C:\\Users\\dahyun\\anaconda3\\envs\\speech\\lib\\site-packages\\librosa\\core\\spectrum.py:222: UserWarning: n_fft=2048 is too small for input signal of length=1593\n",
      "  warnings.warn(\n",
      "C:\\Users\\dahyun\\anaconda3\\envs\\speech\\lib\\site-packages\\librosa\\core\\spectrum.py:222: UserWarning: n_fft=2048 is too small for input signal of length=1913\n",
      "  warnings.warn(\n",
      "C:\\Users\\dahyun\\anaconda3\\envs\\speech\\lib\\site-packages\\librosa\\core\\spectrum.py:222: UserWarning: n_fft=2048 is too small for input signal of length=1149\n",
      "  warnings.warn(\n",
      "C:\\Users\\dahyun\\anaconda3\\envs\\speech\\lib\\site-packages\\librosa\\core\\spectrum.py:222: UserWarning: n_fft=2048 is too small for input signal of length=1610\n",
      "  warnings.warn(\n",
      "C:\\Users\\dahyun\\anaconda3\\envs\\speech\\lib\\site-packages\\librosa\\core\\spectrum.py:222: UserWarning: n_fft=2048 is too small for input signal of length=1259\n",
      "  warnings.warn(\n",
      "C:\\Users\\dahyun\\anaconda3\\envs\\speech\\lib\\site-packages\\librosa\\core\\spectrum.py:222: UserWarning: n_fft=2048 is too small for input signal of length=1251\n",
      "  warnings.warn(\n",
      "C:\\Users\\dahyun\\anaconda3\\envs\\speech\\lib\\site-packages\\librosa\\core\\spectrum.py:222: UserWarning: n_fft=2048 is too small for input signal of length=1302\n",
      "  warnings.warn(\n",
      "C:\\Users\\dahyun\\anaconda3\\envs\\speech\\lib\\site-packages\\librosa\\core\\spectrum.py:222: UserWarning: n_fft=2048 is too small for input signal of length=1988\n",
      "  warnings.warn(\n",
      "C:\\Users\\dahyun\\anaconda3\\envs\\speech\\lib\\site-packages\\librosa\\core\\spectrum.py:222: UserWarning: n_fft=2048 is too small for input signal of length=1294\n",
      "  warnings.warn(\n",
      "C:\\Users\\dahyun\\anaconda3\\envs\\speech\\lib\\site-packages\\librosa\\core\\spectrum.py:222: UserWarning: n_fft=2048 is too small for input signal of length=1446\n",
      "  warnings.warn(\n",
      "C:\\Users\\dahyun\\anaconda3\\envs\\speech\\lib\\site-packages\\librosa\\core\\spectrum.py:222: UserWarning: n_fft=2048 is too small for input signal of length=1830\n",
      "  warnings.warn(\n",
      "C:\\Users\\dahyun\\anaconda3\\envs\\speech\\lib\\site-packages\\librosa\\core\\spectrum.py:222: UserWarning: n_fft=2048 is too small for input signal of length=1440\n",
      "  warnings.warn(\n",
      "C:\\Users\\dahyun\\anaconda3\\envs\\speech\\lib\\site-packages\\librosa\\core\\spectrum.py:222: UserWarning: n_fft=2048 is too small for input signal of length=1710\n",
      "  warnings.warn(\n",
      "C:\\Users\\dahyun\\anaconda3\\envs\\speech\\lib\\site-packages\\librosa\\core\\spectrum.py:222: UserWarning: n_fft=2048 is too small for input signal of length=1714\n",
      "  warnings.warn(\n",
      "C:\\Users\\dahyun\\anaconda3\\envs\\speech\\lib\\site-packages\\librosa\\core\\spectrum.py:222: UserWarning: n_fft=2048 is too small for input signal of length=1381\n",
      "  warnings.warn(\n",
      "C:\\Users\\dahyun\\anaconda3\\envs\\speech\\lib\\site-packages\\librosa\\core\\spectrum.py:222: UserWarning: n_fft=2048 is too small for input signal of length=1868\n",
      "  warnings.warn(\n",
      "C:\\Users\\dahyun\\anaconda3\\envs\\speech\\lib\\site-packages\\librosa\\core\\spectrum.py:222: UserWarning: n_fft=2048 is too small for input signal of length=1410\n",
      "  warnings.warn(\n",
      "C:\\Users\\dahyun\\anaconda3\\envs\\speech\\lib\\site-packages\\librosa\\core\\spectrum.py:222: UserWarning: n_fft=2048 is too small for input signal of length=1542\n",
      "  warnings.warn(\n",
      "C:\\Users\\dahyun\\anaconda3\\envs\\speech\\lib\\site-packages\\librosa\\core\\spectrum.py:222: UserWarning: n_fft=2048 is too small for input signal of length=1682\n",
      "  warnings.warn(\n",
      "C:\\Users\\dahyun\\anaconda3\\envs\\speech\\lib\\site-packages\\librosa\\core\\spectrum.py:222: UserWarning: n_fft=2048 is too small for input signal of length=1148\n",
      "  warnings.warn(\n",
      "C:\\Users\\dahyun\\anaconda3\\envs\\speech\\lib\\site-packages\\librosa\\core\\spectrum.py:222: UserWarning: n_fft=2048 is too small for input signal of length=1838\n",
      "  warnings.warn(\n",
      "C:\\Users\\dahyun\\anaconda3\\envs\\speech\\lib\\site-packages\\librosa\\core\\spectrum.py:222: UserWarning: n_fft=2048 is too small for input signal of length=1502\n",
      "  warnings.warn(\n",
      "C:\\Users\\dahyun\\anaconda3\\envs\\speech\\lib\\site-packages\\librosa\\core\\spectrum.py:222: UserWarning: n_fft=2048 is too small for input signal of length=1763\n",
      "  warnings.warn(\n",
      "C:\\Users\\dahyun\\anaconda3\\envs\\speech\\lib\\site-packages\\librosa\\core\\spectrum.py:222: UserWarning: n_fft=2048 is too small for input signal of length=1450\n",
      "  warnings.warn(\n",
      "C:\\Users\\dahyun\\anaconda3\\envs\\speech\\lib\\site-packages\\librosa\\core\\spectrum.py:222: UserWarning: n_fft=2048 is too small for input signal of length=1538\n",
      "  warnings.warn(\n",
      "C:\\Users\\dahyun\\anaconda3\\envs\\speech\\lib\\site-packages\\librosa\\core\\spectrum.py:222: UserWarning: n_fft=2048 is too small for input signal of length=1833\n",
      "  warnings.warn(\n",
      "C:\\Users\\dahyun\\anaconda3\\envs\\speech\\lib\\site-packages\\librosa\\core\\spectrum.py:222: UserWarning: n_fft=2048 is too small for input signal of length=1443\n",
      "  warnings.warn(\n",
      "C:\\Users\\dahyun\\anaconda3\\envs\\speech\\lib\\site-packages\\librosa\\core\\spectrum.py:222: UserWarning: n_fft=2048 is too small for input signal of length=2043\n",
      "  warnings.warn(\n",
      "C:\\Users\\dahyun\\anaconda3\\envs\\speech\\lib\\site-packages\\librosa\\core\\spectrum.py:222: UserWarning: n_fft=2048 is too small for input signal of length=1567\n",
      "  warnings.warn(\n",
      "C:\\Users\\dahyun\\anaconda3\\envs\\speech\\lib\\site-packages\\librosa\\core\\spectrum.py:222: UserWarning: n_fft=2048 is too small for input signal of length=1781\n",
      "  warnings.warn(\n"
     ]
    },
    {
     "name": "stderr",
     "output_type": "stream",
     "text": [
      "C:\\Users\\dahyun\\anaconda3\\envs\\speech\\lib\\site-packages\\librosa\\core\\spectrum.py:222: UserWarning: n_fft=2048 is too small for input signal of length=1978\n",
      "  warnings.warn(\n",
      "C:\\Users\\dahyun\\anaconda3\\envs\\speech\\lib\\site-packages\\librosa\\core\\spectrum.py:222: UserWarning: n_fft=2048 is too small for input signal of length=1965\n",
      "  warnings.warn(\n",
      "C:\\Users\\dahyun\\anaconda3\\envs\\speech\\lib\\site-packages\\librosa\\core\\spectrum.py:222: UserWarning: n_fft=2048 is too small for input signal of length=2020\n",
      "  warnings.warn(\n",
      "C:\\Users\\dahyun\\anaconda3\\envs\\speech\\lib\\site-packages\\librosa\\core\\spectrum.py:222: UserWarning: n_fft=2048 is too small for input signal of length=1998\n",
      "  warnings.warn(\n",
      "C:\\Users\\dahyun\\anaconda3\\envs\\speech\\lib\\site-packages\\librosa\\core\\spectrum.py:222: UserWarning: n_fft=2048 is too small for input signal of length=2044\n",
      "  warnings.warn(\n",
      "C:\\Users\\dahyun\\anaconda3\\envs\\speech\\lib\\site-packages\\librosa\\core\\spectrum.py:222: UserWarning: n_fft=2048 is too small for input signal of length=1858\n",
      "  warnings.warn(\n",
      "C:\\Users\\dahyun\\anaconda3\\envs\\speech\\lib\\site-packages\\librosa\\core\\spectrum.py:222: UserWarning: n_fft=2048 is too small for input signal of length=1936\n",
      "  warnings.warn(\n",
      "C:\\Users\\dahyun\\anaconda3\\envs\\speech\\lib\\site-packages\\librosa\\core\\spectrum.py:222: UserWarning: n_fft=2048 is too small for input signal of length=2015\n",
      "  warnings.warn(\n",
      "C:\\Users\\dahyun\\anaconda3\\envs\\speech\\lib\\site-packages\\librosa\\core\\spectrum.py:222: UserWarning: n_fft=2048 is too small for input signal of length=1880\n",
      "  warnings.warn(\n",
      "C:\\Users\\dahyun\\anaconda3\\envs\\speech\\lib\\site-packages\\librosa\\core\\spectrum.py:222: UserWarning: n_fft=2048 is too small for input signal of length=1749\n",
      "  warnings.warn(\n",
      "C:\\Users\\dahyun\\anaconda3\\envs\\speech\\lib\\site-packages\\librosa\\core\\spectrum.py:222: UserWarning: n_fft=2048 is too small for input signal of length=1995\n",
      "  warnings.warn(\n"
     ]
    },
    {
     "name": "stdout",
     "output_type": "stream",
     "text": [
      "train_X: (2500, 30000)\n",
      "train_spectrograms: (2500, 257, 40)\n",
      "train_mel_spectrograms (2500, 128, 40)\n",
      "train_mfccs (2500, 20, 40)\n",
      "train_y (2500, 10)\n",
      "test_X (500, 30000)\n",
      "test_spectrograms (500, 257, 40)\n",
      "test_mel_spectrograms (500, 128, 40)\n",
      "test_mfccs (500, 20, 40)\n",
      "test_y (500, 10)\n"
     ]
    }
   ],
   "source": [
    "test_speaker = 'theo'\n",
    "train_X = []\n",
    "train_spectrograms = []\n",
    "train_mel_spectrograms = []\n",
    "train_mfccs = []\n",
    "train_y = []\n",
    "\n",
    "test_X = []\n",
    "test_spectrograms = []\n",
    "test_mel_spectrograms = []\n",
    "test_mfccs = []\n",
    "test_y = []\n",
    "\n",
    "#a(음성:wave)랑 i를 받아서 a[0:i] 크기만큼을 return 함. (a.shape가 i보다 클 경우.) 아니라면 i의 크기에서 모자란 만큼 0으로 초기화 한 값\n",
    "pad1d = lambda a, i: a[0: i] if a.shape[0] > i else np.hstack((a, np.zeros(i - a.shape[0])))\n",
    "pad2d = lambda a, i: a[:, 0: i] if a.shape[1] > i else np.hstack((a, np.zeros((a.shape[0],i - a.shape[1]))))\n",
    "#STFT한 것, CNN분석하기 위해 Spectogram으로 만든 것, MF한 것, mel-spectogram한 것\n",
    "\n",
    "\n",
    "for fname in os.listdir(DATA_DIR):\n",
    "    try:\n",
    "        if '.wav' not in fname or 'dima' in fname:\n",
    "            continue\n",
    "        struct = fname.split('_')\n",
    "        digit = struct[0]\n",
    "        speaker = struct[1]\n",
    "        wav, sr = librosa.load(DATA_DIR + fname, sr=sr)\n",
    "        padded_x = pad1d(wav, 30000)\n",
    "        #librosa.stft(y)를 통해 스펙트럼을 얻는다.\n",
    "        #\n",
    "        spectrogram = np.abs(librosa.stft(wav, n_fft=512))\n",
    "        padded_spectogram = pad2d(spectrogram, 40)\n",
    "        \n",
    "        mel_spectogram = librosa.feature.melspectrogram(wav)\n",
    "        padded_mel_spectrogram = pad2d(mel_spectogram, 40)\n",
    "        \n",
    "        mfcc = librosa.feature.mfcc(wav)\n",
    "        padded_mfcc = pad2d(mfcc, 40)\n",
    "        \n",
    "        if speaker == test_speaker:\n",
    "            test_X.append(padded_x)\n",
    "            test_spectrograms.append(padded_spectogram)\n",
    "            test_mel_spectrograms.append(padded_mel_spectrogram)\n",
    "            test_mfccs.append(padded_mfcc)\n",
    "            test_y.append(digit)\n",
    "        else:\n",
    "            train_X.append(padded_x)\n",
    "            train_spectrograms.append(padded_spectogram)\n",
    "            train_mel_spectrograms.append(padded_mel_spectrogram)\n",
    "            train_mfccs.append(padded_mfcc)\n",
    "            train_y.append(digit)\n",
    "    except Exception as e:\n",
    "        print(fname, e)\n",
    "        raise\n",
    "        \n",
    "train_X = np.vstack(train_X)\n",
    "train_spectrograms = np.array(train_spectrograms)\n",
    "train_mel_spectrograms = np.array(train_mel_spectrograms)\n",
    "train_mfccs = np.array(train_mfccs)\n",
    "train_y = to_categorical(np.array(train_y))\n",
    "\n",
    "test_X = np.vstack(test_X)\n",
    "test_spectrograms = np.array(test_spectrograms)\n",
    "test_mel_spectrograms = np.array(test_mel_spectrograms)\n",
    "test_mfccs = np.array(test_mfccs)\n",
    "test_y = to_categorical(np.array(test_y))\n",
    "\n",
    "print('train_X:', train_X.shape)\n",
    "print('train_spectrograms:', train_spectrograms.shape)\n",
    "print('train_mel_spectrograms', train_mel_spectrograms.shape)\n",
    "print('train_mfccs', train_mfccs.shape)\n",
    "print('train_y', train_y.shape)\n",
    "\n",
    "print('test_X', test_X.shape)\n",
    "print('test_spectrograms', test_spectrograms.shape)\n",
    "print('test_mel_spectrograms', test_mel_spectrograms.shape)\n",
    "print('test_mfccs', test_mfccs.shape)\n",
    "print('test_y', test_y.shape)"
   ]
  },
  {
   "cell_type": "code",
   "execution_count": 25,
   "metadata": {},
   "outputs": [
    {
     "data": {
      "text/plain": [
       "array([-6.1035156e-05, -2.7465820e-04, -1.5258789e-04, ...,\n",
       "       -3.0517578e-04,  6.1035156e-05, -1.2207031e-04], dtype=float32)"
      ]
     },
     "execution_count": 25,
     "metadata": {},
     "output_type": "execute_result"
    }
   ],
   "source": [
    "wav"
   ]
  },
  {
   "cell_type": "code",
   "execution_count": 26,
   "metadata": {
    "scrolled": true
   },
   "outputs": [
    {
     "data": {
      "text/plain": [
       "array([[0.0165965 , 0.01481539, 0.01545923, ..., 0.        , 0.        ,\n",
       "        0.        ],\n",
       "       [0.0136071 , 0.00355694, 0.00794592, ..., 0.        , 0.        ,\n",
       "        0.        ],\n",
       "       [0.01585379, 0.01097529, 0.00500691, ..., 0.        , 0.        ,\n",
       "        0.        ],\n",
       "       ...,\n",
       "       [0.00137991, 0.0024028 , 0.00057527, ..., 0.        , 0.        ,\n",
       "        0.        ],\n",
       "       [0.00291335, 0.00348159, 0.00275965, ..., 0.        , 0.        ,\n",
       "        0.        ],\n",
       "       [0.00563096, 0.00349552, 0.00112412, ..., 0.        , 0.        ,\n",
       "        0.        ]])"
      ]
     },
     "execution_count": 26,
     "metadata": {},
     "output_type": "execute_result"
    }
   ],
   "source": [
    "test_spectrograms[0]"
   ]
  },
  {
   "cell_type": "code",
   "execution_count": 27,
   "metadata": {},
   "outputs": [
    {
     "name": "stdout",
     "output_type": "stream",
     "text": [
      "train X shape: (2500, 20, 40, 1)\n",
      "test X shape: (500, 20, 40, 1)\n"
     ]
    }
   ],
   "source": [
    "train_X_ex = np.expand_dims(train_mfccs, -1)\n",
    "test_X_ex = np.expand_dims(test_mfccs, -1)\n",
    "print('train X shape:', train_X_ex.shape)\n",
    "print('test X shape:', test_X_ex.shape)"
   ]
  },
  {
   "cell_type": "code",
   "execution_count": 28,
   "metadata": {},
   "outputs": [
    {
     "name": "stdout",
     "output_type": "stream",
     "text": [
      "Model: \"functional_1\"\n",
      "_________________________________________________________________\n",
      "Layer (type)                 Output Shape              Param #   \n",
      "=================================================================\n",
      "input_1 (InputLayer)         [(None, 20, 40, 1)]       0         \n",
      "_________________________________________________________________\n",
      "conv2d (Conv2D)              (None, 17, 37, 64)        1088      \n",
      "_________________________________________________________________\n",
      "max_pooling2d (MaxPooling2D) (None, 4, 9, 64)          0         \n",
      "_________________________________________________________________\n",
      "flatten (Flatten)            (None, 2304)              0         \n",
      "_________________________________________________________________\n",
      "dense (Dense)                (None, 32)                73760     \n",
      "_________________________________________________________________\n",
      "dense_1 (Dense)              (None, 10)                330       \n",
      "=================================================================\n",
      "Total params: 75,178\n",
      "Trainable params: 75,178\n",
      "Non-trainable params: 0\n",
      "_________________________________________________________________\n"
     ]
    }
   ],
   "source": [
    "ip = Input(shape=train_X_ex[0].shape)\n",
    "m = Conv2D(64, kernel_size=(4,4), activation='relu')(ip)\n",
    "m = MaxPooling2D(pool_size=(4,4))(m)\n",
    "\n",
    "\n",
    "m=Flatten()(m)\n",
    "m=Dense(32, activation='relu')(m)\n",
    "op=Dense(10, activation='softmax')(m)\n",
    "\n",
    "model = Model(ip, op)\n",
    "\n",
    "model.summary()"
   ]
  },
  {
   "cell_type": "code",
   "execution_count": 29,
   "metadata": {},
   "outputs": [
    {
     "name": "stdout",
     "output_type": "stream",
     "text": [
      "Epoch 1/100\n",
      "79/79 [==============================] - 1s 10ms/step - loss: 4.3385 - accuracy: 0.1436 - val_loss: 3.0503 - val_accuracy: 0.1060\n",
      "Epoch 2/100\n",
      "79/79 [==============================] - 1s 7ms/step - loss: 2.2078 - accuracy: 0.2620 - val_loss: 2.3682 - val_accuracy: 0.1740\n",
      "Epoch 3/100\n",
      "79/79 [==============================] - 1s 7ms/step - loss: 1.8960 - accuracy: 0.3532 - val_loss: 2.1579 - val_accuracy: 0.2560\n",
      "Epoch 4/100\n",
      "79/79 [==============================] - 1s 7ms/step - loss: 1.6342 - accuracy: 0.4496 - val_loss: 1.9678 - val_accuracy: 0.2440\n",
      "Epoch 5/100\n",
      "79/79 [==============================] - 1s 7ms/step - loss: 1.3519 - accuracy: 0.5472 - val_loss: 1.6884 - val_accuracy: 0.3800\n",
      "Epoch 6/100\n",
      "79/79 [==============================] - 1s 7ms/step - loss: 1.1289 - accuracy: 0.6376 - val_loss: 1.5913 - val_accuracy: 0.3980\n",
      "Epoch 7/100\n",
      "79/79 [==============================] - 1s 7ms/step - loss: 0.9356 - accuracy: 0.7240 - val_loss: 1.3853 - val_accuracy: 0.4840\n",
      "Epoch 8/100\n",
      "79/79 [==============================] - 1s 7ms/step - loss: 0.7849 - accuracy: 0.7836 - val_loss: 1.2636 - val_accuracy: 0.5440\n",
      "Epoch 9/100\n",
      "79/79 [==============================] - 1s 7ms/step - loss: 0.6630 - accuracy: 0.8384 - val_loss: 1.1501 - val_accuracy: 0.5860\n",
      "Epoch 10/100\n",
      "79/79 [==============================] - 1s 7ms/step - loss: 0.5706 - accuracy: 0.8664 - val_loss: 1.0907 - val_accuracy: 0.6120\n",
      "Epoch 11/100\n",
      "79/79 [==============================] - 1s 7ms/step - loss: 0.4927 - accuracy: 0.8852 - val_loss: 1.0754 - val_accuracy: 0.6260\n",
      "Epoch 12/100\n",
      "79/79 [==============================] - 1s 7ms/step - loss: 0.4265 - accuracy: 0.9032 - val_loss: 1.0423 - val_accuracy: 0.6560\n",
      "Epoch 13/100\n",
      "79/79 [==============================] - 1s 7ms/step - loss: 0.3761 - accuracy: 0.9192 - val_loss: 1.0053 - val_accuracy: 0.6700\n",
      "Epoch 14/100\n",
      "79/79 [==============================] - 1s 7ms/step - loss: 0.3276 - accuracy: 0.9320 - val_loss: 0.9059 - val_accuracy: 0.7100\n",
      "Epoch 15/100\n",
      "79/79 [==============================] - 1s 7ms/step - loss: 0.2908 - accuracy: 0.9416 - val_loss: 0.8706 - val_accuracy: 0.7060\n",
      "Epoch 16/100\n",
      "79/79 [==============================] - 1s 7ms/step - loss: 0.2565 - accuracy: 0.9544 - val_loss: 0.8748 - val_accuracy: 0.7060\n",
      "Epoch 17/100\n",
      "79/79 [==============================] - 1s 7ms/step - loss: 0.2297 - accuracy: 0.9600 - val_loss: 0.8176 - val_accuracy: 0.7220\n",
      "Epoch 18/100\n",
      "79/79 [==============================] - 1s 7ms/step - loss: 0.2138 - accuracy: 0.9572 - val_loss: 0.8845 - val_accuracy: 0.7080\n",
      "Epoch 19/100\n",
      "79/79 [==============================] - 1s 7ms/step - loss: 0.1915 - accuracy: 0.9644 - val_loss: 0.8736 - val_accuracy: 0.6940\n",
      "Epoch 20/100\n",
      "79/79 [==============================] - 1s 7ms/step - loss: 0.1748 - accuracy: 0.9692 - val_loss: 0.8214 - val_accuracy: 0.7320\n",
      "Epoch 21/100\n",
      "79/79 [==============================] - 1s 7ms/step - loss: 0.1602 - accuracy: 0.9676 - val_loss: 0.7813 - val_accuracy: 0.7300\n",
      "Epoch 22/100\n",
      "79/79 [==============================] - 1s 7ms/step - loss: 0.1479 - accuracy: 0.9756 - val_loss: 0.8536 - val_accuracy: 0.7100\n",
      "Epoch 23/100\n",
      "79/79 [==============================] - 1s 7ms/step - loss: 0.1404 - accuracy: 0.9732 - val_loss: 0.8096 - val_accuracy: 0.7400\n",
      "Epoch 24/100\n",
      "79/79 [==============================] - 1s 7ms/step - loss: 0.1299 - accuracy: 0.9768 - val_loss: 0.7989 - val_accuracy: 0.7400\n",
      "Epoch 25/100\n",
      "79/79 [==============================] - 1s 7ms/step - loss: 0.1166 - accuracy: 0.9812 - val_loss: 0.7597 - val_accuracy: 0.7640\n",
      "Epoch 26/100\n",
      "79/79 [==============================] - 1s 7ms/step - loss: 0.1102 - accuracy: 0.9836 - val_loss: 0.7772 - val_accuracy: 0.7460\n",
      "Epoch 27/100\n",
      "79/79 [==============================] - 1s 7ms/step - loss: 0.1033 - accuracy: 0.9852 - val_loss: 0.7274 - val_accuracy: 0.7560\n",
      "Epoch 28/100\n",
      "79/79 [==============================] - 1s 7ms/step - loss: 0.0954 - accuracy: 0.9872 - val_loss: 0.7680 - val_accuracy: 0.7720\n",
      "Epoch 29/100\n",
      "79/79 [==============================] - 1s 7ms/step - loss: 0.0887 - accuracy: 0.9896 - val_loss: 0.8210 - val_accuracy: 0.7380\n",
      "Epoch 30/100\n",
      "79/79 [==============================] - 1s 7ms/step - loss: 0.0862 - accuracy: 0.9880 - val_loss: 0.7867 - val_accuracy: 0.7600\n",
      "Epoch 31/100\n",
      "79/79 [==============================] - 1s 7ms/step - loss: 0.0808 - accuracy: 0.9884 - val_loss: 0.8252 - val_accuracy: 0.7560\n",
      "Epoch 32/100\n",
      "79/79 [==============================] - 1s 7ms/step - loss: 0.0779 - accuracy: 0.9884 - val_loss: 0.7781 - val_accuracy: 0.7660\n",
      "Epoch 33/100\n",
      "79/79 [==============================] - 1s 7ms/step - loss: 0.0711 - accuracy: 0.9904 - val_loss: 0.8382 - val_accuracy: 0.7440\n",
      "Epoch 34/100\n",
      "79/79 [==============================] - 1s 7ms/step - loss: 0.0689 - accuracy: 0.9900 - val_loss: 0.7767 - val_accuracy: 0.7620\n",
      "Epoch 35/100\n",
      "79/79 [==============================] - 1s 7ms/step - loss: 0.0638 - accuracy: 0.9920 - val_loss: 0.7976 - val_accuracy: 0.7620\n",
      "Epoch 36/100\n",
      "79/79 [==============================] - 1s 7ms/step - loss: 0.0617 - accuracy: 0.9920 - val_loss: 0.7533 - val_accuracy: 0.7840\n",
      "Epoch 37/100\n",
      "79/79 [==============================] - 1s 7ms/step - loss: 0.0574 - accuracy: 0.9920 - val_loss: 0.7735 - val_accuracy: 0.7660\n",
      "Epoch 38/100\n",
      "79/79 [==============================] - 1s 7ms/step - loss: 0.0546 - accuracy: 0.9948 - val_loss: 0.7634 - val_accuracy: 0.7840\n",
      "Epoch 39/100\n",
      "79/79 [==============================] - 1s 7ms/step - loss: 0.0524 - accuracy: 0.9948 - val_loss: 0.9090 - val_accuracy: 0.7360\n",
      "Epoch 40/100\n",
      "79/79 [==============================] - 1s 7ms/step - loss: 0.0509 - accuracy: 0.9944 - val_loss: 0.7788 - val_accuracy: 0.7920\n",
      "Epoch 41/100\n",
      "79/79 [==============================] - 1s 7ms/step - loss: 0.0472 - accuracy: 0.9944 - val_loss: 0.7455 - val_accuracy: 0.8100\n",
      "Epoch 42/100\n",
      "79/79 [==============================] - 1s 7ms/step - loss: 0.0451 - accuracy: 0.9960 - val_loss: 0.7634 - val_accuracy: 0.8140\n",
      "Epoch 43/100\n",
      "79/79 [==============================] - 1s 7ms/step - loss: 0.0418 - accuracy: 0.9960 - val_loss: 0.7517 - val_accuracy: 0.7960\n",
      "Epoch 44/100\n",
      "79/79 [==============================] - 1s 7ms/step - loss: 0.0404 - accuracy: 0.9960 - val_loss: 0.8280 - val_accuracy: 0.7820\n",
      "Epoch 45/100\n",
      "79/79 [==============================] - 1s 7ms/step - loss: 0.0388 - accuracy: 0.9956 - val_loss: 0.7658 - val_accuracy: 0.8180\n",
      "Epoch 46/100\n",
      "79/79 [==============================] - 1s 7ms/step - loss: 0.0367 - accuracy: 0.9968 - val_loss: 0.8361 - val_accuracy: 0.7920\n",
      "Epoch 47/100\n",
      "79/79 [==============================] - 1s 7ms/step - loss: 0.0364 - accuracy: 0.9960 - val_loss: 0.8053 - val_accuracy: 0.7900\n",
      "Epoch 48/100\n",
      "79/79 [==============================] - 1s 7ms/step - loss: 0.0326 - accuracy: 0.9972 - val_loss: 0.7602 - val_accuracy: 0.8180\n",
      "Epoch 49/100\n",
      "79/79 [==============================] - 1s 7ms/step - loss: 0.0304 - accuracy: 0.9976 - val_loss: 0.7624 - val_accuracy: 0.8080\n",
      "Epoch 50/100\n",
      "79/79 [==============================] - 1s 7ms/step - loss: 0.0321 - accuracy: 0.9972 - val_loss: 0.8558 - val_accuracy: 0.7820\n",
      "Epoch 51/100\n",
      "79/79 [==============================] - 1s 7ms/step - loss: 0.0283 - accuracy: 0.9972 - val_loss: 0.7974 - val_accuracy: 0.8260\n",
      "Epoch 52/100\n",
      "79/79 [==============================] - 1s 7ms/step - loss: 0.0258 - accuracy: 0.9988 - val_loss: 0.8318 - val_accuracy: 0.8040\n",
      "Epoch 53/100\n",
      "79/79 [==============================] - 1s 7ms/step - loss: 0.0264 - accuracy: 0.9972 - val_loss: 0.8414 - val_accuracy: 0.8100\n",
      "Epoch 54/100\n",
      "79/79 [==============================] - 1s 7ms/step - loss: 0.0246 - accuracy: 0.9980 - val_loss: 0.7664 - val_accuracy: 0.8200\n",
      "Epoch 55/100\n",
      "79/79 [==============================] - 1s 7ms/step - loss: 0.0269 - accuracy: 0.9976 - val_loss: 0.7992 - val_accuracy: 0.8260\n",
      "Epoch 56/100\n",
      "79/79 [==============================] - 1s 7ms/step - loss: 0.0238 - accuracy: 0.9984 - val_loss: 0.8672 - val_accuracy: 0.8000\n",
      "Epoch 57/100\n",
      "79/79 [==============================] - 1s 7ms/step - loss: 0.0220 - accuracy: 0.9988 - val_loss: 0.8483 - val_accuracy: 0.8120\n",
      "Epoch 58/100\n",
      "79/79 [==============================] - 1s 7ms/step - loss: 0.0207 - accuracy: 0.9988 - val_loss: 0.7938 - val_accuracy: 0.8240\n"
     ]
    },
    {
     "name": "stdout",
     "output_type": "stream",
     "text": [
      "Epoch 59/100\n",
      "79/79 [==============================] - 1s 7ms/step - loss: 0.0186 - accuracy: 0.9992 - val_loss: 0.8139 - val_accuracy: 0.8260\n",
      "Epoch 60/100\n",
      "79/79 [==============================] - 1s 7ms/step - loss: 0.0186 - accuracy: 0.9988 - val_loss: 0.8564 - val_accuracy: 0.8180\n",
      "Epoch 61/100\n",
      "79/79 [==============================] - 1s 7ms/step - loss: 0.0178 - accuracy: 0.9988 - val_loss: 0.8754 - val_accuracy: 0.8100\n",
      "Epoch 62/100\n",
      "79/79 [==============================] - 1s 7ms/step - loss: 0.0172 - accuracy: 0.9984 - val_loss: 0.8645 - val_accuracy: 0.8260\n",
      "Epoch 63/100\n",
      "79/79 [==============================] - 1s 7ms/step - loss: 0.0164 - accuracy: 0.9988 - val_loss: 0.8702 - val_accuracy: 0.8260\n",
      "Epoch 64/100\n",
      "79/79 [==============================] - 1s 7ms/step - loss: 0.0153 - accuracy: 0.9992 - val_loss: 0.8949 - val_accuracy: 0.8000\n",
      "Epoch 65/100\n",
      "79/79 [==============================] - 1s 7ms/step - loss: 0.0157 - accuracy: 0.9988 - val_loss: 0.8865 - val_accuracy: 0.7920\n",
      "Epoch 66/100\n",
      "79/79 [==============================] - 1s 7ms/step - loss: 0.0146 - accuracy: 0.9992 - val_loss: 0.8799 - val_accuracy: 0.8200\n",
      "Epoch 67/100\n",
      "79/79 [==============================] - 1s 7ms/step - loss: 0.0134 - accuracy: 0.9992 - val_loss: 0.8615 - val_accuracy: 0.8220\n",
      "Epoch 68/100\n",
      "79/79 [==============================] - 1s 7ms/step - loss: 0.0136 - accuracy: 0.9988 - val_loss: 0.8048 - val_accuracy: 0.8300\n",
      "Epoch 69/100\n",
      "79/79 [==============================] - 1s 7ms/step - loss: 0.0135 - accuracy: 0.9988 - val_loss: 0.8582 - val_accuracy: 0.8240\n",
      "Epoch 70/100\n",
      "79/79 [==============================] - 1s 7ms/step - loss: 0.0135 - accuracy: 0.9980 - val_loss: 0.9105 - val_accuracy: 0.8120\n",
      "Epoch 71/100\n",
      "79/79 [==============================] - 1s 7ms/step - loss: 0.0118 - accuracy: 0.9996 - val_loss: 0.8656 - val_accuracy: 0.8240\n",
      "Epoch 72/100\n",
      "79/79 [==============================] - 1s 7ms/step - loss: 0.0107 - accuracy: 0.9996 - val_loss: 0.9740 - val_accuracy: 0.7920\n",
      "Epoch 73/100\n",
      "79/79 [==============================] - 1s 7ms/step - loss: 0.0113 - accuracy: 0.9992 - val_loss: 0.8737 - val_accuracy: 0.8280\n",
      "Epoch 74/100\n",
      "79/79 [==============================] - 1s 7ms/step - loss: 0.0107 - accuracy: 0.9992 - val_loss: 0.8744 - val_accuracy: 0.8160\n",
      "Epoch 75/100\n",
      "79/79 [==============================] - 1s 7ms/step - loss: 0.0102 - accuracy: 0.9996 - val_loss: 0.9053 - val_accuracy: 0.8220\n",
      "Epoch 76/100\n",
      "79/79 [==============================] - 1s 7ms/step - loss: 0.0093 - accuracy: 0.9996 - val_loss: 1.0604 - val_accuracy: 0.7680\n",
      "Epoch 77/100\n",
      "79/79 [==============================] - 1s 7ms/step - loss: 0.0096 - accuracy: 0.9996 - val_loss: 0.9397 - val_accuracy: 0.8140\n",
      "Epoch 78/100\n",
      "79/79 [==============================] - 1s 7ms/step - loss: 0.0093 - accuracy: 0.9996 - val_loss: 0.9349 - val_accuracy: 0.8260\n",
      "Epoch 79/100\n",
      "79/79 [==============================] - 1s 7ms/step - loss: 0.0092 - accuracy: 0.9992 - val_loss: 0.9611 - val_accuracy: 0.8140\n",
      "Epoch 80/100\n",
      "79/79 [==============================] - 1s 7ms/step - loss: 0.0145 - accuracy: 0.9976 - val_loss: 0.9306 - val_accuracy: 0.8260\n",
      "Epoch 81/100\n",
      "79/79 [==============================] - 1s 7ms/step - loss: 0.0090 - accuracy: 0.9996 - val_loss: 0.8457 - val_accuracy: 0.8340\n",
      "Epoch 82/100\n",
      "79/79 [==============================] - 1s 7ms/step - loss: 0.0073 - accuracy: 0.9996 - val_loss: 0.9463 - val_accuracy: 0.8240\n",
      "Epoch 83/100\n",
      "79/79 [==============================] - 1s 7ms/step - loss: 0.0073 - accuracy: 0.9996 - val_loss: 0.9055 - val_accuracy: 0.8280\n",
      "Epoch 84/100\n",
      "79/79 [==============================] - 1s 7ms/step - loss: 0.0073 - accuracy: 0.9992 - val_loss: 0.9189 - val_accuracy: 0.8300\n",
      "Epoch 85/100\n",
      "79/79 [==============================] - 1s 7ms/step - loss: 0.0059 - accuracy: 0.9996 - val_loss: 0.9038 - val_accuracy: 0.8260\n",
      "Epoch 86/100\n",
      "79/79 [==============================] - 1s 7ms/step - loss: 0.0072 - accuracy: 0.9992 - val_loss: 0.8871 - val_accuracy: 0.8300\n",
      "Epoch 87/100\n",
      "79/79 [==============================] - 1s 7ms/step - loss: 0.0068 - accuracy: 0.9996 - val_loss: 0.9281 - val_accuracy: 0.8280\n",
      "Epoch 88/100\n",
      "79/79 [==============================] - 1s 7ms/step - loss: 0.0061 - accuracy: 0.9996 - val_loss: 0.9356 - val_accuracy: 0.8200\n",
      "Epoch 89/100\n",
      "79/79 [==============================] - 1s 7ms/step - loss: 0.0052 - accuracy: 0.9996 - val_loss: 1.0244 - val_accuracy: 0.7960\n",
      "Epoch 90/100\n",
      "79/79 [==============================] - 1s 7ms/step - loss: 0.0064 - accuracy: 0.9996 - val_loss: 0.9151 - val_accuracy: 0.8280\n",
      "Epoch 91/100\n",
      "79/79 [==============================] - 1s 7ms/step - loss: 0.0050 - accuracy: 0.9996 - val_loss: 0.9319 - val_accuracy: 0.8260\n",
      "Epoch 92/100\n",
      "79/79 [==============================] - 1s 7ms/step - loss: 0.0053 - accuracy: 0.9996 - val_loss: 1.0927 - val_accuracy: 0.7900\n",
      "Epoch 93/100\n",
      "79/79 [==============================] - 1s 7ms/step - loss: 0.0050 - accuracy: 1.0000 - val_loss: 1.0171 - val_accuracy: 0.8180\n",
      "Epoch 94/100\n",
      "79/79 [==============================] - 1s 7ms/step - loss: 0.0048 - accuracy: 0.9996 - val_loss: 0.9615 - val_accuracy: 0.8160\n",
      "Epoch 95/100\n",
      "79/79 [==============================] - 1s 7ms/step - loss: 0.0064 - accuracy: 0.9996 - val_loss: 0.9468 - val_accuracy: 0.8360\n",
      "Epoch 96/100\n",
      "79/79 [==============================] - 1s 7ms/step - loss: 0.0041 - accuracy: 1.0000 - val_loss: 0.9387 - val_accuracy: 0.8300\n",
      "Epoch 97/100\n",
      "79/79 [==============================] - 1s 7ms/step - loss: 0.0042 - accuracy: 0.9996 - val_loss: 0.9843 - val_accuracy: 0.8220\n",
      "Epoch 98/100\n",
      "79/79 [==============================] - 1s 7ms/step - loss: 0.0041 - accuracy: 1.0000 - val_loss: 0.9602 - val_accuracy: 0.8280\n",
      "Epoch 99/100\n",
      "79/79 [==============================] - 1s 7ms/step - loss: 0.0034 - accuracy: 1.0000 - val_loss: 0.9788 - val_accuracy: 0.8200\n",
      "Epoch 100/100\n",
      "79/79 [==============================] - 1s 7ms/step - loss: 0.0036 - accuracy: 1.0000 - val_loss: 0.9708 - val_accuracy: 0.8220\n"
     ]
    }
   ],
   "source": [
    "model.compile(optimizer=optimizers.Adam(learning_rate=0.0001),\n",
    "              loss='categorical_crossentropy',\n",
    "              metrics=['accuracy'])\n",
    "\n",
    "history = model.fit(train_X_ex,\n",
    "                    train_y,\n",
    "                    epochs=100,\n",
    "                    batch_size=32,\n",
    "                    verbose=1,\n",
    "                    validation_data=(test_X_ex, test_y))"
   ]
  },
  {
   "cell_type": "code",
   "execution_count": 30,
   "metadata": {},
   "outputs": [
    {
     "data": {
      "text/plain": [
       "<matplotlib.legend.Legend at 0x1f1c6620d60>"
      ]
     },
     "execution_count": 30,
     "metadata": {},
     "output_type": "execute_result"
    },
    {
     "data": {
      "image/png": "[encoded data removed]",
      "text/plain": [
       "<Figure size 432x288 with 1 Axes>"
      ]
     },
     "metadata": {
      "needs_background": "light"
     },
     "output_type": "display_data"
    }
   ],
   "source": [
    "plt.plot(history.history['accuracy'][10:], label='Train Accuracy')\n",
    "plt.plot(history.history['val_accuracy'][10:], label='Validation Accuracy')\n",
    "plt.xlabel('Epochs')\n",
    "plt.ylabel('Accuracy')\n",
    "plt.legend()"
   ]
  },
  {
   "cell_type": "code",
   "execution_count": 31,
   "metadata": {},
   "outputs": [
    {
     "data": {
      "text/plain": [
       "<matplotlib.legend.Legend at 0x1f25dba2e80>"
      ]
     },
     "execution_count": 31,
     "metadata": {},
     "output_type": "execute_result"
    },
    {
     "data": {
      "image/png": "[encoded data removed]",
      "text/plain": [
       "<Figure size 432x288 with 1 Axes>"
      ]
     },
     "metadata": {
      "needs_background": "light"
     },
     "output_type": "display_data"
    }
   ],
   "source": [
    "plt.plot(history.history['loss'][10:], label='Train Accuracy')\n",
    "plt.plot(history.history['val_loss'][10:], label='Validation Accuracy')\n",
    "plt.xlabel('Epochs')\n",
    "plt.ylabel('Accuracy')\n",
    "plt.legend()"
   ]
  },
  {
   "cell_type": "code",
   "execution_count": 32,
   "metadata": {},
   "outputs": [],
   "source": [
    "from sklearn.metrics import confusion_matrix\n",
    "import pandas as pd\n",
    "import seaborn as sns"
   ]
  },
  {
   "cell_type": "code",
   "execution_count": 33,
   "metadata": {},
   "outputs": [
    {
     "data": {
      "image/png": "[encoded data removed]",
      "text/plain": [
       "<Figure size 432x288 with 2 Axes>"
      ]
     },
     "metadata": {
      "needs_background": "light"
     },
     "output_type": "display_data"
    }
   ],
   "source": [
    "Y_pred = model.predict(test_X_ex)\n",
    "y_pred = np.argmax(Y_pred,axis=1)\n",
    "\n",
    "matrix = confusion_matrix(np.argmax(test_y,axis=1), y_pred)\n",
    "sns.heatmap(pd.DataFrame(matrix), annot=True, cmap=\"bone\" ,fmt='g')\n",
    "plt.title('Confusion matrix', y=1.1)\n",
    "plt.ylabel('Actual label')\n",
    "plt.xlabel('Predicted label')\n",
    "plt.show()"
   ]
  },
  {
   "cell_type": "code",
   "execution_count": null,
   "metadata": {},
   "outputs": [],
   "source": []
  },
  {
   "cell_type": "code",
   "execution_count": null,
   "metadata": {},
   "outputs": [],
   "source": []
  },
  {
   "cell_type": "code",
   "execution_count": null,
   "metadata": {},
   "outputs": [],
   "source": []
  }
 ],
 "metadata": {
  "kernelspec": {
   "display_name": "Python 3",
   "language": "python",
   "name": "python3"
  },
  "language_info": {
   "codemirror_mode": {
    "name": "ipython",
    "version": 3
   },
   "file_extension": ".py",
   "mimetype": "text/x-python",
   "name": "python",
   "nbconvert_exporter": "python",
   "pygments_lexer": "ipython3",
   "version": "3.8.5"
  }
 },
 "nbformat": 4,
 "nbformat_minor": 4
}
