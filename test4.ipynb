{
 "cells": [
  {
   "cell_type": "code",
   "execution_count": 51,
   "metadata": {},
   "outputs": [],
   "source": [
    "import matplotlib.pyplot as plt\n",
    "import os\n",
    "from scipy.io import wavfile\n",
    "from collections import defaultdict, Counter\n",
    "from scipy import signal\n",
    "import numpy as np\n",
    "import librosa\n",
    "import random as rn\n",
    "from keras.layers import Dense\n",
    "from keras import Input\n",
    "from keras.engine import Model\n",
    "from keras import optimizers\n",
    "from keras.utils import to_categorical\n",
    "from keras.layers import Dense, TimeDistributed, Dropout, Bidirectional, GRU, BatchNormalization, Activation, LeakyReLU, LSTM, Flatten, RepeatVector, Permute, Multiply, Conv2D, MaxPooling2D"
   ]
  },
  {
   "cell_type": "code",
   "execution_count": 52,
   "metadata": {},
   "outputs": [],
   "source": [
    "DATA_DIR = 'C:/Users/JLK/Downloads/free-spoken-digit-dataset-master/recordings/'\n",
    "#DATA_DIR = 'C:/Users/JLK/requirements/recordings/'"
   ]
  },
  {
   "cell_type": "code",
   "execution_count": 53,
   "metadata": {},
   "outputs": [
    {
     "name": "stdout",
     "output_type": "stream",
     "text": [
      "3.8.5 (default, Sep  3 2020, 21:29:08) [MSC v.1916 64 bit (AMD64)]\n"
     ]
    }
   ],
   "source": [
    "import sys\n",
    "print(sys.version)"
   ]
  },
  {
   "cell_type": "code",
   "execution_count": 54,
   "metadata": {},
   "outputs": [
    {
     "data": {
      "text/plain": [
       "(14190,)"
      ]
     },
     "execution_count": 54,
     "metadata": {},
     "output_type": "execute_result"
    }
   ],
   "source": [
    "y, sr = librosa.load('0_jackson_0.wav')\n",
    "y.shape"
   ]
  },
  {
   "cell_type": "code",
   "execution_count": 103,
   "metadata": {},
   "outputs": [],
   "source": [
    "import sox"
   ]
  },
  {
   "cell_type": "code",
   "execution_count": 104,
   "metadata": {},
   "outputs": [
    {
     "data": {
      "text/plain": [
       "8000.0"
      ]
     },
     "execution_count": 104,
     "metadata": {},
     "output_type": "execute_result"
    }
   ],
   "source": [
    "sr = sox.file_info.sample_rate('0_jackson_0.wav')"
   ]
  },
  {
   "cell_type": "code",
   "execution_count": 126,
   "metadata": {},
   "outputs": [
    {
     "data": {
      "text/plain": [
       "8000"
      ]
     },
     "execution_count": 126,
     "metadata": {},
     "output_type": "execute_result"
    }
   ],
   "source": [
    "librosa.get_samplerate('0_jackson_0.wav')"
   ]
  },
  {
   "cell_type": "code",
   "execution_count": 133,
   "metadata": {},
   "outputs": [],
   "source": [
    "wav, sr = librosa.load('C:/Users/JLK/Downloads/free-spoken-digit-dataset-master/recordings/0_jackson_0.wav', sr=None)"
   ]
  },
  {
   "cell_type": "code",
   "execution_count": 135,
   "metadata": {},
   "outputs": [
    {
     "data": {
      "text/plain": [
       "8000"
      ]
     },
     "execution_count": 135,
     "metadata": {},
     "output_type": "execute_result"
    }
   ],
   "source": [
    "sr"
   ]
  },
  {
   "cell_type": "code",
   "execution_count": 153,
   "metadata": {},
   "outputs": [],
   "source": [
    "wav, sr = librosa.load('C:/Users/JLK/Downloads/free-spoken-digit-dataset-master/recordings/0_jackson_0.wav', sr=None)\n",
    "mfcc = librosa.feature.mfcc(wav)"
   ]
  },
  {
   "cell_type": "code",
   "execution_count": 154,
   "metadata": {},
   "outputs": [
    {
     "data": {
      "text/plain": [
       "(20, 11)"
      ]
     },
     "execution_count": 154,
     "metadata": {},
     "output_type": "execute_result"
    }
   ],
   "source": [
    "mfcc.shape"
   ]
  },
  {
   "cell_type": "code",
   "execution_count": 155,
   "metadata": {},
   "outputs": [
    {
     "data": {
      "text/plain": [
       "array([122.379776 ,  76.30391  ,  32.959167 ,  -2.9676604,   2.931554 ,\n",
       "        36.501152 ,  55.442417 ,  62.885284 ,  76.6254   , 102.49776  ,\n",
       "       117.29262  ], dtype=float32)"
      ]
     },
     "execution_count": 155,
     "metadata": {},
     "output_type": "execute_result"
    }
   ],
   "source": [
    "mfcc[1]"
   ]
  },
  {
   "cell_type": "code",
   "execution_count": 156,
   "metadata": {},
   "outputs": [],
   "source": [
    "padded_mfcc = pad2d(mfcc, 40)"
   ]
  },
  {
   "cell_type": "code",
   "execution_count": 157,
   "metadata": {},
   "outputs": [
    {
     "data": {
      "text/plain": [
       "(20, 40)"
      ]
     },
     "execution_count": 157,
     "metadata": {},
     "output_type": "execute_result"
    }
   ],
   "source": [
    "padded_mfcc.shape"
   ]
  },
  {
   "cell_type": "code",
   "execution_count": 158,
   "metadata": {},
   "outputs": [
    {
     "data": {
      "text/plain": [
       "array([[-272.63790894, -238.88999939, -174.43241882, -130.81161499,\n",
       "        -108.58714294,  -99.63011932, -112.40315247, -159.37634277,\n",
       "        -232.54632568, -326.81069946, -405.04373169,    0.        ,\n",
       "           0.        ,    0.        ,    0.        ,    0.        ,\n",
       "           0.        ,    0.        ,    0.        ,    0.        ,\n",
       "           0.        ,    0.        ,    0.        ,    0.        ,\n",
       "           0.        ,    0.        ,    0.        ,    0.        ,\n",
       "           0.        ,    0.        ,    0.        ,    0.        ,\n",
       "           0.        ,    0.        ,    0.        ,    0.        ,\n",
       "           0.        ,    0.        ,    0.        ,    0.        ],\n",
       "       [ 122.379776  ,   76.3039093 ,   32.95916748,   -2.96766043,\n",
       "           2.93155408,   36.50115204,   55.44241714,   62.88528442,\n",
       "          76.62539673,  102.49775696,  117.2926178 ,    0.        ,\n",
       "           0.        ,    0.        ,    0.        ,    0.        ,\n",
       "           0.        ,    0.        ,    0.        ,    0.        ,\n",
       "           0.        ,    0.        ,    0.        ,    0.        ,\n",
       "           0.        ,    0.        ,    0.        ,    0.        ,\n",
       "           0.        ,    0.        ,    0.        ,    0.        ,\n",
       "           0.        ,    0.        ,    0.        ,    0.        ,\n",
       "           0.        ,    0.        ,    0.        ,    0.        ],\n",
       "       [ -44.09825134,  -21.10100937,  -26.89660645,  -51.03931046,\n",
       "         -98.19685364, -135.57290649, -134.68440247, -113.4371109 ,\n",
       "         -82.71826172,  -54.7042923 ,  -22.98642731,    0.        ,\n",
       "           0.        ,    0.        ,    0.        ,    0.        ,\n",
       "           0.        ,    0.        ,    0.        ,    0.        ,\n",
       "           0.        ,    0.        ,    0.        ,    0.        ,\n",
       "           0.        ,    0.        ,    0.        ,    0.        ,\n",
       "           0.        ,    0.        ,    0.        ,    0.        ,\n",
       "           0.        ,    0.        ,    0.        ,    0.        ,\n",
       "           0.        ,    0.        ,    0.        ,    0.        ],\n",
       "       [ -59.42403412,  -77.9669342 ,  -97.86920166,  -63.37596893,\n",
       "         -42.82418823,  -39.25203705,  -39.47136688,  -39.67383194,\n",
       "         -28.00068283,   -1.87522244,   -8.54182911,    0.        ,\n",
       "           0.        ,    0.        ,    0.        ,    0.        ,\n",
       "           0.        ,    0.        ,    0.        ,    0.        ,\n",
       "           0.        ,    0.        ,    0.        ,    0.        ,\n",
       "           0.        ,    0.        ,    0.        ,    0.        ,\n",
       "           0.        ,    0.        ,    0.        ,    0.        ,\n",
       "           0.        ,    0.        ,    0.        ,    0.        ,\n",
       "           0.        ,    0.        ,    0.        ,    0.        ],\n",
       "       [ -54.51320648,  -47.49421692,  -58.35400391,  -75.70056152,\n",
       "         -72.9054718 ,  -68.53833008,  -61.20419312,  -45.69092178,\n",
       "         -37.19181442,  -29.1173439 ,  -17.2867775 ,    0.        ,\n",
       "           0.        ,    0.        ,    0.        ,    0.        ,\n",
       "           0.        ,    0.        ,    0.        ,    0.        ,\n",
       "           0.        ,    0.        ,    0.        ,    0.        ,\n",
       "           0.        ,    0.        ,    0.        ,    0.        ,\n",
       "           0.        ,    0.        ,    0.        ,    0.        ,\n",
       "           0.        ,    0.        ,    0.        ,    0.        ,\n",
       "           0.        ,    0.        ,    0.        ,    0.        ],\n",
       "       [ -12.53630543,  -20.08240318,   -6.79199505,   -3.3402586 ,\n",
       "          -0.76089847,   -8.84360695,  -17.58852386,  -21.27581406,\n",
       "         -22.23233795,  -20.65763855,  -11.54896545,    0.        ,\n",
       "           0.        ,    0.        ,    0.        ,    0.        ,\n",
       "           0.        ,    0.        ,    0.        ,    0.        ,\n",
       "           0.        ,    0.        ,    0.        ,    0.        ,\n",
       "           0.        ,    0.        ,    0.        ,    0.        ,\n",
       "           0.        ,    0.        ,    0.        ,    0.        ,\n",
       "           0.        ,    0.        ,    0.        ,    0.        ,\n",
       "           0.        ,    0.        ,    0.        ,    0.        ],\n",
       "       [ -20.11201477,  -24.45959473,  -34.49017334,  -15.9129982 ,\n",
       "           2.3175106 ,    7.42901802,   -1.53822303,  -13.70512962,\n",
       "         -20.21841431,   -9.03164482,   -2.10690498,    0.        ,\n",
       "           0.        ,    0.        ,    0.        ,    0.        ,\n",
       "           0.        ,    0.        ,    0.        ,    0.        ,\n",
       "           0.        ,    0.        ,    0.        ,    0.        ,\n",
       "           0.        ,    0.        ,    0.        ,    0.        ,\n",
       "           0.        ,    0.        ,    0.        ,    0.        ,\n",
       "           0.        ,    0.        ,    0.        ,    0.        ,\n",
       "           0.        ,    0.        ,    0.        ,    0.        ],\n",
       "       [ -15.20077515,  -12.71644402,   -1.2458638 ,   -7.74433708,\n",
       "         -18.58430481,  -38.31555939,  -49.26480103,  -40.404953  ,\n",
       "         -28.62832642,  -16.66769409,  -15.66570187,    0.        ,\n",
       "           0.        ,    0.        ,    0.        ,    0.        ,\n",
       "           0.        ,    0.        ,    0.        ,    0.        ,\n",
       "           0.        ,    0.        ,    0.        ,    0.        ,\n",
       "           0.        ,    0.        ,    0.        ,    0.        ,\n",
       "           0.        ,    0.        ,    0.        ,    0.        ,\n",
       "           0.        ,    0.        ,    0.        ,    0.        ,\n",
       "           0.        ,    0.        ,    0.        ,    0.        ],\n",
       "       [ -11.14299202,  -11.52106762,  -13.0413475 ,  -12.43669701,\n",
       "         -17.88117599,  -14.43861198,  -14.46611214,  -22.96041298,\n",
       "         -31.00861359,  -21.08316803,  -19.34503174,    0.        ,\n",
       "           0.        ,    0.        ,    0.        ,    0.        ,\n",
       "           0.        ,    0.        ,    0.        ,    0.        ,\n",
       "           0.        ,    0.        ,    0.        ,    0.        ,\n",
       "           0.        ,    0.        ,    0.        ,    0.        ,\n",
       "           0.        ,    0.        ,    0.        ,    0.        ,\n",
       "           0.        ,    0.        ,    0.        ,    0.        ,\n",
       "           0.        ,    0.        ,    0.        ,    0.        ],\n",
       "       [ -42.48190689,  -36.45737839,  -32.35068512,  -22.99395752,\n",
       "         -27.74243736,  -31.14653778,  -32.44769287,  -26.91492462,\n",
       "         -23.87246132,  -15.04000664,   -4.98495293,    0.        ,\n",
       "           0.        ,    0.        ,    0.        ,    0.        ,\n",
       "           0.        ,    0.        ,    0.        ,    0.        ,\n",
       "           0.        ,    0.        ,    0.        ,    0.        ,\n",
       "           0.        ,    0.        ,    0.        ,    0.        ,\n",
       "           0.        ,    0.        ,    0.        ,    0.        ,\n",
       "           0.        ,    0.        ,    0.        ,    0.        ,\n",
       "           0.        ,    0.        ,    0.        ,    0.        ],\n",
       "       [ -32.9647522 ,  -33.02869415,  -26.55107689,  -28.95075607,\n",
       "         -21.20942307,  -13.04854202,   -8.79648399,   -8.96670723,\n",
       "          -6.46148586,   -2.73488259,    6.25401831,    0.        ,\n",
       "           0.        ,    0.        ,    0.        ,    0.        ,\n",
       "           0.        ,    0.        ,    0.        ,    0.        ,\n",
       "           0.        ,    0.        ,    0.        ,    0.        ,\n",
       "           0.        ,    0.        ,    0.        ,    0.        ,\n",
       "           0.        ,    0.        ,    0.        ,    0.        ,\n",
       "           0.        ,    0.        ,    0.        ,    0.        ,\n",
       "           0.        ,    0.        ,    0.        ,    0.        ],\n",
       "       [ -10.40275288,   -9.40349007,  -12.29610252,  -11.82540417,\n",
       "         -11.98497295,  -13.64251041,  -13.19348907,  -12.23971081,\n",
       "          -2.77527952,    4.45486736,   11.46726227,    0.        ,\n",
       "           0.        ,    0.        ,    0.        ,    0.        ,\n",
       "           0.        ,    0.        ,    0.        ,    0.        ,\n",
       "           0.        ,    0.        ,    0.        ,    0.        ,\n",
       "           0.        ,    0.        ,    0.        ,    0.        ,\n",
       "           0.        ,    0.        ,    0.        ,    0.        ,\n",
       "           0.        ,    0.        ,    0.        ,    0.        ,\n",
       "           0.        ,    0.        ,    0.        ,    0.        ],\n",
       "       [  -9.48654556,  -20.37870216,  -18.68984222,  -16.01569748,\n",
       "         -19.29656219,  -20.01193237,  -18.59413528,  -13.27046585,\n",
       "          -9.23966026,   -4.05904007,    1.90105748,    0.        ,\n",
       "           0.        ,    0.        ,    0.        ,    0.        ,\n",
       "           0.        ,    0.        ,    0.        ,    0.        ,\n",
       "           0.        ,    0.        ,    0.        ,    0.        ,\n",
       "           0.        ,    0.        ,    0.        ,    0.        ,\n",
       "           0.        ,    0.        ,    0.        ,    0.        ,\n",
       "           0.        ,    0.        ,    0.        ,    0.        ,\n",
       "           0.        ,    0.        ,    0.        ,    0.        ],\n",
       "       [  -7.43000603,   -8.49453449,   -8.85342789,  -12.30576134,\n",
       "         -12.71212578,  -16.17580986,  -17.52449989,  -13.44143677,\n",
       "         -11.34678555,   -4.17898512,    0.70255476,    0.        ,\n",
       "           0.        ,    0.        ,    0.        ,    0.        ,\n",
       "           0.        ,    0.        ,    0.        ,    0.        ,\n",
       "           0.        ,    0.        ,    0.        ,    0.        ,\n",
       "           0.        ,    0.        ,    0.        ,    0.        ,\n",
       "           0.        ,    0.        ,    0.        ,    0.        ,\n",
       "           0.        ,    0.        ,    0.        ,    0.        ,\n",
       "           0.        ,    0.        ,    0.        ,    0.        ],\n",
       "       [  10.76234627,   -1.14655137,   -6.95191813,   -8.99252987,\n",
       "          -6.07931662,   -4.27613354,   -7.433218  ,   -7.46276093,\n",
       "         -15.28625488,  -18.86346054,  -10.94754601,    0.        ,\n",
       "           0.        ,    0.        ,    0.        ,    0.        ,\n",
       "           0.        ,    0.        ,    0.        ,    0.        ,\n",
       "           0.        ,    0.        ,    0.        ,    0.        ,\n",
       "           0.        ,    0.        ,    0.        ,    0.        ,\n",
       "           0.        ,    0.        ,    0.        ,    0.        ,\n",
       "           0.        ,    0.        ,    0.        ,    0.        ,\n",
       "           0.        ,    0.        ,    0.        ,    0.        ],\n",
       "       [ -27.8907547 ,  -15.97152424,  -16.6483345 ,  -17.13368797,\n",
       "          -5.18776703,    1.51364315,    4.92066097,    3.88672352,\n",
       "          -2.72290182,   -9.09470558,   -4.33246994,    0.        ,\n",
       "           0.        ,    0.        ,    0.        ,    0.        ,\n",
       "           0.        ,    0.        ,    0.        ,    0.        ,\n",
       "           0.        ,    0.        ,    0.        ,    0.        ,\n",
       "           0.        ,    0.        ,    0.        ,    0.        ,\n",
       "           0.        ,    0.        ,    0.        ,    0.        ,\n",
       "           0.        ,    0.        ,    0.        ,    0.        ,\n",
       "           0.        ,    0.        ,    0.        ,    0.        ],\n",
       "       [   6.3430109 ,    8.33195305,   -8.99069595,  -26.74303246,\n",
       "         -31.05674362,  -18.99436951,   -5.01282597,   -1.69769788,\n",
       "          -4.99977303,   -2.96313381,   -0.46568245,    0.        ,\n",
       "           0.        ,    0.        ,    0.        ,    0.        ,\n",
       "           0.        ,    0.        ,    0.        ,    0.        ,\n",
       "           0.        ,    0.        ,    0.        ,    0.        ,\n",
       "           0.        ,    0.        ,    0.        ,    0.        ,\n",
       "           0.        ,    0.        ,    0.        ,    0.        ,\n",
       "           0.        ,    0.        ,    0.        ,    0.        ,\n",
       "           0.        ,    0.        ,    0.        ,    0.        ],\n",
       "       [ -18.570961  ,  -22.65217018,  -25.04059219,  -23.35548019,\n",
       "         -23.77836227,  -21.03348732,  -16.48116493,  -25.60420227,\n",
       "         -22.56100845,  -15.78421688,  -12.98599148,    0.        ,\n",
       "           0.        ,    0.        ,    0.        ,    0.        ,\n",
       "           0.        ,    0.        ,    0.        ,    0.        ,\n",
       "           0.        ,    0.        ,    0.        ,    0.        ,\n",
       "           0.        ,    0.        ,    0.        ,    0.        ,\n",
       "           0.        ,    0.        ,    0.        ,    0.        ,\n",
       "           0.        ,    0.        ,    0.        ,    0.        ,\n",
       "           0.        ,    0.        ,    0.        ,    0.        ],\n",
       "       [  -6.34544563,   -9.65723228,  -18.35383987,  -12.43512917,\n",
       "         -13.86319923,  -23.46393394,  -17.23868561,  -13.50804901,\n",
       "         -12.49907112,   -3.22536492,   -4.15168905,    0.        ,\n",
       "           0.        ,    0.        ,    0.        ,    0.        ,\n",
       "           0.        ,    0.        ,    0.        ,    0.        ,\n",
       "           0.        ,    0.        ,    0.        ,    0.        ,\n",
       "           0.        ,    0.        ,    0.        ,    0.        ,\n",
       "           0.        ,    0.        ,    0.        ,    0.        ,\n",
       "           0.        ,    0.        ,    0.        ,    0.        ,\n",
       "           0.        ,    0.        ,    0.        ,    0.        ],\n",
       "       [  10.31656647,   -4.07122135,   -8.02042961,    3.04443836,\n",
       "           5.19503307,  -11.23694038,  -14.54686165,  -10.08118439,\n",
       "         -14.05663872,  -12.94401169,   -0.69905066,    0.        ,\n",
       "           0.        ,    0.        ,    0.        ,    0.        ,\n",
       "           0.        ,    0.        ,    0.        ,    0.        ,\n",
       "           0.        ,    0.        ,    0.        ,    0.        ,\n",
       "           0.        ,    0.        ,    0.        ,    0.        ,\n",
       "           0.        ,    0.        ,    0.        ,    0.        ,\n",
       "           0.        ,    0.        ,    0.        ,    0.        ,\n",
       "           0.        ,    0.        ,    0.        ,    0.        ]])"
      ]
     },
     "execution_count": 158,
     "metadata": {},
     "output_type": "execute_result"
    }
   ],
   "source": [
    "padded_mfcc"
   ]
  },
  {
   "cell_type": "code",
   "execution_count": 136,
   "metadata": {},
   "outputs": [
    {
     "name": "stdout",
     "output_type": "stream",
     "text": [
      "train_X: (2500, 30000)\n",
      "train_spectrograms: (2500, 257, 40)\n",
      "train_mel_spectrograms (2500, 128, 40)\n",
      "train_mfccs (2500, 20, 40)\n",
      "train_y (2500, 10)\n",
      "test_X (500, 30000)\n",
      "test_spectrograms (500, 257, 40)\n",
      "test_mel_spectrograms (500, 128, 40)\n",
      "test_mfccs (500, 20, 40)\n",
      "test_y (500, 10)\n"
     ]
    }
   ],
   "source": [
    "test_speaker = 'theo'\n",
    "train_X = []\n",
    "train_spectrograms = []\n",
    "train_mel_spectrograms = []\n",
    "train_mfccs = []\n",
    "train_y = []\n",
    "\n",
    "test_X = []\n",
    "test_spectrograms = []\n",
    "test_mel_spectrograms = []\n",
    "test_mfccs = []\n",
    "test_y = []\n",
    "\n",
    "#a(음성:wave)랑 i를 받아서 a[0:i] 크기만큼을 return 함. (a.shape가 i보다 클 경우.) 아니라면 i의 크기에서 모자란 만큼 0으로 초기화 한 값\n",
    "pad1d = lambda a, i: a[0: i] if a.shape[0] > i else np.hstack((a, np.zeros(i - a.shape[0])))\n",
    "pad2d = lambda a, i: a[:, 0: i] if a.shape[1] > i else np.hstack((a, np.zeros((a.shape[0],i - a.shape[1]))))\n",
    "#STFT한 것, CNN분석하기 위해 Spectogram으로 만든 것, MF한 것, mel-spectogram한 것\n",
    "\n",
    "\n",
    "for fname in os.listdir(DATA_DIR):\n",
    "    try:\n",
    "        if '.wav' not in fname or 'dima' in fname:\n",
    "            continue\n",
    "        struct = fname.split('_')\n",
    "        digit = struct[0]\n",
    "        speaker = struct[1]\n",
    "        wav, sr = librosa.load(DATA_DIR + fname, sr=sr)\n",
    "        padded_x = pad1d(wav, 30000)\n",
    "        #librosa.stft(y)를 통해 스펙트럼을 얻는다.\n",
    "        #\n",
    "        spectrogram = np.abs(librosa.stft(wav, n_fft=512))\n",
    "        padded_spectogram = pad2d(spectrogram, 40)\n",
    "        \n",
    "        mel_spectogram = librosa.feature.melspectrogram(wav)\n",
    "        padded_mel_spectrogram = pad2d(mel_spectogram, 40)\n",
    "        \n",
    "        mfcc = librosa.feature.mfcc(wav)\n",
    "        padded_mfcc = pad2d(mfcc, 40)\n",
    "        \n",
    "        if speaker == test_speaker:\n",
    "            test_X.append(padded_x)\n",
    "            test_spectrograms.append(padded_spectogram)\n",
    "            test_mel_spectrograms.append(padded_mel_spectrogram)\n",
    "            test_mfccs.append(padded_mfcc)\n",
    "            test_y.append(digit)\n",
    "        else:\n",
    "            train_X.append(padded_x)\n",
    "            train_spectrograms.append(padded_spectogram)\n",
    "            train_mel_spectrograms.append(padded_mel_spectrogram)\n",
    "            train_mfccs.append(padded_mfcc)\n",
    "            train_y.append(digit)\n",
    "    except Exception as e:\n",
    "        print(fname, e)\n",
    "        raise\n",
    "        \n",
    "train_X = np.vstack(train_X)\n",
    "train_spectrograms = np.array(train_spectrograms)\n",
    "train_mel_spectrograms = np.array(train_mel_spectrograms)\n",
    "train_mfccs = np.array(train_mfccs)\n",
    "train_y = to_categorical(np.array(train_y))\n",
    "\n",
    "test_X = np.vstack(test_X)\n",
    "test_spectrograms = np.array(test_spectrograms)\n",
    "test_mel_spectrograms = np.array(test_mel_spectrograms)\n",
    "test_mfccs = np.array(test_mfccs)\n",
    "test_y = to_categorical(np.array(test_y))\n",
    "\n",
    "print('train_X:', train_X.shape)\n",
    "print('train_spectrograms:', train_spectrograms.shape)\n",
    "print('train_mel_spectrograms', train_mel_spectrograms.shape)\n",
    "print('train_mfccs', train_mfccs.shape)\n",
    "print('train_y', train_y.shape)\n",
    "\n",
    "print('test_X', test_X.shape)\n",
    "print('test_spectrograms', test_spectrograms.shape)\n",
    "print('test_mel_spectrograms', test_mel_spectrograms.shape)\n",
    "print('test_mfccs', test_mfccs.shape)\n",
    "print('test_y', test_y.shape)"
   ]
  },
  {
   "cell_type": "code",
   "execution_count": 137,
   "metadata": {},
   "outputs": [
    {
     "data": {
      "text/plain": [
       "array([-6.1035156e-05, -2.7465820e-04, -1.5258789e-04, ...,\n",
       "       -3.0517578e-04,  6.1035156e-05, -1.2207031e-04], dtype=float32)"
      ]
     },
     "execution_count": 137,
     "metadata": {},
     "output_type": "execute_result"
    }
   ],
   "source": [
    "wav"
   ]
  },
  {
   "cell_type": "code",
   "execution_count": 138,
   "metadata": {
    "scrolled": true
   },
   "outputs": [
    {
     "data": {
      "text/plain": [
       "array([[0.0165965 , 0.01481539, 0.01545923, ..., 0.        , 0.        ,\n",
       "        0.        ],\n",
       "       [0.0136071 , 0.00355694, 0.00794592, ..., 0.        , 0.        ,\n",
       "        0.        ],\n",
       "       [0.01585379, 0.01097529, 0.00500691, ..., 0.        , 0.        ,\n",
       "        0.        ],\n",
       "       ...,\n",
       "       [0.00137991, 0.0024028 , 0.00057527, ..., 0.        , 0.        ,\n",
       "        0.        ],\n",
       "       [0.00291335, 0.00348159, 0.00275965, ..., 0.        , 0.        ,\n",
       "        0.        ],\n",
       "       [0.00563096, 0.00349552, 0.00112412, ..., 0.        , 0.        ,\n",
       "        0.        ]])"
      ]
     },
     "execution_count": 138,
     "metadata": {},
     "output_type": "execute_result"
    }
   ],
   "source": [
    "test_spectrograms[0]"
   ]
  },
  {
   "cell_type": "code",
   "execution_count": 139,
   "metadata": {},
   "outputs": [
    {
     "name": "stdout",
     "output_type": "stream",
     "text": [
      "train X shape: (2500, 20, 40, 1)\n",
      "test X shape: (500, 20, 40, 1)\n"
     ]
    }
   ],
   "source": [
    "train_X_ex = np.expand_dims(train_mfccs, -1)\n",
    "test_X_ex = np.expand_dims(test_mfccs, -1)\n",
    "print('train X shape:', train_X_ex.shape)\n",
    "print('test X shape:', test_X_ex.shape)"
   ]
  },
  {
   "cell_type": "code",
   "execution_count": 140,
   "metadata": {},
   "outputs": [
    {
     "name": "stdout",
     "output_type": "stream",
     "text": [
      "Model: \"functional_43\"\n",
      "_________________________________________________________________\n",
      "Layer (type)                 Output Shape              Param #   \n",
      "=================================================================\n",
      "input_23 (InputLayer)        [(None, 20, 40, 1)]       0         \n",
      "_________________________________________________________________\n",
      "conv2d_15 (Conv2D)           (None, 17, 37, 64)        1088      \n",
      "_________________________________________________________________\n",
      "max_pooling2d_13 (MaxPooling (None, 4, 9, 64)          0         \n",
      "_________________________________________________________________\n",
      "flatten_17 (Flatten)         (None, 2304)              0         \n",
      "_________________________________________________________________\n",
      "dense_43 (Dense)             (None, 32)                73760     \n",
      "_________________________________________________________________\n",
      "dense_44 (Dense)             (None, 10)                330       \n",
      "=================================================================\n",
      "Total params: 75,178\n",
      "Trainable params: 75,178\n",
      "Non-trainable params: 0\n",
      "_________________________________________________________________\n"
     ]
    }
   ],
   "source": [
    "ip = Input(shape=train_X_ex[0].shape)\n",
    "m = Conv2D(64, kernel_size=(4,4), activation='relu')(ip)\n",
    "m = MaxPooling2D(pool_size=(4,4))(m)\n",
    "\n",
    "\n",
    "m=Flatten()(m)\n",
    "m=Dense(32, activation='relu')(m)\n",
    "op=Dense(10, activation='softmax')(m)\n",
    "\n",
    "model = Model(ip, op)\n",
    "\n",
    "model.summary()"
   ]
  },
  {
   "cell_type": "code",
   "execution_count": 141,
   "metadata": {},
   "outputs": [
    {
     "name": "stdout",
     "output_type": "stream",
     "text": [
      "Epoch 1/100\n",
      "79/79 [==============================] - 1s 8ms/step - loss: 3.3553 - accuracy: 0.1456 - val_loss: 2.6310 - val_accuracy: 0.1400\n",
      "Epoch 2/100\n",
      "79/79 [==============================] - 1s 7ms/step - loss: 2.1006 - accuracy: 0.2512 - val_loss: 2.3631 - val_accuracy: 0.2120\n",
      "Epoch 3/100\n",
      "79/79 [==============================] - 1s 7ms/step - loss: 1.8374 - accuracy: 0.3464 - val_loss: 2.1726 - val_accuracy: 0.2160\n",
      "Epoch 4/100\n",
      "79/79 [==============================] - 1s 7ms/step - loss: 1.6242 - accuracy: 0.4280 - val_loss: 1.9534 - val_accuracy: 0.3220\n",
      "Epoch 5/100\n",
      "79/79 [==============================] - 1s 7ms/step - loss: 1.4184 - accuracy: 0.5188 - val_loss: 1.8540 - val_accuracy: 0.3560\n",
      "Epoch 6/100\n",
      "79/79 [==============================] - 1s 7ms/step - loss: 1.2152 - accuracy: 0.5980 - val_loss: 1.7056 - val_accuracy: 0.4260\n",
      "Epoch 7/100\n",
      "79/79 [==============================] - 1s 7ms/step - loss: 1.0449 - accuracy: 0.6696 - val_loss: 1.5751 - val_accuracy: 0.4620\n",
      "Epoch 8/100\n",
      "79/79 [==============================] - 1s 7ms/step - loss: 0.8702 - accuracy: 0.7396 - val_loss: 1.4442 - val_accuracy: 0.5100\n",
      "Epoch 9/100\n",
      "79/79 [==============================] - 1s 7ms/step - loss: 0.7176 - accuracy: 0.8036 - val_loss: 1.2666 - val_accuracy: 0.6100\n",
      "Epoch 10/100\n",
      "79/79 [==============================] - 1s 7ms/step - loss: 0.5934 - accuracy: 0.8516 - val_loss: 1.1863 - val_accuracy: 0.6420\n",
      "Epoch 11/100\n",
      "79/79 [==============================] - 1s 7ms/step - loss: 0.5163 - accuracy: 0.8780 - val_loss: 1.0905 - val_accuracy: 0.6520\n",
      "Epoch 12/100\n",
      "79/79 [==============================] - 1s 7ms/step - loss: 0.4428 - accuracy: 0.8988 - val_loss: 1.0778 - val_accuracy: 0.6600\n",
      "Epoch 13/100\n",
      "79/79 [==============================] - 1s 7ms/step - loss: 0.3900 - accuracy: 0.9148 - val_loss: 0.9677 - val_accuracy: 0.7160\n",
      "Epoch 14/100\n",
      "79/79 [==============================] - 1s 7ms/step - loss: 0.3447 - accuracy: 0.9272 - val_loss: 0.9263 - val_accuracy: 0.7340\n",
      "Epoch 15/100\n",
      "79/79 [==============================] - 1s 7ms/step - loss: 0.3094 - accuracy: 0.9332 - val_loss: 0.9590 - val_accuracy: 0.7080\n",
      "Epoch 16/100\n",
      "79/79 [==============================] - 1s 7ms/step - loss: 0.2769 - accuracy: 0.9432 - val_loss: 0.8893 - val_accuracy: 0.7380\n",
      "Epoch 17/100\n",
      "79/79 [==============================] - 1s 7ms/step - loss: 0.2578 - accuracy: 0.9452 - val_loss: 0.9173 - val_accuracy: 0.7140\n",
      "Epoch 18/100\n",
      "79/79 [==============================] - 1s 7ms/step - loss: 0.2345 - accuracy: 0.9544 - val_loss: 0.8630 - val_accuracy: 0.7500\n",
      "Epoch 19/100\n",
      "79/79 [==============================] - 1s 7ms/step - loss: 0.2167 - accuracy: 0.9560 - val_loss: 0.9050 - val_accuracy: 0.7200\n",
      "Epoch 20/100\n",
      "79/79 [==============================] - 1s 7ms/step - loss: 0.1944 - accuracy: 0.9628 - val_loss: 0.8328 - val_accuracy: 0.7640\n",
      "Epoch 21/100\n",
      "79/79 [==============================] - 1s 7ms/step - loss: 0.1752 - accuracy: 0.9712 - val_loss: 0.8268 - val_accuracy: 0.7460\n",
      "Epoch 22/100\n",
      "79/79 [==============================] - 1s 7ms/step - loss: 0.1642 - accuracy: 0.9716 - val_loss: 0.8413 - val_accuracy: 0.7300\n",
      "Epoch 23/100\n",
      "79/79 [==============================] - 1s 7ms/step - loss: 0.1569 - accuracy: 0.9708 - val_loss: 0.7802 - val_accuracy: 0.7780\n",
      "Epoch 24/100\n",
      "79/79 [==============================] - 1s 7ms/step - loss: 0.1601 - accuracy: 0.9724 - val_loss: 0.7864 - val_accuracy: 0.7520\n",
      "Epoch 25/100\n",
      "79/79 [==============================] - 1s 7ms/step - loss: 0.1405 - accuracy: 0.9752 - val_loss: 0.7669 - val_accuracy: 0.7920\n",
      "Epoch 26/100\n",
      "79/79 [==============================] - 1s 7ms/step - loss: 0.1306 - accuracy: 0.9784 - val_loss: 0.8454 - val_accuracy: 0.7580\n",
      "Epoch 27/100\n",
      "79/79 [==============================] - 1s 7ms/step - loss: 0.1211 - accuracy: 0.9816 - val_loss: 0.8069 - val_accuracy: 0.7680\n",
      "Epoch 28/100\n",
      "79/79 [==============================] - 1s 7ms/step - loss: 0.1149 - accuracy: 0.9832 - val_loss: 0.8042 - val_accuracy: 0.7640\n",
      "Epoch 29/100\n",
      "79/79 [==============================] - 1s 7ms/step - loss: 0.1058 - accuracy: 0.9828 - val_loss: 0.7672 - val_accuracy: 0.7780\n",
      "Epoch 30/100\n",
      "79/79 [==============================] - 1s 7ms/step - loss: 0.0986 - accuracy: 0.9880 - val_loss: 0.7669 - val_accuracy: 0.7740\n",
      "Epoch 31/100\n",
      "79/79 [==============================] - 1s 7ms/step - loss: 0.0937 - accuracy: 0.9884 - val_loss: 0.7584 - val_accuracy: 0.7840\n",
      "Epoch 32/100\n",
      "79/79 [==============================] - 1s 7ms/step - loss: 0.0874 - accuracy: 0.9904 - val_loss: 0.7554 - val_accuracy: 0.7680\n",
      "Epoch 33/100\n",
      "79/79 [==============================] - 1s 7ms/step - loss: 0.0816 - accuracy: 0.9908 - val_loss: 0.7608 - val_accuracy: 0.7800\n",
      "Epoch 34/100\n",
      "79/79 [==============================] - 1s 7ms/step - loss: 0.0805 - accuracy: 0.9888 - val_loss: 0.7525 - val_accuracy: 0.7800\n",
      "Epoch 35/100\n",
      "79/79 [==============================] - 1s 7ms/step - loss: 0.0746 - accuracy: 0.9900 - val_loss: 0.7737 - val_accuracy: 0.7780\n",
      "Epoch 36/100\n",
      "79/79 [==============================] - 1s 7ms/step - loss: 0.0703 - accuracy: 0.9888 - val_loss: 0.7118 - val_accuracy: 0.7980\n",
      "Epoch 37/100\n",
      "79/79 [==============================] - 1s 7ms/step - loss: 0.0673 - accuracy: 0.9924 - val_loss: 0.7639 - val_accuracy: 0.7860\n",
      "Epoch 38/100\n",
      "79/79 [==============================] - 1s 7ms/step - loss: 0.0643 - accuracy: 0.9928 - val_loss: 0.7729 - val_accuracy: 0.7760\n",
      "Epoch 39/100\n",
      "79/79 [==============================] - 1s 7ms/step - loss: 0.0619 - accuracy: 0.9936 - val_loss: 0.7239 - val_accuracy: 0.7920\n",
      "Epoch 40/100\n",
      "79/79 [==============================] - 1s 7ms/step - loss: 0.0574 - accuracy: 0.9948 - val_loss: 0.7511 - val_accuracy: 0.7820\n",
      "Epoch 41/100\n",
      "79/79 [==============================] - 1s 7ms/step - loss: 0.0567 - accuracy: 0.9928 - val_loss: 0.7428 - val_accuracy: 0.8020\n",
      "Epoch 42/100\n",
      "79/79 [==============================] - 1s 7ms/step - loss: 0.0533 - accuracy: 0.9936 - val_loss: 0.7461 - val_accuracy: 0.7940\n",
      "Epoch 43/100\n",
      "79/79 [==============================] - 1s 7ms/step - loss: 0.0503 - accuracy: 0.9940 - val_loss: 0.7725 - val_accuracy: 0.7880\n",
      "Epoch 44/100\n",
      "79/79 [==============================] - 1s 7ms/step - loss: 0.0482 - accuracy: 0.9944 - val_loss: 0.7616 - val_accuracy: 0.7940\n",
      "Epoch 45/100\n",
      "79/79 [==============================] - 1s 7ms/step - loss: 0.0451 - accuracy: 0.9948 - val_loss: 0.7532 - val_accuracy: 0.8020\n",
      "Epoch 46/100\n",
      "79/79 [==============================] - 1s 7ms/step - loss: 0.0464 - accuracy: 0.9936 - val_loss: 0.7554 - val_accuracy: 0.8000\n",
      "Epoch 47/100\n",
      "79/79 [==============================] - 1s 7ms/step - loss: 0.0403 - accuracy: 0.9952 - val_loss: 0.7575 - val_accuracy: 0.7960\n",
      "Epoch 48/100\n",
      "79/79 [==============================] - 1s 7ms/step - loss: 0.0397 - accuracy: 0.9964 - val_loss: 0.7770 - val_accuracy: 0.8000\n",
      "Epoch 49/100\n",
      "79/79 [==============================] - 1s 7ms/step - loss: 0.0387 - accuracy: 0.9960 - val_loss: 0.7711 - val_accuracy: 0.7880\n",
      "Epoch 50/100\n",
      "79/79 [==============================] - 1s 7ms/step - loss: 0.0355 - accuracy: 0.9972 - val_loss: 0.7991 - val_accuracy: 0.7900\n",
      "Epoch 51/100\n",
      "79/79 [==============================] - 1s 7ms/step - loss: 0.0355 - accuracy: 0.9968 - val_loss: 0.7807 - val_accuracy: 0.8040\n",
      "Epoch 52/100\n",
      "79/79 [==============================] - 1s 7ms/step - loss: 0.0327 - accuracy: 0.9968 - val_loss: 0.7474 - val_accuracy: 0.8120\n",
      "Epoch 53/100\n",
      "79/79 [==============================] - 1s 7ms/step - loss: 0.0307 - accuracy: 0.9976 - val_loss: 0.7734 - val_accuracy: 0.8000\n",
      "Epoch 54/100\n",
      "79/79 [==============================] - 1s 7ms/step - loss: 0.0301 - accuracy: 0.9976 - val_loss: 0.7870 - val_accuracy: 0.8040\n",
      "Epoch 55/100\n",
      "79/79 [==============================] - 1s 7ms/step - loss: 0.0290 - accuracy: 0.9972 - val_loss: 0.7607 - val_accuracy: 0.8080\n",
      "Epoch 56/100\n",
      "79/79 [==============================] - 1s 7ms/step - loss: 0.0264 - accuracy: 0.9984 - val_loss: 0.8131 - val_accuracy: 0.7820\n",
      "Epoch 57/100\n",
      "79/79 [==============================] - 1s 7ms/step - loss: 0.0259 - accuracy: 0.9988 - val_loss: 0.7763 - val_accuracy: 0.8100\n",
      "Epoch 58/100\n",
      "79/79 [==============================] - 1s 7ms/step - loss: 0.0282 - accuracy: 0.9968 - val_loss: 0.8348 - val_accuracy: 0.7800\n"
     ]
    },
    {
     "name": "stdout",
     "output_type": "stream",
     "text": [
      "Epoch 59/100\n",
      "79/79 [==============================] - 1s 7ms/step - loss: 0.0304 - accuracy: 0.9968 - val_loss: 0.7670 - val_accuracy: 0.8180\n",
      "Epoch 60/100\n",
      "79/79 [==============================] - 1s 7ms/step - loss: 0.0229 - accuracy: 0.9984 - val_loss: 0.7985 - val_accuracy: 0.8100\n",
      "Epoch 61/100\n",
      "79/79 [==============================] - 1s 7ms/step - loss: 0.0230 - accuracy: 0.9988 - val_loss: 0.8186 - val_accuracy: 0.8020\n",
      "Epoch 62/100\n",
      "79/79 [==============================] - 1s 7ms/step - loss: 0.0204 - accuracy: 0.9988 - val_loss: 0.7821 - val_accuracy: 0.8120\n",
      "Epoch 63/100\n",
      "79/79 [==============================] - 1s 7ms/step - loss: 0.0194 - accuracy: 0.9988 - val_loss: 0.8457 - val_accuracy: 0.7980\n",
      "Epoch 64/100\n",
      "79/79 [==============================] - 1s 7ms/step - loss: 0.0222 - accuracy: 0.9984 - val_loss: 0.7944 - val_accuracy: 0.8100\n",
      "Epoch 65/100\n",
      "79/79 [==============================] - 1s 7ms/step - loss: 0.0185 - accuracy: 0.9988 - val_loss: 0.7915 - val_accuracy: 0.8100\n",
      "Epoch 66/100\n",
      "79/79 [==============================] - 1s 7ms/step - loss: 0.0173 - accuracy: 0.9988 - val_loss: 0.8099 - val_accuracy: 0.7980\n",
      "Epoch 67/100\n",
      "79/79 [==============================] - 1s 7ms/step - loss: 0.0170 - accuracy: 0.9984 - val_loss: 0.8351 - val_accuracy: 0.7940\n",
      "Epoch 68/100\n",
      "79/79 [==============================] - 1s 7ms/step - loss: 0.0161 - accuracy: 0.9992 - val_loss: 0.8115 - val_accuracy: 0.8100\n",
      "Epoch 69/100\n",
      "79/79 [==============================] - 1s 7ms/step - loss: 0.0166 - accuracy: 0.9984 - val_loss: 0.8363 - val_accuracy: 0.8060\n",
      "Epoch 70/100\n",
      "79/79 [==============================] - 1s 7ms/step - loss: 0.0155 - accuracy: 0.9992 - val_loss: 0.8382 - val_accuracy: 0.7920\n",
      "Epoch 71/100\n",
      "79/79 [==============================] - 1s 7ms/step - loss: 0.0137 - accuracy: 0.9988 - val_loss: 0.8835 - val_accuracy: 0.7780\n",
      "Epoch 72/100\n",
      "79/79 [==============================] - 1s 7ms/step - loss: 0.0144 - accuracy: 0.9992 - val_loss: 0.8833 - val_accuracy: 0.7880\n",
      "Epoch 73/100\n",
      "79/79 [==============================] - 1s 7ms/step - loss: 0.0138 - accuracy: 0.9988 - val_loss: 0.8254 - val_accuracy: 0.8060\n",
      "Epoch 74/100\n",
      "79/79 [==============================] - 1s 7ms/step - loss: 0.0123 - accuracy: 0.9992 - val_loss: 0.8618 - val_accuracy: 0.7840\n",
      "Epoch 75/100\n",
      "79/79 [==============================] - 1s 7ms/step - loss: 0.0118 - accuracy: 0.9992 - val_loss: 0.8561 - val_accuracy: 0.8100\n",
      "Epoch 76/100\n",
      "79/79 [==============================] - 1s 7ms/step - loss: 0.0118 - accuracy: 0.9992 - val_loss: 0.8899 - val_accuracy: 0.7860\n",
      "Epoch 77/100\n",
      "79/79 [==============================] - 1s 7ms/step - loss: 0.0112 - accuracy: 0.9996 - val_loss: 0.8648 - val_accuracy: 0.8060\n",
      "Epoch 78/100\n",
      "79/79 [==============================] - 1s 7ms/step - loss: 0.0109 - accuracy: 0.9996 - val_loss: 0.9010 - val_accuracy: 0.7980\n",
      "Epoch 79/100\n",
      "79/79 [==============================] - 1s 7ms/step - loss: 0.0103 - accuracy: 0.9992 - val_loss: 0.8754 - val_accuracy: 0.8120\n",
      "Epoch 80/100\n",
      "79/79 [==============================] - 1s 7ms/step - loss: 0.0102 - accuracy: 0.9996 - val_loss: 0.9300 - val_accuracy: 0.7780\n",
      "Epoch 81/100\n",
      "79/79 [==============================] - 1s 7ms/step - loss: 0.0101 - accuracy: 0.9992 - val_loss: 0.8682 - val_accuracy: 0.7960\n",
      "Epoch 82/100\n",
      "79/79 [==============================] - 1s 7ms/step - loss: 0.0089 - accuracy: 0.9996 - val_loss: 0.9350 - val_accuracy: 0.7900\n",
      "Epoch 83/100\n",
      "79/79 [==============================] - 1s 7ms/step - loss: 0.0090 - accuracy: 1.0000 - val_loss: 0.8617 - val_accuracy: 0.8120\n",
      "Epoch 84/100\n",
      "79/79 [==============================] - 1s 7ms/step - loss: 0.0082 - accuracy: 0.9996 - val_loss: 0.9738 - val_accuracy: 0.7800\n",
      "Epoch 85/100\n",
      "79/79 [==============================] - 1s 7ms/step - loss: 0.0102 - accuracy: 0.9996 - val_loss: 0.9787 - val_accuracy: 0.7820\n",
      "Epoch 86/100\n",
      "79/79 [==============================] - 1s 7ms/step - loss: 0.0087 - accuracy: 0.9996 - val_loss: 0.9379 - val_accuracy: 0.7860\n",
      "Epoch 87/100\n",
      "79/79 [==============================] - 1s 7ms/step - loss: 0.0082 - accuracy: 0.9992 - val_loss: 1.0085 - val_accuracy: 0.7800\n",
      "Epoch 88/100\n",
      "79/79 [==============================] - 1s 7ms/step - loss: 0.0081 - accuracy: 0.9996 - val_loss: 0.9316 - val_accuracy: 0.7940\n",
      "Epoch 89/100\n",
      "79/79 [==============================] - 1s 7ms/step - loss: 0.0066 - accuracy: 0.9996 - val_loss: 0.9980 - val_accuracy: 0.7860\n",
      "Epoch 90/100\n",
      "79/79 [==============================] - 1s 7ms/step - loss: 0.0063 - accuracy: 0.9996 - val_loss: 0.9782 - val_accuracy: 0.7940\n",
      "Epoch 91/100\n",
      "79/79 [==============================] - 1s 7ms/step - loss: 0.0064 - accuracy: 0.9992 - val_loss: 0.9475 - val_accuracy: 0.8080\n",
      "Epoch 92/100\n",
      "79/79 [==============================] - 1s 7ms/step - loss: 0.0060 - accuracy: 0.9996 - val_loss: 1.0712 - val_accuracy: 0.7660\n",
      "Epoch 93/100\n",
      "79/79 [==============================] - 1s 7ms/step - loss: 0.0060 - accuracy: 0.9992 - val_loss: 0.9917 - val_accuracy: 0.8040\n",
      "Epoch 94/100\n",
      "79/79 [==============================] - 1s 7ms/step - loss: 0.0064 - accuracy: 0.9996 - val_loss: 0.9735 - val_accuracy: 0.8020\n",
      "Epoch 95/100\n",
      "79/79 [==============================] - 1s 7ms/step - loss: 0.0059 - accuracy: 0.9992 - val_loss: 0.9994 - val_accuracy: 0.7940\n",
      "Epoch 96/100\n",
      "79/79 [==============================] - 1s 7ms/step - loss: 0.0057 - accuracy: 0.9996 - val_loss: 1.0325 - val_accuracy: 0.8040\n",
      "Epoch 97/100\n",
      "79/79 [==============================] - 1s 7ms/step - loss: 0.0059 - accuracy: 0.9996 - val_loss: 1.0180 - val_accuracy: 0.8040\n",
      "Epoch 98/100\n",
      "79/79 [==============================] - 1s 7ms/step - loss: 0.0055 - accuracy: 0.9996 - val_loss: 1.0351 - val_accuracy: 0.8020\n",
      "Epoch 99/100\n",
      "79/79 [==============================] - 1s 7ms/step - loss: 0.0044 - accuracy: 0.9996 - val_loss: 1.1057 - val_accuracy: 0.7660\n",
      "Epoch 100/100\n",
      "79/79 [==============================] - 1s 7ms/step - loss: 0.0044 - accuracy: 1.0000 - val_loss: 0.9939 - val_accuracy: 0.8000\n"
     ]
    }
   ],
   "source": [
    "model.compile(optimizer=optimizers.Adam(learning_rate=0.0001),\n",
    "              loss='categorical_crossentropy',\n",
    "              metrics=['accuracy'])\n",
    "\n",
    "history = model.fit(train_X_ex,\n",
    "                    train_y,\n",
    "                    epochs=100,\n",
    "                    batch_size=32,\n",
    "                    verbose=1,\n",
    "                    validation_data=(test_X_ex, test_y))"
   ]
  },
  {
   "cell_type": "code",
   "execution_count": 142,
   "metadata": {},
   "outputs": [
    {
     "data": {
      "text/plain": [
       "<matplotlib.legend.Legend at 0x25f199183a0>"
      ]
     },
     "execution_count": 142,
     "metadata": {},
     "output_type": "execute_result"
    },
    {
     "data": {
      "image/png": "[encoded data removed]",
      "text/plain": [
       "<Figure size 432x288 with 1 Axes>"
      ]
     },
     "metadata": {
      "needs_background": "light"
     },
     "output_type": "display_data"
    }
   ],
   "source": [
    "plt.plot(history.history['accuracy'][10:], label='Train Accuracy')\n",
    "plt.plot(history.history['val_accuracy'][10:], label='Validation Accuracy')\n",
    "plt.xlabel('Epochs')\n",
    "plt.ylabel('Accuracy')\n",
    "plt.legend()"
   ]
  },
  {
   "cell_type": "code",
   "execution_count": 143,
   "metadata": {},
   "outputs": [
    {
     "data": {
      "text/plain": [
       "<matplotlib.legend.Legend at 0x25fb9001a00>"
      ]
     },
     "execution_count": 143,
     "metadata": {},
     "output_type": "execute_result"
    },
    {
     "data": {
      "image/png": "[encoded data removed]",
      "text/plain": [
       "<Figure size 432x288 with 1 Axes>"
      ]
     },
     "metadata": {
      "needs_background": "light"
     },
     "output_type": "display_data"
    }
   ],
   "source": [
    "plt.plot(history.history['loss'][10:], label='Train Accuracy')\n",
    "plt.plot(history.history['val_loss'][10:], label='Validation Accuracy')\n",
    "plt.xlabel('Epochs')\n",
    "plt.ylabel('Accuracy')\n",
    "plt.legend()"
   ]
  },
  {
   "cell_type": "code",
   "execution_count": 144,
   "metadata": {},
   "outputs": [],
   "source": [
    "from sklearn.metrics import confusion_matrix\n",
    "import pandas as pd\n",
    "import seaborn as sns"
   ]
  },
  {
   "cell_type": "code",
   "execution_count": 145,
   "metadata": {},
   "outputs": [
    {
     "data": {
      "image/png": "[encoded data removed]",
      "text/plain": [
       "<Figure size 432x288 with 2 Axes>"
      ]
     },
     "metadata": {
      "needs_background": "light"
     },
     "output_type": "display_data"
    }
   ],
   "source": [
    "Y_pred = model.predict(test_X_ex)\n",
    "y_pred = np.argmax(Y_pred,axis=1)\n",
    "\n",
    "matrix = confusion_matrix(np.argmax(test_y,axis=1), y_pred)\n",
    "sns.heatmap(pd.DataFrame(matrix), annot=True, cmap=\"bone\" ,fmt='g')\n",
    "plt.title('Confusion matrix', y=1.1)\n",
    "plt.ylabel('Actual label')\n",
    "plt.xlabel('Predicted label')\n",
    "plt.show()"
   ]
  },
  {
   "cell_type": "code",
   "execution_count": null,
   "metadata": {},
   "outputs": [],
   "source": []
  },
  {
   "cell_type": "code",
   "execution_count": null,
   "metadata": {},
   "outputs": [],
   "source": []
  },
  {
   "cell_type": "code",
   "execution_count": null,
   "metadata": {},
   "outputs": [],
   "source": []
  }
 ],
 "metadata": {
  "kernelspec": {
   "display_name": "Python 3",
   "language": "python",
   "name": "python3"
  },
  "language_info": {
   "codemirror_mode": {
    "name": "ipython",
    "version": 3
   },
   "file_extension": ".py",
   "mimetype": "text/x-python",
   "name": "python",
   "nbconvert_exporter": "python",
   "pygments_lexer": "ipython3",
   "version": "3.8.5"
  }
 },
 "nbformat": 4,
 "nbformat_minor": 4
}
