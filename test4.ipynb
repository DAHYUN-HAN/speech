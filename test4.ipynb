{
 "cells": [
  {
   "cell_type": "code",
   "execution_count": 1,
   "metadata": {},
   "outputs": [],
   "source": [
    "import matplotlib.pyplot as plt\n",
    "import os\n",
    "from scipy.io import wavfile\n",
    "from collections import defaultdict, Counter\n",
    "from scipy import signal\n",
    "import numpy as np\n",
    "import librosa\n",
    "import random as rn\n",
    "from keras.layers import Dense\n",
    "from keras import Input\n",
    "from keras.engine import Model\n",
    "from keras import optimizers\n",
    "from keras.utils import to_categorical\n",
    "from keras.layers import Dense, TimeDistributed, Dropout, Bidirectional, GRU, BatchNormalization, Activation, LeakyReLU, LSTM, Flatten, RepeatVector, Permute, Multiply, Conv2D, MaxPooling2D"
   ]
  },
  {
   "cell_type": "code",
   "execution_count": 31,
   "metadata": {},
   "outputs": [],
   "source": [
    "DATA_DIR = 'C:/Users/JLK/Downloads/free-spoken-digit-dataset-master/recordings/'\n",
    "#DATA_DIR = 'C:/Users/JLK/requirements/recordings/'"
   ]
  },
  {
   "cell_type": "code",
   "execution_count": 44,
   "metadata": {},
   "outputs": [
    {
     "name": "stdout",
     "output_type": "stream",
     "text": [
      "3.8.5 (default, Sep  3 2020, 21:29:08) [MSC v.1916 64 bit (AMD64)]\n"
     ]
    }
   ],
   "source": [
    "import sys\n",
    "print(sys.version)"
   ]
  },
  {
   "cell_type": "code",
   "execution_count": null,
   "metadata": {},
   "outputs": [],
   "source": [
    "for fname in os.listdir(DATA_DIR):\n",
    "    try:\n",
    "        if '.wav' not in fname or 'dima' in fname:\n",
    "            continue\n",
    "        struct = fname.split('_')\n",
    "        digit = struct[0]\n",
    "        speaker = struct[1]\n",
    "        wav, sr = librosa.load(DATA_DIR + fname, sr=8000)\n",
    "        padded_x = pad1d(wav, 30000)\n",
    "        spectrogram = np.abs(librosa.stft(wav))\n",
    "        padded_spectogram = pad2d(spectrogram, 40)\n",
    "        \n",
    "        mel_spectogram = librosa.feature.melspectrogram(wav)\n",
    "        padded_mel_spectrogram = pad2d(mel_spectogram, 40)\n",
    "        \n",
    "        mfcc = librosa.feature.mfcc(wav)\n",
    "        padded_mfcc = pad2d(mfcc, 40)\n",
    "        \n",
    "        if speaker == test_speaker:\n",
    "            test_X.append(padded_x)\n",
    "            test_spectrograms.append(padded_spectogram)\n",
    "            test_mel_spectrograms.append(padded_mel_spectrogram)\n",
    "            test_mfccs.append(padded_mfcc)\n",
    "            test_y.append(digit)\n",
    "        else:\n",
    "            train_X.append(padded_x)\n",
    "            train_spectrograms.append(padded_spectogram)\n",
    "            train_mel_spectrograms.append(padded_mel_spectrogram)\n",
    "            train_mfccs.append(padded_mfcc)\n",
    "            train_y.append(digit)\n",
    "    except Exception as e:\n",
    "        print(fname, e)\n",
    "        raise"
   ]
  },
  {
   "cell_type": "code",
   "execution_count": 32,
   "metadata": {},
   "outputs": [
    {
     "name": "stdout",
     "output_type": "stream",
     "text": [
      "train_X: (2500, 30000)\n",
      "train_spectrograms: (2500, 1025, 40)\n",
      "train_mel_spectrograms (2500, 128, 40)\n",
      "train_mfccs (2500, 20, 40)\n",
      "train_y (2500, 10)\n",
      "test_X (500, 30000)\n",
      "test_spectrograms (500, 1025, 40)\n",
      "test_mel_spectrograms (500, 128, 40)\n",
      "test_mfccs (500, 20, 40)\n",
      "test_y (500, 10)\n"
     ]
    }
   ],
   "source": [
    "test_speaker = 'theo'\n",
    "train_X = []\n",
    "train_spectrograms = []\n",
    "train_mel_spectrograms = []\n",
    "train_mfccs = []\n",
    "train_y = []\n",
    "\n",
    "test_X = []\n",
    "test_spectrograms = []\n",
    "test_mel_spectrograms = []\n",
    "test_mfccs = []\n",
    "test_y = []\n",
    "\n",
    "pad1d = lambda a, i: a[0: i] if a.shape[0] > i else np.hstack((a, np.zeros(i - a.shape[0])))\n",
    "pad2d = lambda a, i: a[:, 0: i] if a.shape[1] > i else np.hstack((a, np.zeros((a.shape[0],i - a.shape[1]))))\n",
    "#STFT한 것, CNN분석하기 위해 Spectogram으로 만든 것, MF한 것, mel-spectogram한 것\n",
    "\n",
    "\n",
    "for fname in os.listdir(DATA_DIR):\n",
    "    try:\n",
    "        if '.wav' not in fname or 'dima' in fname:\n",
    "            continue\n",
    "        struct = fname.split('_')\n",
    "        digit = struct[0]\n",
    "        speaker = struct[1]\n",
    "        wav, sr = librosa.load(DATA_DIR + fname)\n",
    "        padded_x = pad1d(wav, 30000)\n",
    "        spectrogram = np.abs(librosa.stft(wav))\n",
    "        padded_spectogram = pad2d(spectrogram, 40)\n",
    "        \n",
    "        mel_spectogram = librosa.feature.melspectrogram(wav)\n",
    "        padded_mel_spectrogram = pad2d(mel_spectogram, 40)\n",
    "        \n",
    "        mfcc = librosa.feature.mfcc(wav)\n",
    "        padded_mfcc = pad2d(mfcc, 40)\n",
    "        \n",
    "        if speaker == test_speaker:\n",
    "            test_X.append(padded_x)\n",
    "            test_spectrograms.append(padded_spectogram)\n",
    "            test_mel_spectrograms.append(padded_mel_spectrogram)\n",
    "            test_mfccs.append(padded_mfcc)\n",
    "            test_y.append(digit)\n",
    "        else:\n",
    "            train_X.append(padded_x)\n",
    "            train_spectrograms.append(padded_spectogram)\n",
    "            train_mel_spectrograms.append(padded_mel_spectrogram)\n",
    "            train_mfccs.append(padded_mfcc)\n",
    "            train_y.append(digit)\n",
    "    except Exception as e:\n",
    "        print(fname, e)\n",
    "        raise\n",
    "        \n",
    "train_X = np.vstack(train_X)\n",
    "train_spectrograms = np.array(train_spectrograms)\n",
    "train_mel_spectrograms = np.array(train_mel_spectrograms)\n",
    "train_mfccs = np.array(train_mfccs)\n",
    "train_y = to_categorical(np.array(train_y))\n",
    "\n",
    "test_X = np.vstack(test_X)\n",
    "test_spectrograms = np.array(test_spectrograms)\n",
    "test_mel_spectrograms = np.array(test_mel_spectrograms)\n",
    "test_mfccs = np.array(test_mfccs)\n",
    "test_y = to_categorical(np.array(test_y))\n",
    "\n",
    "print('train_X:', train_X.shape)\n",
    "print('train_spectrograms:', train_spectrograms.shape)\n",
    "print('train_mel_spectrograms', train_mel_spectrograms.shape)\n",
    "print('train_mfccs', train_mfccs.shape)\n",
    "print('train_y', train_y.shape)\n",
    "\n",
    "print('test_X', test_X.shape)\n",
    "print('test_spectrograms', test_spectrograms.shape)\n",
    "print('test_mel_spectrograms', test_mel_spectrograms.shape)\n",
    "print('test_mfccs', test_mfccs.shape)\n",
    "print('test_y', test_y.shape)"
   ]
  },
  {
   "cell_type": "code",
   "execution_count": 33,
   "metadata": {},
   "outputs": [
    {
     "name": "stdout",
     "output_type": "stream",
     "text": [
      "train X shape: (2500, 20, 40, 1)\n",
      "test X shape: (500, 20, 40, 1)\n"
     ]
    }
   ],
   "source": [
    "train_X_ex = np.expand_dims(train_mfccs, -1)\n",
    "test_X_ex = np.expand_dims(test_mfccs, -1)\n",
    "print('train X shape:', train_X_ex.shape)\n",
    "print('test X shape:', test_X_ex.shape)"
   ]
  },
  {
   "cell_type": "code",
   "execution_count": 34,
   "metadata": {},
   "outputs": [
    {
     "name": "stdout",
     "output_type": "stream",
     "text": [
      "Model: \"functional_11\"\n",
      "_________________________________________________________________\n",
      "Layer (type)                 Output Shape              Param #   \n",
      "=================================================================\n",
      "input_6 (InputLayer)         [(None, 20, 40, 1)]       0         \n",
      "_________________________________________________________________\n",
      "conv2d_5 (Conv2D)            (None, 17, 37, 64)        1088      \n",
      "_________________________________________________________________\n",
      "max_pooling2d_5 (MaxPooling2 (None, 4, 9, 64)          0         \n",
      "_________________________________________________________________\n",
      "flatten_5 (Flatten)          (None, 2304)              0         \n",
      "_________________________________________________________________\n",
      "dense_10 (Dense)             (None, 32)                73760     \n",
      "_________________________________________________________________\n",
      "dense_11 (Dense)             (None, 10)                330       \n",
      "=================================================================\n",
      "Total params: 75,178\n",
      "Trainable params: 75,178\n",
      "Non-trainable params: 0\n",
      "_________________________________________________________________\n"
     ]
    }
   ],
   "source": [
    "ip = Input(shape=train_X_ex[0].shape)\n",
    "m = Conv2D(64, kernel_size=(4,4), activation='relu')(ip)\n",
    "m = MaxPooling2D(pool_size=(4,4))(m)\n",
    "\n",
    "\n",
    "m=Flatten()(m)\n",
    "m=Dense(32, activation='relu')(m)\n",
    "op=Dense(10, activation='softmax')(m)\n",
    "\n",
    "model = Model(ip, op)\n",
    "\n",
    "model.summary()"
   ]
  },
  {
   "cell_type": "code",
   "execution_count": 35,
   "metadata": {},
   "outputs": [
    {
     "name": "stdout",
     "output_type": "stream",
     "text": [
      "Epoch 1/100\n",
      "79/79 [==============================] - 1s 8ms/step - loss: 6.2699 - accuracy: 0.1804 - val_loss: 3.3090 - val_accuracy: 0.1860\n",
      "Epoch 2/100\n",
      "79/79 [==============================] - 1s 7ms/step - loss: 2.2571 - accuracy: 0.2596 - val_loss: 2.3687 - val_accuracy: 0.2260\n",
      "Epoch 3/100\n",
      "79/79 [==============================] - 1s 7ms/step - loss: 1.9422 - accuracy: 0.3216 - val_loss: 2.2282 - val_accuracy: 0.2920\n",
      "Epoch 4/100\n",
      "79/79 [==============================] - 1s 7ms/step - loss: 1.7572 - accuracy: 0.3816 - val_loss: 2.0178 - val_accuracy: 0.3240\n",
      "Epoch 5/100\n",
      "79/79 [==============================] - 1s 7ms/step - loss: 1.5264 - accuracy: 0.4752 - val_loss: 1.9367 - val_accuracy: 0.3560\n",
      "Epoch 6/100\n",
      "79/79 [==============================] - 1s 6ms/step - loss: 1.3398 - accuracy: 0.5432 - val_loss: 1.8510 - val_accuracy: 0.3840\n",
      "Epoch 7/100\n",
      "79/79 [==============================] - 1s 7ms/step - loss: 1.2018 - accuracy: 0.5844 - val_loss: 1.8429 - val_accuracy: 0.3780\n",
      "Epoch 8/100\n",
      "79/79 [==============================] - 1s 7ms/step - loss: 1.0806 - accuracy: 0.6320 - val_loss: 1.5489 - val_accuracy: 0.4500\n",
      "Epoch 9/100\n",
      "79/79 [==============================] - 1s 7ms/step - loss: 0.9512 - accuracy: 0.6804 - val_loss: 1.5161 - val_accuracy: 0.4880\n",
      "Epoch 10/100\n",
      "79/79 [==============================] - 1s 7ms/step - loss: 0.8486 - accuracy: 0.7140 - val_loss: 1.5249 - val_accuracy: 0.5000\n",
      "Epoch 11/100\n",
      "79/79 [==============================] - 1s 7ms/step - loss: 0.7439 - accuracy: 0.7576 - val_loss: 1.4111 - val_accuracy: 0.5240\n",
      "Epoch 12/100\n",
      "79/79 [==============================] - 1s 6ms/step - loss: 0.6412 - accuracy: 0.7976 - val_loss: 1.3592 - val_accuracy: 0.5400\n",
      "Epoch 13/100\n",
      "79/79 [==============================] - 1s 6ms/step - loss: 0.5542 - accuracy: 0.8376 - val_loss: 1.3267 - val_accuracy: 0.5620\n",
      "Epoch 14/100\n",
      "79/79 [==============================] - 1s 6ms/step - loss: 0.4972 - accuracy: 0.8472 - val_loss: 1.3651 - val_accuracy: 0.5440\n",
      "Epoch 15/100\n",
      "79/79 [==============================] - 1s 6ms/step - loss: 0.4359 - accuracy: 0.8676 - val_loss: 1.0311 - val_accuracy: 0.6420\n",
      "Epoch 16/100\n",
      "79/79 [==============================] - 1s 6ms/step - loss: 0.3876 - accuracy: 0.8892 - val_loss: 1.0692 - val_accuracy: 0.6340\n",
      "Epoch 17/100\n",
      "79/79 [==============================] - 1s 6ms/step - loss: 0.3559 - accuracy: 0.8940 - val_loss: 0.9066 - val_accuracy: 0.6920\n",
      "Epoch 18/100\n",
      "79/79 [==============================] - 1s 6ms/step - loss: 0.3110 - accuracy: 0.9116 - val_loss: 1.1356 - val_accuracy: 0.6040\n",
      "Epoch 19/100\n",
      "79/79 [==============================] - 1s 6ms/step - loss: 0.2764 - accuracy: 0.9280 - val_loss: 0.8233 - val_accuracy: 0.7520\n",
      "Epoch 20/100\n",
      "79/79 [==============================] - 1s 7ms/step - loss: 0.2445 - accuracy: 0.9300 - val_loss: 0.7823 - val_accuracy: 0.7860\n",
      "Epoch 21/100\n",
      "79/79 [==============================] - 1s 6ms/step - loss: 0.2212 - accuracy: 0.9404 - val_loss: 0.8178 - val_accuracy: 0.7340\n",
      "Epoch 22/100\n",
      "79/79 [==============================] - 1s 6ms/step - loss: 0.1973 - accuracy: 0.9480 - val_loss: 0.8390 - val_accuracy: 0.7340\n",
      "Epoch 23/100\n",
      "79/79 [==============================] - 1s 6ms/step - loss: 0.1795 - accuracy: 0.9564 - val_loss: 0.7282 - val_accuracy: 0.7700\n",
      "Epoch 24/100\n",
      "79/79 [==============================] - 1s 6ms/step - loss: 0.1689 - accuracy: 0.9576 - val_loss: 0.7884 - val_accuracy: 0.7460\n",
      "Epoch 25/100\n",
      "79/79 [==============================] - 1s 6ms/step - loss: 0.1549 - accuracy: 0.9600 - val_loss: 0.7838 - val_accuracy: 0.7740\n",
      "Epoch 26/100\n",
      "79/79 [==============================] - 1s 6ms/step - loss: 0.1430 - accuracy: 0.9628 - val_loss: 0.6998 - val_accuracy: 0.7900\n",
      "Epoch 27/100\n",
      "79/79 [==============================] - 1s 6ms/step - loss: 0.1258 - accuracy: 0.9704 - val_loss: 0.6327 - val_accuracy: 0.8200\n",
      "Epoch 28/100\n",
      "79/79 [==============================] - 1s 6ms/step - loss: 0.1439 - accuracy: 0.9628 - val_loss: 0.7394 - val_accuracy: 0.7920\n",
      "Epoch 29/100\n",
      "79/79 [==============================] - 1s 6ms/step - loss: 0.1304 - accuracy: 0.9672 - val_loss: 0.6970 - val_accuracy: 0.8200\n",
      "Epoch 30/100\n",
      "79/79 [==============================] - 1s 6ms/step - loss: 0.1256 - accuracy: 0.9688 - val_loss: 0.7214 - val_accuracy: 0.7940\n",
      "Epoch 31/100\n",
      "79/79 [==============================] - 1s 6ms/step - loss: 0.1017 - accuracy: 0.9784 - val_loss: 0.6656 - val_accuracy: 0.8060\n",
      "Epoch 32/100\n",
      "79/79 [==============================] - 1s 6ms/step - loss: 0.0936 - accuracy: 0.9780 - val_loss: 0.7213 - val_accuracy: 0.7840\n",
      "Epoch 33/100\n",
      "79/79 [==============================] - 1s 6ms/step - loss: 0.0890 - accuracy: 0.9804 - val_loss: 0.6730 - val_accuracy: 0.8260\n",
      "Epoch 34/100\n",
      "79/79 [==============================] - 1s 6ms/step - loss: 0.0836 - accuracy: 0.9812 - val_loss: 0.6824 - val_accuracy: 0.8140\n",
      "Epoch 35/100\n",
      "79/79 [==============================] - 1s 7ms/step - loss: 0.0790 - accuracy: 0.9844 - val_loss: 0.7545 - val_accuracy: 0.8000\n",
      "Epoch 36/100\n",
      "79/79 [==============================] - 1s 6ms/step - loss: 0.0723 - accuracy: 0.9844 - val_loss: 0.6897 - val_accuracy: 0.8180\n",
      "Epoch 37/100\n",
      "79/79 [==============================] - 1s 6ms/step - loss: 0.0705 - accuracy: 0.9868 - val_loss: 0.6031 - val_accuracy: 0.8300\n",
      "Epoch 38/100\n",
      "79/79 [==============================] - 1s 6ms/step - loss: 0.0632 - accuracy: 0.9888 - val_loss: 0.7454 - val_accuracy: 0.7920\n",
      "Epoch 39/100\n",
      "79/79 [==============================] - 1s 6ms/step - loss: 0.0614 - accuracy: 0.9864 - val_loss: 0.6511 - val_accuracy: 0.8320\n",
      "Epoch 40/100\n",
      "79/79 [==============================] - 1s 6ms/step - loss: 0.0601 - accuracy: 0.9884 - val_loss: 0.6992 - val_accuracy: 0.8260\n",
      "Epoch 41/100\n",
      "79/79 [==============================] - 1s 6ms/step - loss: 0.0567 - accuracy: 0.9900 - val_loss: 0.6931 - val_accuracy: 0.8280\n",
      "Epoch 42/100\n",
      "79/79 [==============================] - 1s 6ms/step - loss: 0.0567 - accuracy: 0.9880 - val_loss: 0.7021 - val_accuracy: 0.8280\n",
      "Epoch 43/100\n",
      "79/79 [==============================] - 1s 6ms/step - loss: 0.0515 - accuracy: 0.9896 - val_loss: 0.7673 - val_accuracy: 0.8040\n",
      "Epoch 44/100\n",
      "79/79 [==============================] - 1s 6ms/step - loss: 0.0499 - accuracy: 0.9904 - val_loss: 0.6893 - val_accuracy: 0.8220\n",
      "Epoch 45/100\n",
      "79/79 [==============================] - 1s 6ms/step - loss: 0.0457 - accuracy: 0.9916 - val_loss: 0.8070 - val_accuracy: 0.8040\n",
      "Epoch 46/100\n",
      "79/79 [==============================] - 1s 6ms/step - loss: 0.0445 - accuracy: 0.9928 - val_loss: 0.6799 - val_accuracy: 0.8320\n",
      "Epoch 47/100\n",
      "79/79 [==============================] - 1s 7ms/step - loss: 0.0443 - accuracy: 0.9924 - val_loss: 0.7910 - val_accuracy: 0.8020\n",
      "Epoch 48/100\n",
      "79/79 [==============================] - 1s 7ms/step - loss: 0.0411 - accuracy: 0.9916 - val_loss: 0.6844 - val_accuracy: 0.8380\n",
      "Epoch 49/100\n",
      "79/79 [==============================] - 1s 6ms/step - loss: 0.0397 - accuracy: 0.9932 - val_loss: 0.6976 - val_accuracy: 0.8280\n",
      "Epoch 50/100\n",
      "79/79 [==============================] - 1s 6ms/step - loss: 0.0378 - accuracy: 0.9940 - val_loss: 0.7116 - val_accuracy: 0.8260\n",
      "Epoch 51/100\n",
      "79/79 [==============================] - 1s 6ms/step - loss: 0.0360 - accuracy: 0.9936 - val_loss: 0.7510 - val_accuracy: 0.8200\n",
      "Epoch 52/100\n",
      "79/79 [==============================] - 1s 6ms/step - loss: 0.0364 - accuracy: 0.9936 - val_loss: 0.7242 - val_accuracy: 0.8400\n",
      "Epoch 53/100\n",
      "79/79 [==============================] - 1s 6ms/step - loss: 0.0327 - accuracy: 0.9944 - val_loss: 0.6763 - val_accuracy: 0.8360\n",
      "Epoch 54/100\n",
      "79/79 [==============================] - 1s 6ms/step - loss: 0.0344 - accuracy: 0.9940 - val_loss: 0.7579 - val_accuracy: 0.8160\n",
      "Epoch 55/100\n",
      "79/79 [==============================] - 1s 6ms/step - loss: 0.0312 - accuracy: 0.9952 - val_loss: 0.7895 - val_accuracy: 0.8200\n",
      "Epoch 56/100\n",
      "79/79 [==============================] - 1s 7ms/step - loss: 0.0284 - accuracy: 0.9960 - val_loss: 0.7092 - val_accuracy: 0.8300\n",
      "Epoch 57/100\n",
      "79/79 [==============================] - 1s 7ms/step - loss: 0.0276 - accuracy: 0.9964 - val_loss: 0.6799 - val_accuracy: 0.8340\n",
      "Epoch 58/100\n",
      "79/79 [==============================] - 1s 6ms/step - loss: 0.0258 - accuracy: 0.9948 - val_loss: 0.7606 - val_accuracy: 0.8160\n"
     ]
    },
    {
     "name": "stdout",
     "output_type": "stream",
     "text": [
      "Epoch 59/100\n",
      "79/79 [==============================] - 1s 6ms/step - loss: 0.0251 - accuracy: 0.9948 - val_loss: 0.7197 - val_accuracy: 0.8280\n",
      "Epoch 60/100\n",
      "79/79 [==============================] - 1s 6ms/step - loss: 0.0271 - accuracy: 0.9952 - val_loss: 0.7353 - val_accuracy: 0.8100\n",
      "Epoch 61/100\n",
      "79/79 [==============================] - 1s 6ms/step - loss: 0.0226 - accuracy: 0.9964 - val_loss: 0.6650 - val_accuracy: 0.8420\n",
      "Epoch 62/100\n",
      "79/79 [==============================] - 1s 6ms/step - loss: 0.0218 - accuracy: 0.9964 - val_loss: 0.8174 - val_accuracy: 0.8160\n",
      "Epoch 63/100\n",
      "79/79 [==============================] - 1s 6ms/step - loss: 0.0209 - accuracy: 0.9976 - val_loss: 0.7891 - val_accuracy: 0.8060\n",
      "Epoch 64/100\n",
      "79/79 [==============================] - 1s 6ms/step - loss: 0.0207 - accuracy: 0.9968 - val_loss: 0.7337 - val_accuracy: 0.8340\n",
      "Epoch 65/100\n",
      "79/79 [==============================] - 1s 6ms/step - loss: 0.0196 - accuracy: 0.9972 - val_loss: 0.6843 - val_accuracy: 0.8500\n",
      "Epoch 66/100\n",
      "79/79 [==============================] - 1s 6ms/step - loss: 0.0237 - accuracy: 0.9940 - val_loss: 0.7576 - val_accuracy: 0.8180\n",
      "Epoch 67/100\n",
      "79/79 [==============================] - 1s 7ms/step - loss: 0.0222 - accuracy: 0.9972 - val_loss: 0.8527 - val_accuracy: 0.7960\n",
      "Epoch 68/100\n",
      "79/79 [==============================] - 1s 6ms/step - loss: 0.0200 - accuracy: 0.9972 - val_loss: 0.7524 - val_accuracy: 0.8340\n",
      "Epoch 69/100\n",
      "79/79 [==============================] - 1s 6ms/step - loss: 0.0163 - accuracy: 0.9976 - val_loss: 0.8050 - val_accuracy: 0.8260\n",
      "Epoch 70/100\n",
      "79/79 [==============================] - 1s 6ms/step - loss: 0.0591 - accuracy: 0.9836 - val_loss: 0.6378 - val_accuracy: 0.8420\n",
      "Epoch 71/100\n",
      "79/79 [==============================] - 1s 7ms/step - loss: 0.0351 - accuracy: 0.9904 - val_loss: 0.9787 - val_accuracy: 0.7740\n",
      "Epoch 72/100\n",
      "79/79 [==============================] - 1s 6ms/step - loss: 0.1198 - accuracy: 0.9684 - val_loss: 0.8585 - val_accuracy: 0.8040\n",
      "Epoch 73/100\n",
      "79/79 [==============================] - 1s 6ms/step - loss: 0.0189 - accuracy: 0.9964 - val_loss: 0.8677 - val_accuracy: 0.8120\n",
      "Epoch 74/100\n",
      "79/79 [==============================] - 1s 7ms/step - loss: 0.0155 - accuracy: 0.9976 - val_loss: 0.9595 - val_accuracy: 0.7940\n",
      "Epoch 75/100\n",
      "79/79 [==============================] - 1s 6ms/step - loss: 0.0141 - accuracy: 0.9984 - val_loss: 0.8334 - val_accuracy: 0.8200\n",
      "Epoch 76/100\n",
      "79/79 [==============================] - 1s 6ms/step - loss: 0.0133 - accuracy: 0.9976 - val_loss: 0.8893 - val_accuracy: 0.8100\n",
      "Epoch 77/100\n",
      "79/79 [==============================] - 1s 6ms/step - loss: 0.0132 - accuracy: 0.9976 - val_loss: 0.8118 - val_accuracy: 0.8260\n",
      "Epoch 78/100\n",
      "79/79 [==============================] - 1s 6ms/step - loss: 0.0143 - accuracy: 0.9972 - val_loss: 0.7971 - val_accuracy: 0.8360\n",
      "Epoch 79/100\n",
      "79/79 [==============================] - 1s 7ms/step - loss: 0.0114 - accuracy: 0.9988 - val_loss: 0.8656 - val_accuracy: 0.8140\n",
      "Epoch 80/100\n",
      "79/79 [==============================] - 1s 6ms/step - loss: 0.0122 - accuracy: 0.9984 - val_loss: 0.8668 - val_accuracy: 0.8240\n",
      "Epoch 81/100\n",
      "79/79 [==============================] - 1s 7ms/step - loss: 0.0110 - accuracy: 0.9980 - val_loss: 0.8661 - val_accuracy: 0.8060\n",
      "Epoch 82/100\n",
      "79/79 [==============================] - ETA: 0s - loss: 0.0144 - accuracy: 0.99 - 1s 6ms/step - loss: 0.0140 - accuracy: 0.9988 - val_loss: 0.9640 - val_accuracy: 0.8020\n",
      "Epoch 83/100\n",
      "79/79 [==============================] - 1s 7ms/step - loss: 0.0098 - accuracy: 0.9992 - val_loss: 0.8374 - val_accuracy: 0.8260\n",
      "Epoch 84/100\n",
      "79/79 [==============================] - 1s 7ms/step - loss: 0.0098 - accuracy: 0.9988 - val_loss: 0.8504 - val_accuracy: 0.8160\n",
      "Epoch 85/100\n",
      "79/79 [==============================] - 1s 6ms/step - loss: 0.0088 - accuracy: 0.9992 - val_loss: 0.8396 - val_accuracy: 0.8220\n",
      "Epoch 86/100\n",
      "79/79 [==============================] - 1s 6ms/step - loss: 0.0104 - accuracy: 0.9988 - val_loss: 0.8234 - val_accuracy: 0.8260\n",
      "Epoch 87/100\n",
      "79/79 [==============================] - 1s 6ms/step - loss: 0.0100 - accuracy: 0.9992 - val_loss: 0.9400 - val_accuracy: 0.8060\n",
      "Epoch 88/100\n",
      "79/79 [==============================] - 1s 7ms/step - loss: 0.0138 - accuracy: 0.9976 - val_loss: 0.8685 - val_accuracy: 0.8180\n",
      "Epoch 89/100\n",
      "79/79 [==============================] - 1s 7ms/step - loss: 0.0092 - accuracy: 0.9988 - val_loss: 0.9351 - val_accuracy: 0.8120\n",
      "Epoch 90/100\n",
      "79/79 [==============================] - 1s 7ms/step - loss: 0.0085 - accuracy: 0.9984 - val_loss: 0.9807 - val_accuracy: 0.8020\n",
      "Epoch 91/100\n",
      "79/79 [==============================] - 1s 6ms/step - loss: 0.0079 - accuracy: 0.9992 - val_loss: 0.9943 - val_accuracy: 0.7920\n",
      "Epoch 92/100\n",
      "79/79 [==============================] - 1s 6ms/step - loss: 0.0078 - accuracy: 0.9992 - val_loss: 0.8904 - val_accuracy: 0.8200\n",
      "Epoch 93/100\n",
      "79/79 [==============================] - 1s 7ms/step - loss: 0.0065 - accuracy: 0.9996 - val_loss: 0.8939 - val_accuracy: 0.8160\n",
      "Epoch 94/100\n",
      "79/79 [==============================] - 1s 7ms/step - loss: 0.0064 - accuracy: 0.9992 - val_loss: 0.9312 - val_accuracy: 0.8100\n",
      "Epoch 95/100\n",
      "79/79 [==============================] - 1s 6ms/step - loss: 0.0073 - accuracy: 0.9992 - val_loss: 0.8054 - val_accuracy: 0.8440\n",
      "Epoch 96/100\n",
      "79/79 [==============================] - 1s 6ms/step - loss: 0.0071 - accuracy: 0.9996 - val_loss: 0.8238 - val_accuracy: 0.8340\n",
      "Epoch 97/100\n",
      "79/79 [==============================] - 1s 7ms/step - loss: 0.0066 - accuracy: 0.9992 - val_loss: 0.8767 - val_accuracy: 0.8260\n",
      "Epoch 98/100\n",
      "79/79 [==============================] - 1s 7ms/step - loss: 0.0061 - accuracy: 0.9992 - val_loss: 0.8456 - val_accuracy: 0.8300\n",
      "Epoch 99/100\n",
      "79/79 [==============================] - 1s 6ms/step - loss: 0.0066 - accuracy: 0.9992 - val_loss: 0.8181 - val_accuracy: 0.8300\n",
      "Epoch 100/100\n",
      "79/79 [==============================] - 1s 7ms/step - loss: 0.0062 - accuracy: 0.9996 - val_loss: 0.8733 - val_accuracy: 0.8260\n"
     ]
    }
   ],
   "source": [
    "model.compile(optimizer=optimizers.Adam(learning_rate=0.0001),\n",
    "              loss='categorical_crossentropy',\n",
    "              metrics=['accuracy'])\n",
    "\n",
    "history = model.fit(train_X_ex,\n",
    "                    train_y,\n",
    "                    epochs=100,\n",
    "                    batch_size=32,\n",
    "                    verbose=1,\n",
    "                    validation_data=(test_X_ex, test_y))"
   ]
  },
  {
   "cell_type": "code",
   "execution_count": 36,
   "metadata": {},
   "outputs": [
    {
     "data": {
      "text/plain": [
       "<matplotlib.legend.Legend at 0x2a6e7459760>"
      ]
     },
     "execution_count": 36,
     "metadata": {},
     "output_type": "execute_result"
    },
    {
     "data": {
      "image/png": "[encoded data removed]",
      "text/plain": [
       "<Figure size 432x288 with 1 Axes>"
      ]
     },
     "metadata": {
      "needs_background": "light"
     },
     "output_type": "display_data"
    }
   ],
   "source": [
    "plt.plot(history.history['accuracy'][10:], label='Train Accuracy')\n",
    "plt.plot(history.history['val_accuracy'][10:], label='Validation Accuracy')\n",
    "plt.xlabel('Epochs')\n",
    "plt.ylabel('Accuracy')\n",
    "plt.legend()"
   ]
  },
  {
   "cell_type": "code",
   "execution_count": 37,
   "metadata": {},
   "outputs": [
    {
     "data": {
      "text/plain": [
       "<matplotlib.legend.Legend at 0x2a723f435e0>"
      ]
     },
     "execution_count": 37,
     "metadata": {},
     "output_type": "execute_result"
    },
    {
     "data": {
      "image/png": "[encoded data removed]",
      "text/plain": [
       "<Figure size 432x288 with 1 Axes>"
      ]
     },
     "metadata": {
      "needs_background": "light"
     },
     "output_type": "display_data"
    }
   ],
   "source": [
    "plt.plot(history.history['loss'][10:], label='Train Accuracy')\n",
    "plt.plot(history.history['val_loss'][10:], label='Validation Accuracy')\n",
    "plt.xlabel('Epochs')\n",
    "plt.ylabel('Accuracy')\n",
    "plt.legend()"
   ]
  },
  {
   "cell_type": "code",
   "execution_count": null,
   "metadata": {},
   "outputs": [],
   "source": []
  },
  {
   "cell_type": "code",
   "execution_count": null,
   "metadata": {},
   "outputs": [],
   "source": []
  }
 ],
 "metadata": {
  "kernelspec": {
   "display_name": "Python 3",
   "language": "python",
   "name": "python3"
  },
  "language_info": {
   "codemirror_mode": {
    "name": "ipython",
    "version": 3
   },
   "file_extension": ".py",
   "mimetype": "text/x-python",
   "name": "python",
   "nbconvert_exporter": "python",
   "pygments_lexer": "ipython3",
   "version": "3.8.5"
  }
 },
 "nbformat": 4,
 "nbformat_minor": 4
}
