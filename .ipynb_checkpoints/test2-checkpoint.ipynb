{
 "cells": [
  {
   "cell_type": "code",
   "execution_count": 2,
   "metadata": {},
   "outputs": [],
   "source": [
    "import matplotlib.pyplot as plt\n",
    "import os\n",
    "from scipy.io import wavfile\n",
    "from collections import defaultdict, Counter\n",
    "from scipy import signal\n",
    "import numpy as np\n",
    "import librosa\n",
    "import random as rn\n",
    "from keras.layers import Dense\n",
    "from keras import Input\n",
    "from keras.engine import Model\n",
    "from keras import optimizers\n",
    "from keras.utils import to_categorical\n",
    "from keras.layers import Dense, TimeDistributed, Dropout, Bidirectional, GRU, BatchNormalization, Activation, LeakyReLU, LSTM, Flatten, RepeatVector, Permute, Multiply, Conv2D, MaxPooling2D"
   ]
  },
  {
   "cell_type": "code",
   "execution_count": 3,
   "metadata": {},
   "outputs": [],
   "source": [
    "DATA_DIR = 'C:/Users/JLK/Downloads/free-spoken-digit-dataset-master/recordings/'\n",
    "#DATA_DIR = 'C:/Users/JLK/requirements/recordings/'"
   ]
  },
  {
   "cell_type": "code",
   "execution_count": 4,
   "metadata": {},
   "outputs": [
    {
     "name": "stdout",
     "output_type": "stream",
     "text": [
      "train_X: (2500, 30000)\n",
      "train_spectrograms: (2500, 1025, 40)\n",
      "train_mel_spectrograms (2500, 128, 40)\n",
      "train_mfccs (2500, 20, 40)\n",
      "train_y (2500, 10)\n",
      "test_X (500, 30000)\n",
      "test_spectrograms (500, 1025, 40)\n",
      "test_mel_spectrograms (500, 128, 40)\n",
      "test_mfccs (500, 20, 40)\n",
      "test_y (500, 10)\n"
     ]
    }
   ],
   "source": [
    "test_speaker = 'theo'\n",
    "train_X = []\n",
    "train_spectrograms = []\n",
    "train_mel_spectrograms = []\n",
    "train_mfccs = []\n",
    "train_y = []\n",
    "\n",
    "test_X = []\n",
    "test_spectrograms = []\n",
    "test_mel_spectrograms = []\n",
    "test_mfccs = []\n",
    "test_y = []\n",
    "\n",
    "pad1d = lambda a, i: a[0: i] if a.shape[0] > i else np.hstack((a, np.zeros(i - a.shape[0])))\n",
    "pad2d = lambda a, i: a[:, 0:i] if a.shape[1] > i else np.hstack((a, np.zeros((a.shape[0], i - a.shape[1]))))\n",
    "#STFT한 것, CNN분석하기 위해 Spectogram으로 만든 것, MF한 것, mel-spectogram한 것\n",
    "\n",
    "for fname in os.listdir(DATA_DIR):\n",
    "    try:\n",
    "        if '.wav' not in fname or 'dima' in fname:\n",
    "            continue\n",
    "        struct = fname.split('_')\n",
    "        digit = struct[0]\n",
    "        speaker = struct[1]\n",
    "        wav, sr = librosa.load(DATA_DIR + fname)\n",
    "        padded_x = pad1d(wav, 30000)\n",
    "        spectrogram = np.abs(librosa.stft(wav))\n",
    "        padded_spectogram = pad2d(spectrogram, 40)\n",
    "        \n",
    "        mel_spectogram = librosa.feature.melspectrogram(wav)\n",
    "        padded_mel_spectrogram = pad2d(mel_spectogram, 40)\n",
    "        \n",
    "        mfcc = librosa.feature.mfcc(wav)\n",
    "        padded_mfcc = pad2d(mfcc, 40)\n",
    "        \n",
    "        if speaker == test_speaker:\n",
    "            test_X.append(padded_x)\n",
    "            test_spectrograms.append(padded_spectogram)\n",
    "            test_mel_spectrograms.append(padded_mel_spectrogram)\n",
    "            test_mfccs.append(padded_mfcc)\n",
    "            test_y.append(digit)\n",
    "        else:\n",
    "            train_X.append(padded_x)\n",
    "            train_spectrograms.append(padded_spectogram)\n",
    "            train_mel_spectrograms.append(padded_mel_spectrogram)\n",
    "            train_mfccs.append(padded_mfcc)\n",
    "            train_y.append(digit)\n",
    "    except Exception as e:\n",
    "        print(fname, e)\n",
    "        raise\n",
    "        \n",
    "train_X = np.vstack(train_X)\n",
    "train_spectrograms = np.array(train_spectrograms)\n",
    "train_mel_spectrograms = np.array(train_mel_spectrograms)\n",
    "train_mfccs = np.array(train_mfccs)\n",
    "train_y = to_categorical(np.array(train_y))\n",
    "\n",
    "test_X = np.vstack(test_X)\n",
    "test_spectrograms = np.array(test_spectrograms)\n",
    "test_mel_spectrograms = np.array(test_mel_spectrograms)\n",
    "test_mfccs = np.array(test_mfccs)\n",
    "test_y = to_categorical(np.array(test_y))\n",
    "\n",
    "print('train_X:', train_X.shape)\n",
    "print('train_spectrograms:', train_spectrograms.shape)\n",
    "print('train_mel_spectrograms', train_mel_spectrograms.shape)\n",
    "print('train_mfccs', train_mfccs.shape)\n",
    "print('train_y', train_y.shape)\n",
    "\n",
    "print('test_X', test_X.shape)\n",
    "print('test_spectrograms', test_spectrograms.shape)\n",
    "print('test_mel_spectrograms', test_mel_spectrograms.shape)\n",
    "print('test_mfccs', test_mfccs.shape)\n",
    "print('test_y', test_y.shape)"
   ]
  },
  {
   "cell_type": "code",
   "execution_count": 5,
   "metadata": {},
   "outputs": [
    {
     "name": "stdout",
     "output_type": "stream",
     "text": [
      "Model: \"functional_1\"\n",
      "_________________________________________________________________\n",
      "Layer (type)                 Output Shape              Param #   \n",
      "=================================================================\n",
      "input_1 (InputLayer)         [(None, 30000)]           0         \n",
      "_________________________________________________________________\n",
      "dense (Dense)                (None, 128)               3840128   \n",
      "_________________________________________________________________\n",
      "dense_1 (Dense)              (None, 10)                1290      \n",
      "=================================================================\n",
      "Total params: 3,841,418\n",
      "Trainable params: 3,841,418\n",
      "Non-trainable params: 0\n",
      "_________________________________________________________________\n"
     ]
    }
   ],
   "source": [
    "ip = Input(shape=(train_X[0].shape))\n",
    "hidden = Dense(128, activation='relu')(ip)\n",
    "op = Dense(10, activation='softmax')(hidden)\n",
    "model = Model(ip, op)\n",
    "\n",
    "model.summary()"
   ]
  },
  {
   "cell_type": "code",
   "execution_count": 6,
   "metadata": {},
   "outputs": [
    {
     "name": "stdout",
     "output_type": "stream",
     "text": [
      "Epoch 1/10\n",
      "79/79 [==============================] - 1s 16ms/step - loss: 2.3066 - accuracy: 0.1604 - val_loss: 2.2981 - val_accuracy: 0.1780\n",
      "Epoch 2/10\n",
      "79/79 [==============================] - 1s 14ms/step - loss: 1.6916 - accuracy: 0.5384 - val_loss: 2.2981 - val_accuracy: 0.1620\n",
      "Epoch 3/10\n",
      "79/79 [==============================] - 1s 14ms/step - loss: 1.2480 - accuracy: 0.6868 - val_loss: 2.3077 - val_accuracy: 0.1480\n",
      "Epoch 4/10\n",
      "79/79 [==============================] - 1s 14ms/step - loss: 0.9528 - accuracy: 0.7716 - val_loss: 2.3133 - val_accuracy: 0.1520\n",
      "Epoch 5/10\n",
      "79/79 [==============================] - 1s 14ms/step - loss: 0.7363 - accuracy: 0.8324 - val_loss: 2.3377 - val_accuracy: 0.1560\n",
      "Epoch 6/10\n",
      "79/79 [==============================] - 1s 14ms/step - loss: 0.5980 - accuracy: 0.8672 - val_loss: 2.3507 - val_accuracy: 0.1620\n",
      "Epoch 7/10\n",
      "79/79 [==============================] - 1s 14ms/step - loss: 0.5085 - accuracy: 0.8944 - val_loss: 2.3646 - val_accuracy: 0.1540\n",
      "Epoch 8/10\n",
      "79/79 [==============================] - 1s 14ms/step - loss: 0.4420 - accuracy: 0.9120 - val_loss: 2.3793 - val_accuracy: 0.1460\n",
      "Epoch 9/10\n",
      "79/79 [==============================] - 1s 14ms/step - loss: 0.3886 - accuracy: 0.9276 - val_loss: 2.3977 - val_accuracy: 0.1540\n",
      "Epoch 10/10\n",
      "79/79 [==============================] - 1s 14ms/step - loss: 0.3428 - accuracy: 0.9416 - val_loss: 2.4135 - val_accuracy: 0.1600\n"
     ]
    }
   ],
   "source": [
    "model.compile(loss='categorical_crossentropy',\n",
    "             optimizer='adam',\n",
    "             metrics=['accuracy'])\n",
    "\n",
    "history = model.fit(train_X,\n",
    "                   train_y,\n",
    "                   epochs=10,\n",
    "                   batch_size=32,\n",
    "                   validation_data=(test_X, test_y))"
   ]
  },
  {
   "cell_type": "code",
   "execution_count": 7,
   "metadata": {},
   "outputs": [
    {
     "data": {
      "text/plain": [
       "<matplotlib.legend.Legend at 0x1ff63c5fb20>"
      ]
     },
     "execution_count": 7,
     "metadata": {},
     "output_type": "execute_result"
    },
    {
     "data": {
      "image/png": "[encoded data removed]",
      "text/plain": [
       "<Figure size 432x288 with 1 Axes>"
      ]
     },
     "metadata": {
      "needs_background": "light"
     },
     "output_type": "display_data"
    }
   ],
   "source": [
    "plt.plot(history.history['accuracy'], label='Train Accuracy')\n",
    "plt.plot(history.history['val_accuracy'], label='Validation Accuracy')\n",
    "plt.xlabel('Epochs')\n",
    "plt.ylabel('Accuracy')\n",
    "plt.legend()"
   ]
  },
  {
   "cell_type": "code",
   "execution_count": 8,
   "metadata": {},
   "outputs": [
    {
     "name": "stdout",
     "output_type": "stream",
     "text": [
      "train X shape: (2500, 20, 40, 1)\n",
      "test X shape: (500, 20, 40, 1)\n"
     ]
    }
   ],
   "source": [
    "train_X_ex = np.expand_dims(train_mfccs, -1)\n",
    "test_X_ex = np.expand_dims(test_mfccs, -1)\n",
    "print('train X shape:', train_X_ex.shape)\n",
    "print('test X shape:', test_X_ex.shape)"
   ]
  },
  {
   "cell_type": "code",
   "execution_count": 9,
   "metadata": {},
   "outputs": [
    {
     "name": "stdout",
     "output_type": "stream",
     "text": [
      "Model: \"functional_3\"\n",
      "_________________________________________________________________\n",
      "Layer (type)                 Output Shape              Param #   \n",
      "=================================================================\n",
      "input_2 (InputLayer)         [(None, 20, 40, 1)]       0         \n",
      "_________________________________________________________________\n",
      "conv2d (Conv2D)              (None, 17, 37, 64)        1088      \n",
      "_________________________________________________________________\n",
      "max_pooling2d (MaxPooling2D) (None, 4, 9, 64)          0         \n",
      "_________________________________________________________________\n",
      "flatten (Flatten)            (None, 2304)              0         \n",
      "_________________________________________________________________\n",
      "dense_2 (Dense)              (None, 32)                73760     \n",
      "_________________________________________________________________\n",
      "dense_3 (Dense)              (None, 10)                330       \n",
      "=================================================================\n",
      "Total params: 75,178\n",
      "Trainable params: 75,178\n",
      "Non-trainable params: 0\n",
      "_________________________________________________________________\n"
     ]
    }
   ],
   "source": [
    "ip = Input(shape=train_X_ex[0].shape)\n",
    "m = Conv2D(64, kernel_size=(4,4), activation='relu')(ip)\n",
    "m = MaxPooling2D(pool_size=(4,4))(m)\n",
    "\n",
    "\n",
    "m=Flatten()(m)\n",
    "m=Dense(32, activation='relu')(m)\n",
    "op=Dense(10, activation='softmax')(m)\n",
    "\n",
    "model = Model(ip, op)\n",
    "\n",
    "model.summary()\n"
   ]
  },
  {
   "cell_type": "code",
   "execution_count": 10,
   "metadata": {},
   "outputs": [
    {
     "name": "stdout",
     "output_type": "stream",
     "text": [
      "Epoch 1/100\n",
      "79/79 [==============================] - 1s 8ms/step - loss: 3.7851 - accuracy: 0.1056 - val_loss: 2.3271 - val_accuracy: 0.1020\n",
      "Epoch 2/100\n",
      "79/79 [==============================] - 0s 6ms/step - loss: 2.2581 - accuracy: 0.1228 - val_loss: 2.3018 - val_accuracy: 0.1140\n",
      "Epoch 3/100\n",
      "79/79 [==============================] - 0s 6ms/step - loss: 2.2428 - accuracy: 0.1288 - val_loss: 2.2964 - val_accuracy: 0.1060\n",
      "Epoch 4/100\n",
      "79/79 [==============================] - 0s 6ms/step - loss: 2.2139 - accuracy: 0.1432 - val_loss: 2.2428 - val_accuracy: 0.1300\n",
      "Epoch 5/100\n",
      "79/79 [==============================] - 0s 6ms/step - loss: 2.2054 - accuracy: 0.1440 - val_loss: 2.2454 - val_accuracy: 0.1300\n",
      "Epoch 6/100\n",
      "79/79 [==============================] - 0s 6ms/step - loss: 2.1825 - accuracy: 0.1488 - val_loss: 2.2377 - val_accuracy: 0.1320\n",
      "Epoch 7/100\n",
      "79/79 [==============================] - 0s 6ms/step - loss: 2.1588 - accuracy: 0.1600 - val_loss: 2.1767 - val_accuracy: 0.1700\n",
      "Epoch 8/100\n",
      "79/79 [==============================] - 0s 6ms/step - loss: 2.1421 - accuracy: 0.1688 - val_loss: 2.1514 - val_accuracy: 0.1740\n",
      "Epoch 9/100\n",
      "79/79 [==============================] - 0s 6ms/step - loss: 2.1575 - accuracy: 0.1688 - val_loss: 2.2265 - val_accuracy: 0.1420\n",
      "Epoch 10/100\n",
      "79/79 [==============================] - 0s 6ms/step - loss: 2.1185 - accuracy: 0.1716 - val_loss: 2.1014 - val_accuracy: 0.1880\n",
      "Epoch 11/100\n",
      "79/79 [==============================] - 0s 6ms/step - loss: 2.0851 - accuracy: 0.1836 - val_loss: 2.1932 - val_accuracy: 0.1620\n",
      "Epoch 12/100\n",
      "79/79 [==============================] - 0s 6ms/step - loss: 2.0706 - accuracy: 0.1956 - val_loss: 2.0508 - val_accuracy: 0.2200\n",
      "Epoch 13/100\n",
      "79/79 [==============================] - 0s 6ms/step - loss: 2.0461 - accuracy: 0.1880 - val_loss: 2.0688 - val_accuracy: 0.2220\n",
      "Epoch 14/100\n",
      "79/79 [==============================] - 0s 6ms/step - loss: 1.9836 - accuracy: 0.2016 - val_loss: 2.1289 - val_accuracy: 0.1760\n",
      "Epoch 15/100\n",
      "79/79 [==============================] - 0s 6ms/step - loss: 1.9728 - accuracy: 0.2140 - val_loss: 2.0505 - val_accuracy: 0.2320\n",
      "Epoch 16/100\n",
      "79/79 [==============================] - 0s 6ms/step - loss: 1.9477 - accuracy: 0.2220 - val_loss: 2.1505 - val_accuracy: 0.1500\n",
      "Epoch 17/100\n",
      "79/79 [==============================] - 0s 6ms/step - loss: 1.9479 - accuracy: 0.2212 - val_loss: 2.0017 - val_accuracy: 0.2280\n",
      "Epoch 18/100\n",
      "79/79 [==============================] - 0s 6ms/step - loss: 1.9652 - accuracy: 0.2316 - val_loss: 2.0794 - val_accuracy: 0.1940\n",
      "Epoch 19/100\n",
      "79/79 [==============================] - 0s 6ms/step - loss: 1.9503 - accuracy: 0.2232 - val_loss: 2.0295 - val_accuracy: 0.2180\n",
      "Epoch 20/100\n",
      "79/79 [==============================] - 0s 6ms/step - loss: 1.9153 - accuracy: 0.2284 - val_loss: 1.9553 - val_accuracy: 0.2440\n",
      "Epoch 21/100\n",
      "79/79 [==============================] - 0s 6ms/step - loss: 1.8997 - accuracy: 0.2308 - val_loss: 2.1432 - val_accuracy: 0.1420\n",
      "Epoch 22/100\n",
      "79/79 [==============================] - 0s 6ms/step - loss: 1.9115 - accuracy: 0.2320 - val_loss: 2.0357 - val_accuracy: 0.1900\n",
      "Epoch 23/100\n",
      "79/79 [==============================] - 0s 6ms/step - loss: 1.8410 - accuracy: 0.2480 - val_loss: 1.9418 - val_accuracy: 0.2500\n",
      "Epoch 24/100\n",
      "79/79 [==============================] - 0s 6ms/step - loss: 1.8236 - accuracy: 0.2544 - val_loss: 2.0795 - val_accuracy: 0.1600\n",
      "Epoch 25/100\n",
      "79/79 [==============================] - 0s 6ms/step - loss: 1.8141 - accuracy: 0.2552 - val_loss: 1.8861 - val_accuracy: 0.2400\n",
      "Epoch 26/100\n",
      "79/79 [==============================] - 0s 6ms/step - loss: 1.7948 - accuracy: 0.2588 - val_loss: 2.0519 - val_accuracy: 0.2340\n",
      "Epoch 27/100\n",
      "79/79 [==============================] - 0s 6ms/step - loss: 1.9754 - accuracy: 0.2080 - val_loss: 1.9340 - val_accuracy: 0.2000\n",
      "Epoch 28/100\n",
      "79/79 [==============================] - 0s 6ms/step - loss: 1.7721 - accuracy: 0.2556 - val_loss: 1.9165 - val_accuracy: 0.2460\n",
      "Epoch 29/100\n",
      "79/79 [==============================] - 0s 6ms/step - loss: 1.8213 - accuracy: 0.2456 - val_loss: 1.8466 - val_accuracy: 0.2400\n",
      "Epoch 30/100\n",
      "79/79 [==============================] - 0s 6ms/step - loss: 1.7438 - accuracy: 0.2624 - val_loss: 1.8573 - val_accuracy: 0.2380\n",
      "Epoch 31/100\n",
      "79/79 [==============================] - 0s 6ms/step - loss: 1.7364 - accuracy: 0.2496 - val_loss: 1.8820 - val_accuracy: 0.2160\n",
      "Epoch 32/100\n",
      "79/79 [==============================] - 0s 6ms/step - loss: 1.7115 - accuracy: 0.2568 - val_loss: 1.8243 - val_accuracy: 0.2520\n",
      "Epoch 33/100\n",
      "79/79 [==============================] - 0s 6ms/step - loss: 1.7547 - accuracy: 0.2564 - val_loss: 1.9412 - val_accuracy: 0.2400\n",
      "Epoch 34/100\n",
      "79/79 [==============================] - 0s 6ms/step - loss: 1.6917 - accuracy: 0.2704 - val_loss: 1.8232 - val_accuracy: 0.2460\n",
      "Epoch 35/100\n",
      "79/79 [==============================] - 0s 6ms/step - loss: 1.6963 - accuracy: 0.2636 - val_loss: 1.8106 - val_accuracy: 0.2400\n",
      "Epoch 36/100\n",
      "79/79 [==============================] - 0s 6ms/step - loss: 1.7077 - accuracy: 0.2708 - val_loss: 1.8026 - val_accuracy: 0.2640\n",
      "Epoch 37/100\n",
      "79/79 [==============================] - 0s 6ms/step - loss: 1.6662 - accuracy: 0.2732 - val_loss: 1.7973 - val_accuracy: 0.2600\n",
      "Epoch 38/100\n",
      "79/79 [==============================] - 0s 6ms/step - loss: 1.6576 - accuracy: 0.2748 - val_loss: 1.8069 - val_accuracy: 0.2400\n",
      "Epoch 39/100\n",
      "79/79 [==============================] - 0s 6ms/step - loss: 1.6753 - accuracy: 0.2692 - val_loss: 1.9312 - val_accuracy: 0.1940\n",
      "Epoch 40/100\n",
      "79/79 [==============================] - 0s 6ms/step - loss: 1.6875 - accuracy: 0.2828 - val_loss: 1.8380 - val_accuracy: 0.2260\n",
      "Epoch 41/100\n",
      "79/79 [==============================] - 0s 6ms/step - loss: 1.6560 - accuracy: 0.2768 - val_loss: 1.7712 - val_accuracy: 0.2720\n",
      "Epoch 42/100\n",
      "79/79 [==============================] - 0s 6ms/step - loss: 1.6661 - accuracy: 0.2680 - val_loss: 1.8037 - val_accuracy: 0.2480\n",
      "Epoch 43/100\n",
      "79/79 [==============================] - 0s 6ms/step - loss: 1.6445 - accuracy: 0.2872 - val_loss: 1.8040 - val_accuracy: 0.2640\n",
      "Epoch 44/100\n",
      "79/79 [==============================] - 0s 6ms/step - loss: 1.6500 - accuracy: 0.2848 - val_loss: 1.8397 - val_accuracy: 0.2100\n",
      "Epoch 45/100\n",
      "79/79 [==============================] - 0s 6ms/step - loss: 1.6420 - accuracy: 0.2868 - val_loss: 1.9190 - val_accuracy: 0.1740\n",
      "Epoch 46/100\n",
      "79/79 [==============================] - 0s 6ms/step - loss: 1.6484 - accuracy: 0.2732 - val_loss: 1.8153 - val_accuracy: 0.2340\n",
      "Epoch 47/100\n",
      "79/79 [==============================] - 0s 6ms/step - loss: 1.6229 - accuracy: 0.2824 - val_loss: 1.7821 - val_accuracy: 0.2460\n",
      "Epoch 48/100\n",
      "79/79 [==============================] - 1s 6ms/step - loss: 1.6415 - accuracy: 0.2732 - val_loss: 1.8052 - val_accuracy: 0.2260\n",
      "Epoch 49/100\n",
      "79/79 [==============================] - 0s 6ms/step - loss: 1.6156 - accuracy: 0.2932 - val_loss: 1.8062 - val_accuracy: 0.2500\n",
      "Epoch 50/100\n",
      "79/79 [==============================] - 0s 6ms/step - loss: 1.6044 - accuracy: 0.3100 - val_loss: 1.8022 - val_accuracy: 0.2300\n",
      "Epoch 51/100\n",
      "79/79 [==============================] - 0s 6ms/step - loss: 1.6129 - accuracy: 0.2896 - val_loss: 1.7798 - val_accuracy: 0.2500\n",
      "Epoch 52/100\n",
      "79/79 [==============================] - 0s 6ms/step - loss: 1.6247 - accuracy: 0.2900 - val_loss: 1.8822 - val_accuracy: 0.2100\n",
      "Epoch 53/100\n",
      "79/79 [==============================] - 0s 6ms/step - loss: 1.6167 - accuracy: 0.2964 - val_loss: 1.9325 - val_accuracy: 0.1680\n",
      "Epoch 54/100\n",
      "79/79 [==============================] - 0s 6ms/step - loss: 1.6105 - accuracy: 0.2908 - val_loss: 1.8201 - val_accuracy: 0.2160\n",
      "Epoch 55/100\n",
      "79/79 [==============================] - 0s 6ms/step - loss: 1.5979 - accuracy: 0.2988 - val_loss: 2.0129 - val_accuracy: 0.2380\n",
      "Epoch 56/100\n",
      "79/79 [==============================] - 0s 6ms/step - loss: 1.7863 - accuracy: 0.2588 - val_loss: 1.9229 - val_accuracy: 0.1860\n",
      "Epoch 57/100\n",
      "79/79 [==============================] - 0s 6ms/step - loss: 1.6125 - accuracy: 0.2840 - val_loss: 1.8088 - val_accuracy: 0.2200\n",
      "Epoch 58/100\n",
      "79/79 [==============================] - 0s 6ms/step - loss: 1.5804 - accuracy: 0.3088 - val_loss: 1.7863 - val_accuracy: 0.2240\n"
     ]
    },
    {
     "name": "stdout",
     "output_type": "stream",
     "text": [
      "Epoch 59/100\n",
      "79/79 [==============================] - 0s 6ms/step - loss: 1.5784 - accuracy: 0.3004 - val_loss: 1.8175 - val_accuracy: 0.2240\n",
      "Epoch 60/100\n",
      "79/79 [==============================] - 0s 6ms/step - loss: 1.5828 - accuracy: 0.3012 - val_loss: 1.7802 - val_accuracy: 0.2640\n",
      "Epoch 61/100\n",
      "79/79 [==============================] - 0s 6ms/step - loss: 1.5834 - accuracy: 0.3000 - val_loss: 1.7657 - val_accuracy: 0.2460\n",
      "Epoch 62/100\n",
      "79/79 [==============================] - 0s 6ms/step - loss: 1.6042 - accuracy: 0.3020 - val_loss: 1.9378 - val_accuracy: 0.2000\n",
      "Epoch 63/100\n",
      "79/79 [==============================] - 0s 6ms/step - loss: 1.6478 - accuracy: 0.2812 - val_loss: 1.7883 - val_accuracy: 0.2480\n",
      "Epoch 64/100\n",
      "79/79 [==============================] - 0s 6ms/step - loss: 1.5916 - accuracy: 0.2872 - val_loss: 1.7952 - val_accuracy: 0.2280\n",
      "Epoch 65/100\n",
      "79/79 [==============================] - 0s 6ms/step - loss: 1.5921 - accuracy: 0.2976 - val_loss: 1.7668 - val_accuracy: 0.2400\n",
      "Epoch 66/100\n",
      "79/79 [==============================] - 0s 6ms/step - loss: 1.5662 - accuracy: 0.3168 - val_loss: 1.8039 - val_accuracy: 0.2300\n",
      "Epoch 67/100\n",
      "79/79 [==============================] - 0s 6ms/step - loss: 1.5657 - accuracy: 0.3116 - val_loss: 1.7656 - val_accuracy: 0.2460\n",
      "Epoch 68/100\n",
      "79/79 [==============================] - 0s 6ms/step - loss: 1.5528 - accuracy: 0.3228 - val_loss: 1.7657 - val_accuracy: 0.2360\n",
      "Epoch 69/100\n",
      "79/79 [==============================] - 0s 6ms/step - loss: 1.5936 - accuracy: 0.2992 - val_loss: 1.7871 - val_accuracy: 0.2440\n",
      "Epoch 70/100\n",
      "79/79 [==============================] - 0s 6ms/step - loss: 1.5560 - accuracy: 0.3064 - val_loss: 1.7865 - val_accuracy: 0.2340\n",
      "Epoch 71/100\n",
      "79/79 [==============================] - 0s 6ms/step - loss: 1.6913 - accuracy: 0.2768 - val_loss: 1.7766 - val_accuracy: 0.2340\n",
      "Epoch 72/100\n",
      "79/79 [==============================] - 0s 6ms/step - loss: 1.5705 - accuracy: 0.2888 - val_loss: 1.7973 - val_accuracy: 0.2060\n",
      "Epoch 73/100\n",
      "79/79 [==============================] - 0s 6ms/step - loss: 1.5497 - accuracy: 0.3112 - val_loss: 1.7432 - val_accuracy: 0.2440\n",
      "Epoch 74/100\n",
      "79/79 [==============================] - 0s 6ms/step - loss: 1.5422 - accuracy: 0.3232 - val_loss: 1.7579 - val_accuracy: 0.2320\n",
      "Epoch 75/100\n",
      "79/79 [==============================] - 0s 6ms/step - loss: 1.5341 - accuracy: 0.3224 - val_loss: 1.7414 - val_accuracy: 0.2480\n",
      "Epoch 76/100\n",
      "79/79 [==============================] - 0s 6ms/step - loss: 1.5485 - accuracy: 0.3172 - val_loss: 1.7624 - val_accuracy: 0.2580\n",
      "Epoch 77/100\n",
      "79/79 [==============================] - 0s 6ms/step - loss: 1.5469 - accuracy: 0.3084 - val_loss: 1.7527 - val_accuracy: 0.2500\n",
      "Epoch 78/100\n",
      "79/79 [==============================] - 0s 6ms/step - loss: 1.5324 - accuracy: 0.3264 - val_loss: 1.7879 - val_accuracy: 0.2340\n",
      "Epoch 79/100\n",
      "79/79 [==============================] - 1s 6ms/step - loss: 1.5729 - accuracy: 0.3128 - val_loss: 1.7595 - val_accuracy: 0.2460\n",
      "Epoch 80/100\n",
      "79/79 [==============================] - 1s 7ms/step - loss: 1.5467 - accuracy: 0.3188 - val_loss: 1.7513 - val_accuracy: 0.2620\n",
      "Epoch 81/100\n",
      "79/79 [==============================] - 0s 6ms/step - loss: 1.5251 - accuracy: 0.3400 - val_loss: 1.7480 - val_accuracy: 0.2840\n",
      "Epoch 82/100\n",
      "79/79 [==============================] - 0s 6ms/step - loss: 1.5756 - accuracy: 0.3184 - val_loss: 1.7107 - val_accuracy: 0.2520\n",
      "Epoch 83/100\n",
      "79/79 [==============================] - 0s 6ms/step - loss: 1.5429 - accuracy: 0.3320 - val_loss: 1.7272 - val_accuracy: 0.2540\n",
      "Epoch 84/100\n",
      "79/79 [==============================] - 0s 6ms/step - loss: 1.5458 - accuracy: 0.3168 - val_loss: 1.7694 - val_accuracy: 0.2400\n",
      "Epoch 85/100\n",
      "79/79 [==============================] - 0s 6ms/step - loss: 1.5227 - accuracy: 0.3360 - val_loss: 1.7169 - val_accuracy: 0.2680\n",
      "Epoch 86/100\n",
      "79/79 [==============================] - 0s 6ms/step - loss: 1.5047 - accuracy: 0.3504 - val_loss: 1.6857 - val_accuracy: 0.2740\n",
      "Epoch 87/100\n",
      "79/79 [==============================] - 0s 6ms/step - loss: 1.5666 - accuracy: 0.3260 - val_loss: 1.9209 - val_accuracy: 0.2640\n",
      "Epoch 88/100\n",
      "79/79 [==============================] - 0s 6ms/step - loss: 1.5077 - accuracy: 0.3424 - val_loss: 1.7249 - val_accuracy: 0.2640\n",
      "Epoch 89/100\n",
      "79/79 [==============================] - 0s 6ms/step - loss: 1.5063 - accuracy: 0.3380 - val_loss: 1.6950 - val_accuracy: 0.2660\n",
      "Epoch 90/100\n",
      "79/79 [==============================] - 0s 6ms/step - loss: 1.5332 - accuracy: 0.3276 - val_loss: 1.7702 - val_accuracy: 0.2220\n",
      "Epoch 91/100\n",
      "79/79 [==============================] - 0s 6ms/step - loss: 1.5013 - accuracy: 0.3468 - val_loss: 1.6790 - val_accuracy: 0.2880\n",
      "Epoch 92/100\n",
      "79/79 [==============================] - 0s 6ms/step - loss: 1.4724 - accuracy: 0.3596 - val_loss: 1.7037 - val_accuracy: 0.2580\n",
      "Epoch 93/100\n",
      "79/79 [==============================] - 0s 6ms/step - loss: 1.4752 - accuracy: 0.3512 - val_loss: 1.7099 - val_accuracy: 0.2740\n",
      "Epoch 94/100\n",
      "79/79 [==============================] - 0s 6ms/step - loss: 1.4645 - accuracy: 0.3512 - val_loss: 1.6953 - val_accuracy: 0.2600\n",
      "Epoch 95/100\n",
      "79/79 [==============================] - 0s 6ms/step - loss: 1.4916 - accuracy: 0.3396 - val_loss: 1.6756 - val_accuracy: 0.2780\n",
      "Epoch 96/100\n",
      "79/79 [==============================] - 0s 6ms/step - loss: 1.4947 - accuracy: 0.3496 - val_loss: 1.8370 - val_accuracy: 0.2180\n",
      "Epoch 97/100\n",
      "79/79 [==============================] - 0s 6ms/step - loss: 1.4693 - accuracy: 0.3484 - val_loss: 1.6838 - val_accuracy: 0.2760\n",
      "Epoch 98/100\n",
      "79/79 [==============================] - 0s 6ms/step - loss: 1.4510 - accuracy: 0.3616 - val_loss: 1.7082 - val_accuracy: 0.2640\n",
      "Epoch 99/100\n",
      "79/79 [==============================] - 0s 6ms/step - loss: 1.4795 - accuracy: 0.3528 - val_loss: 1.6465 - val_accuracy: 0.2780\n",
      "Epoch 100/100\n",
      "79/79 [==============================] - 0s 6ms/step - loss: 1.5178 - accuracy: 0.3284 - val_loss: 1.7199 - val_accuracy: 0.2720\n"
     ]
    }
   ],
   "source": [
    "model.compile(loss='categorical_crossentropy',\n",
    "             optimizer='adam',\n",
    "             metrics=['accuracy'])\n",
    "\n",
    "history = model.fit(train_X_ex,\n",
    "                    train_y,\n",
    "                    epochs=100,\n",
    "                    batch_size=32,\n",
    "                    verbose=1,\n",
    "                    validation_data=(test_X_ex, test_y))"
   ]
  },
  {
   "cell_type": "code",
   "execution_count": 11,
   "metadata": {},
   "outputs": [
    {
     "data": {
      "text/plain": [
       "<matplotlib.legend.Legend at 0x2003932fcd0>"
      ]
     },
     "execution_count": 11,
     "metadata": {},
     "output_type": "execute_result"
    },
    {
     "data": {
      "image/png": "[encoded data removed]",
      "text/plain": [
       "<Figure size 432x288 with 1 Axes>"
      ]
     },
     "metadata": {
      "needs_background": "light"
     },
     "output_type": "display_data"
    }
   ],
   "source": [
    "plt.plot(history.history['accuracy'], label='Train Accuracy')\n",
    "plt.plot(history.history['val_accuracy'], label='Validation Accuracy')\n",
    "plt.xlabel('Epochs')\n",
    "plt.ylabel('Accuracy')\n",
    "plt.legend()"
   ]
  },
  {
   "cell_type": "code",
   "execution_count": null,
   "metadata": {},
   "outputs": [],
   "source": []
  }
 ],
 "metadata": {
  "kernelspec": {
   "display_name": "Python 3",
   "language": "python",
   "name": "python3"
  },
  "language_info": {
   "codemirror_mode": {
    "name": "ipython",
    "version": 3
   },
   "file_extension": ".py",
   "mimetype": "text/x-python",
   "name": "python",
   "nbconvert_exporter": "python",
   "pygments_lexer": "ipython3",
   "version": "3.8.5"
  }
 },
 "nbformat": 4,
 "nbformat_minor": 4
}
