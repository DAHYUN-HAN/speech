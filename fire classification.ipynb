{
 "cells": [
  {
   "cell_type": "code",
   "execution_count": 1,
   "metadata": {},
   "outputs": [],
   "source": [
    "import matplotlib.pyplot as plt\n",
    "import os\n",
    "from scipy.io import wavfile\n",
    "from collections import defaultdict, Counter\n",
    "from scipy import signal\n",
    "import numpy as np\n",
    "import librosa\n",
    "import random as rn\n",
    "from keras.layers import Dense\n",
    "from keras import Input\n",
    "from keras.engine import Model\n",
    "from keras import optimizers\n",
    "from keras.utils import to_categorical\n",
    "from keras.layers import Dense, TimeDistributed, Dropout, Bidirectional, GRU, BatchNormalization, Activation, LeakyReLU, LSTM, Flatten, RepeatVector, Permute, Multiply, Conv2D, MaxPooling2D"
   ]
  },
  {
   "cell_type": "code",
   "execution_count": 20,
   "metadata": {},
   "outputs": [],
   "source": [
    "TRAIN_DATA_DIR = 'C:/Users/JLK/speech/data/train/final_audio/'\n",
    "TEST_DATA_DIR = 'C:/Users/JLK/speech/data/test/final_audio/'"
   ]
  },
  {
   "cell_type": "code",
   "execution_count": 21,
   "metadata": {},
   "outputs": [],
   "source": [
    "train_X = []\n",
    "train_spectrograms = []\n",
    "train_mel_spectrograms = []\n",
    "train_mfccs = []\n",
    "train_y = []\n",
    "\n",
    "test_X = []\n",
    "test_spectrograms = []\n",
    "test_mel_spectrograms = []\n",
    "test_mfccs = []\n",
    "test_y = []\n",
    "\n",
    "pad1d = lambda a, i: a[0: i] if a.shape[0] > i else np.hstack((a, np.zeros(i - a.shape[0])))\n",
    "pad2d = lambda a, i: a[:, 0: i] if a.shape[1] > i else np.hstack((a, np.zeros((a.shape[0],i - a.shape[1]))))\n",
    "#STFT한 것, CNN분석하기 위해 Spectogram으로 만든 것, MF한 것, mel-spectogram한 것"
   ]
  },
  {
   "cell_type": "code",
   "execution_count": 22,
   "metadata": {},
   "outputs": [],
   "source": [
    "for fname in os.listdir(TRAIN_DATA_DIR):\n",
    "    try:\n",
    "        if '.wav' not in fname or 'dima' in fname:\n",
    "            continue\n",
    "        \n",
    "        wav, sr = librosa.load(TRAIN_DATA_DIR + fname)\n",
    "        \n",
    "        mfcc = librosa.feature.mfcc(wav)\n",
    "        padded_mfcc = pad2d(mfcc, 40)\n",
    "        \n",
    "        train_mfccs.append(padded_mfcc)\n",
    "        train_y.append(0)\n",
    "    except Exception as e:\n",
    "        print(fname, e)\n",
    "        raise"
   ]
  },
  {
   "cell_type": "code",
   "execution_count": 23,
   "metadata": {},
   "outputs": [],
   "source": [
    "TRAIN_NEGATIVE_DATA_DIR = 'C:/Users/JLK/speech/data/train/negative/'\n",
    "TEST_NEGATIVE_DATA_DIR = 'C:/Users/JLK/speech/data/test/negative/'"
   ]
  },
  {
   "cell_type": "code",
   "execution_count": 24,
   "metadata": {},
   "outputs": [],
   "source": [
    "for fname in os.listdir(TRAIN_NEGATIVE_DATA_DIR):\n",
    "    try:\n",
    "        if '.wav' not in fname or 'dima' in fname:\n",
    "            continue\n",
    "        \n",
    "        wav, sr = librosa.load(TRAIN_NEGATIVE_DATA_DIR + fname)\n",
    "        \n",
    "        mfcc = librosa.feature.mfcc(wav)\n",
    "        padded_mfcc = pad2d(mfcc, 40)\n",
    "        \n",
    "        train_mfccs.append(padded_mfcc)\n",
    "        train_y.append(1)\n",
    "    except Exception as e:\n",
    "        print(fname, e)\n",
    "        raise"
   ]
  },
  {
   "cell_type": "code",
   "execution_count": 25,
   "metadata": {},
   "outputs": [],
   "source": [
    "for fname in os.listdir(TEST_DATA_DIR):\n",
    "    try:\n",
    "        if '.wav' not in fname or 'dima' in fname:\n",
    "            continue\n",
    "        \n",
    "        wav, sr = librosa.load(TEST_DATA_DIR + fname)\n",
    "        \n",
    "        mfcc = librosa.feature.mfcc(wav)\n",
    "        padded_mfcc = pad2d(mfcc, 40)\n",
    "        \n",
    "        test_mfccs.append(padded_mfcc)\n",
    "        test_y.append(0)\n",
    "    except Exception as e:\n",
    "        print(fname, e)\n",
    "        raise"
   ]
  },
  {
   "cell_type": "code",
   "execution_count": 26,
   "metadata": {},
   "outputs": [],
   "source": [
    "for fname in os.listdir(TEST_NEGATIVE_DATA_DIR):\n",
    "    try:\n",
    "        if '.wav' not in fname or 'dima' in fname:\n",
    "            continue\n",
    "        \n",
    "        wav, sr = librosa.load(TEST_NEGATIVE_DATA_DIR + fname)\n",
    "        \n",
    "        mfcc = librosa.feature.mfcc(wav)\n",
    "        padded_mfcc = pad2d(mfcc, 40)\n",
    "        \n",
    "        test_mfccs.append(padded_mfcc)\n",
    "        test_y.append(1)\n",
    "    except Exception as e:\n",
    "        print(fname, e)\n",
    "        raise"
   ]
  },
  {
   "cell_type": "code",
   "execution_count": 27,
   "metadata": {},
   "outputs": [
    {
     "data": {
      "text/plain": [
       "(20001,)"
      ]
     },
     "execution_count": 27,
     "metadata": {},
     "output_type": "execute_result"
    }
   ],
   "source": [
    "wav.shape"
   ]
  },
  {
   "cell_type": "code",
   "execution_count": 28,
   "metadata": {},
   "outputs": [
    {
     "name": "stdout",
     "output_type": "stream",
     "text": [
      "train_mfccs (726, 20, 40)\n",
      "train_y (726,)\n",
      "test_mfccs (155, 20, 40)\n",
      "test_y (155,)\n"
     ]
    }
   ],
   "source": [
    "\n",
    "train_mfccs = np.array(train_mfccs)\n",
    "train_y = np.array(train_y)\n",
    "\n",
    "test_mfccs = np.array(test_mfccs)\n",
    "test_y = np.array(test_y)\n",
    "\n",
    "print('train_mfccs', train_mfccs.shape)\n",
    "print('train_y', train_y.shape)\n",
    "\n",
    "print('test_mfccs', test_mfccs.shape)\n",
    "print('test_y', test_y.shape)"
   ]
  },
  {
   "cell_type": "code",
   "execution_count": 29,
   "metadata": {},
   "outputs": [
    {
     "name": "stdout",
     "output_type": "stream",
     "text": [
      "train X shape: (726, 20, 40, 1)\n",
      "test X shape: (155, 20, 40, 1)\n"
     ]
    }
   ],
   "source": [
    "train_X_ex = np.expand_dims(train_mfccs, -1)\n",
    "test_X_ex = np.expand_dims(test_mfccs, -1)\n",
    "print('train X shape:', train_X_ex.shape)\n",
    "print('test X shape:', test_X_ex.shape)"
   ]
  },
  {
   "cell_type": "code",
   "execution_count": 41,
   "metadata": {},
   "outputs": [],
   "source": [
    "np.save(os.path.join(\"data/dataset\", \"train_X.npy\"), train_X_ex)\n",
    "np.save(os.path.join(\"data/dataset\", \"train_y.npy\"), np.array(train_y))\n",
    "np.save(os.path.join(\"data/dataset\", \"test_X.npy\"), test_X_ex)\n",
    "np.save(os.path.join(\"data/dataset\", \"test_y.npy\"), np.array(test_y))"
   ]
  },
  {
   "cell_type": "code",
   "execution_count": 42,
   "metadata": {},
   "outputs": [],
   "source": [
    "train_X_ex = np.load(os.path.join('data/dataset', 'train_X.npy'))\n",
    "train_y = np.load(os.path.join('data/dataset', 'train_y.npy'))\n",
    "test_X_ex = np.load(os.path.join('data/dataset', 'test_X.npy'))\n",
    "test_y = np.load(os.path.join('data/dataset', 'test_y.npy'))"
   ]
  },
  {
   "cell_type": "code",
   "execution_count": 43,
   "metadata": {},
   "outputs": [],
   "source": [
    "from sklearn.utils import shuffle\n",
    "train_X_ex, train_y = shuffle(train_X_ex, train_y, random_state=1523)\n",
    "test_X_ex, test_y = shuffle(test_X_ex, test_y, random_state=1523)"
   ]
  },
  {
   "cell_type": "code",
   "execution_count": 72,
   "metadata": {},
   "outputs": [
    {
     "data": {
      "text/plain": [
       "array([0, 0, 1, 0, 1, 0, 1, 1, 1, 0, 0, 1, 0, 1, 1, 1, 1, 0, 1, 1, 0, 1,\n",
       "       0, 1, 0, 1, 0, 1, 1, 1, 0, 1, 1, 1, 0, 1, 0, 0, 0, 1, 1, 0, 1, 0,\n",
       "       0, 0, 0, 1, 0, 0, 1, 1, 1, 1, 1, 1, 0, 0, 1, 1, 0, 1, 0, 1, 0, 0,\n",
       "       0, 1, 1, 0, 1, 0, 0, 0, 1, 0, 0, 1, 0, 1, 1, 1, 0, 0, 0, 0, 1, 1,\n",
       "       1, 0, 0, 1, 1, 1, 0, 1, 1, 1, 1, 0, 1, 1, 0, 1, 1, 1, 0, 1, 1, 0,\n",
       "       0, 1, 0, 0, 0, 0, 0, 0, 0, 1, 0, 1, 1, 0, 1, 0, 0, 1, 1, 1, 0, 1,\n",
       "       1, 0, 0, 1, 1, 0, 1, 1, 1, 1, 0, 0, 0, 1, 1, 0, 0, 0, 0, 1, 1, 1,\n",
       "       1])"
      ]
     },
     "execution_count": 72,
     "metadata": {},
     "output_type": "execute_result"
    }
   ],
   "source": [
    "test_y"
   ]
  },
  {
   "cell_type": "code",
   "execution_count": null,
   "metadata": {},
   "outputs": [],
   "source": []
  },
  {
   "cell_type": "code",
   "execution_count": 73,
   "metadata": {},
   "outputs": [
    {
     "name": "stdout",
     "output_type": "stream",
     "text": [
      "Model: \"functional_31\"\n",
      "_________________________________________________________________\n",
      "Layer (type)                 Output Shape              Param #   \n",
      "=================================================================\n",
      "input_16 (InputLayer)        [(None, 20, 40, 1)]       0         \n",
      "_________________________________________________________________\n",
      "conv2d_15 (Conv2D)           (None, 17, 37, 64)        1088      \n",
      "_________________________________________________________________\n",
      "max_pooling2d_15 (MaxPooling (None, 4, 9, 64)          0         \n",
      "_________________________________________________________________\n",
      "flatten_15 (Flatten)         (None, 2304)              0         \n",
      "_________________________________________________________________\n",
      "dense_30 (Dense)             (None, 32)                73760     \n",
      "_________________________________________________________________\n",
      "dense_31 (Dense)             (None, 1)                 33        \n",
      "=================================================================\n",
      "Total params: 74,881\n",
      "Trainable params: 74,881\n",
      "Non-trainable params: 0\n",
      "_________________________________________________________________\n"
     ]
    }
   ],
   "source": [
    "ip = Input(shape=train_X_ex[0].shape)\n",
    "m = Conv2D(64, kernel_size=(4,4), activation='relu')(ip)\n",
    "m = MaxPooling2D(pool_size=(4,4))(m)\n",
    "\n",
    "\n",
    "m=Flatten()(m)\n",
    "m=Dense(32, activation='relu')(m)\n",
    "op=Dense(1, activation='sigmoid')(m)\n",
    "\n",
    "model = Model(ip, op)\n",
    "\n",
    "model.summary()"
   ]
  },
  {
   "cell_type": "code",
   "execution_count": 74,
   "metadata": {},
   "outputs": [
    {
     "name": "stdout",
     "output_type": "stream",
     "text": [
      "Epoch 1/30\n",
      "23/23 [==============================] - 0s 11ms/step - loss: 13.3884 - accuracy: 0.5041 - val_loss: 12.6874 - val_accuracy: 0.5355\n",
      "Epoch 2/30\n",
      "23/23 [==============================] - 0s 7ms/step - loss: 13.3291 - accuracy: 0.5041 - val_loss: 12.6338 - val_accuracy: 0.5355\n",
      "Epoch 3/30\n",
      "23/23 [==============================] - 0s 6ms/step - loss: 13.2696 - accuracy: 0.5041 - val_loss: 12.5796 - val_accuracy: 0.5355\n",
      "Epoch 4/30\n",
      "23/23 [==============================] - ETA: 0s - loss: 13.2061 - accuracy: 0.503 - 0s 6ms/step - loss: 13.2101 - accuracy: 0.5041 - val_loss: 12.5252 - val_accuracy: 0.5355\n",
      "Epoch 5/30\n",
      "23/23 [==============================] - 0s 6ms/step - loss: 13.1506 - accuracy: 0.5041 - val_loss: 12.4711 - val_accuracy: 0.5355\n",
      "Epoch 6/30\n",
      "23/23 [==============================] - 0s 6ms/step - loss: 13.0914 - accuracy: 0.5041 - val_loss: 12.4165 - val_accuracy: 0.5355\n",
      "Epoch 7/30\n",
      "23/23 [==============================] - 0s 6ms/step - loss: 13.0316 - accuracy: 0.5041 - val_loss: 12.3632 - val_accuracy: 0.5355\n",
      "Epoch 8/30\n",
      "23/23 [==============================] - 0s 6ms/step - loss: 12.9724 - accuracy: 0.5041 - val_loss: 12.3095 - val_accuracy: 0.5355\n",
      "Epoch 9/30\n",
      "23/23 [==============================] - 0s 6ms/step - loss: 12.9138 - accuracy: 0.5041 - val_loss: 12.2549 - val_accuracy: 0.5355\n",
      "Epoch 10/30\n",
      "23/23 [==============================] - 0s 6ms/step - loss: 12.8538 - accuracy: 0.5041 - val_loss: 12.2016 - val_accuracy: 0.5355\n",
      "Epoch 11/30\n",
      "23/23 [==============================] - 0s 6ms/step - loss: 12.7950 - accuracy: 0.5041 - val_loss: 12.1474 - val_accuracy: 0.5355\n",
      "Epoch 12/30\n",
      "23/23 [==============================] - 0s 6ms/step - loss: 12.7356 - accuracy: 0.5041 - val_loss: 12.0936 - val_accuracy: 0.5355\n",
      "Epoch 13/30\n",
      "23/23 [==============================] - 0s 6ms/step - loss: 12.6769 - accuracy: 0.5041 - val_loss: 12.0393 - val_accuracy: 0.5355\n",
      "Epoch 14/30\n",
      "23/23 [==============================] - 0s 6ms/step - loss: 12.6172 - accuracy: 0.5041 - val_loss: 11.9858 - val_accuracy: 0.5355\n",
      "Epoch 15/30\n",
      "23/23 [==============================] - 0s 6ms/step - loss: 12.5587 - accuracy: 0.5041 - val_loss: 11.9319 - val_accuracy: 0.5355\n",
      "Epoch 16/30\n",
      "23/23 [==============================] - 0s 6ms/step - loss: 12.4996 - accuracy: 0.5041 - val_loss: 11.8779 - val_accuracy: 0.5355\n",
      "Epoch 17/30\n",
      "23/23 [==============================] - 0s 6ms/step - loss: 12.4410 - accuracy: 0.5041 - val_loss: 11.8239 - val_accuracy: 0.5355\n",
      "Epoch 18/30\n",
      "23/23 [==============================] - 0s 6ms/step - loss: 12.3819 - accuracy: 0.5041 - val_loss: 11.7706 - val_accuracy: 0.5355\n",
      "Epoch 19/30\n",
      "23/23 [==============================] - 0s 6ms/step - loss: 12.3231 - accuracy: 0.5041 - val_loss: 11.7176 - val_accuracy: 0.5355\n",
      "Epoch 20/30\n",
      "23/23 [==============================] - 0s 6ms/step - loss: 12.2650 - accuracy: 0.5041 - val_loss: 11.6636 - val_accuracy: 0.5355\n",
      "Epoch 21/30\n",
      "23/23 [==============================] - 0s 6ms/step - loss: 12.2060 - accuracy: 0.5041 - val_loss: 11.6101 - val_accuracy: 0.5355\n",
      "Epoch 22/30\n",
      "23/23 [==============================] - 0s 6ms/step - loss: 12.1471 - accuracy: 0.5041 - val_loss: 11.5566 - val_accuracy: 0.5355\n",
      "Epoch 23/30\n",
      "23/23 [==============================] - 0s 6ms/step - loss: 12.0887 - accuracy: 0.5041 - val_loss: 11.5027 - val_accuracy: 0.5355\n",
      "Epoch 24/30\n",
      "23/23 [==============================] - ETA: 0s - loss: 11.8888 - accuracy: 0.509 - 0s 6ms/step - loss: 12.0299 - accuracy: 0.5041 - val_loss: 11.4499 - val_accuracy: 0.5355\n",
      "Epoch 25/30\n",
      "23/23 [==============================] - 0s 6ms/step - loss: 11.9715 - accuracy: 0.5041 - val_loss: 11.3965 - val_accuracy: 0.5355\n",
      "Epoch 26/30\n",
      "23/23 [==============================] - 0s 6ms/step - loss: 11.9141 - accuracy: 0.5041 - val_loss: 11.3410 - val_accuracy: 0.5355\n",
      "Epoch 27/30\n",
      "23/23 [==============================] - 0s 6ms/step - loss: 11.8546 - accuracy: 0.5041 - val_loss: 11.2882 - val_accuracy: 0.5355\n",
      "Epoch 28/30\n",
      "23/23 [==============================] - 0s 6ms/step - loss: 11.7964 - accuracy: 0.5041 - val_loss: 11.2354 - val_accuracy: 0.5355\n",
      "Epoch 29/30\n",
      "23/23 [==============================] - 0s 6ms/step - loss: 11.7387 - accuracy: 0.5041 - val_loss: 11.1813 - val_accuracy: 0.5355\n",
      "Epoch 30/30\n",
      "23/23 [==============================] - 0s 6ms/step - loss: 11.6800 - accuracy: 0.5041 - val_loss: 11.1284 - val_accuracy: 0.5355\n"
     ]
    }
   ],
   "source": [
    "model.compile(optimizer=optimizers.Adam(learning_rate=0.0000001),\n",
    "              loss='binary_crossentropy',\n",
    "              metrics=['accuracy'])\n",
    "\n",
    "history = model.fit(train_X_ex,\n",
    "                    train_y,\n",
    "                    epochs=30,\n",
    "                    batch_size=32,\n",
    "                    verbose=1,\n",
    "                    validation_data=(test_X_ex, test_y))"
   ]
  },
  {
   "cell_type": "code",
   "execution_count": 75,
   "metadata": {},
   "outputs": [],
   "source": [
    "from sklearn.metrics import confusion_matrix\n",
    "import pandas as pd\n",
    "import seaborn as sns"
   ]
  },
  {
   "cell_type": "code",
   "execution_count": 76,
   "metadata": {},
   "outputs": [
    {
     "data": {
      "image/png": "[encoded data removed]",
      "text/plain": [
       "<Figure size 432x288 with 2 Axes>"
      ]
     },
     "metadata": {
      "needs_background": "light"
     },
     "output_type": "display_data"
    }
   ],
   "source": [
    "Y_pred = model.predict(test_X_ex)\n",
    "y_pred=np.argmax(Y_pred,axis=1)\n",
    "\n",
    "tn, fp, fn, tp = confusion_matrix(test_y, y_pred).ravel()\n",
    "matrix = confusion_matrix(test_y, y_pred)\n",
    "sns.heatmap(pd.DataFrame(matrix), annot=True, cmap=\"bone\" ,fmt='g')\n",
    "plt.title('Confusion matrix', y=1.1)\n",
    "plt.ylabel('Actual label')\n",
    "plt.xlabel('Predicted label')\n",
    "plt.show()"
   ]
  },
  {
   "cell_type": "code",
   "execution_count": null,
   "metadata": {},
   "outputs": [],
   "source": []
  }
 ],
 "metadata": {
  "kernelspec": {
   "display_name": "Python 3",
   "language": "python",
   "name": "python3"
  },
  "language_info": {
   "codemirror_mode": {
    "name": "ipython",
    "version": 3
   },
   "file_extension": ".py",
   "mimetype": "text/x-python",
   "name": "python",
   "nbconvert_exporter": "python",
   "pygments_lexer": "ipython3",
   "version": "3.8.5"
  }
 },
 "nbformat": 4,
 "nbformat_minor": 4
}
