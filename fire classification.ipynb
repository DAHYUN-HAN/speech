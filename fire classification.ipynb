{
 "cells": [
  {
   "cell_type": "code",
   "execution_count": 23,
   "metadata": {},
   "outputs": [],
   "source": [
    "import matplotlib.pyplot as plt\n",
    "import os\n",
    "from scipy.io import wavfile\n",
    "from collections import defaultdict, Counter\n",
    "from scipy import signal\n",
    "import numpy as np\n",
    "import librosa\n",
    "import random as rn\n",
    "from keras.layers import Dense\n",
    "from keras import Input\n",
    "from keras.engine import Model\n",
    "from keras import optimizers\n",
    "from keras.utils import to_categorical\n",
    "from keras.layers import Dense, TimeDistributed, Dropout, Bidirectional, GRU, BatchNormalization, Activation, LeakyReLU, LSTM, Flatten, RepeatVector, Permute, Multiply, Conv2D, MaxPooling2D\n",
    "from keras.callbacks import EarlyStopping, ModelCheckpoint, LearningRateScheduler, Callback\n",
    "from keras import models\n",
    "from sklearn.model_selection import train_test_split\n",
    "\n",
    "from sklearn.utils import shuffle\n",
    "\n",
    "from sklearn.metrics import confusion_matrix\n",
    "import pandas as pd\n",
    "import seaborn as sns"
   ]
  },
  {
   "cell_type": "code",
   "execution_count": 221,
   "metadata": {},
   "outputs": [],
   "source": [
    "TRAIN_DATA_DIR = 'data/final_ver8/train/'\n",
    "#TEST_DATA_DIR = 'data/final_ver3/test/'\n",
    "\n",
    "TRAIN_NEGATIVE_DATA_DIR = 'data/final_ver8/train_negative/'\n",
    "#TEST_NEGATIVE_DATA_DIR = 'data/final_ver3/test_negative/'\n",
    "\n",
    "train_fire_size = []\n",
    "#test_fire_size = []\n",
    "\n",
    "train_X = []\n",
    "train_spectrograms = []\n",
    "train_mel_spectrograms = []\n",
    "train_mfccs = []\n",
    "train_y = []\n",
    "train_file = []\n",
    "\n",
    "#test_X = []\n",
    "#test_spectrograms = []\n",
    "#test_mel_spectrograms = []\n",
    "#test_mfccs = []\n",
    "#test_y = []\n",
    "#test_file = []\n",
    "\n",
    "#pad1d = lambda a, i: a[0: i] if a.shape[0] > i else np.hstack((a, np.zeros(i - a.shape[0])))\n",
    "#pad2d = lambda a, i: a[:, 0: i] if a.shape[1] > i else np.hstack((a, np.zeros((a.shape[0],i - a.shape[1]))))"
   ]
  },
  {
   "cell_type": "markdown",
   "metadata": {},
   "source": [
    "TRAIN_DATA_DIR = 'data/ver1/train3/final_positive/'\n",
    "TEST_DATA_DIR = 'data/ver1/test3/final_positive/'\n",
    "\n",
    "TRAIN_NEGATIVE_DATA_DIR = 'data/ver1/train3/final_negative/'\n",
    "TEST_NEGATIVE_DATA_DIR = 'data/ver1/test3/final_negative/'"
   ]
  },
  {
   "cell_type": "code",
   "execution_count": 25,
   "metadata": {},
   "outputs": [],
   "source": [
    "def padding(a, i) :\n",
    "    if (a.shape[1] >= i) :\n",
    "        return a[:, 0:i]\n",
    "    else :\n",
    "        difference = i-a.shape[1]\n",
    "        zeros = np.random.randint(difference+1)\n",
    "        \n",
    "        #print(zeros, difference-zeros)\n",
    "        \n",
    "        first = np.zeros((a.shape[0], zeros))\n",
    "        second = np.zeros((a.shape[0], difference - zeros))\n",
    "        \n",
    "        new = np.hstack((first, a))\n",
    "        new = np.hstack((new, second))\n",
    "        \n",
    "        return new"
   ]
  },
  {
   "cell_type": "code",
   "execution_count": 26,
   "metadata": {},
   "outputs": [],
   "source": [
    "for fname in os.listdir(TRAIN_DATA_DIR):\n",
    "    try:\n",
    "        if '.wav' not in fname or 'dima' in fname:\n",
    "            continue\n",
    "        train_file.append(TRAIN_DATA_DIR + fname)\n",
    "        wav, sr = librosa.load(TRAIN_DATA_DIR + fname, sr=16000)\n",
    "        \n",
    "        mfcc = librosa.feature.mfcc(wav, sr=16000)\n",
    "        mfcc_normalize = librosa.util.normalize(mfcc,norm=None)\n",
    "        padded_mfcc = padding(mfcc_normalize, 63)\n",
    "        \n",
    "        mel_spectogram = librosa.feature.melspectrogram(wav)\n",
    "        \n",
    "        padded_mel_spectrogram = padding(mel_spectogram, 63)\n",
    "        \n",
    "        train_mfccs.append(padded_mfcc)\n",
    "        train_mel_spectrograms.append(padded_mel_spectrogram)\n",
    "        train_y.append(1)\n",
    "    except Exception as e:\n",
    "        print(fname, e)\n",
    "        raise"
   ]
  },
  {
   "cell_type": "code",
   "execution_count": 27,
   "metadata": {},
   "outputs": [],
   "source": [
    "#np.max(train_fire_size)"
   ]
  },
  {
   "cell_type": "markdown",
   "metadata": {},
   "source": [
    "for fname in os.listdir(TEST_DATA_DIR):\n",
    "    try:\n",
    "        if '.wav' not in fname or 'dima' in fname:\n",
    "            continue\n",
    "        test_file.append(TEST_DATA_DIR + fname)\n",
    "        wav, sr = librosa.load(TEST_DATA_DIR + fname, sr=16000)\n",
    "        \n",
    "        #if(len(wav) > 20000) :\n",
    "         #   wav = librosa.effects.time_stretch(wav, 1.5)\n",
    "            \n",
    "        mfcc = librosa.feature.mfcc(wav, sr=16000)\n",
    "        test_fire_size.append(len(mfcc[0]))\n",
    "        padded_mfcc = padding(mfcc, 63)\n",
    "        \n",
    "        mel_spectogram = librosa.feature.melspectrogram(wav)\n",
    "        \n",
    "        padded_mel_spectrogram = padding(mel_spectogram, 63)\n",
    "        \n",
    "        \n",
    "        test_mfccs.append(padded_mfcc)\n",
    "        test_mel_spectrograms.append(padded_mel_spectrogram)\n",
    "        test_y.append(1)\n",
    "    except Exception as e:\n",
    "        print(fname, e)\n",
    "        raise"
   ]
  },
  {
   "cell_type": "code",
   "execution_count": 28,
   "metadata": {},
   "outputs": [],
   "source": [
    "for fname in os.listdir(TRAIN_NEGATIVE_DATA_DIR):\n",
    "    try:\n",
    "        if '.wav' not in fname or 'dima' in fname:\n",
    "            continue\n",
    "        train_file.append(TRAIN_NEGATIVE_DATA_DIR + fname)\n",
    "        wav, sr = librosa.load(TRAIN_NEGATIVE_DATA_DIR + fname, sr=16000)\n",
    "        \n",
    "        mfcc = librosa.feature.mfcc(wav, sr=16000)\n",
    "        mfcc_normalize = librosa.util.normalize(mfcc,norm=None)\n",
    "        padded_mfcc = padding(mfcc_normalize, 63)\n",
    "        \n",
    "        mel_spectogram = librosa.feature.melspectrogram(wav)\n",
    "        padded_mel_spectrogram = padding(mel_spectogram, 63)\n",
    "        \n",
    "        train_mfccs.append(padded_mfcc)\n",
    "        train_mel_spectrograms.append(padded_mel_spectrogram)\n",
    "        train_y.append(0)\n",
    "    except Exception as e:\n",
    "        print(fname, e)\n",
    "        raise"
   ]
  },
  {
   "cell_type": "markdown",
   "metadata": {},
   "source": [
    "for fname in os.listdir(TEST_NEGATIVE_DATA_DIR):\n",
    "    try:\n",
    "        if '.wav' not in fname or 'dima' in fname:\n",
    "            continue\n",
    "        test_file.append(TEST_NEGATIVE_DATA_DIR + fname)\n",
    "        wav, sr = librosa.load(TEST_NEGATIVE_DATA_DIR + fname, sr=16000)\n",
    "        \n",
    "        mfcc = librosa.feature.mfcc(wav, sr=16000)\n",
    "        \n",
    "        padded_mfcc = padding(mfcc, 63)\n",
    "        \n",
    "        mel_spectogram = librosa.feature.melspectrogram(wav)\n",
    "        padded_mel_spectrogram = padding(mel_spectogram, 63)\n",
    "        \n",
    "        test_mfccs.append(padded_mfcc)\n",
    "        test_mel_spectrograms.append(padded_mel_spectrogram)\n",
    "        test_y.append(0)\n",
    "    except Exception as e:\n",
    "        print(fname, e)\n",
    "        raise"
   ]
  },
  {
   "cell_type": "markdown",
   "metadata": {},
   "source": [
    "print(len(train_fire_size))\n",
    "print(np.max(train_fire_size))\n",
    "print(np.mean(train_fire_size))"
   ]
  },
  {
   "cell_type": "markdown",
   "metadata": {},
   "source": [
    "print(len(test_fire_size))\n",
    "print(np.max(test_fire_size))\n",
    "print(np.mean(test_fire_size))"
   ]
  },
  {
   "cell_type": "code",
   "execution_count": 29,
   "metadata": {},
   "outputs": [
    {
     "name": "stdout",
     "output_type": "stream",
     "text": [
      "train_mfccs (72000, 20, 63)\n",
      "train_mel_spectrograms (72000, 128, 63)\n",
      "train_y (72000, 2)\n"
     ]
    }
   ],
   "source": [
    "train_mfccs = np.array(train_mfccs)\n",
    "train_mel_spectrograms = np.array(train_mel_spectrograms)\n",
    "train_y = np.array(train_y)\n",
    "train_y = to_categorical(np.array(train_y))\n",
    "\n",
    "#test_mfccs = np.array(test_mfccs)\n",
    "#test_mel_spectrograms = np.array(test_mel_spectrograms)\n",
    "#test_y = np.array(test_y)\n",
    "#test_y = to_categorical(np.array(test_y))\n",
    "\n",
    "print('train_mfccs', train_mfccs.shape)\n",
    "print('train_mel_spectrograms', train_mel_spectrograms.shape)\n",
    "print('train_y', train_y.shape)\n",
    "\n",
    "#print('test_mfccs', test_mfccs.shape)\n",
    "#print('test_mel_spectrograms', test_mel_spectrograms.shape)\n",
    "#print('test_y', test_y.shape)"
   ]
  },
  {
   "cell_type": "code",
   "execution_count": 30,
   "metadata": {},
   "outputs": [
    {
     "name": "stdout",
     "output_type": "stream",
     "text": [
      "train X shape: (72000, 20, 63, 1)\n"
     ]
    }
   ],
   "source": [
    "train_X_ex = np.expand_dims(train_mfccs, -1)\n",
    "#test_X_ex = np.expand_dims(test_mfccs, -1)\n",
    "print('train X shape:', train_X_ex.shape)\n",
    "#print('test X shape:', test_X_ex.shape)"
   ]
  },
  {
   "cell_type": "code",
   "execution_count": 31,
   "metadata": {},
   "outputs": [
    {
     "name": "stdout",
     "output_type": "stream",
     "text": [
      "train X shape: (72000, 128, 63, 1)\n"
     ]
    }
   ],
   "source": [
    "train_X_ex_mel = np.expand_dims(train_mel_spectrograms, -1)\n",
    "#test_X_ex_mel = np.expand_dims(test_mel_spectrograms, -1)\n",
    "print('train X shape:', train_X_ex_mel.shape)\n",
    "#print('test X shape:', test_X_ex_mel.shape)"
   ]
  },
  {
   "cell_type": "code",
   "execution_count": 32,
   "metadata": {},
   "outputs": [],
   "source": [
    "np.save(os.path.join(\"data/dataset\", \"train_X.npy\"), train_X_ex)\n",
    "np.save(os.path.join(\"data/dataset\", \"train_X_mel.npy\"), train_X_ex_mel)\n",
    "np.save(os.path.join(\"data/dataset\", \"train_file.npy\"), train_file)\n",
    "np.save(os.path.join(\"data/dataset\", \"train_y.npy\"), np.array(train_y))\n",
    "\n",
    "#np.save(os.path.join(\"data/dataset\", \"test_X.npy\"), test_X_ex)\n",
    "#np.save(os.path.join(\"data/dataset\", \"test_X_mel.npy\"), test_X_ex_mel)\n",
    "#np.save(os.path.join(\"data/dataset\", \"test_file.npy\"), test_file)\n",
    "#np.save(os.path.join(\"data/dataset\", \"test_y.npy\"), np.array(test_y))"
   ]
  },
  {
   "cell_type": "code",
   "execution_count": 245,
   "metadata": {},
   "outputs": [],
   "source": [
    "all_X_ex = np.load(os.path.join('data/dataset_ver8', 'train_X.npy'))\n",
    "all_X_ex_mel = np.load(os.path.join('data/dataset_ver8', 'train_X_mel.npy'))\n",
    "all_file = np.load(os.path.join('data/dataset_ver8', 'train_file.npy'))\n",
    "all_y = np.load(os.path.join('data/dataset_ver8', 'train_y.npy'))\n",
    "\n",
    "#test_X_ex = np.load(os.path.join('data/dataset', 'test_X.npy'))\n",
    "#test_X_ex_mel = np.load(os.path.join('data/dataset', 'test_X_mel.npy'))\n",
    "#test_file = np.load(os.path.join('data/dataset', 'test_file.npy'))\n",
    "#test_y = np.load(os.path.join('data/dataset', 'test_y.npy'))"
   ]
  },
  {
   "cell_type": "markdown",
   "metadata": {},
   "source": [
    "train_X_ex, train_X_ex_mel, train_y, train_file = shuffle(train_X_ex, train_X_ex_mel, train_y, train_file, random_state=1523)\n",
    "#test_X_ex, test_X_ex_mel, test_y, test_file = shuffle(test_X_ex, test_X_ex_mel, test_y, test_file, random_state=1523)"
   ]
  },
  {
   "cell_type": "code",
   "execution_count": 246,
   "metadata": {},
   "outputs": [],
   "source": [
    "train_X_ex, validation_X_ex, train_X_ex_mel, validation_X_ex_mel, train_y, validation_y, train_file, validation_file =\\\n",
    "train_test_split(all_X_ex, all_X_ex_mel, all_y, all_file, test_size = 0.18, random_state=42)"
   ]
  },
  {
   "cell_type": "code",
   "execution_count": 247,
   "metadata": {},
   "outputs": [
    {
     "data": {
      "text/plain": [
       "5904"
      ]
     },
     "execution_count": 247,
     "metadata": {},
     "output_type": "execute_result"
    }
   ],
   "source": [
    "len(train_X_ex)"
   ]
  },
  {
   "cell_type": "code",
   "execution_count": 248,
   "metadata": {},
   "outputs": [
    {
     "data": {
      "text/plain": [
       "205.35385"
      ]
     },
     "execution_count": 248,
     "metadata": {},
     "output_type": "execute_result"
    }
   ],
   "source": [
    "np.max(train_X_ex)"
   ]
  },
  {
   "cell_type": "code",
   "execution_count": 249,
   "metadata": {},
   "outputs": [
    {
     "data": {
      "text/plain": [
       "-10.165406"
      ]
     },
     "execution_count": 249,
     "metadata": {},
     "output_type": "execute_result"
    }
   ],
   "source": [
    "np.mean(train_X_ex)"
   ]
  },
  {
   "cell_type": "code",
   "execution_count": 250,
   "metadata": {},
   "outputs": [
    {
     "data": {
      "text/plain": [
       "array([[0., 1.],\n",
       "       [0., 1.],\n",
       "       [1., 0.],\n",
       "       ...,\n",
       "       [1., 0.],\n",
       "       [1., 0.],\n",
       "       [0., 1.]], dtype=float32)"
      ]
     },
     "execution_count": 250,
     "metadata": {},
     "output_type": "execute_result"
    }
   ],
   "source": [
    "train_y"
   ]
  },
  {
   "cell_type": "code",
   "execution_count": 254,
   "metadata": {},
   "outputs": [
    {
     "name": "stdout",
     "output_type": "stream",
     "text": [
      "Model: \"functional_35\"\n",
      "_________________________________________________________________\n",
      "Layer (type)                 Output Shape              Param #   \n",
      "=================================================================\n",
      "input_18 (InputLayer)        [(None, 20, 63, 1)]       0         \n",
      "_________________________________________________________________\n",
      "conv2d_17 (Conv2D)           (None, 17, 60, 64)        1088      \n",
      "_________________________________________________________________\n",
      "max_pooling2d_17 (MaxPooling (None, 4, 15, 64)         0         \n",
      "_________________________________________________________________\n",
      "flatten_17 (Flatten)         (None, 3840)              0         \n",
      "_________________________________________________________________\n",
      "dense_34 (Dense)             (None, 32)                122912    \n",
      "_________________________________________________________________\n",
      "dense_35 (Dense)             (None, 2)                 66        \n",
      "=================================================================\n",
      "Total params: 124,066\n",
      "Trainable params: 124,066\n",
      "Non-trainable params: 0\n",
      "_________________________________________________________________\n"
     ]
    }
   ],
   "source": [
    "ip = Input(shape=train_X_ex[0].shape)\n",
    "m = Conv2D(64, kernel_size=(4,4), activation='relu')(ip)\n",
    "m = MaxPooling2D(pool_size=(4,4))(m)\n",
    "\n",
    "\n",
    "m=Flatten()(m)\n",
    "m=Dense(32, activation='relu')(m)\n",
    "op=Dense(2, activation='softmax')(m)\n",
    "\n",
    "model = Model(ip, op)\n",
    "\n",
    "model.summary()"
   ]
  },
  {
   "cell_type": "code",
   "execution_count": 255,
   "metadata": {},
   "outputs": [],
   "source": [
    "earlystopping = EarlyStopping(monitor='val_loss', mode='min', patience=30, verbose=1)\n",
    "\n",
    "checkpoint = ModelCheckpoint('model/train_X_ex_best.h5', \n",
    "        monitor='val_loss', mode='min', verbose=1, \n",
    "        save_best_only=True, save_freq='epoch'\n",
    ")\n",
    "\n",
    "model.compile(optimizer=optimizers.Adam(learning_rate=0.000001),\n",
    "              loss='binary_crossentropy',\n",
    "              metrics=['accuracy'])"
   ]
  },
  {
   "cell_type": "code",
   "execution_count": null,
   "metadata": {},
   "outputs": [
    {
     "name": "stdout",
     "output_type": "stream",
     "text": [
      "Epoch 1/400\n",
      "181/185 [============================>.] - ETA: 0s - loss: 6.8471 - accuracy: 0.5017\n",
      "Epoch 00001: val_loss improved from inf to 5.65145, saving model to model\\train_X_ex_best.h5\n",
      "185/185 [==============================] - 2s 10ms/step - loss: 6.8344 - accuracy: 0.5003 - val_loss: 5.6514 - val_accuracy: 0.4985\n",
      "Epoch 2/400\n",
      "181/185 [============================>.] - ETA: 0s - loss: 3.4977 - accuracy: 0.5035\n",
      "Epoch 00002: val_loss improved from 5.65145 to 1.79640, saving model to model\\train_X_ex_best.h5\n",
      "185/185 [==============================] - 2s 10ms/step - loss: 3.4596 - accuracy: 0.5056 - val_loss: 1.7964 - val_accuracy: 0.5039\n",
      "Epoch 3/400\n",
      "180/185 [============================>.] - ETA: 0s - loss: 1.3710 - accuracy: 0.5116\n",
      "Epoch 00003: val_loss improved from 1.79640 to 1.21862, saving model to model\\train_X_ex_best.h5\n",
      "185/185 [==============================] - 2s 9ms/step - loss: 1.3659 - accuracy: 0.5129 - val_loss: 1.2186 - val_accuracy: 0.5077\n",
      "Epoch 4/400\n",
      "180/185 [============================>.] - ETA: 0s - loss: 1.1992 - accuracy: 0.5144\n",
      "Epoch 00004: val_loss improved from 1.21862 to 1.16217, saving model to model\\train_X_ex_best.h5\n",
      "185/185 [==============================] - 2s 9ms/step - loss: 1.2004 - accuracy: 0.5144 - val_loss: 1.1622 - val_accuracy: 0.5247\n",
      "Epoch 5/400\n",
      "181/185 [============================>.] - ETA: 0s - loss: 1.1563 - accuracy: 0.5202\n",
      "Epoch 00005: val_loss improved from 1.16217 to 1.11469, saving model to model\\train_X_ex_best.h5\n",
      "185/185 [==============================] - 2s 9ms/step - loss: 1.1559 - accuracy: 0.5213 - val_loss: 1.1147 - val_accuracy: 0.5278\n",
      "Epoch 6/400\n",
      "182/185 [============================>.] - ETA: 0s - loss: 1.1041 - accuracy: 0.5314\n",
      "Epoch 00006: val_loss improved from 1.11469 to 1.05673, saving model to model\\train_X_ex_best.h5\n",
      "185/185 [==============================] - 2s 9ms/step - loss: 1.1071 - accuracy: 0.5300 - val_loss: 1.0567 - val_accuracy: 0.5355\n",
      "Epoch 7/400\n",
      "180/185 [============================>.] - ETA: 0s - loss: 1.0435 - accuracy: 0.5415\n",
      "Epoch 00007: val_loss improved from 1.05673 to 0.99389, saving model to model\\train_X_ex_best.h5\n",
      "185/185 [==============================] - 2s 9ms/step - loss: 1.0466 - accuracy: 0.5398 - val_loss: 0.9939 - val_accuracy: 0.5463\n",
      "Epoch 8/400\n",
      "185/185 [==============================] - ETA: 0s - loss: 0.9897 - accuracy: 0.5512\n",
      "Epoch 00008: val_loss improved from 0.99389 to 0.92969, saving model to model\\train_X_ex_best.h5\n",
      "185/185 [==============================] - 2s 10ms/step - loss: 0.9897 - accuracy: 0.5512 - val_loss: 0.9297 - val_accuracy: 0.5648\n",
      "Epoch 9/400\n",
      "181/185 [============================>.] - ETA: 0s - loss: 0.9351 - accuracy: 0.5592\n",
      "Epoch 00009: val_loss improved from 0.92969 to 0.87361, saving model to model\\train_X_ex_best.h5\n",
      "185/185 [==============================] - 2s 9ms/step - loss: 0.9335 - accuracy: 0.5589 - val_loss: 0.8736 - val_accuracy: 0.5772\n",
      "Epoch 10/400\n",
      "181/185 [============================>.] - ETA: 0s - loss: 0.8849 - accuracy: 0.5653\n",
      "Epoch 00010: val_loss improved from 0.87361 to 0.82826, saving model to model\\train_X_ex_best.h5\n",
      "185/185 [==============================] - 2s 9ms/step - loss: 0.8827 - accuracy: 0.5666 - val_loss: 0.8283 - val_accuracy: 0.5887\n",
      "Epoch 11/400\n",
      "180/185 [============================>.] - ETA: 0s - loss: 0.8456 - accuracy: 0.5741\n",
      "Epoch 00011: val_loss improved from 0.82826 to 0.79590, saving model to model\\train_X_ex_best.h5\n",
      "185/185 [==============================] - 2s 9ms/step - loss: 0.8437 - accuracy: 0.5750 - val_loss: 0.7959 - val_accuracy: 0.6003\n",
      "Epoch 12/400\n",
      "180/185 [============================>.] - ETA: 0s - loss: 0.8140 - accuracy: 0.5828\n",
      "Epoch 00012: val_loss improved from 0.79590 to 0.77142, saving model to model\\train_X_ex_best.h5\n",
      "185/185 [==============================] - 2s 10ms/step - loss: 0.8127 - accuracy: 0.5843 - val_loss: 0.7714 - val_accuracy: 0.6088\n",
      "Epoch 13/400\n",
      "180/185 [============================>.] - ETA: 0s - loss: 0.7909 - accuracy: 0.5901\n",
      "Epoch 00013: val_loss improved from 0.77142 to 0.74734, saving model to model\\train_X_ex_best.h5\n",
      "185/185 [==============================] - 2s 9ms/step - loss: 0.7874 - accuracy: 0.5918 - val_loss: 0.7473 - val_accuracy: 0.6242\n",
      "Epoch 14/400\n",
      "181/185 [============================>.] - ETA: 0s - loss: 0.7667 - accuracy: 0.5963\n",
      "Epoch 00014: val_loss improved from 0.74734 to 0.73215, saving model to model\\train_X_ex_best.h5\n",
      "185/185 [==============================] - 2s 9ms/step - loss: 0.7645 - accuracy: 0.5982 - val_loss: 0.7322 - val_accuracy: 0.6335\n",
      "Epoch 15/400\n",
      "181/185 [============================>.] - ETA: 0s - loss: 0.7461 - accuracy: 0.6039\n",
      "Epoch 00015: val_loss improved from 0.73215 to 0.71324, saving model to model\\train_X_ex_best.h5\n",
      "185/185 [==============================] - 2s 9ms/step - loss: 0.7452 - accuracy: 0.6055 - val_loss: 0.7132 - val_accuracy: 0.6381\n",
      "Epoch 16/400\n",
      "180/185 [============================>.] - ETA: 0s - loss: 0.7272 - accuracy: 0.6130\n",
      "Epoch 00016: val_loss improved from 0.71324 to 0.70080, saving model to model\\train_X_ex_best.h5\n",
      "185/185 [==============================] - 2s 10ms/step - loss: 0.7285 - accuracy: 0.6125 - val_loss: 0.7008 - val_accuracy: 0.6497\n",
      "Epoch 17/400\n",
      "180/185 [============================>.] - ETA: 0s - loss: 0.7149 - accuracy: 0.6189\n",
      "Epoch 00017: val_loss improved from 0.70080 to 0.68715, saving model to model\\train_X_ex_best.h5\n",
      "185/185 [==============================] - 2s 9ms/step - loss: 0.7132 - accuracy: 0.6197 - val_loss: 0.6872 - val_accuracy: 0.6566\n",
      "Epoch 18/400\n",
      "180/185 [============================>.] - ETA: 0s - loss: 0.7002 - accuracy: 0.6250\n",
      "Epoch 00018: val_loss improved from 0.68715 to 0.67686, saving model to model\\train_X_ex_best.h5\n",
      "185/185 [==============================] - 2s 9ms/step - loss: 0.6995 - accuracy: 0.6260 - val_loss: 0.6769 - val_accuracy: 0.6667\n",
      "Epoch 19/400\n",
      "180/185 [============================>.] - ETA: 0s - loss: 0.6850 - accuracy: 0.6347\n",
      "Epoch 00019: val_loss improved from 0.67686 to 0.66737, saving model to model\\train_X_ex_best.h5\n",
      "185/185 [==============================] - 2s 10ms/step - loss: 0.6870 - accuracy: 0.6340 - val_loss: 0.6674 - val_accuracy: 0.6636\n",
      "Epoch 20/400\n",
      "181/185 [============================>.] - ETA: 0s - loss: 0.6766 - accuracy: 0.6359\n",
      "Epoch 00020: val_loss improved from 0.66737 to 0.65659, saving model to model\\train_X_ex_best.h5\n",
      "185/185 [==============================] - 2s 10ms/step - loss: 0.6757 - accuracy: 0.6370 - val_loss: 0.6566 - val_accuracy: 0.6667\n",
      "Epoch 21/400\n",
      "184/185 [============================>.] - ETA: 0s - loss: 0.6649 - accuracy: 0.6432\n",
      "Epoch 00021: val_loss improved from 0.65659 to 0.64705, saving model to model\\train_X_ex_best.h5\n",
      "185/185 [==============================] - 2s 10ms/step - loss: 0.6648 - accuracy: 0.6433 - val_loss: 0.6471 - val_accuracy: 0.6721\n",
      "Epoch 22/400\n",
      "181/185 [============================>.] - ETA: 0s - loss: 0.6554 - accuracy: 0.6518\n",
      "Epoch 00022: val_loss improved from 0.64705 to 0.64170, saving model to model\\train_X_ex_best.h5\n",
      "185/185 [==============================] - 2s 9ms/step - loss: 0.6551 - accuracy: 0.6519 - val_loss: 0.6417 - val_accuracy: 0.6651\n",
      "Epoch 23/400\n",
      "181/185 [============================>.] - ETA: 0s - loss: 0.6474 - accuracy: 0.6538\n",
      "Epoch 00023: val_loss improved from 0.64170 to 0.63466, saving model to model\\train_X_ex_best.h5\n",
      "185/185 [==============================] - 2s 10ms/step - loss: 0.6462 - accuracy: 0.6550 - val_loss: 0.6347 - val_accuracy: 0.6705\n",
      "Epoch 24/400\n",
      "181/185 [============================>.] - ETA: 0s - loss: 0.6381 - accuracy: 0.6644\n",
      "Epoch 00024: val_loss improved from 0.63466 to 0.62702, saving model to model\\train_X_ex_best.h5\n",
      "185/185 [==============================] - 2s 10ms/step - loss: 0.6372 - accuracy: 0.6646 - val_loss: 0.6270 - val_accuracy: 0.6782\n",
      "Epoch 25/400\n",
      "180/185 [============================>.] - ETA: 0s - loss: 0.6313 - accuracy: 0.6693\n",
      "Epoch 00025: val_loss improved from 0.62702 to 0.61946, saving model to model\\train_X_ex_best.h5\n",
      "185/185 [==============================] - 2s 10ms/step - loss: 0.6296 - accuracy: 0.6702 - val_loss: 0.6195 - val_accuracy: 0.6813\n",
      "Epoch 26/400\n"
     ]
    },
    {
     "name": "stdout",
     "output_type": "stream",
     "text": [
      "181/185 [============================>.] - ETA: 0s - loss: 0.6226 - accuracy: 0.6742\n",
      "Epoch 00026: val_loss improved from 0.61946 to 0.61481, saving model to model\\train_X_ex_best.h5\n",
      "185/185 [==============================] - 2s 10ms/step - loss: 0.6228 - accuracy: 0.6734 - val_loss: 0.6148 - val_accuracy: 0.6852\n",
      "Epoch 27/400\n",
      "180/185 [============================>.] - ETA: 0s - loss: 0.6167 - accuracy: 0.6795\n",
      "Epoch 00027: val_loss improved from 0.61481 to 0.61009, saving model to model\\train_X_ex_best.h5\n",
      "185/185 [==============================] - 2s 10ms/step - loss: 0.6159 - accuracy: 0.6789 - val_loss: 0.6101 - val_accuracy: 0.6852\n",
      "Epoch 28/400\n",
      "181/185 [============================>.] - ETA: 0s - loss: 0.6112 - accuracy: 0.6821\n",
      "Epoch 00028: val_loss improved from 0.61009 to 0.60456, saving model to model\\train_X_ex_best.h5\n",
      "185/185 [==============================] - 2s 10ms/step - loss: 0.6101 - accuracy: 0.6817 - val_loss: 0.6046 - val_accuracy: 0.6898\n",
      "Epoch 29/400\n",
      "181/185 [============================>.] - ETA: 0s - loss: 0.6043 - accuracy: 0.6866\n",
      "Epoch 00029: val_loss improved from 0.60456 to 0.60168, saving model to model\\train_X_ex_best.h5\n",
      "185/185 [==============================] - 2s 10ms/step - loss: 0.6043 - accuracy: 0.6861 - val_loss: 0.6017 - val_accuracy: 0.6921\n",
      "Epoch 30/400\n",
      "181/185 [============================>.] - ETA: 0s - loss: 0.5995 - accuracy: 0.6891\n",
      "Epoch 00030: val_loss improved from 0.60168 to 0.59752, saving model to model\\train_X_ex_best.h5\n",
      "185/185 [==============================] - 2s 9ms/step - loss: 0.5992 - accuracy: 0.6900 - val_loss: 0.5975 - val_accuracy: 0.6937\n",
      "Epoch 31/400\n",
      "181/185 [============================>.] - ETA: 0s - loss: 0.5957 - accuracy: 0.6903\n",
      "Epoch 00031: val_loss improved from 0.59752 to 0.59268, saving model to model\\train_X_ex_best.h5\n",
      "185/185 [==============================] - 2s 9ms/step - loss: 0.5944 - accuracy: 0.6914 - val_loss: 0.5927 - val_accuracy: 0.6998\n",
      "Epoch 32/400\n",
      "181/185 [============================>.] - ETA: 0s - loss: 0.5891 - accuracy: 0.6946\n",
      "Epoch 00032: val_loss improved from 0.59268 to 0.58814, saving model to model\\train_X_ex_best.h5\n",
      "185/185 [==============================] - 2s 9ms/step - loss: 0.5895 - accuracy: 0.6946 - val_loss: 0.5881 - val_accuracy: 0.6975\n",
      "Epoch 33/400\n",
      "181/185 [============================>.] - ETA: 0s - loss: 0.5832 - accuracy: 0.6960\n",
      "Epoch 00033: val_loss improved from 0.58814 to 0.58368, saving model to model\\train_X_ex_best.h5\n",
      "185/185 [==============================] - 2s 9ms/step - loss: 0.5849 - accuracy: 0.6961 - val_loss: 0.5837 - val_accuracy: 0.6960\n",
      "Epoch 34/400\n",
      "181/185 [============================>.] - ETA: 0s - loss: 0.5811 - accuracy: 0.6991\n",
      "Epoch 00034: val_loss improved from 0.58368 to 0.58077, saving model to model\\train_X_ex_best.h5\n",
      "185/185 [==============================] - 2s 9ms/step - loss: 0.5809 - accuracy: 0.6992 - val_loss: 0.5808 - val_accuracy: 0.7052\n",
      "Epoch 35/400\n",
      "181/185 [============================>.] - ETA: 0s - loss: 0.5770 - accuracy: 0.7053\n",
      "Epoch 00035: val_loss improved from 0.58077 to 0.57780, saving model to model\\train_X_ex_best.h5\n",
      "185/185 [==============================] - 2s 9ms/step - loss: 0.5773 - accuracy: 0.7046 - val_loss: 0.5778 - val_accuracy: 0.7083\n",
      "Epoch 36/400\n",
      "181/185 [============================>.] - ETA: 0s - loss: 0.5750 - accuracy: 0.7036\n",
      "Epoch 00036: val_loss improved from 0.57780 to 0.57744, saving model to model\\train_X_ex_best.h5\n",
      "185/185 [==============================] - 2s 9ms/step - loss: 0.5736 - accuracy: 0.7046 - val_loss: 0.5774 - val_accuracy: 0.7145\n",
      "Epoch 37/400\n",
      "181/185 [============================>.] - ETA: 0s - loss: 0.5694 - accuracy: 0.7089\n",
      "Epoch 00037: val_loss improved from 0.57744 to 0.57294, saving model to model\\train_X_ex_best.h5\n",
      "185/185 [==============================] - 2s 9ms/step - loss: 0.5700 - accuracy: 0.7087 - val_loss: 0.5729 - val_accuracy: 0.7168\n",
      "Epoch 38/400\n",
      "181/185 [============================>.] - ETA: 0s - loss: 0.5679 - accuracy: 0.7067\n",
      "Epoch 00038: val_loss improved from 0.57294 to 0.56831, saving model to model\\train_X_ex_best.h5\n",
      "185/185 [==============================] - 2s 9ms/step - loss: 0.5664 - accuracy: 0.7080 - val_loss: 0.5683 - val_accuracy: 0.7191\n",
      "Epoch 39/400\n",
      "181/185 [============================>.] - ETA: 0s - loss: 0.5640 - accuracy: 0.7112\n",
      "Epoch 00039: val_loss improved from 0.56831 to 0.56462, saving model to model\\train_X_ex_best.h5\n",
      "185/185 [==============================] - 2s 9ms/step - loss: 0.5629 - accuracy: 0.7119 - val_loss: 0.5646 - val_accuracy: 0.7230\n",
      "Epoch 40/400\n",
      "181/185 [============================>.] - ETA: 0s - loss: 0.5594 - accuracy: 0.7163\n",
      "Epoch 00040: val_loss improved from 0.56462 to 0.56316, saving model to model\\train_X_ex_best.h5\n",
      "185/185 [==============================] - 2s 9ms/step - loss: 0.5593 - accuracy: 0.7156 - val_loss: 0.5632 - val_accuracy: 0.7191\n",
      "Epoch 41/400\n",
      "181/185 [============================>.] - ETA: 0s - loss: 0.5565 - accuracy: 0.7139\n",
      "Epoch 00041: val_loss improved from 0.56316 to 0.55936, saving model to model\\train_X_ex_best.h5\n",
      "185/185 [==============================] - 2s 9ms/step - loss: 0.5563 - accuracy: 0.7143 - val_loss: 0.5594 - val_accuracy: 0.7199\n",
      "Epoch 42/400\n",
      "181/185 [============================>.] - ETA: 0s - loss: 0.5527 - accuracy: 0.7174\n",
      "Epoch 00042: val_loss improved from 0.55936 to 0.55576, saving model to model\\train_X_ex_best.h5\n",
      "185/185 [==============================] - 2s 9ms/step - loss: 0.5529 - accuracy: 0.7171 - val_loss: 0.5558 - val_accuracy: 0.7230\n",
      "Epoch 43/400\n",
      "181/185 [============================>.] - ETA: 0s - loss: 0.5489 - accuracy: 0.7222\n",
      "Epoch 00043: val_loss improved from 0.55576 to 0.55274, saving model to model\\train_X_ex_best.h5\n",
      "185/185 [==============================] - 2s 9ms/step - loss: 0.5499 - accuracy: 0.7209 - val_loss: 0.5527 - val_accuracy: 0.7238\n",
      "Epoch 44/400\n",
      "181/185 [============================>.] - ETA: 0s - loss: 0.5469 - accuracy: 0.7232\n",
      "Epoch 00044: val_loss improved from 0.55274 to 0.55133, saving model to model\\train_X_ex_best.h5\n",
      "185/185 [==============================] - 2s 9ms/step - loss: 0.5468 - accuracy: 0.7222 - val_loss: 0.5513 - val_accuracy: 0.7261\n",
      "Epoch 45/400\n",
      "180/185 [============================>.] - ETA: 0s - loss: 0.5447 - accuracy: 0.7236\n",
      "Epoch 00045: val_loss improved from 0.55133 to 0.54925, saving model to model\\train_X_ex_best.h5\n",
      "185/185 [==============================] - 2s 9ms/step - loss: 0.5440 - accuracy: 0.7237 - val_loss: 0.5493 - val_accuracy: 0.7253\n",
      "Epoch 46/400\n",
      "181/185 [============================>.] - ETA: 0s - loss: 0.5401 - accuracy: 0.7274\n",
      "Epoch 00046: val_loss improved from 0.54925 to 0.54556, saving model to model\\train_X_ex_best.h5\n",
      "185/185 [==============================] - 2s 9ms/step - loss: 0.5410 - accuracy: 0.7266 - val_loss: 0.5456 - val_accuracy: 0.7276\n",
      "Epoch 47/400\n",
      "180/185 [============================>.] - ETA: 0s - loss: 0.5399 - accuracy: 0.7273\n",
      "Epoch 00047: val_loss improved from 0.54556 to 0.54399, saving model to model\\train_X_ex_best.h5\n",
      "185/185 [==============================] - 2s 9ms/step - loss: 0.5384 - accuracy: 0.7282 - val_loss: 0.5440 - val_accuracy: 0.7307\n",
      "Epoch 48/400\n",
      "181/185 [============================>.] - ETA: 0s - loss: 0.5366 - accuracy: 0.7282\n",
      "Epoch 00048: val_loss improved from 0.54399 to 0.54221, saving model to model\\train_X_ex_best.h5\n",
      "185/185 [==============================] - 2s 9ms/step - loss: 0.5360 - accuracy: 0.7307 - val_loss: 0.5422 - val_accuracy: 0.7307\n",
      "Epoch 49/400\n",
      "181/185 [============================>.] - ETA: 0s - loss: 0.5347 - accuracy: 0.7320\n",
      "Epoch 00049: val_loss improved from 0.54221 to 0.53933, saving model to model\\train_X_ex_best.h5\n",
      "185/185 [==============================] - 2s 9ms/step - loss: 0.5335 - accuracy: 0.7326 - val_loss: 0.5393 - val_accuracy: 0.7346\n",
      "Epoch 50/400\n",
      "181/185 [============================>.] - ETA: 0s - loss: 0.5312 - accuracy: 0.7338\n",
      "Epoch 00050: val_loss did not improve from 0.53933\n",
      "185/185 [==============================] - 2s 9ms/step - loss: 0.5309 - accuracy: 0.7339 - val_loss: 0.5404 - val_accuracy: 0.7338\n",
      "Epoch 51/400\n",
      "181/185 [============================>.] - ETA: 0s - loss: 0.5301 - accuracy: 0.7345\n",
      "Epoch 00051: val_loss improved from 0.53933 to 0.53628, saving model to model\\train_X_ex_best.h5\n",
      "185/185 [==============================] - 2s 9ms/step - loss: 0.5285 - accuracy: 0.7351 - val_loss: 0.5363 - val_accuracy: 0.7338\n"
     ]
    },
    {
     "name": "stdout",
     "output_type": "stream",
     "text": [
      "Epoch 52/400\n",
      "181/185 [============================>.] - ETA: 0s - loss: 0.5270 - accuracy: 0.7371\n",
      "Epoch 00052: val_loss improved from 0.53628 to 0.53326, saving model to model\\train_X_ex_best.h5\n",
      "185/185 [==============================] - 2s 9ms/step - loss: 0.5262 - accuracy: 0.7375 - val_loss: 0.5333 - val_accuracy: 0.7353\n",
      "Epoch 53/400\n",
      "181/185 [============================>.] - ETA: 0s - loss: 0.5250 - accuracy: 0.7390\n",
      "Epoch 00053: val_loss improved from 0.53326 to 0.53233, saving model to model\\train_X_ex_best.h5\n",
      "185/185 [==============================] - 2s 9ms/step - loss: 0.5240 - accuracy: 0.7402 - val_loss: 0.5323 - val_accuracy: 0.7392\n",
      "Epoch 54/400\n",
      "181/185 [============================>.] - ETA: 0s - loss: 0.5202 - accuracy: 0.7402\n",
      "Epoch 00054: val_loss improved from 0.53233 to 0.52924, saving model to model\\train_X_ex_best.h5\n",
      "185/185 [==============================] - 2s 9ms/step - loss: 0.5216 - accuracy: 0.7398 - val_loss: 0.5292 - val_accuracy: 0.7438\n",
      "Epoch 55/400\n",
      "181/185 [============================>.] - ETA: 0s - loss: 0.5203 - accuracy: 0.7407\n",
      "Epoch 00055: val_loss improved from 0.52924 to 0.52771, saving model to model\\train_X_ex_best.h5\n",
      "185/185 [==============================] - 2s 9ms/step - loss: 0.5201 - accuracy: 0.7407 - val_loss: 0.5277 - val_accuracy: 0.7377\n",
      "Epoch 56/400\n",
      "182/185 [============================>.] - ETA: 0s - loss: 0.5172 - accuracy: 0.7433\n",
      "Epoch 00056: val_loss improved from 0.52771 to 0.52633, saving model to model\\train_X_ex_best.h5\n",
      "185/185 [==============================] - 2s 9ms/step - loss: 0.5176 - accuracy: 0.7420 - val_loss: 0.5263 - val_accuracy: 0.7423\n",
      "Epoch 57/400\n",
      "181/185 [============================>.] - ETA: 0s - loss: 0.5139 - accuracy: 0.7445\n",
      "Epoch 00057: val_loss improved from 0.52633 to 0.52457, saving model to model\\train_X_ex_best.h5\n",
      "185/185 [==============================] - 2s 9ms/step - loss: 0.5155 - accuracy: 0.7437 - val_loss: 0.5246 - val_accuracy: 0.7454\n",
      "Epoch 58/400\n",
      "181/185 [============================>.] - ETA: 0s - loss: 0.5140 - accuracy: 0.7462\n",
      "Epoch 00058: val_loss improved from 0.52457 to 0.52239, saving model to model\\train_X_ex_best.h5\n",
      "185/185 [==============================] - 2s 9ms/step - loss: 0.5135 - accuracy: 0.7454 - val_loss: 0.5224 - val_accuracy: 0.7438\n",
      "Epoch 59/400\n",
      "181/185 [============================>.] - ETA: 0s - loss: 0.5116 - accuracy: 0.7479\n",
      "Epoch 00059: val_loss improved from 0.52239 to 0.52153, saving model to model\\train_X_ex_best.h5\n",
      "185/185 [==============================] - 2s 9ms/step - loss: 0.5115 - accuracy: 0.7476 - val_loss: 0.5215 - val_accuracy: 0.7492\n",
      "Epoch 60/400\n",
      "181/185 [============================>.] - ETA: 0s - loss: 0.5095 - accuracy: 0.7471\n",
      "Epoch 00060: val_loss improved from 0.52153 to 0.52101, saving model to model\\train_X_ex_best.h5\n",
      "185/185 [==============================] - 2s 9ms/step - loss: 0.5095 - accuracy: 0.7473 - val_loss: 0.5210 - val_accuracy: 0.7469\n",
      "Epoch 61/400\n",
      "181/185 [============================>.] - ETA: 0s - loss: 0.5083 - accuracy: 0.7486\n",
      "Epoch 00061: val_loss improved from 0.52101 to 0.51837, saving model to model\\train_X_ex_best.h5\n",
      "185/185 [==============================] - 2s 10ms/step - loss: 0.5079 - accuracy: 0.7498 - val_loss: 0.5184 - val_accuracy: 0.7531\n",
      "Epoch 62/400\n",
      "181/185 [============================>.] - ETA: 0s - loss: 0.5043 - accuracy: 0.7529\n",
      "Epoch 00062: val_loss did not improve from 0.51837\n",
      "185/185 [==============================] - 2s 9ms/step - loss: 0.5054 - accuracy: 0.7517 - val_loss: 0.5197 - val_accuracy: 0.7469\n",
      "Epoch 63/400\n",
      "180/185 [============================>.] - ETA: 0s - loss: 0.5056 - accuracy: 0.7503\n",
      "Epoch 00063: val_loss improved from 0.51837 to 0.51466, saving model to model\\train_X_ex_best.h5\n",
      "185/185 [==============================] - 2s 10ms/step - loss: 0.5036 - accuracy: 0.7510 - val_loss: 0.5147 - val_accuracy: 0.7539\n",
      "Epoch 64/400\n",
      "182/185 [============================>.] - ETA: 0s - loss: 0.5026 - accuracy: 0.7545\n",
      "Epoch 00064: val_loss improved from 0.51466 to 0.51405, saving model to model\\train_X_ex_best.h5\n",
      "185/185 [==============================] - 2s 9ms/step - loss: 0.5022 - accuracy: 0.7544 - val_loss: 0.5141 - val_accuracy: 0.7562\n",
      "Epoch 65/400\n",
      "180/185 [============================>.] - ETA: 0s - loss: 0.5010 - accuracy: 0.7531\n",
      "Epoch 00065: val_loss improved from 0.51405 to 0.51220, saving model to model\\train_X_ex_best.h5\n",
      "185/185 [==============================] - 2s 10ms/step - loss: 0.5004 - accuracy: 0.7544 - val_loss: 0.5122 - val_accuracy: 0.7562\n",
      "Epoch 66/400\n",
      "185/185 [==============================] - ETA: 0s - loss: 0.4987 - accuracy: 0.7566\n",
      "Epoch 00066: val_loss improved from 0.51220 to 0.51012, saving model to model\\train_X_ex_best.h5\n",
      "185/185 [==============================] - 2s 10ms/step - loss: 0.4987 - accuracy: 0.7566 - val_loss: 0.5101 - val_accuracy: 0.7577\n",
      "Epoch 67/400\n",
      "181/185 [============================>.] - ETA: 0s - loss: 0.4965 - accuracy: 0.7550\n",
      "Epoch 00067: val_loss improved from 0.51012 to 0.50886, saving model to model\\train_X_ex_best.h5\n",
      "185/185 [==============================] - 2s 10ms/step - loss: 0.4968 - accuracy: 0.7554 - val_loss: 0.5089 - val_accuracy: 0.7569\n",
      "Epoch 68/400\n",
      "184/185 [============================>.] - ETA: 0s - loss: 0.4954 - accuracy: 0.7563\n",
      "Epoch 00068: val_loss improved from 0.50886 to 0.50736, saving model to model\\train_X_ex_best.h5\n",
      "185/185 [==============================] - 2s 10ms/step - loss: 0.4954 - accuracy: 0.7563 - val_loss: 0.5074 - val_accuracy: 0.7585\n",
      "Epoch 69/400\n",
      "181/185 [============================>.] - ETA: 0s - loss: 0.4947 - accuracy: 0.7574\n",
      "Epoch 00069: val_loss improved from 0.50736 to 0.50615, saving model to model\\train_X_ex_best.h5\n",
      "185/185 [==============================] - 2s 10ms/step - loss: 0.4932 - accuracy: 0.7585 - val_loss: 0.5062 - val_accuracy: 0.7593\n",
      "Epoch 70/400\n",
      "181/185 [============================>.] - ETA: 0s - loss: 0.4897 - accuracy: 0.7612\n",
      "Epoch 00070: val_loss improved from 0.50615 to 0.50564, saving model to model\\train_X_ex_best.h5\n",
      "185/185 [==============================] - 2s 9ms/step - loss: 0.4917 - accuracy: 0.7600 - val_loss: 0.5056 - val_accuracy: 0.7639\n",
      "Epoch 71/400\n",
      "181/185 [============================>.] - ETA: 0s - loss: 0.4900 - accuracy: 0.7621\n",
      "Epoch 00071: val_loss improved from 0.50564 to 0.50320, saving model to model\\train_X_ex_best.h5\n",
      "185/185 [==============================] - 2s 10ms/step - loss: 0.4899 - accuracy: 0.7624 - val_loss: 0.5032 - val_accuracy: 0.7616\n",
      "Epoch 72/400\n",
      "181/185 [============================>.] - ETA: 0s - loss: 0.4881 - accuracy: 0.7629\n",
      "Epoch 00072: val_loss improved from 0.50320 to 0.50216, saving model to model\\train_X_ex_best.h5\n",
      "185/185 [==============================] - 2s 9ms/step - loss: 0.4880 - accuracy: 0.7627 - val_loss: 0.5022 - val_accuracy: 0.7623\n",
      "Epoch 73/400\n",
      "181/185 [============================>.] - ETA: 0s - loss: 0.4859 - accuracy: 0.7628\n",
      "Epoch 00073: val_loss improved from 0.50216 to 0.50097, saving model to model\\train_X_ex_best.h5\n",
      "185/185 [==============================] - 2s 9ms/step - loss: 0.4863 - accuracy: 0.7620 - val_loss: 0.5010 - val_accuracy: 0.7639\n",
      "Epoch 74/400\n",
      "181/185 [============================>.] - ETA: 0s - loss: 0.4851 - accuracy: 0.7640\n",
      "Epoch 00074: val_loss did not improve from 0.50097\n",
      "185/185 [==============================] - 2s 9ms/step - loss: 0.4846 - accuracy: 0.7647 - val_loss: 0.5010 - val_accuracy: 0.7670\n",
      "Epoch 75/400\n",
      "181/185 [============================>.] - ETA: 0s - loss: 0.4834 - accuracy: 0.7643\n",
      "Epoch 00075: val_loss improved from 0.50097 to 0.49869, saving model to model\\train_X_ex_best.h5\n",
      "185/185 [==============================] - 2s 9ms/step - loss: 0.4829 - accuracy: 0.7651 - val_loss: 0.4987 - val_accuracy: 0.7662\n",
      "Epoch 76/400\n",
      "180/185 [============================>.] - ETA: 0s - loss: 0.4809 - accuracy: 0.7675\n",
      "Epoch 00076: val_loss did not improve from 0.49869\n",
      "185/185 [==============================] - 2s 10ms/step - loss: 0.4813 - accuracy: 0.7669 - val_loss: 0.4998 - val_accuracy: 0.7701\n",
      "Epoch 77/400\n",
      " 13/185 [=>............................] - ETA: 1s - loss: 0.4891 - accuracy: 0.7716"
     ]
    }
   ],
   "source": [
    "history = model.fit(train_X_ex,\n",
    "                    train_y,\n",
    "                    epochs=400,\n",
    "                    batch_size=32,\n",
    "                    verbose=1,\n",
    "                    validation_data=(validation_X_ex, validation_y),\n",
    "                    callbacks=[checkpoint, earlystopping])"
   ]
  },
  {
   "cell_type": "markdown",
   "metadata": {},
   "source": [
    "model.fit(all_X_ex, all_y, epochs=1, batch_size=32, verbose=1)"
   ]
  },
  {
   "cell_type": "code",
   "execution_count": null,
   "metadata": {
    "scrolled": true
   },
   "outputs": [],
   "source": [
    "plt.plot(history.history['accuracy'][10:], label='Train Accuracy')\n",
    "plt.plot(history.history['val_accuracy'][10:], label='Validation Accuracy')\n",
    "plt.xlabel('Epochs')\n",
    "plt.ylabel('Accuracy')\n",
    "plt.legend()"
   ]
  },
  {
   "cell_type": "code",
   "execution_count": null,
   "metadata": {},
   "outputs": [],
   "source": [
    "plt.plot(history.history['loss'], label='Train Loss')\n",
    "plt.plot(history.history['val_loss'], label='Validation Loss')\n",
    "plt.xlabel('Epochs')\n",
    "plt.ylabel('Loss')\n",
    "plt.legend()"
   ]
  },
  {
   "cell_type": "code",
   "execution_count": null,
   "metadata": {},
   "outputs": [],
   "source": [
    "Y_pred = model.predict(extra_fire_X_ex)\n",
    "y_pred = np.argmax(Y_pred,axis=1)\n",
    "\n",
    "tn, fp, fn, tp = confusion_matrix(np.argmax(extra_fire_y,axis=1), y_pred).ravel()\n",
    "matrix = confusion_matrix(np.argmax(extra_fire_y,axis=1), y_pred)\n",
    "sns.heatmap(pd.DataFrame(matrix), annot=True, cmap=\"bone\" ,fmt='g')\n",
    "plt.title('Confusion matrix', y=1.1)\n",
    "plt.ylabel('Actual label')\n",
    "plt.xlabel('Predicted label')\n",
    "plt.show()\n",
    "\n",
    "print('acc: ', (tn+tp)/(tn+fp+fn+tp))"
   ]
  },
  {
   "cell_type": "code",
   "execution_count": 205,
   "metadata": {},
   "outputs": [],
   "source": [
    "best_model = models.load_model('model/train_X_ex_best.h5')"
   ]
  },
  {
   "cell_type": "code",
   "execution_count": 206,
   "metadata": {},
   "outputs": [
    {
     "data": {
      "image/png": "[encoded data removed]",
      "text/plain": [
       "<Figure size 432x288 with 2 Axes>"
      ]
     },
     "metadata": {
      "needs_background": "light"
     },
     "output_type": "display_data"
    },
    {
     "name": "stdout",
     "output_type": "stream",
     "text": [
      "acc:  0.7133333333333334\n"
     ]
    }
   ],
   "source": [
    "Y_pred = best_model.predict(extra_fire_X_ex)\n",
    "y_pred = np.argmax(Y_pred,axis=1)\n",
    "\n",
    "tn, fp, fn, tp = confusion_matrix(np.argmax(extra_fire_y,axis=1), y_pred).ravel()\n",
    "matrix = confusion_matrix(np.argmax(extra_fire_y,axis=1), y_pred)\n",
    "sns.heatmap(pd.DataFrame(matrix), annot=True, cmap=\"bone\" ,fmt='g')\n",
    "plt.title('Confusion matrix', y=1.1)\n",
    "plt.ylabel('Actual label')\n",
    "plt.xlabel('Predicted label')\n",
    "plt.show()\n",
    "\n",
    "print('acc: ', (tn+tp)/(tn+fp+fn+tp))"
   ]
  },
  {
   "cell_type": "code",
   "execution_count": 43,
   "metadata": {
    "scrolled": false
   },
   "outputs": [
    {
     "data": {
      "text/plain": [
       "array([1, 1, 0, 1, 1, 0, 1, 0, 1, 1, 0, 0, 1, 1, 0, 1, 0, 0, 1, 1, 1, 0,\n",
       "       1, 1, 0, 1, 0, 0, 1, 1, 1, 1, 0, 0, 1, 0, 1, 1, 0, 0, 0, 1, 1, 0,\n",
       "       1, 0, 0, 0, 0, 1, 1, 1, 1, 1, 1, 1, 1, 0, 0, 0, 0, 0, 0, 1, 1, 0,\n",
       "       0, 1, 1, 1, 1, 1, 1, 0, 0, 0, 1, 1, 0, 0, 0, 1, 0, 1, 0, 1, 0, 1,\n",
       "       0, 0, 0, 1, 0, 1, 0, 1, 1, 0, 1, 0, 1, 1, 0, 1, 1, 1, 1, 0, 0, 0,\n",
       "       1, 1, 1, 1, 1, 1, 1, 0, 0, 0, 1, 1, 1, 1, 1, 1, 0, 1, 1, 0, 0, 0,\n",
       "       1, 0, 1, 1, 0, 0, 1, 0, 0, 0, 0, 1, 1, 1, 1, 1, 1, 0, 0, 1, 0, 0,\n",
       "       0, 1, 1, 1, 1, 1, 1, 1, 0, 1, 1, 1, 1, 0, 1, 0, 0, 0, 1, 0, 1, 1,\n",
       "       0, 0, 0, 1, 0, 1, 1, 1, 0, 1, 0, 1, 1, 1, 0, 1, 0, 1, 1, 0, 0, 0,\n",
       "       0, 0, 1, 0, 0, 0, 1, 1, 0, 1, 1, 1, 0, 0, 0, 0, 0, 0, 0, 0, 0, 1,\n",
       "       1, 0, 0, 0, 0, 0, 0, 0, 0, 0, 0, 1, 1, 0, 0, 1, 1, 0, 0, 0, 0, 1,\n",
       "       1, 1, 1, 1, 0, 1, 1, 0, 0, 1, 1, 0, 1, 0, 0, 1, 1, 1, 1, 1, 1, 0,\n",
       "       1, 1, 1, 0, 1, 0, 1, 1, 0, 0, 0, 0, 1, 0, 1, 1, 1, 1, 0, 1, 1, 0,\n",
       "       1, 1, 1, 0, 1, 0, 1, 0, 0, 0, 1, 0, 0, 0, 1, 1, 1, 1, 0, 0, 0, 1,\n",
       "       0, 1, 1, 0, 1, 0, 0, 0, 1, 1, 1, 1, 0, 0, 1, 1, 1, 1, 0, 1, 0, 1,\n",
       "       1, 1, 1, 1, 0, 1, 1, 1, 1, 0, 1, 1, 0, 1, 0, 1, 1, 0, 0, 0, 0, 1,\n",
       "       1, 0, 0, 1, 0, 1, 0, 0, 1, 0, 0, 1, 0, 1, 1, 0, 1, 1, 0, 1, 0, 0,\n",
       "       0, 0, 0, 1, 1, 1, 0, 1, 0, 1, 1, 0, 1, 0, 1, 0, 0, 1, 1, 0, 1, 0,\n",
       "       1, 0, 1, 1, 1, 1, 1, 1, 1, 0, 0, 1, 0, 1, 1, 1, 1, 0, 0, 0, 1, 1,\n",
       "       1, 1, 1, 0, 1, 0, 0, 1, 1, 1, 1, 1, 1, 0, 0, 0, 0, 1, 1, 1, 0, 0,\n",
       "       0, 0, 1, 1, 0, 0, 1, 0, 1, 0, 0, 0, 1, 1, 0, 0, 1, 0, 1, 0, 0, 1,\n",
       "       1, 1, 1, 0, 0, 1, 1, 1, 1, 1, 1, 1, 0, 1, 1, 1, 1, 0, 0, 1, 0, 1,\n",
       "       1, 1, 1, 1, 1, 1, 1, 0, 0, 0, 1, 1, 1, 1, 1, 0, 0, 1, 0, 1, 1, 0,\n",
       "       1, 0, 1, 1, 1, 0, 1, 1, 0, 0, 1, 1, 1, 1, 0, 1, 1, 0, 0, 0, 1, 1,\n",
       "       0, 0, 1, 1, 0, 0, 1, 1, 1, 0, 0, 1, 1, 1, 1, 0, 0, 0, 0, 1, 0, 0,\n",
       "       0, 1, 1, 0, 1, 1, 0, 1, 0, 1, 0, 1, 1, 0, 1, 0, 1, 0, 1, 1, 0, 1,\n",
       "       0, 0, 0, 1, 0, 0, 0, 1, 1, 0, 1, 1, 0, 0, 0, 0, 0, 1, 1, 0, 0, 0,\n",
       "       1, 1, 1, 0, 1, 1, 0, 1, 0, 0, 1, 1, 1, 1, 1, 1, 0, 1, 1, 1, 0, 1,\n",
       "       1, 0, 1, 1, 0, 0, 0, 1, 0, 1, 0, 0, 0, 0, 1, 1, 1, 1, 1, 1, 1, 1,\n",
       "       1, 1, 0, 1, 0, 0, 0, 0, 1, 0, 1, 1, 1, 0, 0, 0, 0, 1, 0, 0, 1, 0,\n",
       "       0, 0, 1, 1, 1, 1, 0, 1, 0, 1, 1, 1, 0, 0, 0, 0, 0, 0, 0, 1, 0, 1,\n",
       "       0, 0, 0, 1, 0, 1, 0, 1, 1, 0, 1, 0, 1, 1, 1, 1, 1, 0, 1, 0, 1, 0,\n",
       "       0, 0, 1, 1, 0, 1, 0, 0, 1, 0, 1, 0, 0, 1, 1, 1], dtype=int64)"
      ]
     },
     "execution_count": 43,
     "metadata": {},
     "output_type": "execute_result"
    }
   ],
   "source": [
    "y_pred"
   ]
  },
  {
   "cell_type": "code",
   "execution_count": 44,
   "metadata": {},
   "outputs": [
    {
     "data": {
      "text/plain": [
       "array([0, 1, 0, 1, 1, 0, 1, 0, 1, 1, 0, 0, 1, 1, 0, 1, 0, 0, 0, 1, 1, 1,\n",
       "       1, 1, 0, 1, 0, 0, 1, 1, 1, 1, 0, 0, 1, 0, 1, 1, 0, 1, 0, 1, 1, 0,\n",
       "       1, 0, 0, 0, 0, 0, 0, 1, 1, 0, 1, 1, 1, 0, 0, 0, 0, 0, 0, 1, 1, 0,\n",
       "       0, 1, 1, 1, 0, 0, 0, 0, 0, 1, 1, 1, 0, 0, 0, 1, 0, 1, 0, 1, 0, 0,\n",
       "       0, 0, 0, 1, 0, 1, 0, 0, 1, 0, 1, 0, 1, 1, 0, 1, 0, 0, 1, 0, 0, 0,\n",
       "       1, 1, 1, 1, 1, 1, 1, 0, 0, 0, 1, 1, 1, 0, 1, 1, 0, 1, 1, 0, 0, 0,\n",
       "       1, 0, 1, 1, 0, 0, 1, 0, 0, 0, 0, 1, 1, 0, 1, 1, 1, 0, 0, 1, 1, 0,\n",
       "       0, 0, 1, 1, 1, 0, 1, 1, 0, 1, 1, 1, 1, 0, 1, 0, 0, 0, 1, 0, 1, 1,\n",
       "       0, 0, 0, 1, 0, 1, 1, 1, 0, 1, 0, 1, 1, 1, 0, 1, 0, 1, 0, 0, 0, 0,\n",
       "       0, 0, 1, 0, 0, 0, 0, 1, 0, 1, 1, 1, 0, 0, 0, 1, 0, 0, 0, 0, 0, 1,\n",
       "       1, 0, 0, 0, 0, 0, 0, 0, 0, 0, 0, 1, 1, 0, 0, 1, 1, 0, 0, 0, 0, 1,\n",
       "       1, 1, 1, 1, 0, 1, 1, 0, 0, 1, 0, 0, 1, 1, 0, 0, 1, 1, 1, 1, 1, 0,\n",
       "       1, 1, 1, 0, 1, 0, 1, 1, 0, 0, 0, 0, 1, 0, 0, 1, 0, 1, 0, 1, 1, 0,\n",
       "       1, 1, 0, 0, 1, 0, 1, 0, 0, 0, 1, 0, 0, 0, 1, 1, 0, 1, 0, 0, 0, 1,\n",
       "       0, 0, 1, 1, 1, 0, 0, 0, 1, 1, 1, 0, 0, 0, 1, 1, 1, 1, 0, 1, 0, 1,\n",
       "       1, 0, 1, 1, 0, 1, 1, 1, 1, 0, 1, 1, 0, 1, 0, 1, 1, 0, 0, 0, 0, 1,\n",
       "       1, 0, 0, 1, 0, 1, 0, 0, 1, 1, 0, 1, 0, 1, 1, 0, 1, 1, 0, 1, 0, 0,\n",
       "       0, 0, 0, 1, 1, 1, 0, 1, 0, 1, 0, 0, 1, 0, 0, 0, 0, 1, 1, 0, 1, 0,\n",
       "       1, 0, 1, 1, 1, 1, 1, 1, 1, 0, 0, 1, 0, 1, 1, 0, 1, 0, 0, 0, 1, 1,\n",
       "       1, 1, 1, 0, 1, 0, 0, 1, 1, 1, 1, 1, 0, 0, 0, 0, 0, 0, 0, 1, 0, 0,\n",
       "       0, 0, 0, 0, 0, 0, 1, 0, 1, 0, 0, 0, 1, 1, 0, 0, 1, 0, 1, 0, 0, 1,\n",
       "       1, 0, 1, 0, 0, 1, 1, 1, 0, 1, 1, 1, 0, 1, 1, 1, 1, 0, 0, 1, 0, 1,\n",
       "       1, 1, 1, 1, 1, 0, 1, 0, 0, 1, 1, 1, 1, 1, 1, 0, 0, 1, 0, 1, 1, 0,\n",
       "       1, 0, 1, 1, 1, 0, 1, 1, 0, 0, 1, 1, 1, 1, 0, 1, 1, 0, 0, 0, 1, 1,\n",
       "       0, 0, 1, 1, 0, 0, 1, 1, 1, 0, 0, 1, 1, 1, 1, 0, 0, 1, 0, 1, 0, 0,\n",
       "       0, 0, 1, 0, 1, 1, 0, 1, 0, 1, 0, 1, 1, 0, 1, 1, 1, 0, 1, 1, 0, 0,\n",
       "       0, 0, 0, 1, 0, 0, 0, 1, 1, 0, 1, 1, 0, 0, 0, 0, 0, 1, 1, 0, 1, 0,\n",
       "       1, 1, 1, 0, 1, 1, 0, 1, 0, 0, 1, 1, 1, 1, 1, 1, 0, 1, 0, 1, 0, 1,\n",
       "       1, 0, 0, 1, 0, 0, 0, 1, 0, 1, 0, 0, 0, 1, 1, 1, 1, 1, 1, 1, 1, 1,\n",
       "       1, 1, 0, 1, 0, 0, 0, 1, 1, 0, 1, 1, 1, 0, 0, 0, 1, 1, 0, 0, 1, 0,\n",
       "       0, 0, 1, 0, 1, 1, 0, 1, 0, 0, 1, 1, 0, 0, 0, 0, 0, 0, 0, 0, 0, 1,\n",
       "       0, 0, 0, 1, 0, 1, 0, 1, 1, 0, 0, 0, 1, 1, 1, 1, 1, 0, 1, 0, 1, 0,\n",
       "       0, 0, 1, 1, 0, 1, 0, 0, 0, 0, 1, 1, 0, 1, 1, 1], dtype=int64)"
      ]
     },
     "execution_count": 44,
     "metadata": {},
     "output_type": "execute_result"
    }
   ],
   "source": [
    "np.argmax(test_y,axis=1)"
   ]
  },
  {
   "cell_type": "code",
   "execution_count": 45,
   "metadata": {},
   "outputs": [
    {
     "ename": "NameError",
     "evalue": "name 'test_y' is not defined",
     "output_type": "error",
     "traceback": [
      "\u001b[1;31m---------------------------------------------------------------------------\u001b[0m",
      "\u001b[1;31mNameError\u001b[0m                                 Traceback (most recent call last)",
      "\u001b[1;32m<ipython-input-45-8971360425a3>\u001b[0m in \u001b[0;36m<module>\u001b[1;34m\u001b[0m\n\u001b[0;32m      1\u001b[0m \u001b[0mfn_result\u001b[0m \u001b[1;33m=\u001b[0m \u001b[1;33m[\u001b[0m\u001b[1;33m]\u001b[0m\u001b[1;33m\u001b[0m\u001b[1;33m\u001b[0m\u001b[0m\n\u001b[0;32m      2\u001b[0m \u001b[0mfp_result\u001b[0m \u001b[1;33m=\u001b[0m \u001b[1;33m[\u001b[0m\u001b[1;33m]\u001b[0m\u001b[1;33m\u001b[0m\u001b[1;33m\u001b[0m\u001b[0m\n\u001b[1;32m----> 3\u001b[1;33m \u001b[1;32mfor\u001b[0m \u001b[0mn\u001b[0m \u001b[1;32min\u001b[0m \u001b[0mrange\u001b[0m\u001b[1;33m(\u001b[0m\u001b[1;36m0\u001b[0m\u001b[1;33m,\u001b[0m \u001b[0mlen\u001b[0m\u001b[1;33m(\u001b[0m\u001b[0mtest_y\u001b[0m\u001b[1;33m)\u001b[0m\u001b[1;33m)\u001b[0m\u001b[1;33m:\u001b[0m\u001b[1;33m\u001b[0m\u001b[1;33m\u001b[0m\u001b[0m\n\u001b[0m\u001b[0;32m      4\u001b[0m     \u001b[1;32mif\u001b[0m \u001b[0my_pred\u001b[0m\u001b[1;33m[\u001b[0m\u001b[0mn\u001b[0m\u001b[1;33m]\u001b[0m \u001b[1;33m!=\u001b[0m \u001b[0mnp\u001b[0m\u001b[1;33m.\u001b[0m\u001b[0margmax\u001b[0m\u001b[1;33m(\u001b[0m\u001b[0mtest_y\u001b[0m\u001b[1;33m,\u001b[0m\u001b[0maxis\u001b[0m\u001b[1;33m=\u001b[0m\u001b[1;36m1\u001b[0m\u001b[1;33m)\u001b[0m\u001b[1;33m[\u001b[0m\u001b[0mn\u001b[0m\u001b[1;33m]\u001b[0m\u001b[1;33m:\u001b[0m\u001b[1;33m\u001b[0m\u001b[1;33m\u001b[0m\u001b[0m\n\u001b[0;32m      5\u001b[0m         \u001b[1;32mif\u001b[0m\u001b[1;33m(\u001b[0m\u001b[0my_pred\u001b[0m\u001b[1;33m[\u001b[0m\u001b[0mn\u001b[0m\u001b[1;33m]\u001b[0m \u001b[1;33m==\u001b[0m \u001b[1;36m1\u001b[0m\u001b[1;33m)\u001b[0m \u001b[1;33m:\u001b[0m\u001b[1;33m\u001b[0m\u001b[1;33m\u001b[0m\u001b[0m\n",
      "\u001b[1;31mNameError\u001b[0m: name 'test_y' is not defined"
     ]
    }
   ],
   "source": [
    "fn_result = []\n",
    "fp_result = []\n",
    "for n in range(0, len(test_y)):\n",
    "    if y_pred[n] != np.argmax(test_y,axis=1)[n]:\n",
    "        if(y_pred[n] == 1) :\n",
    "            fp_result.append(n)\n",
    "        else :\n",
    "            fn_result.append(n)"
   ]
  },
  {
   "cell_type": "code",
   "execution_count": 46,
   "metadata": {},
   "outputs": [
    {
     "name": "stdout",
     "output_type": "stream",
     "text": [
      "47\n",
      "16\n"
     ]
    }
   ],
   "source": [
    "print(len(fp_result))\n",
    "print(len(fn_result))"
   ]
  },
  {
   "cell_type": "code",
   "execution_count": 47,
   "metadata": {},
   "outputs": [
    {
     "name": "stdout",
     "output_type": "stream",
     "text": [
      "data/final/test_negative/0.17_bg_739_1.wav\n",
      "data/final/test_negative/0.11_bg_969_30.wav\n",
      "data/final/test_negative/0.88_bg_602_45.wav\n",
      "data/final/test_negative/0.37_bg_1060_44.wav\n",
      "data/final/test_negative/0.01_bg_861_44.wav\n",
      "data/final/test_negative/0.46_bg_779_30.wav\n",
      "data/final/test_negative/0.48_bg_881_15.wav\n",
      "data/final/test_negative/0.57_bg_869_8.wav\n",
      "data/final/test_negative/0.14_bg_650_32.wav\n",
      "data/final/test_negative/0.29_bg_712_34.wav\n",
      "data/final/test_negative/0.65_bg_769_22.wav\n",
      "data/final/test_negative/0.06_bg_1005_13.wav\n",
      "data/final/test_negative/0.03_bg_992_7.wav\n",
      "data/final/test_negative/0.07_bg_849_35.wav\n",
      "data/final/test_negative/0.13_bg_853_37.wav\n",
      "data/final/test_negative/0.84_bg_785_34.wav\n",
      "data/final/test_negative/0.68_bg_795_43.wav\n",
      "data/final/test_negative/0.05_bg_715_36.wav\n",
      "data/final/test_negative/0.33_bg_584_33.wav\n",
      "data/final/test_negative/0.14_bg_728_42.wav\n",
      "data/final/test_negative/0.14_bg_631_23.wav\n",
      "data/final/test_negative/0.53_bg_770_23.wav\n",
      "data/final/test_negative/0.53_bg_713_35.wav\n",
      "data/final/test_negative/0.14_bg_964_26.wav\n",
      "data/final/test_negative/0.36_bg_701_26.wav\n",
      "data/final/test_negative/0.35_bg_928_43.wav\n",
      "data/final/test_negative/0.56_bg_929_44.wav\n",
      "data/final/test_negative/0.75_bg_669_5.wav\n",
      "data/final/test_negative/0.6_bg_805_8.wav\n",
      "data/final/test_negative/0.7_bg_629_22.wav\n",
      "data/final/test_negative/0.03_bg_738_9.wav\n",
      "data/final/test_negative/0.19_bg_607_8.wav\n",
      "data/final/test_negative/0.38_bg_1003_12.wav\n",
      "data/final/test_negative/0.46_bg_598_42.wav\n",
      "data/final/test_negative/0.68_bg_794_42.wav\n",
      "data/final/test_negative/0.41_bg_575_3.wav\n",
      "data/final/test_negative/0.26_bg_716_37.wav\n",
      "data/final/test_negative/0.64_bg_778_3.wav\n",
      "data/final/test_negative/0.47_bg_815_15.wav\n",
      "data/final/test_negative/0.69_bg_586_35.wav\n",
      "data/final/test_negative/0.18_bg_863_5.wav\n",
      "data/final/test_negative/0.71_bg_973_34.wav\n",
      "data/final/test_negative/0.63_bg_1040_34.wav\n",
      "data/final/test_negative/0.03_bg_803_6.wav\n",
      "data/final/test_negative/0.61_bg_609_1.wav\n",
      "data/final/test_negative/0.14_bg_671_7.wav\n",
      "data/final/test_negative/0.28_bg_663_41.wav\n"
     ]
    }
   ],
   "source": [
    "for name in fp_result:\n",
    "    print(test_file[name])"
   ]
  },
  {
   "cell_type": "code",
   "execution_count": 48,
   "metadata": {},
   "outputs": [],
   "source": [
    "import IPython.display"
   ]
  },
  {
   "cell_type": "code",
   "execution_count": 49,
   "metadata": {},
   "outputs": [
    {
     "name": "stdout",
     "output_type": "stream",
     "text": [
      "wav shape:  (13933,)\n",
      "data/final/test_negative/0.17_bg_739_1.wav\n",
      "1\n"
     ]
    },
    {
     "data": {
      "text/html": [
       "\n",
       "                <audio  controls=\"controls\" >\n",
       "                    <source src=\"data:audio/wav;base64,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\" type=\"audio/wav\" />\n",
       "                    Your browser does not support the audio element.\n",
       "                </audio>\n",
       "              "
      ],
      "text/plain": [
       "<IPython.lib.display.Audio object>"
      ]
     },
     "execution_count": 49,
     "metadata": {},
     "output_type": "execute_result"
    }
   ],
   "source": [
    "i = 0\n",
    "wav = test_file[fp_result[i]]\n",
    "file_sr = librosa.get_samplerate(wav)\n",
    "\n",
    "y, sr = librosa.load(wav, sr=file_sr)\n",
    "print('wav shape: ', y.shape)\n",
    "print(test_file[fp_result[i]])\n",
    "print(y_pred[fp_result[i]])\n",
    "IPython.display.Audio(data=y[:20000], rate=sr)"
   ]
  },
  {
   "cell_type": "code",
   "execution_count": null,
   "metadata": {},
   "outputs": [],
   "source": [
    "i = 1\n",
    "wav = test_file[fp_result[i]]\n",
    "file_sr = librosa.get_samplerate(wav)\n",
    "\n",
    "y, sr = librosa.load(wav, sr=file_sr)\n",
    "print('wav shape: ', y.shape)\n",
    "print(test_file[fp_result[i]])\n",
    "print(y_pred[fp_result[i]])\n",
    "IPython.display.Audio(data=y[:20000], rate=sr)"
   ]
  },
  {
   "cell_type": "code",
   "execution_count": null,
   "metadata": {},
   "outputs": [],
   "source": [
    "i = 2\n",
    "wav = test_file[fp_result[i]]\n",
    "file_sr = librosa.get_samplerate(wav)\n",
    "\n",
    "y, sr = librosa.load(wav, sr=file_sr)\n",
    "print('wav shape: ', y.shape)\n",
    "print(test_file[fp_result[i]])\n",
    "print(y_pred[fp_result[i]])\n",
    "IPython.display.Audio(data=y[:20000], rate=sr)"
   ]
  },
  {
   "cell_type": "code",
   "execution_count": 50,
   "metadata": {},
   "outputs": [
    {
     "name": "stdout",
     "output_type": "stream",
     "text": [
      "data/final/test/0.24_bg_524_m3.wav\n",
      "data/final/test/0.24_bg_1_dh1.wav\n",
      "data/final/test/0.19_bg_467_dh26.wav\n",
      "data/final/test/0.49_bg_189_dh1.wav\n",
      "data/final/test/0.3_bg_466_dh25.wav\n",
      "data/final/test/0.19_bg_361_dh11.wav\n",
      "data/final/test/0.39_bg_209_dh25.wav\n",
      "data/final/test/0.19_bg_21_dh26.wav\n",
      "data/final/test/0.52_bg_23_dj12.wav\n",
      "data/final/test/0.41_bg_75_dh27.wav\n",
      "data/final/test/0.43_bg_62_dh16.wav\n",
      "data/final/test/0.13_bg_74_dh26.wav\n",
      "data/final/test/0.23_bg_299_dh27.wav\n",
      "data/final/test/0.26_bg_179_f2.wav\n",
      "data/final/test/0.24_bg_53_dh1.wav\n",
      "data/final/test/0.66_bg_108_dh18.wav\n"
     ]
    }
   ],
   "source": [
    "for name in fn_result:\n",
    "    print(test_file[name])"
   ]
  },
  {
   "cell_type": "code",
   "execution_count": 55,
   "metadata": {},
   "outputs": [
    {
     "name": "stdout",
     "output_type": "stream",
     "text": [
      "wav shape:  (13933,)\n",
      "data/final/test/0.66_bg_108_dh18.wav\n",
      "0\n"
     ]
    },
    {
     "data": {
      "text/html": [
       "\n",
       "                <audio  controls=\"controls\" >\n",
       "                    <source src=\"data:audio/wav;base64,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\" type=\"audio/wav\" />\n",
       "                    Your browser does not support the audio element.\n",
       "                </audio>\n",
       "              "
      ],
      "text/plain": [
       "<IPython.lib.display.Audio object>"
      ]
     },
     "execution_count": 55,
     "metadata": {},
     "output_type": "execute_result"
    }
   ],
   "source": [
    "i = -1\n",
    "wav = test_file[fn_result[i]]\n",
    "file_sr = librosa.get_samplerate(wav)\n",
    "\n",
    "y, sr = librosa.load(wav, sr=file_sr)\n",
    "print('wav shape: ', y.shape)\n",
    "print(test_file[fn_result[i]])\n",
    "print(y_pred[fn_result[i]])\n",
    "IPython.display.Audio(data=y[:20000], rate=sr)"
   ]
  },
  {
   "cell_type": "code",
   "execution_count": null,
   "metadata": {},
   "outputs": [],
   "source": [
    "i = 1\n",
    "wav = test_file[fn_result[i]]\n",
    "file_sr = librosa.get_samplerate(wav)\n",
    "\n",
    "y, sr = librosa.load(wav, sr=file_sr)\n",
    "print('wav shape: ', y.shape)\n",
    "print(test_file[fn_result[i]])\n",
    "print(y_pred[fn_result[i]])\n",
    "IPython.display.Audio(data=y[:20000], rate=sr)"
   ]
  },
  {
   "cell_type": "code",
   "execution_count": null,
   "metadata": {},
   "outputs": [],
   "source": [
    "i = 2\n",
    "wav = test_file[fn_result[i]]\n",
    "file_sr = librosa.get_samplerate(wav)\n",
    "\n",
    "y, sr = librosa.load(wav, sr=file_sr)\n",
    "print('wav shape: ', y.shape)\n",
    "print(test_file[fn_result[i]])\n",
    "print(y_pred[fn_result[i]])\n",
    "IPython.display.Audio(data=y[:20000], rate=sr)"
   ]
  },
  {
   "cell_type": "code",
   "execution_count": 68,
   "metadata": {},
   "outputs": [],
   "source": [
    "NON_DATA_DIR = 'data/final_test/test_negative/'\n",
    "\n",
    "extra_fire_X = []\n",
    "extra_fire_spectrograms = []\n",
    "extra_fire_mel_spectrograms = []\n",
    "extra_fire_mfccs = []\n",
    "extra_fire_y = []\n",
    "extra_fire_file = []\n",
    "\n",
    "for fname in os.listdir(NON_DATA_DIR):\n",
    "    try:\n",
    "        if '.wav' not in fname or 'dima' in fname:\n",
    "            continue\n",
    "        extra_fire_file.append(NON_DATA_DIR + fname)\n",
    "        wav, sr = librosa.load(NON_DATA_DIR + fname, sr=16000)\n",
    "        \n",
    "        mfcc = librosa.feature.mfcc(wav, sr=16000)\n",
    "        mfcc_normalize = librosa.util.normalize(mfcc,norm=None)\n",
    "        padded_mfcc = padding(mfcc_normalize, 63)\n",
    "        \n",
    "        mel_spectogram = librosa.feature.melspectrogram(wav)\n",
    "        padded_mel_spectrogram = padding(mel_spectogram, 63)\n",
    "        \n",
    "        extra_fire_mfccs.append(padded_mfcc)\n",
    "        extra_fire_mel_spectrograms.append(padded_mel_spectrogram)\n",
    "        extra_fire_y.append(0)\n",
    "    except Exception as e:\n",
    "        print(fname, e)\n",
    "        raise"
   ]
  },
  {
   "cell_type": "code",
   "execution_count": 69,
   "metadata": {},
   "outputs": [],
   "source": [
    "extra_fire_DATA_DIR = 'data/final_test/test/'\n",
    "\n",
    "for fname in os.listdir(extra_fire_DATA_DIR):\n",
    "    try:\n",
    "        if '.wav' not in fname or 'dima' in fname:\n",
    "            continue\n",
    "        extra_fire_file.append(extra_fire_DATA_DIR + fname)\n",
    "        wav, sr = librosa.load(extra_fire_DATA_DIR + fname, sr=16000)\n",
    "        \n",
    "        mfcc = librosa.feature.mfcc(wav, sr=16000)\n",
    "        mfcc_normalize = librosa.util.normalize(mfcc,norm=None)\n",
    "        padded_mfcc = padding(mfcc_normalize, 63)\n",
    "        \n",
    "        mel_spectogram = librosa.feature.melspectrogram(wav)\n",
    "        padded_mel_spectrogram = padding(mel_spectogram, 63)\n",
    "        \n",
    "        extra_fire_mfccs.append(padded_mfcc)\n",
    "        extra_fire_mel_spectrograms.append(padded_mel_spectrogram)\n",
    "        extra_fire_y.append(1)\n",
    "    except Exception as e:\n",
    "        print(fname, e)\n",
    "        raise\n",
    "        \n",
    "extra_fire_mfccs = np.array(extra_fire_mfccs)\n",
    "extra_fire_mel_spectrograms = np.array(extra_fire_mel_spectrograms)\n",
    "extra_fire_y = np.array(extra_fire_y)\n",
    "extra_fire_y = to_categorical(np.array(extra_fire_y))\n",
    "\n",
    "extra_fire_X_ex = np.expand_dims(extra_fire_mfccs, -1)\n",
    "extra_fire_X_ex_mel = np.expand_dims(extra_fire_mel_spectrograms, -1)"
   ]
  },
  {
   "cell_type": "code",
   "execution_count": 70,
   "metadata": {},
   "outputs": [
    {
     "data": {
      "text/plain": [
       "(900, 20, 63, 1)"
      ]
     },
     "execution_count": 70,
     "metadata": {},
     "output_type": "execute_result"
    }
   ],
   "source": [
    "extra_fire_X_ex.shape"
   ]
  },
  {
   "cell_type": "code",
   "execution_count": 71,
   "metadata": {},
   "outputs": [],
   "source": [
    "np.save(os.path.join(\"data/dataset\", \"extra_fire_X_ex.npy\"), extra_fire_X_ex)\n",
    "np.save(os.path.join(\"data/dataset\", \"extra_fire_X_ex_mel.npy\"), extra_fire_X_ex_mel)\n",
    "np.save(os.path.join(\"data/dataset\", \"extra_fire_file.npy\"), extra_fire_file)\n",
    "np.save(os.path.join(\"data/dataset\", \"extra_fire_y.npy\"), np.array(extra_fire_y))"
   ]
  },
  {
   "cell_type": "code",
   "execution_count": 72,
   "metadata": {},
   "outputs": [],
   "source": [
    "extra_fire_X_ex = np.load(os.path.join('data/dataset', 'extra_fire_X_ex.npy'))\n",
    "extra_fire_X_ex_mel = np.load(os.path.join('data/dataset', 'extra_fire_X_ex_mel.npy'))\n",
    "extra_fire_file = np.load(os.path.join('data/dataset', 'extra_fire_file.npy'))\n",
    "extra_fire_y = np.load(os.path.join('data/dataset', 'extra_fire_y.npy'))\n",
    "\n",
    "extra_fire_X_ex, extra_fire_X_ex_mel, extra_fire_y, extra_fire_file = shuffle(extra_fire_X_ex, extra_fire_X_ex_mel, extra_fire_y, extra_fire_file, random_state=1523)"
   ]
  },
  {
   "cell_type": "code",
   "execution_count": 74,
   "metadata": {},
   "outputs": [],
   "source": [
    "best_model = models.load_model('model/train_X_ex_best.h5')"
   ]
  },
  {
   "cell_type": "code",
   "execution_count": 75,
   "metadata": {},
   "outputs": [
    {
     "data": {
      "image/png": "[encoded data removed]",
      "text/plain": [
       "<Figure size 432x288 with 2 Axes>"
      ]
     },
     "metadata": {
      "needs_background": "light"
     },
     "output_type": "display_data"
    },
    {
     "name": "stdout",
     "output_type": "stream",
     "text": [
      "acc:  0.8766666666666667\n"
     ]
    }
   ],
   "source": [
    "#mfcc\n",
    "Y_pred = model.predict(extra_fire_X_ex)\n",
    "y_pred = np.argmax(Y_pred,axis=1)\n",
    "\n",
    "tn, fp, fn, tp = confusion_matrix(np.argmax(extra_fire_y,axis=1), y_pred).ravel()\n",
    "matrix = confusion_matrix(np.argmax(extra_fire_y,axis=1), y_pred)\n",
    "sns.heatmap(pd.DataFrame(matrix), annot=True, cmap=\"bone\" ,fmt='g')\n",
    "plt.title('Confusion matrix', y=1.1)\n",
    "plt.ylabel('Actual label')\n",
    "plt.xlabel('Predicted label')\n",
    "plt.show()\n",
    "\n",
    "print('acc: ', (tn+tp)/(tn+fp+fn+tp))"
   ]
  },
  {
   "cell_type": "code",
   "execution_count": 76,
   "metadata": {},
   "outputs": [
    {
     "data": {
      "text/plain": [
       "array([1, 0, 1, 0, 1, 0, 1, 1, 0, 0, 1, 1, 1, 0, 0, 0, 0, 0, 1, 1, 1, 1,\n",
       "       0, 1, 0, 1, 1, 0, 1, 0, 0, 1, 1, 0, 1, 1, 0, 1, 1, 1, 1, 0, 1, 0,\n",
       "       1, 0, 0, 1, 0, 1, 1, 0, 1, 0, 1, 1, 0, 1, 1, 0, 1, 1, 0, 1, 0, 0,\n",
       "       0, 1, 1, 0, 0, 0, 1, 1, 0, 0, 0, 1, 1, 0, 1, 1, 1, 1, 1, 0, 1, 0,\n",
       "       0, 0, 0, 0, 1, 1, 0, 0, 0, 1, 1, 0, 0, 1, 0, 0, 0, 0, 0, 0, 1, 1,\n",
       "       1, 1, 1, 1, 1, 1, 0, 0, 1, 0, 1, 1, 0, 1, 1, 0, 1, 1, 1, 0, 1, 0,\n",
       "       1, 1, 1, 0, 0, 0, 1, 1, 1, 1, 1, 1, 1, 0, 1, 0, 0, 0, 1, 0, 0, 0,\n",
       "       0, 1, 1, 0, 1, 0, 0, 1, 0, 0, 1, 1, 0, 0, 1, 1, 0, 0, 0, 1, 0, 0,\n",
       "       1, 1, 0, 1, 0, 1, 0, 0, 1, 1, 1, 1, 1, 1, 1, 0, 1, 1, 0, 0, 1, 1,\n",
       "       0, 0, 1, 0, 1, 1, 0, 1, 1, 0, 1, 0, 0, 1, 1, 0, 1, 1, 0, 1, 1, 0,\n",
       "       1, 0, 0, 0, 0, 0, 0, 1, 0, 0, 1, 0, 1, 0, 0, 1, 1, 0, 0, 0, 1, 0,\n",
       "       1, 0, 1, 1, 1, 0, 1, 1, 0, 1, 0, 1, 0, 1, 1, 0, 0, 0, 1, 1, 1, 1,\n",
       "       1, 1, 1, 1, 0, 0, 0, 0, 0, 1, 0, 0, 1, 0, 0, 1, 0, 0, 0, 0, 1, 0,\n",
       "       0, 0, 1, 1, 0, 1, 1, 1, 0, 0, 1, 1, 1, 1, 0, 0, 0, 1, 0, 1, 1, 0,\n",
       "       1, 0, 1, 0, 0, 1, 0, 1, 1, 0, 0, 1, 0, 0, 0, 1, 0, 1, 0, 0, 1, 0,\n",
       "       1, 1, 0, 1, 0, 0, 1, 0, 0, 0, 1, 1, 0, 1, 0, 0, 0, 1, 0, 1, 1, 0,\n",
       "       1, 0, 1, 1, 0, 1, 1, 0, 1, 0, 1, 0, 1, 1, 1, 0, 1, 0, 1, 0, 0, 0,\n",
       "       0, 0, 0, 1, 0, 1, 1, 0, 1, 1, 1, 0, 1, 1, 0, 1, 0, 1, 1, 1, 0, 1,\n",
       "       1, 0, 1, 0, 1, 1, 0, 0, 0, 1, 0, 1, 0, 0, 0, 0, 0, 1, 0, 0, 0, 0,\n",
       "       0, 0, 0, 1, 1, 0, 1, 0, 0, 0, 0, 0, 0, 0, 1, 1, 0, 0, 1, 0, 0, 0,\n",
       "       1, 0, 0, 1, 1, 1, 1, 0, 0, 1, 0, 0, 1, 1, 0, 0, 1, 0, 0, 1, 0, 1,\n",
       "       1, 0, 0, 0, 1, 0, 1, 1, 1, 1, 1, 1, 0, 0, 1, 0, 0, 1, 0, 1, 1, 1,\n",
       "       1, 1, 1, 0, 1, 0, 0, 1, 0, 1, 0, 1, 0, 0, 0, 1, 0, 1, 0, 1, 0, 0,\n",
       "       1, 0, 0, 0, 0, 0, 0, 1, 0, 0, 0, 0, 0, 0, 0, 0, 0, 1, 0, 0, 1, 1,\n",
       "       0, 0, 1, 0, 1, 1, 1, 0, 0, 0, 0, 0, 0, 1, 0, 1, 0, 1, 1, 1, 1, 0,\n",
       "       1, 1, 0, 1, 1, 1, 0, 0, 0, 0, 0, 0, 0, 0, 0, 0, 1, 1, 1, 0, 1, 0,\n",
       "       1, 0, 1, 1, 1, 0, 1, 1, 1, 0, 1, 0, 1, 1, 0, 1, 1, 1, 1, 1, 0, 0,\n",
       "       0, 1, 0, 1, 0, 1, 1, 1, 1, 0, 1, 0, 1, 1, 0, 0, 1, 1, 1, 0, 1, 1,\n",
       "       0, 0, 1, 1, 1, 1, 1, 0, 0, 0, 0, 0, 0, 0, 1, 0, 1, 0, 0, 0, 0, 0,\n",
       "       0, 0, 0, 0, 1, 0, 1, 1, 1, 0, 1, 0, 1, 1, 0, 1, 1, 0, 0, 0, 1, 1,\n",
       "       0, 0, 1, 1, 1, 0, 0, 1, 1, 0, 0, 0, 0, 1, 1, 0, 0, 0, 1, 1, 0, 1,\n",
       "       1, 0, 0, 0, 0, 1, 0, 1, 0, 1, 0, 1, 1, 1, 0, 0, 1, 0, 1, 0, 0, 0,\n",
       "       0, 1, 1, 1, 0, 0, 1, 1, 1, 1, 1, 0, 1, 1, 1, 1, 1, 1, 0, 1, 0, 1,\n",
       "       0, 0, 0, 1, 1, 0, 0, 1, 1, 1, 0, 1, 1, 0, 0, 0, 0, 1, 0, 0, 0, 0,\n",
       "       0, 0, 1, 1, 0, 1, 1, 1, 0, 1, 1, 1, 0, 1, 1, 1, 0, 1, 1, 1, 0, 0,\n",
       "       0, 1, 0, 0, 0, 1, 0, 0, 0, 1, 0, 1, 0, 1, 1, 1, 1, 0, 0, 1, 1, 0,\n",
       "       0, 0, 1, 0, 1, 0, 0, 0, 0, 1, 1, 1, 0, 1, 1, 1, 0, 0, 1, 0, 1, 0,\n",
       "       0, 0, 1, 1, 0, 1, 0, 0, 0, 1, 1, 1, 1, 1, 1, 1, 1, 1, 0, 1, 0, 1,\n",
       "       0, 0, 1, 0, 1, 0, 0, 0, 0, 1, 0, 0, 1, 1, 1, 1, 1, 0, 0, 1, 1, 1,\n",
       "       0, 0, 0, 0, 0, 0, 1, 0, 1, 0, 1, 0, 0, 0, 0, 0, 0, 0, 0, 1, 1, 1,\n",
       "       0, 0, 0, 0, 1, 1, 1, 1, 1, 1, 1, 1, 1, 0, 1, 1, 0, 0, 0, 0],\n",
       "      dtype=int64)"
      ]
     },
     "execution_count": 76,
     "metadata": {},
     "output_type": "execute_result"
    }
   ],
   "source": [
    "y_pred"
   ]
  },
  {
   "cell_type": "code",
   "execution_count": 77,
   "metadata": {},
   "outputs": [],
   "source": [
    "fn_result = []\n",
    "fp_result = []\n",
    "for n in range(0, len(extra_fire_y)):\n",
    "    if y_pred[n] != np.argmax(extra_fire_y,axis=1)[n]:\n",
    "        if(y_pred[n] == 0) :\n",
    "            fp_result.append(n)\n",
    "        else :\n",
    "            fn_result.append(n)"
   ]
  },
  {
   "cell_type": "code",
   "execution_count": 78,
   "metadata": {},
   "outputs": [
    {
     "name": "stdout",
     "output_type": "stream",
     "text": [
      "60\n",
      "51\n"
     ]
    }
   ],
   "source": [
    "print(len(fp_result))\n",
    "print(len(fn_result))"
   ]
  },
  {
   "cell_type": "code",
   "execution_count": 90,
   "metadata": {},
   "outputs": [
    {
     "name": "stdout",
     "output_type": "stream",
     "text": [
      "data/final_test/test_negative/0.36_0.12025secs_bg_438_1.wav\n",
      "data/final_test/test_negative/0.7_0.2800625secs_bg_3426_40.wav\n",
      "data/final_test/test_negative/0.52_0.0165625secs_bg_371_1.wav\n",
      "data/final_test/test_negative/0.66_0.3864375secs_bg_2632_40.wav\n",
      "data/final_test/test_negative/0.26_1.0145secs_bg_3381_1.wav\n",
      "data/final_test/test_negative/0.2_0.2928125secs_bg_2599_2.wav\n",
      "data/final_test/test_negative/0.41_0.7153125secs_bg_420_2.wav\n",
      "data/final_test/test_negative/0.22_0.6000625secs_bg_3296_3.wav\n",
      "data/final_test/test_negative/0.8_0.8279375secs_bg_2584_3.wav\n",
      "data/final_test/test_negative/0.44_0.626375secs_bg_3288_40.wav\n",
      "data/final_test/test_negative/0.12_0.198875secs_bg_3382_2.wav\n",
      "data/final_test/test_negative/0.2_0.5111875secs_bg_2587_1.wav\n",
      "data/final_test/test_negative/0.02_0.130125secs_bg_3373_2.wav\n",
      "data/final_test/test_negative/0.46_0.704375secs_bg_2588_2.wav\n",
      "data/final_test/test_negative/0.07_0.8404375secs_bg_2589_23.wav\n",
      "data/final_test/test_negative/0.9_0.8118125secs_bg_2585_40.wav\n",
      "data/final_test/test_negative/0.73_0.723875secs_bg_3323_40.wav\n",
      "data/final_test/test_negative/0.78_0.1771875secs_bg_3242_40.wav\n",
      "data/final_test/test_negative/0.14_0.5075625secs_bg_2609_23.wav\n",
      "data/final_test/test_negative/0.87_0.2486875secs_bg_3261_45.wav\n",
      "data/final_test/test_negative/0.65_0.7363125secs_bg_463_3.wav\n",
      "data/final_test/test_negative/0.83_0.2613125secs_bg_2576_40.wav\n",
      "data/final_test/test_negative/0.66_0.125875secs_bg_3417_40.wav\n",
      "data/final_test/test_negative/0.19_0.94275secs_bg_354_23.wav\n",
      "data/final_test/test_negative/0.55_0.2549375secs_bg_458_2.wav\n",
      "data/final_test/test_negative/0.31_0.1293125secs_bg_3269_40.wav\n",
      "data/final_test/test_negative/0.52_0.0069375secs_bg_361_1.wav\n",
      "data/final_test/test_negative/0.75_0.7425625secs_bg_445_40.wav\n",
      "data/final_test/test_negative/0.31_0.584secs_bg_2647_25.wav\n",
      "data/final_test/test_negative/0.34_0.0558125secs_bg_3253_1.wav\n",
      "data/final_test/test_negative/0.28_0.1126875secs_bg_3407_40.wav\n",
      "data/final_test/test_negative/0.12_0.8630625secs_bg_419_1.wav\n",
      "data/final_test/test_negative/0.62_0.8854375secs_bg_3232_3.wav\n",
      "data/final_test/test_negative/0.81_0.056625secs_bg_418_45.wav\n",
      "data/final_test/test_negative/0.21_0.0994375secs_bg_2629_25.wav\n",
      "data/final_test/test_negative/0.85_0.05125secs_bg_2567_40.wav\n",
      "data/final_test/test_negative/0.5_0.0288125secs_bg_3225_40.wav\n",
      "data/final_test/test_negative/0.15_0.926secs_bg_349_3.wav\n",
      "data/final_test/test_negative/0.35_0.1549375secs_bg_348_26.wav\n",
      "data/final_test/test_negative/0.3_0.4553125secs_bg_352_1.wav\n",
      "data/final_test/test_negative/0.12_0.67375secs_bg_358_3.wav\n",
      "data/final_test/test_negative/0.67_0.03025secs_bg_3306_40.wav\n",
      "data/final_test/test_negative/0.59_0.31125secs_bg_359_40.wav\n",
      "data/final_test/test_negative/0.77_0.3906875secs_bg_2623_40.wav\n",
      "data/final_test/test_negative/0.48_0.384375secs_bg_3427_45.wav\n",
      "data/final_test/test_negative/0.81_0.80125secs_bg_3399_40.wav\n",
      "data/final_test/test_negative/0.76_0.73025secs_bg_338_40.wav\n",
      "data/final_test/test_negative/0.0_0.0179375secs_bg_449_23.wav\n",
      "data/final_test/test_negative/0.77_0.3149375secs_bg_380_40.wav\n",
      "data/final_test/test_negative/0.28_0.685875secs_bg_435_3.wav\n",
      "data/final_test/test_negative/0.58_0.70375secs_bg_335_3.wav\n"
     ]
    }
   ],
   "source": [
    "for name in fn_result:\n",
    "    print(extra_fire_file[name])"
   ]
  },
  {
   "cell_type": "code",
   "execution_count": 95,
   "metadata": {},
   "outputs": [],
   "source": [
    "import shutil\n",
    "\n",
    "for file in fn_result:\n",
    "    shutil.copy(extra_fire_file[file], 'data/false/'+extra_fire_file[file][30:])"
   ]
  },
  {
   "cell_type": "code",
   "execution_count": 94,
   "metadata": {},
   "outputs": [
    {
     "data": {
      "text/plain": [
       "'0.58_0.70375secs_bg_335_3.wav'"
      ]
     },
     "execution_count": 94,
     "metadata": {},
     "output_type": "execute_result"
    }
   ],
   "source": [
    "extra_fire_file[name][30:]"
   ]
  },
  {
   "cell_type": "code",
   "execution_count": 54,
   "metadata": {},
   "outputs": [
    {
     "name": "stdout",
     "output_type": "stream",
     "text": [
      "data/final_test/test_negative/0.73_0.0008125secs_bg_426_40.wav\n",
      "data/final_test/test_negative/0.1_0.0796875secs_bg_3296_3.wav\n",
      "data/final_test/test_negative/0.9_0.02375secs_bg_2625_1.wav\n",
      "data/final_test/test_negative/0.18_0.5736875secs_bg_2757_45.wav\n",
      "data/final_test/test_negative/0.16_0.1006875secs_bg_326_3.wav\n",
      "data/final_test/test_negative/0.53_0.1925secs_bg_2623_40.wav\n",
      "data/final_test/test_negative/0.22_0.0501875secs_bg_354_23.wav\n",
      "data/final_test/test_negative/0.32_0.8355625secs_bg_329_1.wav\n",
      "data/final_test/test_negative/0.21_0.00625secs_bg_381_45.wav\n",
      "data/final_test/test_negative/0.81_0.690875secs_bg_3215_40.wav\n",
      "data/final_test/test_negative/0.6_0.01525secs_bg_2567_40.wav\n",
      "data/final_test/test_negative/0.4_0.8509375secs_bg_2616_1.wav\n",
      "data/final_test/test_negative/0.48_0.3015625secs_bg_3417_40.wav\n",
      "data/final_test/test_negative/0.09_0.6753125secs_bg_3269_40.wav\n",
      "data/final_test/test_negative/0.2_0.1915secs_bg_3253_1.wav\n",
      "data/final_test/test_negative/0.14_1.066375secs_bg_331_23.wav\n",
      "data/final_test/test_negative/0.17_0.6385secs_bg_3249_25.wav\n",
      "data/final_test/test_negative/0.07_0.4289375secs_bg_3404_25.wav\n",
      "data/final_test/test_negative/0.45_0.26075secs_bg_3367_26.wav\n",
      "data/final_test/test_negative/0.42_0.0845secs_bg_3259_26.wav\n",
      "data/final_test/test_negative/0.51_0.621125secs_bg_338_40.wav\n",
      "data/final_test/test_negative/0.95_0.391875secs_bg_3369_40.wav\n",
      "data/final_test/test_negative/0.6_0.323secs_bg_2614_40.wav\n",
      "data/final_test/test_negative/0.64_0.0509375secs_bg_3426_40.wav\n",
      "data/final_test/test_negative/0.48_0.3421875secs_bg_2589_23.wav\n",
      "data/final_test/test_negative/0.43_1.0125secs_bg_413_24.wav\n",
      "data/final_test/test_negative/0.11_0.7825secs_bg_380_40.wav\n",
      "data/final_test/test_negative/0.57_0.1885secs_bg_328_45.wav\n",
      "data/final_test/test_negative/0.46_0.5448125secs_bg_361_1.wav\n",
      "data/final_test/test_negative/0.19_0.7071875secs_bg_386_24.wav\n",
      "data/final_test/test_negative/0.48_0.1339375secs_bg_330_1.wav\n",
      "data/final_test/test_negative/0.29_0.2768125secs_bg_2765_40.wav\n",
      "data/final_test/test_negative/0.21_0.54725secs_bg_463_3.wav\n",
      "data/final_test/test_negative/0.63_0.6554375secs_bg_2622_3.wav\n",
      "data/final_test/test_negative/0.82_0.7043125secs_bg_3399_40.wav\n",
      "data/final_test/test_negative/0.16_0.6931875secs_bg_3360_40.wav\n",
      "data/final_test/test_negative/0.55_0.525375secs_bg_457_1.wav\n",
      "data/final_test/test_negative/0.56_0.369875secs_bg_400_45.wav\n",
      "data/final_test/test_negative/0.52_0.5104375secs_bg_2617_2.wav\n",
      "data/final_test/test_negative/0.4_0.90725secs_bg_422_24.wav\n",
      "data/final_test/test_negative/0.86_0.025375secs_bg_3288_40.wav\n",
      "data/final_test/test_negative/0.01_0.26675secs_bg_2609_23.wav\n",
      "data/final_test/test_negative/0.55_0.6871875secs_bg_390_40.wav\n",
      "data/final_test/test_negative/0.63_0.648625secs_bg_2585_40.wav\n",
      "data/final_test/test_negative/0.45_0.5340625secs_bg_2584_3.wav\n",
      "data/final_test/test_negative/0.76_0.2988125secs_bg_445_40.wav\n",
      "data/final_test/test_negative/0.08_0.67675secs_bg_2599_2.wav\n",
      "data/final_test/test_negative/0.04_0.4395625secs_bg_3427_45.wav\n",
      "data/final_test/test_negative/0.21_0.8551875secs_bg_3372_1.wav\n",
      "data/final_test/test_negative/0.89_0.3698125secs_bg_314_40.wav\n"
     ]
    }
   ],
   "source": [
    "for name in fn_result:\n",
    "    print(extra_fire_file[name])"
   ]
  },
  {
   "cell_type": "code",
   "execution_count": 145,
   "metadata": {},
   "outputs": [],
   "source": [
    "best_model = models.load_model('model/train_X_ex_mel_best.h5')"
   ]
  },
  {
   "cell_type": "code",
   "execution_count": 46,
   "metadata": {},
   "outputs": [
    {
     "ename": "NameError",
     "evalue": "name 'best_model' is not defined",
     "output_type": "error",
     "traceback": [
      "\u001b[1;31m---------------------------------------------------------------------------\u001b[0m",
      "\u001b[1;31mNameError\u001b[0m                                 Traceback (most recent call last)",
      "\u001b[1;32m<ipython-input-46-915f51b7c4c4>\u001b[0m in \u001b[0;36m<module>\u001b[1;34m\u001b[0m\n\u001b[0;32m      1\u001b[0m \u001b[1;31m#mel spectrogram\u001b[0m\u001b[1;33m\u001b[0m\u001b[1;33m\u001b[0m\u001b[1;33m\u001b[0m\u001b[0m\n\u001b[1;32m----> 2\u001b[1;33m \u001b[0mY_pred\u001b[0m \u001b[1;33m=\u001b[0m \u001b[0mbest_model\u001b[0m\u001b[1;33m.\u001b[0m\u001b[0mpredict\u001b[0m\u001b[1;33m(\u001b[0m\u001b[0mextra_fire_X_ex_mel\u001b[0m\u001b[1;33m)\u001b[0m\u001b[1;33m\u001b[0m\u001b[1;33m\u001b[0m\u001b[0m\n\u001b[0m\u001b[0;32m      3\u001b[0m \u001b[0my_pred\u001b[0m \u001b[1;33m=\u001b[0m \u001b[0mnp\u001b[0m\u001b[1;33m.\u001b[0m\u001b[0margmax\u001b[0m\u001b[1;33m(\u001b[0m\u001b[0mY_pred\u001b[0m\u001b[1;33m,\u001b[0m\u001b[0maxis\u001b[0m\u001b[1;33m=\u001b[0m\u001b[1;36m1\u001b[0m\u001b[1;33m)\u001b[0m\u001b[1;33m\u001b[0m\u001b[1;33m\u001b[0m\u001b[0m\n\u001b[0;32m      4\u001b[0m \u001b[1;33m\u001b[0m\u001b[0m\n\u001b[0;32m      5\u001b[0m \u001b[0mtn\u001b[0m\u001b[1;33m,\u001b[0m \u001b[0mfp\u001b[0m\u001b[1;33m,\u001b[0m \u001b[0mfn\u001b[0m\u001b[1;33m,\u001b[0m \u001b[0mtp\u001b[0m \u001b[1;33m=\u001b[0m \u001b[0mconfusion_matrix\u001b[0m\u001b[1;33m(\u001b[0m\u001b[0mnp\u001b[0m\u001b[1;33m.\u001b[0m\u001b[0margmax\u001b[0m\u001b[1;33m(\u001b[0m\u001b[0mextra_fire_y\u001b[0m\u001b[1;33m,\u001b[0m\u001b[0maxis\u001b[0m\u001b[1;33m=\u001b[0m\u001b[1;36m1\u001b[0m\u001b[1;33m)\u001b[0m\u001b[1;33m,\u001b[0m \u001b[0my_pred\u001b[0m\u001b[1;33m)\u001b[0m\u001b[1;33m.\u001b[0m\u001b[0mravel\u001b[0m\u001b[1;33m(\u001b[0m\u001b[1;33m)\u001b[0m\u001b[1;33m\u001b[0m\u001b[1;33m\u001b[0m\u001b[0m\n",
      "\u001b[1;31mNameError\u001b[0m: name 'best_model' is not defined"
     ]
    }
   ],
   "source": [
    "#mel spectrogram\n",
    "Y_pred = best_model.predict(extra_fire_X_ex_mel)\n",
    "y_pred = np.argmax(Y_pred,axis=1)\n",
    "\n",
    "tn, fp, fn, tp = confusion_matrix(np.argmax(extra_fire_y,axis=1), y_pred).ravel()\n",
    "matrix = confusion_matrix(np.argmax(extra_fire_y,axis=1), y_pred)\n",
    "sns.heatmap(pd.DataFrame(matrix), annot=True, cmap=\"bone\" ,fmt='g')\n",
    "plt.title('Confusion matrix', y=1.1)\n",
    "plt.ylabel('Actual label')\n",
    "plt.xlabel('Predicted label')\n",
    "plt.show()\n",
    "\n",
    "print('acc: ', (tn+tp)/(tn+fp+fn+tp))"
   ]
  },
  {
   "cell_type": "code",
   "execution_count": 147,
   "metadata": {},
   "outputs": [],
   "source": [
    "fn_result = []\n",
    "fp_result = []\n",
    "for n in range(0, len(extra_fire_y)):\n",
    "    if y_pred[n] != np.argmax(extra_fire_y,axis=1)[n]:\n",
    "        if(y_pred[n] == 0) :\n",
    "            fp_result.append(n)\n",
    "        else :\n",
    "            fn_result.append(n)"
   ]
  },
  {
   "cell_type": "code",
   "execution_count": 148,
   "metadata": {},
   "outputs": [
    {
     "name": "stdout",
     "output_type": "stream",
     "text": [
      "41\n",
      "2\n"
     ]
    }
   ],
   "source": [
    "print(len(fp_result))\n",
    "print(len(fn_result))"
   ]
  },
  {
   "cell_type": "code",
   "execution_count": 97,
   "metadata": {},
   "outputs": [
    {
     "name": "stdout",
     "output_type": "stream",
     "text": [
      "data/resampling/non/2.wav\n",
      "data/resampling/non/3.wav\n",
      "data/resampling/non/34.wav\n",
      "data/resampling/non/43.wav\n",
      "data/resampling/non/6.wav\n"
     ]
    }
   ],
   "source": [
    "for name in fp_result:\n",
    "    print(extra_fire_file[name])"
   ]
  },
  {
   "cell_type": "code",
   "execution_count": 96,
   "metadata": {},
   "outputs": [
    {
     "name": "stdout",
     "output_type": "stream",
     "text": [
      "wav shape:  (13933,)\n",
      "data/resampling/fire/dh17.wav\n",
      "0\n"
     ]
    },
    {
     "data": {
      "text/html": [
       "\n",
       "                <audio  controls=\"controls\" >\n",
       "                    <source src=\"data:audio/wav;base64,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\" type=\"audio/wav\" />\n",
       "                    Your browser does not support the audio element.\n",
       "                </audio>\n",
       "              "
      ],
      "text/plain": [
       "<IPython.lib.display.Audio object>"
      ]
     },
     "execution_count": 96,
     "metadata": {},
     "output_type": "execute_result"
    }
   ],
   "source": [
    "i = 0\n",
    "wav = extra_fire_file[fp_result[i]]\n",
    "file_sr = librosa.get_samplerate(wav)\n",
    "\n",
    "y, sr = librosa.load(wav, sr=file_sr)\n",
    "print('wav shape: ', y.shape)\n",
    "print(extra_fire_file[fp_result[i]])\n",
    "print(y_pred[fp_result[i]])\n",
    "IPython.display.Audio(data=y[:20000], rate=sr)"
   ]
  },
  {
   "cell_type": "code",
   "execution_count": 98,
   "metadata": {},
   "outputs": [
    {
     "name": "stdout",
     "output_type": "stream",
     "text": [
      "data/resampling/non/2.wav\n",
      "data/resampling/non/3.wav\n",
      "data/resampling/non/34.wav\n",
      "data/resampling/non/43.wav\n",
      "data/resampling/non/6.wav\n"
     ]
    }
   ],
   "source": [
    "for name in fn_result:\n",
    "    print(extra_fire_file[name])"
   ]
  },
  {
   "cell_type": "code",
   "execution_count": 100,
   "metadata": {},
   "outputs": [
    {
     "name": "stdout",
     "output_type": "stream",
     "text": [
      "wav shape:  (13933,)\n",
      "data/resampling/non/34.wav\n",
      "1\n"
     ]
    },
    {
     "data": {
      "text/html": [
       "\n",
       "                <audio  controls=\"controls\" >\n",
       "                    <source src=\"data:audio/wav;base64,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\" type=\"audio/wav\" />\n",
       "                    Your browser does not support the audio element.\n",
       "                </audio>\n",
       "              "
      ],
      "text/plain": [
       "<IPython.lib.display.Audio object>"
      ]
     },
     "execution_count": 100,
     "metadata": {},
     "output_type": "execute_result"
    }
   ],
   "source": [
    "i = 2\n",
    "wav = extra_fire_file[fn_result[i]]\n",
    "file_sr = librosa.get_samplerate(wav)\n",
    "\n",
    "y, sr = librosa.load(wav, sr=file_sr)\n",
    "print('wav shape: ', y.shape)\n",
    "print(extra_fire_file[fn_result[i]])\n",
    "print(y_pred[fn_result[i]])\n",
    "IPython.display.Audio(data=y[:20000], rate=sr)"
   ]
  },
  {
   "cell_type": "code",
   "execution_count": null,
   "metadata": {},
   "outputs": [],
   "source": [
    "y_pred"
   ]
  },
  {
   "cell_type": "code",
   "execution_count": 9,
   "metadata": {},
   "outputs": [
    {
     "name": "stdout",
     "output_type": "stream",
     "text": [
      "wav shape:  (16030,)\n"
     ]
    }
   ],
   "source": [
    "wav = 'non_tang.wav'\n",
    "file_sr = librosa.get_samplerate(wav)\n",
    "\n",
    "y, sr = librosa.load(wav, sr=file_sr)\n",
    "print('wav shape: ', y.shape)"
   ]
  },
  {
   "cell_type": "code",
   "execution_count": 13,
   "metadata": {},
   "outputs": [],
   "source": [
    "#mfcc = librosa.feature.mfcc(y, sr=16000)\n",
    "#padded_mfcc = pad2d(mfcc, 75)\n",
    "mel_spectogram = librosa.feature.melspectrogram(y)\n",
    "padded_mel_spectrogram = pad2d(mel_spectogram, 75)"
   ]
  },
  {
   "cell_type": "code",
   "execution_count": 14,
   "metadata": {},
   "outputs": [],
   "source": [
    "test_mel_tang = np.array(padded_mel_spectrogram)\n",
    "test_final = []\n",
    "test_final.append(test_mel_tang)\n",
    "test_final = np.expand_dims(test_final, -1)"
   ]
  },
  {
   "cell_type": "code",
   "execution_count": 15,
   "metadata": {},
   "outputs": [
    {
     "data": {
      "text/plain": [
       "(1, 128, 75, 1)"
      ]
     },
     "execution_count": 15,
     "metadata": {},
     "output_type": "execute_result"
    }
   ],
   "source": [
    "test_final"
   ]
  },
  {
   "cell_type": "code",
   "execution_count": 16,
   "metadata": {},
   "outputs": [
    {
     "data": {
      "text/plain": [
       "(300, 128, 50, 1)"
      ]
     },
     "execution_count": 16,
     "metadata": {},
     "output_type": "execute_result"
    }
   ],
   "source": [
    "test_X_ex_mel.shape"
   ]
  },
  {
   "cell_type": "code",
   "execution_count": null,
   "metadata": {},
   "outputs": [],
   "source": [
    "Y_pred = model.predict(test_final)\n",
    "y_pred = np.argmax(Y_pred,axis=1)"
   ]
  },
  {
   "cell_type": "code",
   "execution_count": null,
   "metadata": {},
   "outputs": [],
   "source": [
    "y_pred"
   ]
  },
  {
   "cell_type": "code",
   "execution_count": null,
   "metadata": {},
   "outputs": [],
   "source": []
  }
 ],
 "metadata": {
  "kernelspec": {
   "display_name": "Python 3",
   "language": "python",
   "name": "python3"
  },
  "language_info": {
   "codemirror_mode": {
    "name": "ipython",
    "version": 3
   },
   "file_extension": ".py",
   "mimetype": "text/x-python",
   "name": "python",
   "nbconvert_exporter": "python",
   "pygments_lexer": "ipython3",
   "version": "3.8.3"
  }
 },
 "nbformat": 4,
 "nbformat_minor": 4
}
