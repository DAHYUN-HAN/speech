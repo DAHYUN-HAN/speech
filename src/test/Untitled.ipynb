{
 "cells": [
  {
   "cell_type": "code",
   "execution_count": 1,
   "metadata": {},
   "outputs": [],
   "source": [
    "import librosa\n",
    "import numpy as np\n",
    "from keras import models\n",
    "import os\n",
    "from tqdm import tqdm\n",
    "import shutil\n",
    "import soundfile as sf\n",
    "import sys"
   ]
  },
  {
   "cell_type": "code",
   "execution_count": 2,
   "metadata": {},
   "outputs": [],
   "source": [
    "import pyaudio\n",
    "import struct\n",
    "import matplotlib.pyplot as plt"
   ]
  },
  {
   "cell_type": "code",
   "execution_count": 3,
   "metadata": {},
   "outputs": [],
   "source": [
    "input_audio = (\"audio/input_audio/\")\n",
    "output_origin_audio = (\"audio/output_origin_audio/\")\n",
    "output_split_audio = (\"audio/output_split_audio/\")\n",
    "model_dir = (\"model/test_model_3.h5\")"
   ]
  },
  {
   "cell_type": "code",
   "execution_count": 67,
   "metadata": {},
   "outputs": [],
   "source": [
    "def get_model():\n",
    "    return models.load_model(model_dir)\n",
    "\n",
    "def load(file_name):\n",
    "    wav = file_name\n",
    "    file_sr = librosa.get_samplerate(wav)\n",
    "    y, sr = librosa.load(wav, sr=file_sr)\n",
    "    \n",
    "    if(sr != 16000):\n",
    "        y = librosa.resample(y, sr, 16000)\n",
    "    \n",
    "    return y\n",
    "\n",
    "def make_patches(split):\n",
    "    mfcc = librosa.feature.mfcc(split, sr=16000)\n",
    "    test_X = np.expand_dims(mfcc, 0)\n",
    "    \n",
    "    return test_X\n",
    "\n",
    "def predict(test_audio, model):\n",
    "    detect = 0\n",
    "    \n",
    "    y = load(test_audio)\n",
    "    \n",
    "    print(\"결과\\n\",test_audio + \"파일\")\n",
    "    \n",
    "    if(len(y) < 32000):\n",
    "        detect = -1\n",
    "        print(\"2초 이하 파일\")\n",
    "        move_file(test_audio, detect)\n",
    "        return 0\n",
    "    \n",
    "    fire_count = 0\n",
    "    non_count = 0\n",
    "    pass_count = 21\n",
    "\n",
    "    for i in tqdm(range(int((len(y)/1600))-19)):\n",
    "        p = i * 1600\n",
    "        q = p + 32000\n",
    "        split = y[p:q]        \n",
    "        \n",
    "        Y_pred = model.predict(make_patches(split))\n",
    "        y_pred = np.argmax(Y_pred,axis=1)\n",
    "        \n",
    "        if(y_pred):\n",
    "            fire_count = fire_count + 1\n",
    "            \n",
    "            if(fire_count >= 5):\n",
    "                non_count = 0\n",
    "                if(pass_count > 20):\n",
    "                    detect = 1\n",
    "                    pass_count = 0\n",
    "                    \n",
    "                    result(split, i, test_audio)\n",
    "                \n",
    "        else:\n",
    "            non_count = non_count + 1\n",
    "            if(non_count >= 5):\n",
    "                fire_count = 0\n",
    "        \n",
    "        pass_count = pass_count + 1\n",
    "        \n",
    "    if(detect == 0):\n",
    "        print(\"불이야 감지 못함\")\n",
    "    \n",
    "     move_file(test_audio, detect)            \n",
    "\n",
    "def result(split, i, test_audio):\n",
    "    time = get_time(round(i * 0.1,2))\n",
    "    time_str = time[0]+\"분 \"+time[1]+\"초 ~ \"+time[2]+\"분 \"+time[3]\n",
    "    print(time[0], time_str, \"초 불이야 감지\")\n",
    "    save_file(split, test_audio, time_str)\n",
    "\n",
    "def get_time(k):\n",
    "    end = k+2\n",
    "    time = []\n",
    "    \n",
    "    time.append(str(int(k / 60)))\n",
    "    time.append(str(int(k % 60)))\n",
    "    time.append(str(int(end / 60)))\n",
    "    time.append(str(int(end % 60)))\n",
    "    return time\n",
    "        \n",
    "def save_file(split, test_audio, time_str):\n",
    "    path = make_path(test_audio)\n",
    "    \n",
    "    file_name = test_audio[:-4] + \" \" + time_str +\"초.wav\"\n",
    "\n",
    "    sf.write(path+file_name, split, 16000, subtype='PCM_16')\n",
    "\n",
    "def make_path(test_audio):\n",
    "    path = output_split_audio + test_audio[:-4]\n",
    "    if not os.path.isdir(path):                                                           \n",
    "        os.mkdir(path)\n",
    "    return path+\"/\"\n",
    "        \n",
    "def move_file(test_audio, detect):\n",
    "    if(detect == 1):\n",
    "        shutil.move(input_audio+test_audio, output_origin_audio + \"exist/\" + test_audio)\n",
    "    elif(detect == -1):\n",
    "        shutil.move(input_audio+test_audio, output_origin_audio + \"fail/\" + test_audio)\n",
    "    else:\n",
    "        shutil.move(input_audio+test_audio, output_origin_audio + \"non/\" + test_audio)"
   ]
  },
  {
   "cell_type": "code",
   "execution_count": 69,
   "metadata": {},
   "outputs": [
    {
     "name": "stderr",
     "output_type": "stream",
     "text": [
      "  0%|                                                                                 | 2/5319 [00:00<05:11, 17.07it/s]"
     ]
    },
    {
     "name": "stdout",
     "output_type": "stream",
     "text": [
      "결과\n",
      " test_full_16000.wav파일\n"
     ]
    },
    {
     "name": "stderr",
     "output_type": "stream",
     "text": [
      "  0%|▎                                                                               | 23/5319 [00:00<03:41, 23.88it/s]"
     ]
    },
    {
     "name": "stdout",
     "output_type": "stream",
     "text": [
      "0 0분 1초 ~ 0분 3 초 불이야 감지\n"
     ]
    },
    {
     "name": "stderr",
     "output_type": "stream",
     "text": [
      "  4%|███                                                                            | 206/5319 [00:08<03:29, 24.41it/s]"
     ]
    },
    {
     "name": "stdout",
     "output_type": "stream",
     "text": [
      "0 0분 20초 ~ 0분 22 초 불이야 감지\n"
     ]
    },
    {
     "name": "stderr",
     "output_type": "stream",
     "text": [
      "  6%|████▍                                                                          | 296/5319 [00:12<03:26, 24.34it/s]"
     ]
    },
    {
     "name": "stdout",
     "output_type": "stream",
     "text": [
      "0 0분 29초 ~ 0분 31 초 불이야 감지\n"
     ]
    },
    {
     "name": "stderr",
     "output_type": "stream",
     "text": [
      " 11%|████████▊                                                                      | 596/5319 [00:25<03:25, 23.00it/s]"
     ]
    },
    {
     "name": "stdout",
     "output_type": "stream",
     "text": [
      "0 0분 59초 ~ 1분 1 초 불이야 감지\n"
     ]
    },
    {
     "name": "stderr",
     "output_type": "stream",
     "text": [
      " 15%|████████████▏                                                                  | 821/5319 [00:35<02:59, 24.99it/s]"
     ]
    },
    {
     "name": "stdout",
     "output_type": "stream",
     "text": [
      "1 1분 21초 ~ 1분 23 초 불이야 감지\n"
     ]
    },
    {
     "name": "stderr",
     "output_type": "stream",
     "text": [
      " 29%|██████████████████████▉                                                       | 1563/5319 [01:06<02:36, 24.02it/s]"
     ]
    },
    {
     "name": "stdout",
     "output_type": "stream",
     "text": [
      "2 2분 36초 ~ 2분 38 초 불이야 감지\n"
     ]
    },
    {
     "name": "stderr",
     "output_type": "stream",
     "text": [
      " 34%|██████████████████████████▍                                                   | 1803/5319 [01:15<02:24, 24.37it/s]"
     ]
    },
    {
     "name": "stdout",
     "output_type": "stream",
     "text": [
      "3 3분 0초 ~ 3분 2 초 불이야 감지\n"
     ]
    },
    {
     "name": "stderr",
     "output_type": "stream",
     "text": [
      " 39%|██████████████████████████████▏                                               | 2058/5319 [01:26<02:22, 22.81it/s]"
     ]
    },
    {
     "name": "stdout",
     "output_type": "stream",
     "text": [
      "3 3분 25초 ~ 3분 27 초 불이야 감지\n"
     ]
    },
    {
     "name": "stderr",
     "output_type": "stream",
     "text": [
      " 43%|█████████████████████████████████▌                                            | 2289/5319 [01:35<02:03, 24.61it/s]"
     ]
    },
    {
     "name": "stdout",
     "output_type": "stream",
     "text": [
      "3 3분 48초 ~ 3분 50 초 불이야 감지\n"
     ]
    },
    {
     "name": "stderr",
     "output_type": "stream",
     "text": [
      " 64%|██████████████████████████████████████████████████▎                           | 3429/5319 [02:22<01:19, 23.92it/s]"
     ]
    },
    {
     "name": "stdout",
     "output_type": "stream",
     "text": [
      "5 5분 42초 ~ 5분 44 초 불이야 감지\n"
     ]
    },
    {
     "name": "stderr",
     "output_type": "stream",
     "text": [
      " 65%|██████████████████████████████████████████████████▉                           | 3474/5319 [02:24<01:16, 23.99it/s]"
     ]
    },
    {
     "name": "stdout",
     "output_type": "stream",
     "text": [
      "5 5분 47초 ~ 5분 49 초 불이야 감지\n"
     ]
    },
    {
     "name": "stderr",
     "output_type": "stream",
     "text": [
      " 84%|█████████████████████████████████████████████████████████████████▌            | 4467/5319 [03:05<00:34, 24.40it/s]"
     ]
    },
    {
     "name": "stdout",
     "output_type": "stream",
     "text": [
      "7 7분 26초 ~ 7분 28 초 불이야 감지\n"
     ]
    },
    {
     "name": "stderr",
     "output_type": "stream",
     "text": [
      " 97%|███████████████████████████████████████████████████████████████████████████▍  | 5142/5319 [03:33<00:07, 24.95it/s]"
     ]
    },
    {
     "name": "stdout",
     "output_type": "stream",
     "text": [
      "8 8분 33초 ~ 8분 35 초 불이야 감지\n"
     ]
    },
    {
     "name": "stderr",
     "output_type": "stream",
     "text": [
      "100%|██████████████████████████████████████████████████████████████████████████████| 5319/5319 [03:40<00:00, 24.11it/s]\n"
     ]
    }
   ],
   "source": [
    "model = get_model()\n",
    "\n",
    "input_audio = 'test_full_16000.wav'\n",
    "\n",
    "predict(input_audio, model)"
   ]
  },
  {
   "cell_type": "code",
   "execution_count": 2,
   "metadata": {},
   "outputs": [
    {
     "name": "stdout",
     "output_type": "stream",
     "text": [
      "recording...\n",
      "finished recording\n"
     ]
    }
   ],
   "source": [
    "import pyaudio\n",
    "import wave\n",
    "  \n",
    "FORMAT = pyaudio.paInt16\n",
    "CHANNELS = 1\n",
    "RATE = 16000\n",
    "CHUNK = 1024\n",
    "RECORD_SECONDS = 5\n",
    "WAVE_OUTPUT_FILENAME = \"file.wav\"\n",
    "  \n",
    "audio = pyaudio.PyAudio()\n",
    "  \n",
    "# start Recording\n",
    "stream = audio.open(format=FORMAT, channels=CHANNELS,\n",
    "                rate=RATE, input=True,\n",
    "                frames_per_buffer=CHUNK)\n",
    "print (\"recording...\")\n",
    "frames = []\n",
    "  \n",
    "for i in range(0, int(RATE / CHUNK * RECORD_SECONDS)):\n",
    "    data = stream.read(CHUNK)\n",
    "    frames.append(data)\n",
    "print (\"finished recording\")\n",
    "  \n",
    "\n",
    "# stop Recording\n",
    "stream.stop_stream()\n",
    "stream.close()\n",
    "audio.terminate()\n",
    "  \n",
    "waveFile = wave.open(WAVE_OUTPUT_FILENAME, 'wb')\n",
    "waveFile.setnchannels(CHANNELS)\n",
    "waveFile.setsampwidth(audio.get_sample_size(FORMAT))\n",
    "waveFile.setframerate(RATE)\n",
    "waveFile.writeframes(b''.join(frames))\n",
    "waveFile.close()"
   ]
  },
  {
   "cell_type": "code",
   "execution_count": null,
   "metadata": {},
   "outputs": [],
   "source": []
  }
 ],
 "metadata": {
  "kernelspec": {
   "display_name": "Python 3",
   "language": "python",
   "name": "python3"
  },
  "language_info": {
   "codemirror_mode": {
    "name": "ipython",
    "version": 3
   },
   "file_extension": ".py",
   "mimetype": "text/x-python",
   "name": "python",
   "nbconvert_exporter": "python",
   "pygments_lexer": "ipython3",
   "version": "3.8.3"
  }
 },
 "nbformat": 4,
 "nbformat_minor": 4
}
