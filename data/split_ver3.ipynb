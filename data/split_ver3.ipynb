{
 "cells": [
  {
   "cell_type": "code",
   "execution_count": 1,
   "metadata": {},
   "outputs": [],
   "source": [
    "import librosa\n",
    "import soundfile as sf\n",
    "import matplotlib.pyplot as plt\n",
    "import librosa.display\n",
    "import numpy as np\n",
    "import shutil\n",
    "\n",
    "import os\n",
    "import IPython.display"
   ]
  },
  {
   "cell_type": "code",
   "execution_count": 2,
   "metadata": {},
   "outputs": [],
   "source": [
    "def load(file_name):\n",
    "    wav = file_name\n",
    "    file_sr = librosa.get_samplerate(wav)\n",
    "\n",
    "    y, sr = librosa.load(wav, sr=file_sr)\n",
    "    return y, sr"
   ]
  },
  {
   "cell_type": "code",
   "execution_count": null,
   "metadata": {},
   "outputs": [],
   "source": [
    "def checkpoint(y, mininum):\n",
    "    start = []\n",
    "    end = []\n",
    "    first = True\n",
    "    con = 0\n",
    "    \n",
    "    for time in range (len(y)):\n",
    "        if(abs(y[time]) > mininum):\n",
    "            if(first):\n",
    "                first = False\n",
    "                start_time = time\n",
    "            else:\n",
    "                end_time = time\n",
    "        else:\n",
    "            con = con + 1\n",
    "            if(con > 20000):\n",
    "                con = 0\n",
    "                if(not first) :\n",
    "                    start.append(start_time)\n",
    "                    end.append(end_time)\n",
    "                    first = True\n",
    "    return start, end"
   ]
  },
  {
   "cell_type": "code",
   "execution_count": null,
   "metadata": {},
   "outputs": [],
   "source": [
    "def crop(y, sr, start, end, left_padding, right_padding, outputdir):\n",
    "    for i in range(len(start)):\n",
    "        height = (end[i]-start[i])/3000\n",
    "        width = (end[i]-start[i])/500\n",
    "        if(height > 4) :\n",
    "            fig = plt.figure(figsize=(width, height))\n",
    "            sf.write(outputdir + str(i) + \".wav\", y[start[i]+left_padding:end[i]+right_padding], sr, subtype='PCM_24')"
   ]
  },
  {
   "cell_type": "code",
   "execution_count": 15,
   "metadata": {},
   "outputs": [],
   "source": [
    "def make_background(y, sr, outputdir, startpoint=1):\n",
    "    during = 2 * sr\n",
    "    amount = int(len(y) / during)\n",
    "    \n",
    "    for i in range(amount):\n",
    "        start = (i*2) * sr\n",
    "        end = start + during\n",
    "        newy = y[start:end]\n",
    "        resample = librosa.resample(newy, sr, 16000)\n",
    "        sf.write(outputdir + \"bg_\" + str(i+startpoint) + \".wav\", resample, 16000, subtype='PCM_16')"
   ]
  },
  {
   "cell_type": "code",
   "execution_count": 21,
   "metadata": {},
   "outputs": [],
   "source": [
    "def make_delete_list(input_directory):\n",
    "\n",
    "    file_list = os.listdir(input_directory)\n",
    "    delete_list = []\n",
    "    for file in file_list:\n",
    "        y, sr = load(input_directory+file)\n",
    "        sum = 0\n",
    "        for i in range(sr):\n",
    "            sum = sum + abs(y[i])\n",
    "        if(sum < 100):\n",
    "            delete_list.append(file)\n",
    "    return delete_list"
   ]
  },
  {
   "cell_type": "code",
   "execution_count": null,
   "metadata": {},
   "outputs": [],
   "source": [
    "y, sr = load('original/non/snake.wav')\n",
    "start, end = checkpoint(y, 0.0)\n",
    "print(len(start), len(end))"
   ]
  },
  {
   "cell_type": "code",
   "execution_count": null,
   "metadata": {},
   "outputs": [],
   "source": [
    "crop(y, sr, start, end, 0, 9600, 'split/non/')"
   ]
  },
  {
   "cell_type": "code",
   "execution_count": 19,
   "metadata": {},
   "outputs": [],
   "source": [
    "y, sr = load('200318.wav')\n",
    "make_background(y, sr, 'background/bg/', 1631)"
   ]
  },
  {
   "cell_type": "code",
   "execution_count": 22,
   "metadata": {},
   "outputs": [],
   "source": [
    "delete_list = make_delete_list('background/bg/')\n",
    "for file in delete_list:\n",
    "    shutil.move('background/bg/'+file, 'background/background_delete/'+file)"
   ]
  },
  {
   "cell_type": "code",
   "execution_count": null,
   "metadata": {},
   "outputs": [],
   "source": []
  },
  {
   "cell_type": "code",
   "execution_count": null,
   "metadata": {},
   "outputs": [],
   "source": [
    "y, sr = load('background/background_delete/bg_807.wav')\n",
    "sum = 0\n",
    "for i in range(sr):\n",
    "    sum = sum + abs(y[i])\n",
    "print(sum)"
   ]
  },
  {
   "cell_type": "code",
   "execution_count": null,
   "metadata": {},
   "outputs": [],
   "source": [
    "librosa.display.waveplot(y, sr=sr)"
   ]
  },
  {
   "cell_type": "code",
   "execution_count": 13,
   "metadata": {},
   "outputs": [],
   "source": [
    "y, sr = load('200318.wav')"
   ]
  },
  {
   "cell_type": "code",
   "execution_count": 14,
   "metadata": {},
   "outputs": [
    {
     "data": {
      "text/plain": [
       "44100"
      ]
     },
     "execution_count": 14,
     "metadata": {},
     "output_type": "execute_result"
    }
   ],
   "source": [
    "sr"
   ]
  },
  {
   "cell_type": "code",
   "execution_count": 8,
   "metadata": {},
   "outputs": [],
   "source": [
    "y = y[10000000:-1100000]\n",
    "sf.write(\"200318.wav\", y, sr, subtype='PCM_16')"
   ]
  },
  {
   "cell_type": "code",
   "execution_count": null,
   "metadata": {},
   "outputs": [],
   "source": [
    "IPython.display.Audio(data=y[10000000:11000000], rate=sr)"
   ]
  },
  {
   "cell_type": "code",
   "execution_count": null,
   "metadata": {},
   "outputs": [],
   "source": [
    "IPython.display.Audio(data=y[-1100000:], rate=sr)"
   ]
  },
  {
   "cell_type": "code",
   "execution_count": null,
   "metadata": {},
   "outputs": [],
   "source": [
    "len"
   ]
  }
 ],
 "metadata": {
  "kernelspec": {
   "display_name": "Python 3",
   "language": "python",
   "name": "python3"
  },
  "language_info": {
   "codemirror_mode": {
    "name": "ipython",
    "version": 3
   },
   "file_extension": ".py",
   "mimetype": "text/x-python",
   "name": "python",
   "nbconvert_exporter": "python",
   "pygments_lexer": "ipython3",
   "version": "3.8.3"
  }
 },
 "nbformat": 4,
 "nbformat_minor": 4
}
