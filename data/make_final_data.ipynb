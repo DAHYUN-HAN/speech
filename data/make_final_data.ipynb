{
 "cells": [
  {
   "cell_type": "code",
   "execution_count": 32,
   "metadata": {},
   "outputs": [],
   "source": [
    "import librosa\n",
    "import soundfile as sf\n",
    "import matplotlib.pyplot as plt\n",
    "import librosa.display\n",
    "import numpy as np\n",
    "import math\n",
    "import random\n",
    "import os\n",
    "import IPython.display"
   ]
  },
  {
   "cell_type": "code",
   "execution_count": 33,
   "metadata": {},
   "outputs": [],
   "source": [
    "#배경에 템플릿 삽입\n",
    "\n",
    "def make_final_data(input_directory, background_directory, output_directory, minimize, maximum, times):\n",
    "    \n",
    "    fire_filelist = os.listdir(input_directory)\n",
    "    background_filelist = os.listdir(background_directory)\n",
    "    \n",
    "    fires = []\n",
    "    \n",
    "    for f_file in fire_filelist:\n",
    "        fires.append(f_file)\n",
    "\n",
    "    count = len(fires)    \n",
    "    \n",
    "    add_list = random.sample(range(1,count),times)\n",
    "    \n",
    "    for add in add_list :\n",
    "        k = 0 + add\n",
    "        \n",
    "        for b_file in background_filelist :\n",
    "            background, background_sr = librosa.load(background_directory + b_file, sr=16000)\n",
    "            new_audio = []\n",
    "    \n",
    "            if(k >= count) :\n",
    "                k = 0\n",
    "        \n",
    "            fire, fire_sr = librosa.load(input_directory + fires[k], sr=16000)\n",
    "    \n",
    "            ratio = np.random.uniform(minimize,maximum)\n",
    "            ratio = np.trunc(ratio * 100) / 100\n",
    "        \n",
    "            startpoint = np.random.randint((len(background) - len(fire)))\n",
    "            endpoint = startpoint + len(fire)\n",
    "            for i in range(len(background)):\n",
    "                if(i >= startpoint and i < endpoint):\n",
    "                    new_audio.append((ratio*fire[i-startpoint])+((1-ratio)*background[i]))\n",
    "                \n",
    "                else :\n",
    "                    new_audio.append((1-ratio)*background[i])\n",
    "        \n",
    "            sf.write(output_directory + str(ratio) + \"_\" + str(startpoint/fire_sr)+ \"secs_\" +b_file[:-4] + \"_\" + fires[k], new_audio, 16000, subtype='PCM_16')\n",
    "    \n",
    "            k = k+1"
   ]
  },
  {
   "cell_type": "markdown",
   "metadata": {},
   "source": [
    "#템플릿에 배경 삽입\n",
    "\n",
    "def make_final_data_ver1(input_directory, background_directory, output_directory, minimize, maximum):\n",
    "    \n",
    "    fire_filelist = os.listdir(input_directory)\n",
    "    background_filelist = os.listdir(background_directory)\n",
    "    \n",
    "    fires = []\n",
    "    \n",
    "    for f_file in fire_filelist:\n",
    "        fires.append(f_file)\n",
    "\n",
    "    count = len(fires)    \n",
    "    k = 0\n",
    "    for b_file in background_filelist :\n",
    "        background, background_sr = librosa.load(background_directory + b_file, sr=16000)\n",
    "        new_audio = []\n",
    "    \n",
    "        if(k >= count) :\n",
    "            k = 0\n",
    "        \n",
    "        fire, fire_sr = librosa.load(input_directory + fires[k], sr=16000)\n",
    "    \n",
    "        ratio = np.random.uniform(minimize,maximum)\n",
    "        ratio = np.trunc(ratio * 100) / 100\n",
    "        \n",
    "        startpoint = np.random.randint((len(background) - len(fire)))\n",
    "        endpoint = startpoint + len(fire)\n",
    "        for i in range(len(fire)):\n",
    "            new_audio.append((ratio*fire[i])+((1-ratio)*background[i]))\n",
    "        \n",
    "        sf.write(output_directory + str(ratio) + \"_\" + b_file[:-4] + \"_\" + fires[k], new_audio, 16000, subtype='PCM_16')\n",
    "    \n",
    "        k = k+1"
   ]
  },
  {
   "cell_type": "code",
   "execution_count": 34,
   "metadata": {},
   "outputs": [],
   "source": [
    "make_final_data('augmentation/resampling/train/fire/', 'background/final/train/', 'final_ver7/train/', 0.3, 1.01, 10)\n",
    "make_final_data('augmentation/resampling/train/non/', 'background/final/train_negative/', 'final_ver7/train_negative/', 0, 1.01, 10)"
   ]
  },
  {
   "cell_type": "markdown",
   "metadata": {},
   "source": [
    "make_final_data('normalization/train/fire/', 'background/train/', 'final_ver1/train/', 0.3, 1.01)\n",
    "make_final_data('normalization/train/non/', 'background/train_negative/', 'final_ver1/train_negative/', 0, 1.01)"
   ]
  },
  {
   "cell_type": "markdown",
   "metadata": {},
   "source": [
    "make_final_data('normalization/test/fire/', 'background/normalization/test/', 'final_test/test/', 0.3, 1.01)\n",
    "make_final_data('normalization/test/non/', 'background/normalization/test_negative/', 'final_test/test_negative/', 0, 1.01)\n",
    "\n",
    "make_final_data('normalization/train/fire/', 'background/normalization/train/', 'final_ver1/train/', 0.3, 1.01)\n",
    "make_final_data('normalization/train/non/', 'background/normalization/train_negative/', 'final_ver1/train_negative/', 0, 1.01)\n",
    "\n",
    "make_final_data('augmentation/resampling/train/fire/', 'background/normalization/train/', 'final_ver3/train/', 0.3, 1.01)\n",
    "make_final_data('augmentation/resampling/train/non/', 'background/normalization/train_negative/', 'final_ver3/train_negative/', 0, 1.01)"
   ]
  },
  {
   "cell_type": "markdown",
   "metadata": {},
   "source": [
    "make_final_data('normalization/test/fire/', 'background/normalization/test/', 'final_test/test/', 0.3, 1.01)\n",
    "make_final_data('normalization/test/non/', 'background/normalization/test_negative/', 'final_test/test_negative/', 0, 1.01)"
   ]
  },
  {
   "cell_type": "markdown",
   "metadata": {},
   "source": [
    "make_final_data('normalization/train/fire/', 'background/final/train/', 'final_ver4/train/', 0.3, 1.01)\n",
    "make_final_data('normalization/train/non/', 'background/final/train_negative/', 'final_ver4/train_negative/', 0, 1.01)"
   ]
  },
  {
   "cell_type": "markdown",
   "metadata": {},
   "source": [
    "make_final_data('normalization/train/fire/', 'background/final/train/', 'final_ver4/train/', 0.3, 1.01)"
   ]
  },
  {
   "cell_type": "markdown",
   "metadata": {},
   "source": [
    "make_final_data('normalization/test/fire/', 'background/test/', 'final_test/test/', 0.2, 1.01)\n",
    "make_final_data('normalization/test/non/', 'background/test_negative/', 'final_test/test_negative/', 0, 1.01)"
   ]
  },
  {
   "cell_type": "markdown",
   "metadata": {},
   "source": [
    "make_final_data('augmentation/both/train/fire/', 'background/train/', 'final_ver3/train/', 0.3, 1.01)\n",
    "make_final_data('augmentation/both/train/non/', 'background/train_negative/', 'final_ver3/train_negative/', 0, 1.01)"
   ]
  },
  {
   "cell_type": "code",
   "execution_count": 10,
   "metadata": {},
   "outputs": [],
   "source": [
    "input = 10.309956789\n",
    "output = np.trunc(input * 100) / 100"
   ]
  },
  {
   "cell_type": "code",
   "execution_count": 11,
   "metadata": {},
   "outputs": [
    {
     "data": {
      "text/plain": [
       "10.3"
      ]
     },
     "execution_count": 11,
     "metadata": {},
     "output_type": "execute_result"
    }
   ],
   "source": [
    "output"
   ]
  },
  {
   "cell_type": "code",
   "execution_count": 29,
   "metadata": {},
   "outputs": [],
   "source": [
    "a = random.sample(range(1,11),10)"
   ]
  },
  {
   "cell_type": "code",
   "execution_count": 30,
   "metadata": {},
   "outputs": [
    {
     "data": {
      "text/plain": [
       "[3, 1, 4, 7, 10, 8, 2, 5, 9, 6]"
      ]
     },
     "execution_count": 30,
     "metadata": {},
     "output_type": "execute_result"
    }
   ],
   "source": [
    "a"
   ]
  },
  {
   "cell_type": "code",
   "execution_count": null,
   "metadata": {},
   "outputs": [],
   "source": []
  }
 ],
 "metadata": {
  "kernelspec": {
   "display_name": "Python 3",
   "language": "python",
   "name": "python3"
  },
  "language_info": {
   "codemirror_mode": {
    "name": "ipython",
    "version": 3
   },
   "file_extension": ".py",
   "mimetype": "text/x-python",
   "name": "python",
   "nbconvert_exporter": "python",
   "pygments_lexer": "ipython3",
   "version": "3.8.3"
  }
 },
 "nbformat": 4,
 "nbformat_minor": 4
}
