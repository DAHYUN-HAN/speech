{
 "cells": [
  {
   "cell_type": "code",
   "execution_count": 1,
   "metadata": {},
   "outputs": [],
   "source": [
    "import librosa\n",
    "import soundfile as sf\n",
    "import matplotlib.pyplot as plt\n",
    "import librosa.display\n",
    "import numpy as np\n",
    "\n",
    "import os\n",
    "import IPython.display\n",
    "\n",
    "from random import *"
   ]
  },
  {
   "cell_type": "code",
   "execution_count": 2,
   "metadata": {},
   "outputs": [],
   "source": [
    "def make_final_data(input_directory, background_directory, output_directory, minimize, maximum):\n",
    "    \n",
    "    fire_filelist = os.listdir(input_directory)\n",
    "    background_filelist = os.listdir(background_directory)\n",
    "    \n",
    "    fires = []\n",
    "    \n",
    "    for f_file in fire_filelist:\n",
    "        fires.append(f_file)\n",
    "\n",
    "    count = len(fires)    \n",
    "    k = 0\n",
    "    for b_file in background_filelist :\n",
    "        background, background_sr = librosa.load(background_directory + b_file, sr=16000)\n",
    "        new_audio = []\n",
    "    \n",
    "        if(k >= count) :\n",
    "            k = 0\n",
    "        \n",
    "        fire, fire_sr = librosa.load(input_directory + fires[k], sr=16000)\n",
    "    \n",
    "        ratio = np.random.uniform(minimize,maximum)\n",
    "        ratio = round(ratio, 2)\n",
    "        \n",
    "        startpoint = np.random.randint((len(background) - len(fire)))\n",
    "        endpoint = startpoint + len(fire)\n",
    "        for i in range(len(background)):\n",
    "            if(i >= startpoint and i < endpoint):\n",
    "                new_audio.append((ratio*fire[i-startpoint])+((1-ratio)*background[i]))\n",
    "                \n",
    "            else :\n",
    "                new_audio.append((1-ratio)*background[i])\n",
    "        \n",
    "        sf.write(output_directory + str(ratio) + \"_\" + str(startpoint/fire_sr)+ \"secs_\" +b_file[:-4] + \"_\" + fires[k], new_audio, 16000, subtype='PCM_16')\n",
    "    \n",
    "        k = k+1"
   ]
  },
  {
   "cell_type": "code",
   "execution_count": 6,
   "metadata": {},
   "outputs": [],
   "source": [
    "def make_final_data_ver1(input_directory, background_directory, output_directory, minimize, maximum):\n",
    "    \n",
    "    fire_filelist = os.listdir(input_directory)\n",
    "    background_filelist = os.listdir(background_directory)\n",
    "    \n",
    "    fires = []\n",
    "    \n",
    "    for f_file in fire_filelist:\n",
    "        fires.append(f_file)\n",
    "\n",
    "    count = len(fires)    \n",
    "    k = 0\n",
    "    for b_file in background_filelist :\n",
    "        background, background_sr = librosa.load(background_directory + b_file, sr=16000)\n",
    "        new_audio = []\n",
    "    \n",
    "        if(k >= count) :\n",
    "            k = 0\n",
    "        \n",
    "        fire, fire_sr = librosa.load(input_directory + fires[k], sr=16000)\n",
    "    \n",
    "        ratio = np.random.uniform(minimize,maximum)\n",
    "        ratio = round(ratio, 2)\n",
    "        \n",
    "        startpoint = np.random.randint((len(background) - len(fire)))\n",
    "        endpoint = startpoint + len(fire)\n",
    "        for i in range(len(fire)):\n",
    "            new_audio.append((ratio*fire[i])+((1-ratio)*background[i]))\n",
    "        \n",
    "        sf.write(output_directory + str(ratio) + \"_\" + b_file[:-4] + \"_\" + fires[k], new_audio, 16000, subtype='PCM_16')\n",
    "    \n",
    "        k = k+1"
   ]
  },
  {
   "cell_type": "code",
   "execution_count": 5,
   "metadata": {},
   "outputs": [],
   "source": [
    "make_final_data('normalization/test/fire/', 'background/test/', 'final_ver1/test/', 0.2, 0.8)\n",
    "make_final_data('normalization/test/non/', 'background/test_negative/', 'final_ver1/test_negative/', 0, 0.9)\n",
    "\n",
    "make_final_data('normalization/train/fire/', 'background/train/', 'final_ver1/train/', 0.2, 0.8)\n",
    "make_final_data('normalization/train/non/', 'background/train_negative/', 'final_ver1/train_negative/', 0, 0.9)"
   ]
  },
  {
   "cell_type": "code",
   "execution_count": 9,
   "metadata": {},
   "outputs": [],
   "source": [
    "make_final_data_ver1('normalization/test/fire/', 'background/test/', 'final_ver2/test/', 0.2, 0.8)\n",
    "make_final_data_ver1('normalization/test/non/', 'background/test_negative/', 'final_ver2/test_negative/', 0, 0.9)\n",
    "\n",
    "make_final_data_ver1('normalization/train/fire/', 'background/train/', 'final_ver2/train/', 0.2, 0.8)\n",
    "make_final_data_ver1('normalization/train/non/', 'background/train_negative/', 'final_ver2/train_negative/', 0, 0.9)"
   ]
  },
  {
   "cell_type": "code",
   "execution_count": null,
   "metadata": {},
   "outputs": [],
   "source": []
  }
 ],
 "metadata": {
  "kernelspec": {
   "display_name": "Python 3",
   "language": "python",
   "name": "python3"
  },
  "language_info": {
   "codemirror_mode": {
    "name": "ipython",
    "version": 3
   },
   "file_extension": ".py",
   "mimetype": "text/x-python",
   "name": "python",
   "nbconvert_exporter": "python",
   "pygments_lexer": "ipython3",
   "version": "3.8.3"
  }
 },
 "nbformat": 4,
 "nbformat_minor": 4
}
