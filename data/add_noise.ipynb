{
 "cells": [
  {
   "cell_type": "code",
   "execution_count": 1,
   "metadata": {},
   "outputs": [],
   "source": [
    "import librosa\n",
    "import soundfile as sf\n",
    "import matplotlib.pyplot as plt\n",
    "import librosa.display\n",
    "import numpy as np\n",
    "import pandas as pd\n",
    "\n",
    "import os\n",
    "import IPython.display"
   ]
  },
  {
   "cell_type": "code",
   "execution_count": 5,
   "metadata": {},
   "outputs": [],
   "source": [
    "def load(file_name):\n",
    "    wav = file_name\n",
    "    file_sr = librosa.get_samplerate(wav)\n",
    "\n",
    "    y, sr = librosa.load(wav, sr=file_sr)\n",
    "    return y, sr"
   ]
  },
  {
   "cell_type": "code",
   "execution_count": 3,
   "metadata": {},
   "outputs": [],
   "source": [
    "def add_noise(input_directory, output_directory, percent):\n",
    "    file_list = os.listdir(input_directory)\n",
    "    \n",
    "    for file in file_list:\n",
    "        y, sr = load(input_directory+file)\n",
    "        #random_state = 42\n",
    "        #rnd_state = np.random.RandomState(random_state)\n",
    "        \n",
    "        data = np.c_[y]\n",
    "        mu = np.mean(data)\n",
    "        sd = np.std(data)\n",
    "        \n",
    "        data_df = pd.DataFrame(data, columns=['Value'])\n",
    "        data_df['Index'] = data_df.index.values\n",
    "        \n",
    "        ratio = np.random.uniform(0, percent)\n",
    "        ratio = np.round(ratio * 100) / 100\n",
    "        \n",
    "        jitter = ratio*np.random.normal(mu, sd, size=data_df.shape[0])\n",
    "        data_df['with_jitter'] = data_df['Value'] + jitter\n",
    "        \n",
    "        sf.write(output_directory +str(ratio)+\"_\"+file, data_df['with_jitter'], sr, subtype='PCM_16')"
   ]
  },
  {
   "cell_type": "code",
   "execution_count": 4,
   "metadata": {},
   "outputs": [],
   "source": [
    "add_noise('final_ver7/train/', 'final_ver9/train/', 0.31)\n",
    "add_noise('final_ver7/train_negative/', 'final_ver9/train_negative/', 0.31)"
   ]
  },
  {
   "cell_type": "code",
   "execution_count": 16,
   "metadata": {},
   "outputs": [],
   "source": [
    "def add_more_noise(input_directory, noise_directory, output_directory, percent):\n",
    "    \n",
    "    origin_filelist = os.listdir(input_directory)\n",
    "    noise_filelist = os.listdir(noise_directory)\n",
    "    \n",
    "    noises = []\n",
    "    \n",
    "    for n_file in noise_filelist:\n",
    "        noises.append(n_file)\n",
    "        \n",
    "    count = len(noises)\n",
    "    k = 0\n",
    "    \n",
    "    for o_file in origin_filelist:\n",
    "        original, original_sr = load(input_directory + o_file)\n",
    "        new_audio = []\n",
    "        \n",
    "        if(k >= count) :\n",
    "            k = 0\n",
    "        \n",
    "        noise, noise_sr = load(noise_directory + noises[k])\n",
    "        \n",
    "        ratio = np.random.uniform(0, percent)\n",
    "        ratio = np.round(ratio * 100) / 100\n",
    "        \n",
    "        \n",
    "        for i in range(len(original)):\n",
    "            new_audio.append((ratio*noise[i])+((1-ratio)*original[i]))\n",
    "        \n",
    "        sf.write(output_directory +str(ratio)+\"_\"+noises[k][:-4] + \"_\" + o_file, new_audio, 16000)\n",
    "        \n",
    "        k = k+1"
   ]
  },
  {
   "cell_type": "code",
   "execution_count": 23,
   "metadata": {},
   "outputs": [],
   "source": [
    "add_more_noise('final_ver7/train/', 'noise/split/', 'final_ver11/train/', 0.31)\n",
    "add_more_noise('final_ver7/train_negative/', 'noise/split/', 'final_ver11/train_negative/', 0.31)"
   ]
  },
  {
   "cell_type": "code",
   "execution_count": 21,
   "metadata": {},
   "outputs": [],
   "source": []
  },
  {
   "cell_type": "code",
   "execution_count": null,
   "metadata": {},
   "outputs": [],
   "source": []
  },
  {
   "cell_type": "code",
   "execution_count": null,
   "metadata": {},
   "outputs": [],
   "source": []
  },
  {
   "cell_type": "code",
   "execution_count": null,
   "metadata": {},
   "outputs": [],
   "source": []
  },
  {
   "cell_type": "code",
   "execution_count": null,
   "metadata": {},
   "outputs": [],
   "source": []
  },
  {
   "cell_type": "code",
   "execution_count": 18,
   "metadata": {},
   "outputs": [],
   "source": [
    "for i in range(1000) :\n",
    "    add_noise('a/1/', 'a/2/', 0.31)"
   ]
  },
  {
   "cell_type": "code",
   "execution_count": 70,
   "metadata": {},
   "outputs": [
    {
     "name": "stdout",
     "output_type": "stream",
     "text": [
      "5.4923057e-05 0.07208886\n"
     ]
    }
   ],
   "source": [
    "y, sr = load('test.wav')\n",
    "\n",
    "data = np.c_[y]\n",
    "mu = np.mean(data)\n",
    "sd = np.std(data)\n",
    "\n",
    "print(mu, sd)\n",
    "\n",
    "data_df = pd.DataFrame(data, columns=['Value'])\n",
    "data_df['Index'] = data_df.index.values\n",
    "\n",
    "random_state = 42\n",
    "rnd_state = np.random.RandomState(random_state)\n",
    "\n",
    "ratio = np.random.uniform(0.05, 0.3)\n",
    "ratio = round(ratio, 2)\n",
    "    \n",
    "jitter = 0.3*rnd_state.normal(mu, sd, size=data_df.shape[0])\n",
    "data_df['with_jitter'] = data_df['Value'] + jitter"
   ]
  },
  {
   "cell_type": "code",
   "execution_count": 44,
   "metadata": {},
   "outputs": [
    {
     "data": {
      "text/plain": [
       "-0.19463261652483654"
      ]
     },
     "execution_count": 44,
     "metadata": {},
     "output_type": "execute_result"
    }
   ],
   "source": [
    "np.random.normal(5.4923057e-05,0.07208886)"
   ]
  },
  {
   "cell_type": "code",
   "execution_count": 45,
   "metadata": {},
   "outputs": [
    {
     "data": {
      "text/plain": [
       "0.4967141530112327"
      ]
     },
     "execution_count": 45,
     "metadata": {},
     "output_type": "execute_result"
    }
   ],
   "source": [
    "np.random.RandomState(42).normal(0,1)"
   ]
  },
  {
   "cell_type": "code",
   "execution_count": 23,
   "metadata": {},
   "outputs": [
    {
     "data": {
      "text/plain": [
       "0.4967141530112327"
      ]
     },
     "execution_count": 23,
     "metadata": {},
     "output_type": "execute_result"
    }
   ],
   "source": [
    "np.random.RandomState(42).normal()"
   ]
  },
  {
   "cell_type": "code",
   "execution_count": 27,
   "metadata": {},
   "outputs": [
    {
     "data": {
      "text/plain": [
       "0.003567871319669775"
      ]
     },
     "execution_count": 27,
     "metadata": {},
     "output_type": "execute_result"
    }
   ],
   "source": [
    "np.random.normal(5.4923057e-05,0.07208886)"
   ]
  },
  {
   "cell_type": "code",
   "execution_count": 47,
   "metadata": {},
   "outputs": [
    {
     "data": {
      "text/plain": [
       "array([ 0.0043035 , -0.00118949,  0.00560953, ...,  0.0068409 ,\n",
       "        0.0040329 ,  0.0057629 ])"
      ]
     },
     "execution_count": 47,
     "metadata": {},
     "output_type": "execute_result"
    }
   ],
   "source": [
    "jitter"
   ]
  },
  {
   "cell_type": "code",
   "execution_count": 48,
   "metadata": {},
   "outputs": [
    {
     "data": {
      "text/plain": [
       "[<matplotlib.lines.Line2D at 0x1ca2c8d9370>]"
      ]
     },
     "execution_count": 48,
     "metadata": {},
     "output_type": "execute_result"
    },
    {
     "data": {
      "image/png": "[encoded data removed]",
      "text/plain": [
       "<Figure size 432x288 with 1 Axes>"
      ]
     },
     "metadata": {
      "needs_background": "light"
     },
     "output_type": "display_data"
    }
   ],
   "source": [
    "plt.plot(jitter)"
   ]
  },
  {
   "cell_type": "code",
   "execution_count": 49,
   "metadata": {},
   "outputs": [
    {
     "data": {
      "text/plain": [
       "[<matplotlib.lines.Line2D at 0x1ca2c96a7c0>]"
      ]
     },
     "execution_count": 49,
     "metadata": {},
     "output_type": "execute_result"
    },
    {
     "data": {
      "image/png": "[encoded data removed]",
      "text/plain": [
       "<Figure size 432x288 with 1 Axes>"
      ]
     },
     "metadata": {
      "needs_background": "light"
     },
     "output_type": "display_data"
    }
   ],
   "source": [
    "plt.plot(y)"
   ]
  },
  {
   "cell_type": "code",
   "execution_count": 61,
   "metadata": {},
   "outputs": [
    {
     "data": {
      "text/plain": [
       "[<matplotlib.lines.Line2D at 0x1ca2c75f0a0>]"
      ]
     },
     "execution_count": 61,
     "metadata": {},
     "output_type": "execute_result"
    },
    {
     "data": {
      "image/png": "[encoded data removed]",
      "text/plain": [
       "<Figure size 432x288 with 1 Axes>"
      ]
     },
     "metadata": {
      "needs_background": "light"
     },
     "output_type": "display_data"
    }
   ],
   "source": [
    "plt.plot(data_df['with_jitter'])"
   ]
  },
  {
   "cell_type": "code",
   "execution_count": 67,
   "metadata": {},
   "outputs": [
    {
     "data": {
      "text/plain": [
       "[<matplotlib.lines.Line2D at 0x1ca2cc5bca0>]"
      ]
     },
     "execution_count": 67,
     "metadata": {},
     "output_type": "execute_result"
    },
    {
     "data": {
      "image/png": "[encoded data removed]",
      "text/plain": [
       "<Figure size 432x288 with 1 Axes>"
      ]
     },
     "metadata": {
      "needs_background": "light"
     },
     "output_type": "display_data"
    }
   ],
   "source": [
    "plt.plot(data_df['with_jitter'])"
   ]
  },
  {
   "cell_type": "code",
   "execution_count": 69,
   "metadata": {},
   "outputs": [
    {
     "data": {
      "text/plain": [
       "[<matplotlib.lines.Line2D at 0x1ca2c6a1b80>]"
      ]
     },
     "execution_count": 69,
     "metadata": {},
     "output_type": "execute_result"
    },
    {
     "data": {
      "image/png": "[encoded data removed]",
      "text/plain": [
       "<Figure size 432x288 with 1 Axes>"
      ]
     },
     "metadata": {
      "needs_background": "light"
     },
     "output_type": "display_data"
    }
   ],
   "source": [
    "plt.plot(data_df['with_jitter'])"
   ]
  },
  {
   "cell_type": "code",
   "execution_count": 56,
   "metadata": {},
   "outputs": [],
   "source": [
    "sf.write('test_noise.wav', data_df['with_jitter'], sr, subtype='PCM_16')"
   ]
  },
  {
   "cell_type": "code",
   "execution_count": null,
   "metadata": {},
   "outputs": [],
   "source": []
  }
 ],
 "metadata": {
  "kernelspec": {
   "display_name": "Python 3",
   "language": "python",
   "name": "python3"
  },
  "language_info": {
   "codemirror_mode": {
    "name": "ipython",
    "version": 3
   },
   "file_extension": ".py",
   "mimetype": "text/x-python",
   "name": "python",
   "nbconvert_exporter": "python",
   "pygments_lexer": "ipython3",
   "version": "3.8.3"
  }
 },
 "nbformat": 4,
 "nbformat_minor": 4
}
