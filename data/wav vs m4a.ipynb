{
 "cells": [
  {
   "cell_type": "code",
   "execution_count": 2,
   "metadata": {},
   "outputs": [],
   "source": [
    "wav = open('record1.wav','rb')"
   ]
  },
  {
   "cell_type": "code",
   "execution_count": 4,
   "metadata": {},
   "outputs": [],
   "source": [
    "l1 = wav.readline()\n",
    "l2 = wav.readline()"
   ]
  },
  {
   "cell_type": "code",
   "execution_count": 5,
   "metadata": {},
   "outputs": [
    {
     "data": {
      "text/plain": [
       "b'\\x00\\x00\\x00\\x18ftypmp42\\x00\\x00\\x00\\x00mp41isom\\x00\\x00\\x00(uuid\\\\\\xa7\\x08\\xfb2\\x8eB\\x05\\xa8ae\\x0e\\xca\\n'"
      ]
     },
     "execution_count": 5,
     "metadata": {},
     "output_type": "execute_result"
    }
   ],
   "source": [
    "l1"
   ]
  },
  {
   "cell_type": "code",
   "execution_count": 7,
   "metadata": {},
   "outputs": [
    {
     "data": {
      "text/plain": [
       "b'\\x95\\x96\\x00\\x00\\x00\\x0c10.0.18363.0\\x00\\x0c\\x05\\xc7mdat\\x00\\x00\\x00\\x00\\x00\\x00\\x00\\x10\\'\\x0cTL\\x06\\xc3A\\xb0\\xb0l0\\x1b\\x15\\x0e\\xc3\\x01\\xa0\\xd8`4(\\x15\\x1e\\x02\\xe1a\"\\x18(V\\x1e\\x81@\\x10\\x86\\x8b:>\\x0b(\\x02\\x00}%N_\\x19\\xe9\\xdf?\\xf2\\xdc\\x87\\xaf.\\xa0\\xe6\\x9eN\\xc36P\\xc2\\xc2$\\xd0|\\x0fU\\x9d\\xd93\\x9c\\x9c/R\\xab\\xda\\x1c\\xb3\\r\\xf1\\xd2\\x9e\\x07\\xb5\\xe1\\xbd\\x9dV\\xbcOZ\\xd5\\x9e\\'>\\x01\\xaf\\xcb\\xe0z\\xbe\\x0c6\\xa3\\xc0W\\xc0\\n'"
      ]
     },
     "execution_count": 7,
     "metadata": {},
     "output_type": "execute_result"
    }
   ],
   "source": [
    "l2"
   ]
  },
  {
   "cell_type": "code",
   "execution_count": 8,
   "metadata": {},
   "outputs": [],
   "source": [
    "m4a = open('record1.m4a','rb')"
   ]
  },
  {
   "cell_type": "code",
   "execution_count": 9,
   "metadata": {},
   "outputs": [],
   "source": [
    "l1 = wav.readline()\n",
    "l2 = wav.readline()"
   ]
  },
  {
   "cell_type": "code",
   "execution_count": 10,
   "metadata": {},
   "outputs": [
    {
     "data": {
      "text/plain": [
       "b\"\\x93\\xba\\xf13\\x95\\xf4\\xff\\xd2\\xdeQ\\xfe\\xd7;7q\\xeaz\\xb9;\\xd5\\xe8o6\\xe94\\x8f=%\\xef\\xd2)\\xe1\\xa7z\\\\\\x82\\xa2<y\\xe8@Td\\xad\\xd6>%\\xf5\\xaf\\xa7\\xb3xi\\xdb\\xa3\\xad\\x15\\x0c\\x1f\\xda\\xaf\\xf2\\xc5y\\xac\\x8e\\xd46\\xd7%Pz\\xcd\\xde\\xf8\\x1b3\\x8b\\x93\\xfe\\x9a{YbG\\xd2c\\x98by\\xa5\\xcb\\x96\\xc8\\xffgl\\xe4z>\\xb3U\\xe4z\\xf4\\xbc\\xb4\\xbex\\xb4$J\\x88.\\xf2^\\xca\\xc0\\x00!\\x1bp\\xf56\\xaaU\\x94!-\\x93\\x91\\x99\\x9b4\\xec@\\xe8@\\x05\\xee\\xf9\\xdbg\\x94\\x96zdxoc`\\x7f>\\xd2\\xc0\\x9a\\xd9\\xc0\\x13n\\xa93\\xffj\\x1e\\xa0\\x07\\xb0;\\x0f\\xb1\\xae\\xef\\x98s>{\\x8f.\\xe6\\xbc^\\x1d\\x00\\x0cd\\x13q\\xf9(\\x93\\x9d\\x0f\\xc3\\xfa'\\xbb\\xc4\\xb5\\xa3\\xf7\\xe1-\\xf3`\\xdeI\\xe3J\\xac+ikB\\x9c\\xd2\\xd9\\xcf\\x0f\\xe2\\x97\\xe8\\xa8\\xeb\\x0b\\xfaPI\\x9d\\xb7\\xc3\\xf4\\xd5\\xde\\xfd5\\xbdq\\x8d\\xbfJ\\xe3\\x08\\x9f\\x99\\xf8\\xf0\\xec_!\\x06\\x07\\xee\\x88R\\x1b\\xb8oH\\xb4\\ts\\x85<\\xc7.\\x99\\x8e\\x8b\\xd9\\\\\\xa5V\\x86\\x82\\x00\\x1a\\xdf\\x94\\xe2\\xc2\\x8e\\x1419\\t)3\\xedBIA\\xd1N\\xb5Y\\x0e|F\\xa1L\\x85\\xeeh\\x84A\\xad\\x84\\xd0\\xc3\\xf2\\x1c'\\x0cTR\\x86\\xc7\\x01\\xb0\\xc0lT\\x1b\\x1d\\x06\\xc3A\\x80\\xd0\\xac4X\\r\\x06\\xc3AP\\xb0H(f\\n\""
      ]
     },
     "execution_count": 10,
     "metadata": {},
     "output_type": "execute_result"
    }
   ],
   "source": [
    "l1"
   ]
  },
  {
   "cell_type": "code",
   "execution_count": 11,
   "metadata": {},
   "outputs": [
    {
     "data": {
      "text/plain": [
       "b'\\x05\\x82\\x88\\xe8\\xd9E\\x96\\r\\x02\\xce\\x8f\\x82\\x00\\x00\\x0f\\xaaU\\x1c>\\x8a\\x15\\x88)4\\x12\\x07\\x95\\xae\\xf0Ne\\xcc\\xf1o\\x1f\\xfc5\\xef\\xe0|\\xf6\\xdb\\xd1q\\x1b/\\xc6$Jv#\\xcaxW\\xb8f\\t\\xca\\xddB\\xe16\\xf7\\xdb\\x8d\\xaf\\xdd~\\x83\\xabs\\xaf+\\xd6uK\\xfcl\\xd8\\xec\\x8f\\x8b\\xd0\\x1ep\\xfei\\xeav\\xc9\\xc6\\xdbo\\xa52\\x88\\xc65\\xe4\\x86g\\xb3\\xf3A~PkU\\x82\\x17\\xc0\\xe4\\xfe\\xaf!z\\xe5\\xf4E?\\x93\\xcc4*\\xff\\xc0\\xe3H\\xd9\\xec\\xec\\xe3sX}\\xc1\\xf2\\xab\\xb5\\xd75;g\\xa1#\\xc3Fu\\x1d\\xa6\\x8fq\\xa0\\xd1\\xfd\\x1c/\\xd3\\xb6\\x1a\\x9bd\\xd6\\x1e6#\\x1b\\xeeG9\\xa7{M\\xa8}\\x07\\x88\\xf6\\x07<mH^\\x88\\xc6o4\\x1d\\xad\\xa9\\xba\\xf7\\xa0\\xe7\\xb8\\xb3\\x1b\\xa6=\\xf6r\\xb2\\xf9H\\x91/\\xe3\\xe8\\x00\\x00\\x94\\x0f\\xeb\\xa6\\xec\\xbdteLn\\xca\\x8eo\\x03D\\xd2\\x9ei\\xbaX\\xf9G\\xa8\\xf3\\xb3\\x95\\x84\\x99\\x0e\\xf4\\x9f\\xac\\x97}\\xday\\x17g\\x98\\x0e=\\xf0\\xd4\\xfc\\xcb\\x95\\xab\\x0ec\\xb4\\xe8\\x89=\\xd6\\xb5 \\x9f* J\\xb6\\x80\\xec\\x1f\\x15v\\x19R\\x1dhp\\xb4\\x84\\n'"
      ]
     },
     "execution_count": 11,
     "metadata": {},
     "output_type": "execute_result"
    }
   ],
   "source": [
    "l2"
   ]
  },
  {
   "cell_type": "code",
   "execution_count": null,
   "metadata": {},
   "outputs": [],
   "source": []
  }
 ],
 "metadata": {
  "kernelspec": {
   "display_name": "Python 3",
   "language": "python",
   "name": "python3"
  },
  "language_info": {
   "codemirror_mode": {
    "name": "ipython",
    "version": 3
   },
   "file_extension": ".py",
   "mimetype": "text/x-python",
   "name": "python",
   "nbconvert_exporter": "python",
   "pygments_lexer": "ipython3",
   "version": "3.8.5"
  }
 },
 "nbformat": 4,
 "nbformat_minor": 4
}
