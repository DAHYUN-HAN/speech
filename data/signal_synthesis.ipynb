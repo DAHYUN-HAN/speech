{
 "cells": [
  {
   "cell_type": "code",
   "execution_count": 1,
   "metadata": {},
   "outputs": [],
   "source": [
    "import librosa\n",
    "import soundfile as sf\n",
    "import matplotlib.pyplot as plt\n",
    "import librosa.display\n",
    "import numpy as np\n",
    "\n",
    "import os\n",
    "import IPython.display"
   ]
  },
  {
   "cell_type": "code",
   "execution_count": 2,
   "metadata": {},
   "outputs": [],
   "source": [
    "def load(file_name):\n",
    "    wav = file_name\n",
    "    file_sr = librosa.get_samplerate(wav)\n",
    "\n",
    "    y, sr = librosa.load(wav, sr=file_sr)\n",
    "    return y, sr"
   ]
  },
  {
   "cell_type": "code",
   "execution_count": null,
   "metadata": {},
   "outputs": [],
   "source": [
    "def synthesis(fire_directory, background_directory):\n",
    "    fire_list = os.listdir(fire_directory)\n",
    "    background_list = os.listdir(background_directory)\n",
    "    \n",
    "    fires = []\n",
    "    \n",
    "    for f_file in fire_list:\n",
    "        fires.append(f_file)\n",
    "        \n",
    "    count = len(fires)\n",
    "    k = 0\n",
    "    \n",
    "    for b_file in background_list:\n",
    "        background, background_sr = librosa.load(background_directory + b_file, sr=16000)\n",
    "        new_audio = []\n",
    "        \n",
    "        if(k >= count) :\n",
    "            k = 0\n",
    "        \n",
    "        fire, fire_sr = librosa.load(fire_directory + fires[k], sr=16000)\n",
    "        fit_background = background[0:len(fire)]\n",
    "    \n",
    "        ratio = np.random.uniform(0.05,0.9)\n",
    "        ratio = round(ratio, 2)\n",
    "        for i in range(len(fire)):\n",
    "            new_audio.append((ratio*fire[i])+((1-ratio)*background[i]))\n",
    "        \n",
    "        sf.write(\"final_audio2/\" + str(ratio) + \"_\" +b_file[:-4] + \"_\" + fires[k], new_audio, 16000, subtype='PCM_16')\n",
    "    \n",
    "        k = k+1"
   ]
  },
  {
   "cell_type": "code",
   "execution_count": null,
   "metadata": {},
   "outputs": [],
   "source": [
    "synthesis()"
   ]
  },
  {
   "cell_type": "code",
   "execution_count": null,
   "metadata": {},
   "outputs": [],
   "source": [
    "fire_directory = os.listdir('audio16000/')\n",
    "background_directory = os.listdir('background/')\n",
    "\n",
    "fires = []\n",
    "\n",
    "for f_file in fire_directory:\n",
    "    fires.append(f_file)\n",
    "\n",
    "count = len(fires)    \n",
    "k = 0\n",
    "\n",
    "for b_file in background_directory :\n",
    "    #print(b_file)\n",
    "    background, background_sr = librosa.load('background/' + b_file, sr=16000)\n",
    "    new_audio = []\n",
    "    \n",
    "    if(k >= count) :\n",
    "        k = 0\n",
    "        \n",
    "    fire, fire_sr = librosa.load('audio16000/' + fires[k], sr=16000)\n",
    "    fit_background = background[0:len(fire)]\n",
    "    \n",
    "    ratio = np.random.uniform(0.05,0.9)\n",
    "    ratio = round(ratio, 2)\n",
    "    for i in range(len(fire)):\n",
    "        new_audio.append((ratio*fire[i])+((1-ratio)*background[i]))\n",
    "        \n",
    "    sf.write(\"final_audio2/\" + str(ratio) + \"_\" +b_file[:-4] + \"_\" + fires[k], new_audio, 16000, subtype='PCM_16')\n",
    "    \n",
    "    k = k+1"
   ]
  },
  {
   "cell_type": "code",
   "execution_count": null,
   "metadata": {},
   "outputs": [],
   "source": []
  }
 ],
 "metadata": {
  "kernelspec": {
   "display_name": "Python 3",
   "language": "python",
   "name": "python3"
  },
  "language_info": {
   "codemirror_mode": {
    "name": "ipython",
    "version": 3
   },
   "file_extension": ".py",
   "mimetype": "text/x-python",
   "name": "python",
   "nbconvert_exporter": "python",
   "pygments_lexer": "ipython3",
   "version": "3.8.3"
  }
 },
 "nbformat": 4,
 "nbformat_minor": 4
}
